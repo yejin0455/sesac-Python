{
  "nbformat": 4,
  "nbformat_minor": 0,
  "metadata": {
    "colab": {
      "name": "파이썬-마무리.ipynb",
      "provenance": [],
      "collapsed_sections": [],
      "authorship_tag": "ABX9TyOHWe4qASf7GHSerleQKuNy",
      "include_colab_link": true
    },
    "kernelspec": {
      "name": "python3",
      "display_name": "Python 3"
    },
    "language_info": {
      "name": "python"
    }
  },
  "cells": [
    {
      "cell_type": "markdown",
      "metadata": {
        "id": "view-in-github",
        "colab_type": "text"
      },
      "source": [
        "<a href=\"https://colab.research.google.com/github/yejin0455/sesac-python/blob/main/%ED%8C%8C%EC%9D%B4%EC%8D%AC_%EB%A7%88%EB%AC%B4%EB%A6%AC.ipynb\" target=\"_parent\"><img src=\"https://colab.research.google.com/assets/colab-badge.svg\" alt=\"Open In Colab\"/></a>"
      ]
    },
    {
      "cell_type": "markdown",
      "source": [
        "# 소개\n",
        "\n",
        "파이썬 - 보아구렁이\n",
        "\n",
        "많은 모듈을 포함하여 사용할 수 있는 인터페이스 언어"
      ],
      "metadata": {
        "id": "ZAQZuIuFv3D0"
      }
    },
    {
      "cell_type": "markdown",
      "source": [
        "# 자료형\n",
        "\n",
        "숫자\n",
        "    정수 : int\n",
        "\n",
        "    실수 : float\n",
        "\n",
        "    복소수 : complex\n",
        "\n",
        "\n",
        "문자열 : str\n",
        "\n",
        "\n",
        "변수 - 자료를 사용하기 위해 변수를 이용하여 값을 기억시키고 사용하는 데 필요하다.\n",
        "\n",
        "\n",
        "기본입력 : 입력한 내용을 문자열로 반환한다.\n",
        "\n",
        "만약 정수를 입력받기를 원한다면 입력받은 문자열을 정수로 변환해야 한다."
      ],
      "metadata": {
        "id": "YOXIMNHrv5lY"
      }
    },
    {
      "cell_type": "markdown",
      "source": [
        "# 조건문\n",
        "\n",
        "논리 연산자 and, or, not\n",
        "\n",
        "비교 연산자 <, >, <=, >=, !=, ==\n",
        "\n",
        "\n",
        "if 조건식:\n",
        "    \n",
        ".    참일 때 수행할 구문\n",
        "\n",
        "if 조건식:\n",
        "    \n",
        ".    참일 때 수행할 구문\n",
        "\n",
        "else:\n",
        "    \n",
        ".    거짓일 때 수행할 구문\n",
        "\n",
        "\n",
        "\n",
        "if 조건식1:\n",
        "    \n",
        ".    (조건식1) 참일 때 수행할 구문\n",
        "\n",
        "elif 조건식2:\n",
        "    \n",
        ".    (조건식2) 참일 때 수행할 구문\n",
        "\n",
        "else:\n",
        "    \n",
        ".    거짓일 때 수행할 구문"
      ],
      "metadata": {
        "id": "2k3z6r5dwOXN"
      }
    },
    {
      "cell_type": "markdown",
      "source": [
        "# 반복문과 컬렉션\n",
        "\n",
        "튜플 : 요소로 구성하는 자료구조(컬렉션) - 요소 값을 변경할 수 없다\n",
        "\n",
        "- tuple(값, 값, ...)\n",
        "\n",
        "리스트 : 요소로 구성하는 자료구조(컬렉션)\n",
        "\n",
        "- list[값, 값, ...]\n",
        "\n",
        "딕셔너리 : (키와 값) 쌍인 데이터를 요소로 구성하는 자료구조(컬렉션)\n",
        "\n",
        "- dict{키:값, 키:값, ...}\n",
        "\n",
        "\n",
        "for 변수 in 컬렉션:\n",
        "    변수에 대한 작업\n",
        "\n",
        "전통적인 반복문 while\n",
        "\n",
        "반복문 중간에 탈출 구문 break\n",
        "\n",
        "반복문 중간에 아래 생략하고 조건 비교로 올라가는 continue"
      ],
      "metadata": {
        "id": "z56yym0fyI83"
      }
    },
    {
      "cell_type": "markdown",
      "source": [
        "# 함수\n",
        "\n",
        "자주 사용하는 알고리즘을 블럭화하고 블럭에 이름을 부여\n",
        "필요할 때 부여한 이름을 호출하여 사용\n",
        "\n",
        "def 함수명(입력매개변수목록):\n",
        " \n",
        " .   해야할 일\n",
        "\n",
        "\n",
        "함수의 결과를 반활할 때 return문 사용\n",
        "\n",
        "return 반환값\n",
        "\n",
        "호출할 때는\n",
        "\n",
        "변수 = 함수명(입력인자)\n",
        "\n",
        "반환값을 받아서 사용하는 것은 선택 사항\n",
        "\n",
        "인자 종류에는 일반 매개변수, 디폴트 매개변수, 가변인자 매개변ㅁ수\n",
        "\n",
        "def 함수명(변수, 변수=디폴트값, *가변인자):\n",
        "\n",
        ".    해야할 일"
      ],
      "metadata": {
        "id": "RMbOpI5rygEb"
      }
    },
    {
      "cell_type": "markdown",
      "source": [
        "# 예외처리\n",
        "\n",
        "프로세스가 더 이상 동작하지 못하는 상황일 때 예외가 발생한다\n",
        "\n",
        "(내부적으로 raise 구문으로 발생시키는 것)\n",
        "\n",
        "try:\n",
        "\n",
        ".    예외가 발생할 수 있는 코드 블럭이 있는 구문들\n",
        "\n",
        "\n",
        "excep 예외1:\n",
        "\n",
        ".    예외처리\n",
        "\n",
        "excep 예외2:\n",
        "\n",
        ".    예외처리\n",
        "\n",
        "excep 예외3:\n",
        "\n",
        ".    예외처리\n",
        "\n",
        "\n",
        "else:\n",
        "\n",
        ".    예외가 발생하지 않았을 떄의 처리\n",
        "\n",
        "finally:\n",
        "\n",
        ".    예외가 발생하든 하지 않든 반드시 해야하는 처리"
      ],
      "metadata": {
        "id": "iQmHNaGayiB1"
      }
    },
    {
      "cell_type": "markdown",
      "source": [
        "# 모듈\n",
        "\n",
        "특정 목적을 위한 코드를 하나의 소스 파일에 정의한  것\n",
        "\n",
        "Abcd.py 파일이 있을 때 모듈 이름은 Abcd\n",
        "\n",
        "Abcd 모듈에 있는 것을 사용하고자 할 때\n",
        "\n",
        "import Abcd\n",
        "\n",
        "Abcd 모듈에 foo 함수가 있을 때\n",
        "\n",
        "Abcd.foo() 와 같은 형태로 사용할 수 있다.\n",
        "\n",
        "축약해서 사용할 때\n",
        "\n",
        "from Abcd import foo\n",
        "\n",
        "foo() 처럼 사용할 수 있다\n",
        "\n",
        "모듈 이름을 축약(별칭)\n",
        "\n",
        "import Abcd as A\n",
        "\n",
        "A.foo()처럼 사용할 수 있다"
      ],
      "metadata": {
        "id": "ST9Th9jTykhC"
      }
    },
    {
      "cell_type": "markdown",
      "source": [
        "# 클래스\n",
        "\n",
        "프로그램에서 관리할 데이터 등을 개발자가 형식으로 정의하여 사용할 수 있다.\n",
        "\n",
        "클래스를 이용하면 멤버 필드와 멤버 메서드를 캡슐화할 수 있다\n",
        "\n",
        "클래스의 파생 문법을 이용하면 기반 형식의 멤버를 상속받을 수 있다\n",
        "\n",
        "기반 형식에 정의한 메서드를 파생 형식에서 다시 정의하면 재정의로 취급한다\n",
        "\n",
        "멤버 이름이 __으로 시작하면 가시성이 차단(private)"
      ],
      "metadata": {
        "id": "LdOupAI72OFc"
      }
    }
  ]
}