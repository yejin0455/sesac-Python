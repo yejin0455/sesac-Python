{
  "nbformat": 4,
  "nbformat_minor": 0,
  "metadata": {
    "colab": {
      "name": "파이썬-반복문(관련 함수).ipynb",
      "provenance": [],
      "collapsed_sections": [],
      "authorship_tag": "ABX9TyN0FHenVwo99yH43kEEg+uC",
      "include_colab_link": true
    },
    "kernelspec": {
      "name": "python3",
      "display_name": "Python 3"
    },
    "language_info": {
      "name": "python"
    }
  },
  "cells": [
    {
      "cell_type": "markdown",
      "metadata": {
        "id": "view-in-github",
        "colab_type": "text"
      },
      "source": [
        "<a href=\"https://colab.research.google.com/github/yejin0455/sesac-python/blob/main/%ED%8C%8C%EC%9D%B4%EC%8D%AC_%EB%B0%98%EB%B3%B5%EB%AC%B8(%EA%B4%80%EB%A0%A8_%ED%95%A8%EC%88%98).ipynb\" target=\"_parent\"><img src=\"https://colab.research.google.com/assets/colab-badge.svg\" alt=\"Open In Colab\"/></a>"
      ]
    },
    {
      "cell_type": "markdown",
      "source": [
        "# 리스트 관련 함수"
      ],
      "metadata": {
        "id": "MK6Gk0lHQGXl"
      }
    },
    {
      "cell_type": "code",
      "source": [
        "ls = [10, 98, 11, 23, 45, 77, 6]\n",
        "print(\"최솟값:\", min(ls))\n",
        "print(\"최댓값:\", max(ls))\n",
        "print(\"합:\", sum(ls))"
      ],
      "metadata": {
        "colab": {
          "base_uri": "https://localhost:8080/"
        },
        "id": "7W__bdsiQIxp",
        "outputId": "05d47814-7d1f-4a66-ca8b-6d4046a09ab3"
      },
      "execution_count": 1,
      "outputs": [
        {
          "output_type": "stream",
          "name": "stdout",
          "text": [
            "최솟값: 6\n",
            "최댓값: 98\n",
            "합: 270\n"
          ]
        }
      ]
    },
    {
      "cell_type": "code",
      "source": [
        "ls.sort()\n",
        "print(ls)\n",
        "ls.reverse()\n",
        "print(ls)"
      ],
      "metadata": {
        "colab": {
          "base_uri": "https://localhost:8080/"
        },
        "id": "PHgUcsaFQe39",
        "outputId": "4f5da14b-8eb1-4743-ef09-642f96d49f81"
      },
      "execution_count": 3,
      "outputs": [
        {
          "output_type": "stream",
          "name": "stdout",
          "text": [
            "[6, 10, 11, 23, 45, 77, 98]\n",
            "[98, 77, 45, 23, 11, 10, 6]\n"
          ]
        }
      ]
    },
    {
      "cell_type": "code",
      "source": [
        "rls = reversed(ls)\n",
        "for elem in rls:\n",
        "    print(elem, end=' ')\n",
        "print()\n",
        "print(ls)"
      ],
      "metadata": {
        "colab": {
          "base_uri": "https://localhost:8080/"
        },
        "id": "QsT2Jhq0QtFi",
        "outputId": "d97e66e8-060e-43bb-bb28-b6a151f6036a"
      },
      "execution_count": 5,
      "outputs": [
        {
          "output_type": "stream",
          "name": "stdout",
          "text": [
            "6 10 11 23 45 77 98 \n",
            "[98, 77, 45, 23, 11, 10, 6]\n"
          ]
        }
      ]
    },
    {
      "cell_type": "code",
      "source": [
        "ls = [3, 4, 5, 10, 23, 45, 9]\n",
        "els = enumerate(ls)\n",
        "print(els)"
      ],
      "metadata": {
        "colab": {
          "base_uri": "https://localhost:8080/"
        },
        "id": "Lr5BLFhSRd8Z",
        "outputId": "78b343d8-feff-4125-c784-7421f3eb802d"
      },
      "execution_count": 6,
      "outputs": [
        {
          "output_type": "stream",
          "name": "stdout",
          "text": [
            "<enumerate object at 0x7fc8c3157370>\n"
          ]
        }
      ]
    },
    {
      "cell_type": "code",
      "source": [
        "print(list(els))"
      ],
      "metadata": {
        "colab": {
          "base_uri": "https://localhost:8080/"
        },
        "id": "MKcxOqg4RoEu",
        "outputId": "617803f3-1a62-4cfb-e78b-f94babbf36ff"
      },
      "execution_count": 7,
      "outputs": [
        {
          "output_type": "stream",
          "name": "stdout",
          "text": [
            "[(0, 3), (1, 4), (2, 5), (3, 10), (4, 23), (5, 45), (6, 9)]\n"
          ]
        }
      ]
    },
    {
      "cell_type": "code",
      "source": [
        "ls = [3, 4, 5, 10, 23, 45, 9]\n",
        "for index, elem in enumerate(ls):\n",
        "    print(f\"{index}:{elem}\")"
      ],
      "metadata": {
        "colab": {
          "base_uri": "https://localhost:8080/"
        },
        "id": "dpFoJ5nVRvSR",
        "outputId": "125d53cb-3bed-4df3-8e62-072744fdedb9"
      },
      "execution_count": 8,
      "outputs": [
        {
          "output_type": "stream",
          "name": "stdout",
          "text": [
            "0:3\n",
            "1:4\n",
            "2:5\n",
            "3:10\n",
            "4:23\n",
            "5:45\n",
            "6:9\n"
          ]
        }
      ]
    },
    {
      "cell_type": "markdown",
      "source": [
        "# 딕셔너리"
      ],
      "metadata": {
        "id": "-DgJGRb6SH91"
      }
    },
    {
      "cell_type": "code",
      "source": [
        "ex_dict = {}\n",
        "ex_dict[\"홍길동\"] = 78\n",
        "ex_dict[\"고길동\"] = 88\n",
        "ex_dict[\"김길동\"] = 76\n",
        "ex_dict[\"강길동\"] = 79\n",
        "print(ex_dict)"
      ],
      "metadata": {
        "colab": {
          "base_uri": "https://localhost:8080/"
        },
        "id": "8YDwsX_bSSPn",
        "outputId": "9eaeeeb4-e779-44e7-ddbc-df5e65fdf4e1"
      },
      "execution_count": 9,
      "outputs": [
        {
          "output_type": "stream",
          "name": "stdout",
          "text": [
            "{'홍길동': 78, '고길동': 88, '김길동': 76, '강길동': 79}\n"
          ]
        }
      ]
    },
    {
      "cell_type": "code",
      "source": [
        "print(ex_dict.items())"
      ],
      "metadata": {
        "colab": {
          "base_uri": "https://localhost:8080/"
        },
        "id": "xLoZu5rXSj6N",
        "outputId": "83445c92-9034-4a0f-af12-af6f6a61398c"
      },
      "execution_count": 10,
      "outputs": [
        {
          "output_type": "stream",
          "name": "stdout",
          "text": [
            "dict_items([('홍길동', 78), ('고길동', 88), ('김길동', 76), ('강길동', 79)])\n"
          ]
        }
      ]
    },
    {
      "cell_type": "code",
      "source": [
        "for key, value in ex_dict.items():\n",
        "    print(f\"key:{key} value:{value}\")"
      ],
      "metadata": {
        "colab": {
          "base_uri": "https://localhost:8080/"
        },
        "id": "130gi5jySpXF",
        "outputId": "faadc215-f231-472c-a754-a623720a01de"
      },
      "execution_count": 11,
      "outputs": [
        {
          "output_type": "stream",
          "name": "stdout",
          "text": [
            "key:홍길동 value:78\n",
            "key:고길동 value:88\n",
            "key:김길동 value:76\n",
            "key:강길동 value:79\n"
          ]
        }
      ]
    },
    {
      "cell_type": "code",
      "source": [
        "sdict = sorted(ex_dict)\n",
        "print(sdict)"
      ],
      "metadata": {
        "colab": {
          "base_uri": "https://localhost:8080/"
        },
        "id": "SLCPPmt9S2T3",
        "outputId": "85e5542e-ec94-41bb-b221-0f319d3ce788"
      },
      "execution_count": 12,
      "outputs": [
        {
          "output_type": "stream",
          "name": "stdout",
          "text": [
            "['강길동', '고길동', '김길동', '홍길동']\n"
          ]
        }
      ]
    },
    {
      "cell_type": "markdown",
      "source": [
        "# 고급진 리스트 컴프리핸션"
      ],
      "metadata": {
        "id": "Fd9xGLqdTIms"
      }
    },
    {
      "cell_type": "code",
      "source": [
        "ls = []\n",
        "for i in range(1, 100):\n",
        "    ls.append(i)\n",
        "print(ls)"
      ],
      "metadata": {
        "colab": {
          "base_uri": "https://localhost:8080/"
        },
        "id": "VahZlVk-UdlX",
        "outputId": "d919969d-3f97-42be-93ab-3dea35e9496c"
      },
      "execution_count": 16,
      "outputs": [
        {
          "output_type": "stream",
          "name": "stdout",
          "text": [
            "[1, 2, 3, 4, 5, 6, 7, 8, 9, 10, 11, 12, 13, 14, 15, 16, 17, 18, 19, 20, 21, 22, 23, 24, 25, 26, 27, 28, 29, 30, 31, 32, 33, 34, 35, 36, 37, 38, 39, 40, 41, 42, 43, 44, 45, 46, 47, 48, 49, 50, 51, 52, 53, 54, 55, 56, 57, 58, 59, 60, 61, 62, 63, 64, 65, 66, 67, 68, 69, 70, 71, 72, 73, 74, 75, 76, 77, 78, 79, 80, 81, 82, 83, 84, 85, 86, 87, 88, 89, 90, 91, 92, 93, 94, 95, 96, 97, 98, 99]\n"
          ]
        }
      ]
    },
    {
      "cell_type": "code",
      "source": [
        "ls = [i for i in range(1, 100)]\n",
        "print(ls)"
      ],
      "metadata": {
        "colab": {
          "base_uri": "https://localhost:8080/"
        },
        "id": "oFWHmbRIUk2-",
        "outputId": "7c10e000-590e-4d79-8135-11aecae3604d"
      },
      "execution_count": 17,
      "outputs": [
        {
          "output_type": "stream",
          "name": "stdout",
          "text": [
            "[1, 2, 3, 4, 5, 6, 7, 8, 9, 10, 11, 12, 13, 14, 15, 16, 17, 18, 19, 20, 21, 22, 23, 24, 25, 26, 27, 28, 29, 30, 31, 32, 33, 34, 35, 36, 37, 38, 39, 40, 41, 42, 43, 44, 45, 46, 47, 48, 49, 50, 51, 52, 53, 54, 55, 56, 57, 58, 59, 60, 61, 62, 63, 64, 65, 66, 67, 68, 69, 70, 71, 72, 73, 74, 75, 76, 77, 78, 79, 80, 81, 82, 83, 84, 85, 86, 87, 88, 89, 90, 91, 92, 93, 94, 95, 96, 97, 98, 99]\n"
          ]
        }
      ]
    },
    {
      "cell_type": "markdown",
      "source": [
        "1에서 100사이의 3의 배수로 구성한 리스트 만들기"
      ],
      "metadata": {
        "id": "5Z8Xplf4VHLW"
      }
    },
    {
      "cell_type": "code",
      "source": [
        "ls = []\n",
        "for i in range(1, 100):\n",
        "    if i % 3 == 0:\n",
        "        ls.append(i)\n",
        "print(ls)"
      ],
      "metadata": {
        "colab": {
          "base_uri": "https://localhost:8080/"
        },
        "id": "23wLF597UOkR",
        "outputId": "f070e8ac-fb9d-4716-ee0f-a4d22b1fcf80"
      },
      "execution_count": 18,
      "outputs": [
        {
          "output_type": "stream",
          "name": "stdout",
          "text": [
            "[3, 6, 9, 12, 15, 18, 21, 24, 27, 30, 33, 36, 39, 42, 45, 48, 51, 54, 57, 60, 63, 66, 69, 72, 75, 78, 81, 84, 87, 90, 93, 96, 99]\n"
          ]
        }
      ]
    },
    {
      "cell_type": "code",
      "source": [
        "ls = [i for i in range(1, 100) if i%3==0]\n",
        "print(ls)"
      ],
      "metadata": {
        "colab": {
          "base_uri": "https://localhost:8080/"
        },
        "id": "WU6csEV7Tx-L",
        "outputId": "bdaaa618-9f64-4189-d128-6a058ba67d85"
      },
      "execution_count": 15,
      "outputs": [
        {
          "output_type": "stream",
          "name": "stdout",
          "text": [
            "[3, 6, 9, 12, 15, 18, 21, 24, 27, 30, 33, 36, 39, 42, 45, 48, 51, 54, 57, 60, 63, 66, 69, 72, 75, 78, 81, 84, 87, 90, 93, 96, 99]\n"
          ]
        }
      ]
    }
  ]
}