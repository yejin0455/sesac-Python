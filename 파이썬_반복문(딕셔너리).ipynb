{
  "nbformat": 4,
  "nbformat_minor": 0,
  "metadata": {
    "colab": {
      "name": "파이썬-반복문(딕셔너리).ipynb",
      "provenance": [],
      "collapsed_sections": [],
      "authorship_tag": "ABX9TyPF/uuhCSPniOuiM5SN9pro",
      "include_colab_link": true
    },
    "kernelspec": {
      "name": "python3",
      "display_name": "Python 3"
    },
    "language_info": {
      "name": "python"
    }
  },
  "cells": [
    {
      "cell_type": "markdown",
      "metadata": {
        "id": "view-in-github",
        "colab_type": "text"
      },
      "source": [
        "<a href=\"https://colab.research.google.com/github/yejin0455/sesac-python/blob/main/%ED%8C%8C%EC%9D%B4%EC%8D%AC_%EB%B0%98%EB%B3%B5%EB%AC%B8(%EB%94%95%EC%85%94%EB%84%88%EB%A6%AC).ipynb\" target=\"_parent\"><img src=\"https://colab.research.google.com/assets/colab-badge.svg\" alt=\"Open In Colab\"/></a>"
      ]
    },
    {
      "cell_type": "markdown",
      "source": [
        "# 딕셔너리\n",
        "\n",
        "키와 값을 쌍으로 갖는 요소를 보관하는 자료구조(컬렉션)"
      ],
      "metadata": {
        "id": "GgxMu7mgCq5i"
      }
    },
    {
      "cell_type": "code",
      "source": [
        "member_states = {\"홍길동\":23,\n",
        "                 \"강감찬\":17,\n",
        "                 \"을지문덕\":89}\n",
        "print(member_states)"
      ],
      "metadata": {
        "colab": {
          "base_uri": "https://localhost:8080/"
        },
        "id": "7rBZWmgzCzAw",
        "outputId": "c6b65a44-a07f-4fd1-a060-722cdac783fe"
      },
      "execution_count": 1,
      "outputs": [
        {
          "output_type": "stream",
          "name": "stdout",
          "text": [
            "{'홍길동': 23, '강감찬': 17, '을지문덕': 89}\n"
          ]
        }
      ]
    },
    {
      "cell_type": "code",
      "source": [
        "print(member_states[\"홍길동\"])"
      ],
      "metadata": {
        "colab": {
          "base_uri": "https://localhost:8080/"
        },
        "id": "xTrAvulRDRaU",
        "outputId": "fd95bc2e-8fd7-4ef2-dbc6-ccec14b6efa4"
      },
      "execution_count": 2,
      "outputs": [
        {
          "output_type": "stream",
          "name": "stdout",
          "text": [
            "23\n"
          ]
        }
      ]
    },
    {
      "cell_type": "code",
      "source": [
        "subjects = (\"국어\", \"영어\", \"수학\")\n",
        "scores_dic = {}\n",
        "for i in range(2):\n",
        "    name = input(f\"{i+1}번째 학생 이름:\")\n",
        "    scores = []\n",
        "    for s in subjects:\n",
        "        score = int(input(f\"{s}:\"))\n",
        "        scores.append(score)\n",
        "    scores_dic[name] = scores  #값 추가 or 변경\n",
        "print(scores_dic)"
      ],
      "metadata": {
        "colab": {
          "base_uri": "https://localhost:8080/"
        },
        "id": "AnjVhhIjDrbo",
        "outputId": "9b23ae54-2567-4381-fb68-69d76670baf1"
      },
      "execution_count": 4,
      "outputs": [
        {
          "output_type": "stream",
          "name": "stdout",
          "text": [
            "1번째 학생 이름:sfdsd\n",
            "국어:123\n",
            "영어:23\n",
            "수학:23\n",
            "2번째 학생 이름:dfgd\n",
            "국어:64\n",
            "영어:65\n",
            "수학:45\n",
            "{'sfdsd': [123, 23, 23], 'dfgd': [64, 65, 45]}\n"
          ]
        }
      ]
    },
    {
      "cell_type": "code",
      "source": [
        "name = input(\"삭제할 학생:\")\n",
        "del scores_dic[name]\n",
        "print(scores_dic)"
      ],
      "metadata": {
        "colab": {
          "base_uri": "https://localhost:8080/"
        },
        "id": "Ue4QQk1tFlqd",
        "outputId": "33ab6de6-08d4-4989-a57b-ab9f90a7ff85"
      },
      "execution_count": 6,
      "outputs": [
        {
          "output_type": "stream",
          "name": "stdout",
          "text": [
            "삭제할 학생:dfgd\n",
            "{'sfdsd': [123, 23, 23]}\n"
          ]
        }
      ]
    },
    {
      "cell_type": "code",
      "source": [
        "eh_att_dic = {}\n",
        "eh_att_dic[\"title\"] = \"언제나휴일\"\n",
        "eh_att_dic[\"url\"] = \"http://\"\n",
        "eh_att_dic[\"desc\"] = \"어쩌고 저쩌고\"\n",
        "print(eh_att_dic)"
      ],
      "metadata": {
        "colab": {
          "base_uri": "https://localhost:8080/"
        },
        "id": "M2xJOiD3FvJe",
        "outputId": "65272efc-946f-4407-be6a-e641eaaf14e7"
      },
      "execution_count": 7,
      "outputs": [
        {
          "output_type": "stream",
          "name": "stdout",
          "text": [
            "{'title': '언제나휴일', 'url': 'http://', 'desc': '어쩌고 저쩌고'}\n"
          ]
        }
      ]
    },
    {
      "cell_type": "code",
      "source": [
        "#print({eh_att_dic[\"url\"]})존재하지 않는 키를 인덱스 연산으로 사용하면 KeyError 발생\n",
        "\n",
        "if \"url\" in eh_att_dic:\n",
        "    print(f'존재합니다. url:{eh_att_dic[\"url\"]}')\n",
        "else:\n",
        "    print(\"url 정보가 없습니다.\")"
      ],
      "metadata": {
        "id": "uItq07t4GLzN"
      },
      "execution_count": null,
      "outputs": []
    },
    {
      "cell_type": "code",
      "source": [
        "value = eh_att_dic.get(\"url\")\n",
        "if value == None:\n",
        "    print(\"url 정보가 없습니다.\")\n",
        "else:\n",
        "    print(f\"url:{value}\")"
      ],
      "metadata": {
        "colab": {
          "base_uri": "https://localhost:8080/"
        },
        "id": "N4fJ5EC9HlUO",
        "outputId": "928ba629-0078-4183-d1d5-d87173f37fdc"
      },
      "execution_count": 9,
      "outputs": [
        {
          "output_type": "stream",
          "name": "stdout",
          "text": [
            "url:http://\n"
          ]
        }
      ]
    },
    {
      "cell_type": "code",
      "source": [
        "value = eh_att_dic.get(\"score\")\n",
        "if value == None:\n",
        "    print(\"score 정보가 없습니다.\")\n",
        "else:\n",
        "    print(f\"score:{value}\")"
      ],
      "metadata": {
        "colab": {
          "base_uri": "https://localhost:8080/"
        },
        "id": "HeYnSc4kHMIk",
        "outputId": "b481a842-e968-45aa-f48c-b0c5f14c8793"
      },
      "execution_count": 8,
      "outputs": [
        {
          "output_type": "stream",
          "name": "stdout",
          "text": [
            "score 정보가 없습니다.\n"
          ]
        }
      ]
    },
    {
      "cell_type": "code",
      "source": [
        "for attr in eh_att_dic:\n",
        "    print(f\"{attr}:{eh_att_dic[attr]}\")"
      ],
      "metadata": {
        "colab": {
          "base_uri": "https://localhost:8080/"
        },
        "id": "lqhEzVQdH5S3",
        "outputId": "b5903d38-af00-4d5e-b8b5-1178b57523da"
      },
      "execution_count": 10,
      "outputs": [
        {
          "output_type": "stream",
          "name": "stdout",
          "text": [
            "title:언제나휴일\n",
            "url:http://\n",
            "desc:어쩌고 저쩌고\n"
          ]
        }
      ]
    }
  ]
}