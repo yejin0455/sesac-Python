{
  "nbformat": 4,
  "nbformat_minor": 0,
  "metadata": {
    "colab": {
      "name": "파이썬-함수(활용).ipynb",
      "provenance": [],
      "collapsed_sections": [],
      "authorship_tag": "ABX9TyMbylBR2bajS97LZs1ZxLTq",
      "include_colab_link": true
    },
    "kernelspec": {
      "name": "python3",
      "display_name": "Python 3"
    },
    "language_info": {
      "name": "python"
    }
  },
  "cells": [
    {
      "cell_type": "markdown",
      "metadata": {
        "id": "view-in-github",
        "colab_type": "text"
      },
      "source": [
        "<a href=\"https://colab.research.google.com/github/yejin0455/sesac-python/blob/main/%ED%8C%8C%EC%9D%B4%EC%8D%AC_%ED%95%A8%EC%88%98(%ED%99%9C%EC%9A%A9).ipynb\" target=\"_parent\"><img src=\"https://colab.research.google.com/assets/colab-badge.svg\" alt=\"Open In Colab\"/></a>"
      ]
    },
    {
      "cell_type": "markdown",
      "source": [
        "# 함수를 활용했을 때의 장점"
      ],
      "metadata": {
        "id": "hIIMPMBSNO7u"
      }
    },
    {
      "cell_type": "markdown",
      "source": [
        "n개의 정수를 입력받아 합계와 평균을 출력하자"
      ],
      "metadata": {
        "id": "wjaTSjgmNS0Y"
      }
    },
    {
      "cell_type": "code",
      "source": [
        "n = int(input(\"입력 받을 정수 개수:\"))\n",
        "\n",
        "numbers = []\n",
        "for i in range(n):\n",
        "    number = int(input(f\"{i+1}번째:\"))\n",
        "    numbers.append(number)\n",
        "\n",
        "s = 0\n",
        "for number in numbers:\n",
        "    s += number\n",
        "\n",
        "print(f\"합계:{s} 평균:{s/len(numbers):.2f}\")"
      ],
      "metadata": {
        "id": "yZtp7FmQNXdO"
      },
      "execution_count": null,
      "outputs": []
    },
    {
      "cell_type": "code",
      "source": [
        "def input_numbers(n):\n",
        "    numbers = []\n",
        "    for i in range(n):\n",
        "        number = int(input(f\"{i+1}번째:\"))\n",
        "        numbers.append(number)\n",
        "    return numbers"
      ],
      "metadata": {
        "id": "DADFd75qOPk8"
      },
      "execution_count": 4,
      "outputs": []
    },
    {
      "cell_type": "code",
      "source": [
        "def get_sum(numbers):\n",
        "    s = 0\n",
        "    for number in numbers:\n",
        "        s += number\n",
        "    return s"
      ],
      "metadata": {
        "id": "DmjeEOzWOpeT"
      },
      "execution_count": 5,
      "outputs": []
    },
    {
      "cell_type": "code",
      "source": [
        "n = int(input(\"입력받을 정수 갯수:\"))\n",
        "numbers = input_numbers(n)\n",
        "s = get_sum(numbers)\n",
        "print(f\"합계:{s} 평균:{s/len(numbers):.2f}\")"
      ],
      "metadata": {
        "id": "svKysiFIO3xd"
      },
      "execution_count": null,
      "outputs": []
    },
    {
      "cell_type": "markdown",
      "source": [
        "# 팁\n",
        "\n",
        "하드코딩과 소프트코딩"
      ],
      "metadata": {
        "id": "cPRfKbOqP0up"
      }
    },
    {
      "cell_type": "code",
      "source": [
        "#파이를 3.14로 하드코딩\n",
        "def get_circle_area(radius):\n",
        "    return 3.14 * radius**2"
      ],
      "metadata": {
        "id": "axEk8fedP6Tn"
      },
      "execution_count": 8,
      "outputs": []
    },
    {
      "cell_type": "code",
      "source": [
        "print(get_circle_area(1))"
      ],
      "metadata": {
        "colab": {
          "base_uri": "https://localhost:8080/"
        },
        "id": "n_AxnpY0QQ3x",
        "outputId": "fbf24bf7-a695-4c59-9a36-42b863675500"
      },
      "execution_count": 9,
      "outputs": [
        {
          "output_type": "stream",
          "name": "stdout",
          "text": [
            "3.14\n"
          ]
        }
      ]
    },
    {
      "cell_type": "code",
      "source": [
        "#상수를 이용한 소프트코딩\n",
        "PI = 3.141592\n",
        "def get_circle_area2(radius):\n",
        "    return PI * radius**2"
      ],
      "metadata": {
        "id": "TPVdKuR7QY30"
      },
      "execution_count": 10,
      "outputs": []
    },
    {
      "cell_type": "code",
      "source": [
        "print(get_circle_area2(1))"
      ],
      "metadata": {
        "colab": {
          "base_uri": "https://localhost:8080/"
        },
        "id": "tEFEO4DXQkeM",
        "outputId": "795e3d56-aba0-4ca9-ef27-f830486055d4"
      },
      "execution_count": 11,
      "outputs": [
        {
          "output_type": "stream",
          "name": "stdout",
          "text": [
            "3.14\n"
          ]
        }
      ]
    },
    {
      "cell_type": "code",
      "source": [
        "s1 = \"hello\"\n",
        "s2 = \"yahoo\"\n",
        "print(\"<p>\", s1, \"</p>\")\n",
        "print(\"<p>\", s2, \"</p>\")"
      ],
      "metadata": {
        "colab": {
          "base_uri": "https://localhost:8080/"
        },
        "id": "evgH0cuURXfo",
        "outputId": "47d92a02-8599-44aa-c612-a0c94603bd78"
      },
      "execution_count": 12,
      "outputs": [
        {
          "output_type": "stream",
          "name": "stdout",
          "text": [
            "<p> hello </p>\n",
            "<p> yahoo </p>\n"
          ]
        }
      ]
    },
    {
      "cell_type": "code",
      "source": [
        "def make_ptag(s):\n",
        "    return str.format(\"<p> {0} </p>\", s)\n",
        "print(make_ptag(s1))\n",
        "print(make_ptag(s2))"
      ],
      "metadata": {
        "colab": {
          "base_uri": "https://localhost:8080/"
        },
        "id": "n7-fDXZwRiU5",
        "outputId": "327b96f5-889c-40bb-a88d-b4d1501cbc38"
      },
      "execution_count": 13,
      "outputs": [
        {
          "output_type": "stream",
          "name": "stdout",
          "text": [
            "<p> hello </p>\n",
            "<p> yahoo </p>\n"
          ]
        }
      ]
    },
    {
      "cell_type": "markdown",
      "source": [
        "# 재귀함수\n",
        "\n",
        "자기 자신을 호출하여 문제를 해결하는 함수\n",
        "\n",
        "1 1 2 3 5 8 13\n",
        "\n",
        "F(1) = F(2) = 1\n",
        "\n",
        "F(n) = F(n-1) + F(n-2)\n",
        "\n",
        "단, n은 자연수"
      ],
      "metadata": {
        "id": "alEVID2T8u1I"
      }
    },
    {
      "cell_type": "code",
      "source": [
        "#cnt = 0\n",
        "def fibonacci(n):\n",
        "    #global cnt  #앞으로 이 함수에서 cnt는 함수 외부에 있는 전역변수 cnt를 의미함\n",
        "    #cnt += 1  #이 함수가 몇 번 호출하는지 카운팅\n",
        "    if (n < 0):\n",
        "        return 0\n",
        "    if (n == 1) or (n == 2):\n",
        "        return 1\n",
        "    return fibonacci(n-1) + fibonacci(n-2)"
      ],
      "metadata": {
        "id": "2gi9erqG9fKh"
      },
      "execution_count": 7,
      "outputs": []
    },
    {
      "cell_type": "code",
      "source": [
        "fibonacci(40)\n",
        "print(cnt)"
      ],
      "metadata": {
        "id": "OSGEGDgnC2cT"
      },
      "execution_count": null,
      "outputs": []
    },
    {
      "cell_type": "code",
      "source": [
        "re = fibonacci(3)\n",
        "print(f\"fibonacci({3}):{re}\")\n",
        "re = fibonacci(0)\n",
        "print(f\"fibonacci({0}):{re}\")\n",
        "\n",
        "for i in range(20):\n",
        "    re = fibonacci(i)\n",
        "    print(re, end=' ')"
      ],
      "metadata": {
        "id": "xgaDFNR59pmD"
      },
      "execution_count": null,
      "outputs": []
    },
    {
      "cell_type": "markdown",
      "source": [
        "하노이 타워\n",
        "\n",
        "n개의 돌을 A에서 C로 옮기시오(B를 이용)\n",
        "\n",
        "1번에 1개의 돌을 옮길 수 있다\n",
        "\n",
        "큰 돌 위에 작은 돌을 올릴 수 있다"
      ],
      "metadata": {
        "id": "F-IkJfMRAaKd"
      }
    },
    {
      "cell_type": "code",
      "source": [
        "def hanoi(a, b, c, n):\n",
        "    if n == 0:\n",
        "        return\n",
        "    hanoi(a, c, b, n-1)  #A에 있는 n-1개의 돌을 B로 옮겨라(C이용)\n",
        "    print(f'{a} -> {c}')  #A에 있는 1개의 돌을 C로 옮겨라\n",
        "    hanoi(b, a, c, n-1)  #B에 있는 n-1개의 돌을 C로 옮겨라(A이용)"
      ],
      "metadata": {
        "id": "4ZODjuEMAkiK"
      },
      "execution_count": 5,
      "outputs": []
    },
    {
      "cell_type": "code",
      "source": [
        "hanoi('a', 'b', 'c', 3)"
      ],
      "metadata": {
        "id": "Q3RuRq-PB-_x"
      },
      "execution_count": null,
      "outputs": []
    },
    {
      "cell_type": "markdown",
      "source": [
        "# 동적 프로그래밍(DynamicProgramming)\n",
        "\n",
        "경험한 정보를 이용하여 문제를 해결하는 최적화 기법"
      ],
      "metadata": {
        "id": "g3NCLMx9EBG7"
      }
    },
    {
      "cell_type": "code",
      "source": [
        "#cnt2 = 0\n",
        "answer = [0, 1, 1]\n",
        "def fibonacci2(n):\n",
        "    #global cnt2\n",
        "    #cnt2 += 1\n",
        "    if len(answer) > n:\n",
        "        return answer[n]\n",
        "    re = fibonacci2(n-1) + fibonacci2(n-2)\n",
        "    answer.append(re)\n",
        "    return re"
      ],
      "metadata": {
        "id": "itGYWXWpEL9U"
      },
      "execution_count": 12,
      "outputs": []
    },
    {
      "cell_type": "code",
      "source": [
        "fibonacci2(40)\n",
        "print(cnt2)"
      ],
      "metadata": {
        "id": "Uj9LU7FPF5CH"
      },
      "execution_count": null,
      "outputs": []
    },
    {
      "cell_type": "code",
      "source": [
        "for i in range(1, 20):\n",
        "    re = fibonacci2(i)\n",
        "    print(re, end=' ')"
      ],
      "metadata": {
        "id": "m_L0NMJUFZyo"
      },
      "execution_count": null,
      "outputs": []
    },
    {
      "cell_type": "code",
      "source": [
        "def fibonacci(n):\n",
        "    if (n < 0):\n",
        "        return 0\n",
        "    if (n == 1) or (n == 2):\n",
        "        return 1\n",
        "    return fibonacci(n-1) + fibonacci(n-2)"
      ],
      "metadata": {
        "id": "yxVCN_zhLZHU"
      },
      "execution_count": null,
      "outputs": []
    },
    {
      "cell_type": "code",
      "source": [
        "answer = [0, 1, 1]\n",
        "def fibonacci2(n):\n",
        "    if len(answer) > n:\n",
        "        return answer[n]\n",
        "    re = fibonacci2(n-1) + fibonacci2(n-2)\n",
        "    answer.append(re)\n",
        "    return re"
      ],
      "metadata": {
        "id": "HwYSoi9MLdMm"
      },
      "execution_count": 1,
      "outputs": []
    },
    {
      "cell_type": "code",
      "source": [
        "import time\n",
        "def test_case(n):\n",
        "    print(\"test case: \", n)\n",
        "    start = time.time()\n",
        "    fibonacci(n)\n",
        "    end = time.time()\n",
        "    print(\"fibonacci: \", end-start)\n",
        "    start2 = time.time()\n",
        "    fibonacci2(n)\n",
        "    end2 = time.time()\n",
        "    print(\"fibonacci2: \", end2-start2)\n",
        "    print()"
      ],
      "metadata": {
        "id": "Z56xrWmMLgjk"
      },
      "execution_count": 2,
      "outputs": []
    },
    {
      "cell_type": "code",
      "source": [
        "for i in range(1, 50):\n",
        "    test_case(i)"
      ],
      "metadata": {
        "id": "XucTftZFMRlD"
      },
      "execution_count": null,
      "outputs": []
    }
  ]
}