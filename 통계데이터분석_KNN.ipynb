{
  "nbformat": 4,
  "nbformat_minor": 0,
  "metadata": {
    "colab": {
      "name": "통계데이터분석-KNN.ipynb",
      "provenance": [],
      "collapsed_sections": [],
      "authorship_tag": "ABX9TyNqY2TLHYA3hszBMXWq75vA",
      "include_colab_link": true
    },
    "kernelspec": {
      "name": "python3",
      "display_name": "Python 3"
    },
    "language_info": {
      "name": "python"
    }
  },
  "cells": [
    {
      "cell_type": "markdown",
      "metadata": {
        "id": "view-in-github",
        "colab_type": "text"
      },
      "source": [
        "<a href=\"https://colab.research.google.com/github/yejin0455/sesac-python/blob/main/%ED%86%B5%EA%B3%84%EB%8D%B0%EC%9D%B4%ED%84%B0%EB%B6%84%EC%84%9D_KNN.ipynb\" target=\"_parent\"><img src=\"https://colab.research.google.com/assets/colab-badge.svg\" alt=\"Open In Colab\"/></a>"
      ]
    },
    {
      "cell_type": "code",
      "execution_count": 8,
      "metadata": {
        "id": "PSwlbdoWkm4g"
      },
      "outputs": [],
      "source": [
        "from sklearn.datasets import load_iris"
      ]
    },
    {
      "cell_type": "code",
      "source": [
        "iris_data = load_iris()\n",
        "iris_data"
      ],
      "metadata": {
        "id": "TFqAQmqplhZP"
      },
      "execution_count": null,
      "outputs": []
    },
    {
      "cell_type": "code",
      "source": [
        "data = iris_data['data']\n",
        "target = iris_data['target']\n",
        "tnames = iris_data['target_names']\n",
        "for i, y in enumerate(target):\n",
        "    print(f'{i}:{tnames[y]}')"
      ],
      "metadata": {
        "id": "WI3uZMSvllCZ"
      },
      "execution_count": null,
      "outputs": []
    },
    {
      "cell_type": "code",
      "source": [
        "sepal_lengths = data[:50, [0]]  #setosa품종의 sepal_length만 추출(독립변수로 사용하기 위해 2차원 배열)\n",
        "sepal_widths = data[:50, 1]  #setosa품종의 sepal_width만 추출(종속변수로 사용하기 위해 1차원 배열)"
      ],
      "metadata": {
        "id": "Q9C3voe5mX2v"
      },
      "execution_count": 11,
      "outputs": []
    },
    {
      "cell_type": "code",
      "source": [
        "import matplotlib.pyplot as plt\n",
        "plt.plot(sepal_lengths[:, 0], sepal_widths, 'ro', label='setosa')\n",
        "plt.xlabel('sepal-length')\n",
        "plt.ylabel('sepal-width')\n",
        "plt.yticks([0, max(sepal_widths)])\n",
        "plt.title('iris-setosa')\n",
        "plt.show()"
      ],
      "metadata": {
        "colab": {
          "base_uri": "https://localhost:8080/",
          "height": 295
        },
        "id": "zwejpQugm6vP",
        "outputId": "5f16da6b-1913-4de2-90f7-4dfda1a9f70e"
      },
      "execution_count": 12,
      "outputs": [
        {
          "output_type": "display_data",
          "data": {
            "image/png": "[encoded data removed]",
            "text/plain": [
              "<Figure size 432x288 with 1 Axes>"
            ]
          },
          "metadata": {
            "needs_background": "light"
          }
        }
      ]
    },
    {
      "cell_type": "code",
      "source": [
        "train_xs = sepal_lengths[:len(sepal_lengths)*2//3]\n",
        "train_ys = sepal_widths[:len(sepal_widths)*2//3]\n",
        "test_xs = sepal_lengths[len(sepal_lengths)*2//3:]\n",
        "test_ys = sepal_widths[len(sepal_widths)*2//3:]\n",
        "print(f\"학습용 길이:{len(train_ys)} 테스트용 길이:{len(test_ys)}\")"
      ],
      "metadata": {
        "colab": {
          "base_uri": "https://localhost:8080/"
        },
        "id": "5r0Qv99hntU1",
        "outputId": "262b1ac0-318e-4b9f-e2a1-cfe665b46ab0"
      },
      "execution_count": 13,
      "outputs": [
        {
          "output_type": "stream",
          "name": "stdout",
          "text": [
            "학습용 길이:33 테스트용 길이:17\n"
          ]
        }
      ]
    },
    {
      "cell_type": "markdown",
      "source": [
        "거리 계산"
      ],
      "metadata": {
        "id": "4jD_yXiiCVkd"
      }
    },
    {
      "cell_type": "code",
      "source": [
        "import numpy as np"
      ],
      "metadata": {
        "id": "ey0Z8bfpCXHG"
      },
      "execution_count": 14,
      "outputs": []
    },
    {
      "cell_type": "code",
      "source": [
        "def distance(x1, x2):\n",
        "    if isinstance(x1, int) and isinstance(x2, int):  #두 개의 값이 모두 int형식일 때\n",
        "        return np.abs(x2 - x1)  #차이의 절대값을 반환\n",
        "    if isinstance(x1, list) and isinstance(x2, list):\n",
        "        x1 = np.array(x1)\n",
        "        x2 = np.array(x2)\n",
        "    return sum((x1-x2)**2)**(1/2)"
      ],
      "metadata": {
        "id": "THp3AGz6CZWV"
      },
      "execution_count": 16,
      "outputs": []
    },
    {
      "cell_type": "code",
      "source": [
        "na1 = np.array([1, 2])\n",
        "na2 = np.array([4, 6])\n",
        "distance(na1, na2)"
      ],
      "metadata": {
        "colab": {
          "base_uri": "https://localhost:8080/"
        },
        "id": "__js2WLGDFo9",
        "outputId": "a1bbe32e-9dd4-469a-d0b9-843ebacb6f8d"
      },
      "execution_count": 17,
      "outputs": [
        {
          "output_type": "execute_result",
          "data": {
            "text/plain": [
              "5.0"
            ]
          },
          "metadata": {},
          "execution_count": 17
        }
      ]
    },
    {
      "cell_type": "markdown",
      "source": [
        "k개의 가까운 이웃을 찾아라"
      ],
      "metadata": {
        "id": "agf2gTB7Dky-"
      }
    },
    {
      "cell_type": "code",
      "source": [
        "def find_k_nearest_neighbor(xs, ys, tx, k=5):\n",
        "    \"\"\"\n",
        "    입력매개변수:xs, ys, tx, k\n",
        "        xs:독립변수(학습데이터)\n",
        "        ys:종속변수(학습데이터)\n",
        "        tx:독립변수(예측에 사용할 신입)\n",
        "        k:찾을 이웃 수\n",
        "    반환:k개의 이웃의 y의 평균값\n",
        "    \"\"\"\n",
        "    sarr = []\n",
        "    for i, x in enumerate(xs):\n",
        "        dis = distance(x, tx)\n",
        "        sarr.append((dis, i))  #계산한 거리와 인덱스를 보관\n",
        "\n",
        "    sarr.sort(key=lambda x:x[0])  #dis순으로 정렬\n",
        "    k = min(k, len(sarr))  #현재 학습데이터 개수와 k 중에 최솟값을 k로 확정\n",
        "    neighbors = [x[1] for x in sarr[:k]]  #거리가 가까운 이웃 k개의 인덱스로 리스트 구성\n",
        "    return sum(ys[neighbors])/k  #이웃의 평균 값을 반환"
      ],
      "metadata": {
        "id": "0mcI_w9WDorR"
      },
      "execution_count": 27,
      "outputs": []
    },
    {
      "cell_type": "code",
      "source": [
        "def find_k_nearest_neighbors(xs, ys, t_xs, k=5):\n",
        "    return [find_k_nearest_neighbor(xs, ys, tx, k) for tx in t_xs]"
      ],
      "metadata": {
        "id": "Lx1aEkH1JyQ2"
      },
      "execution_count": 28,
      "outputs": []
    },
    {
      "cell_type": "code",
      "source": [
        "pred_val = find_k_nearest_neighbors(train_xs, train_ys, test_xs)"
      ],
      "metadata": {
        "id": "CgoJ7dHaKALz"
      },
      "execution_count": 30,
      "outputs": []
    },
    {
      "cell_type": "code",
      "source": [
        "plt.plot(pred_val, 'ro', label='predict')\n",
        "plt.plot(test_ys, 'b.', label='actual')\n",
        "plt.ylim(0, 5)\n",
        "plt.legend()\n",
        "plt.xlabel(\"index\")\n",
        "plt.ylabel(\"sepal-width\")\n",
        "plt.title(\"iris-setosa\")\n",
        "plt.show()"
      ],
      "metadata": {
        "colab": {
          "base_uri": "https://localhost:8080/",
          "height": 295
        },
        "id": "QxaskET0LOTk",
        "outputId": "9bd2ef86-aed9-4efd-95a4-d8216157cdba"
      },
      "execution_count": 31,
      "outputs": [
        {
          "output_type": "display_data",
          "data": {
            "image/png": "[encoded data removed]",
            "text/plain": [
              "<Figure size 432x288 with 1 Axes>"
            ]
          },
          "metadata": {
            "needs_background": "light"
          }
        }
      ]
    },
    {
      "cell_type": "code",
      "source": [
        "print(np.mean(np.abs(pred_val-test_ys)/test_ys))"
      ],
      "metadata": {
        "colab": {
          "base_uri": "https://localhost:8080/"
        },
        "id": "6nfCGTsmMhoz",
        "outputId": "5d78883b-b76c-4e67-d964-6d0025d2e456"
      },
      "execution_count": 32,
      "outputs": [
        {
          "output_type": "stream",
          "name": "stdout",
          "text": [
            "0.07213767474452305\n"
          ]
        }
      ]
    },
    {
      "cell_type": "code",
      "source": [
        "from sklearn.neighbors import KNeighborsRegressor"
      ],
      "metadata": {
        "id": "VaBdie1SNMh6"
      },
      "execution_count": 33,
      "outputs": []
    },
    {
      "cell_type": "code",
      "source": [
        "knr_model = KNeighborsRegressor(n_neighbors=3)  #모델 개체 생성\n",
        "knr_model.fit(train_xs, train_ys)  #학습하세요\n",
        "pred_val2 = knr_model.predict(test_xs)  #예측하세요"
      ],
      "metadata": {
        "id": "RMcTe9YWNXBN"
      },
      "execution_count": 34,
      "outputs": []
    },
    {
      "cell_type": "code",
      "source": [
        "plt.plot(pred_val, 'ro', label='our function')\n",
        "plt.plot(pred_val2, 'b.', label='KNeighborsRegressor')\n",
        "plt.ylim(0, 5)\n",
        "plt.legend()\n",
        "plt.xlabel(\"index\")\n",
        "plt.ylabel(\"sepal-width\")\n",
        "plt.title(\"iris-setosa\")\n",
        "plt.show()"
      ],
      "metadata": {
        "colab": {
          "base_uri": "https://localhost:8080/",
          "height": 295
        },
        "id": "a5iZwVNdNqRW",
        "outputId": "f4efe4bd-a801-460e-8636-9d7182f46cb2"
      },
      "execution_count": 35,
      "outputs": [
        {
          "output_type": "display_data",
          "data": {
            "image/png": "[encoded data removed]",
            "text/plain": [
              "<Figure size 432x288 with 1 Axes>"
            ]
          },
          "metadata": {
            "needs_background": "light"
          }
        }
      ]
    },
    {
      "cell_type": "code",
      "source": [
        "print(np.mean(np.abs(pred_val2-test_ys)/test_ys))"
      ],
      "metadata": {
        "colab": {
          "base_uri": "https://localhost:8080/"
        },
        "id": "YKuZfctTOjto",
        "outputId": "3d176d27-1474-432b-bb38-9e27d43f7662"
      },
      "execution_count": 36,
      "outputs": [
        {
          "output_type": "stream",
          "name": "stdout",
          "text": [
            "0.07137028342370126\n"
          ]
        }
      ]
    },
    {
      "cell_type": "code",
      "source": [
        "print(find_k_nearest_neighbor(train_xs, train_ys, [3, 4]))\n",
        "print(find_k_nearest_neighbor(train_xs, train_ys, [6]))\n",
        "print(find_k_nearest_neighbor(train_xs, train_ys, [8]))\n",
        "print(find_k_nearest_neighbor(train_xs, train_ys, [80]))"
      ],
      "metadata": {
        "colab": {
          "base_uri": "https://localhost:8080/"
        },
        "id": "PRvGDB1nOvkV",
        "outputId": "60dc7c0d-9c99-4350-cd63-754ebe8a9c7f"
      },
      "execution_count": 37,
      "outputs": [
        {
          "output_type": "stream",
          "name": "stdout",
          "text": [
            "3.2\n",
            "3.9599999999999995\n",
            "3.9599999999999995\n",
            "3.9599999999999995\n"
          ]
        }
      ]
    },
    {
      "cell_type": "markdown",
      "source": [
        "KNN에서 독립변수에 특성이 여러 개이고 특성에 따라 크기의 차이가 상당할 때"
      ],
      "metadata": {
        "id": "eKVFVbQWPiF6"
      }
    },
    {
      "cell_type": "code",
      "source": [
        "train_xs2 = np.array([[180, 0.84], [190, 0.89], [120, 0.32], [150, 0.49], [160, 0.58], [170, 0.65]])\n",
        "train_ys2 = np.array([32, 33, 24, 26, 30, 31])  #허리둘레\n",
        "print(find_k_nearest_neighbor(train_xs2, train_ys2, [210, 1.10], k=1))\n",
        "print(find_k_nearest_neighbor(train_xs2, train_ys2, [186, 0.84], k=1))"
      ],
      "metadata": {
        "colab": {
          "base_uri": "https://localhost:8080/"
        },
        "id": "rkX-GiQ5PoKe",
        "outputId": "cfdd91c5-bb50-4a15-d8cc-3e9c9810fa4d"
      },
      "execution_count": 41,
      "outputs": [
        {
          "output_type": "stream",
          "name": "stdout",
          "text": [
            "33.0\n",
            "33.0\n"
          ]
        }
      ]
    },
    {
      "cell_type": "code",
      "source": [
        "distance([180, 0.84], [186, 0.84]), distance([190, 0.89], [186, 0.84])"
      ],
      "metadata": {
        "colab": {
          "base_uri": "https://localhost:8080/"
        },
        "id": "Gb1bhtUXSUPe",
        "outputId": "4235041c-682a-4ece-9f63-b3dc5de1314a"
      },
      "execution_count": 42,
      "outputs": [
        {
          "output_type": "execute_result",
          "data": {
            "text/plain": [
              "(6.0, 4.000312487793923)"
            ]
          },
          "metadata": {},
          "execution_count": 42
        }
      ]
    },
    {
      "cell_type": "code",
      "source": [
        "plt.plot(train_xs2[:, 0], train_xs2[:, 1], 'ro', label='sample')\n",
        "plt.plot([186], [0.84], 'b^', label='test')\n",
        "plt.legend()\n",
        "plt.xlim(0, 210)\n",
        "plt.ylim(0, 1.10)\n",
        "plt.show()"
      ],
      "metadata": {
        "colab": {
          "base_uri": "https://localhost:8080/",
          "height": 265
        },
        "id": "Z1V6U01TRDHq",
        "outputId": "f9e333e1-85ef-414e-8286-39605f3b9134"
      },
      "execution_count": 40,
      "outputs": [
        {
          "output_type": "display_data",
          "data": {
            "image/png": "[encoded data removed]",
            "text/plain": [
              "<Figure size 432x288 with 1 Axes>"
            ]
          },
          "metadata": {
            "needs_background": "light"
          }
        }
      ]
    },
    {
      "cell_type": "code",
      "source": [
        "heights = train_xs2[:, 0]\n",
        "hm = heights.mean()\n",
        "hs = heights.std()\n",
        "heights2 = heights - hm  #수평 이동\n",
        "heights3 = heights2 / hs  #표준편차만큼 비율 조절\n",
        "\n",
        "hm3 = heights3.mean()\n",
        "hs3 = heights3.std()\n",
        "hm3, hs3"
      ],
      "metadata": {
        "colab": {
          "base_uri": "https://localhost:8080/"
        },
        "id": "kjQyiOZEWUE1",
        "outputId": "8fb2c117-4f6b-4405-be1d-e05125b55f5f"
      },
      "execution_count": 56,
      "outputs": [
        {
          "output_type": "execute_result",
          "data": {
            "text/plain": [
              "(3.978299171573478e-16, 1.0)"
            ]
          },
          "metadata": {},
          "execution_count": 56
        }
      ]
    },
    {
      "cell_type": "code",
      "source": [
        "weights = train_xs2[:, 1]\n",
        "wm = weights.mean()\n",
        "ws = weights.std()\n",
        "weights2 = weights - wm  #수평 이동\n",
        "weights3 = weights2 / ws  #표준편차만큼 비율 조절\n",
        "\n",
        "wm3 = weights3.mean()\n",
        "ws3 = weights3.std()\n",
        "wm3, ws3"
      ],
      "metadata": {
        "colab": {
          "base_uri": "https://localhost:8080/"
        },
        "id": "VTBIsmy0Wggk",
        "outputId": "342b47a7-1f23-4e9d-8e26-efe3356bf2ed"
      },
      "execution_count": 57,
      "outputs": [
        {
          "output_type": "execute_result",
          "data": {
            "text/plain": [
              "(1.3415194880887307e-16, 1.0)"
            ]
          },
          "metadata": {},
          "execution_count": 57
        }
      ]
    },
    {
      "cell_type": "code",
      "source": [
        "rescaled_train_xs = np.array([ [heights3[i], w] for i, w in enumerate(weights3) ])\n",
        "rescaled_train_xs"
      ],
      "metadata": {
        "colab": {
          "base_uri": "https://localhost:8080/"
        },
        "id": "hGIXmUR1X3YY",
        "outputId": "bcbf6d2c-13a5-4118-8e2f-4993cbd60fda"
      },
      "execution_count": 58,
      "outputs": [
        {
          "output_type": "execute_result",
          "data": {
            "text/plain": [
              "array([[ 0.80873608,  1.08043052],\n",
              "       [ 1.24986486,  1.33565032],\n",
              "       [-1.83803656, -1.57385548],\n",
              "       [-0.51465024, -0.70610813],\n",
              "       [-0.07352146, -0.24671248],\n",
              "       [ 0.36760731,  0.11059525]])"
            ]
          },
          "metadata": {},
          "execution_count": 58
        }
      ]
    },
    {
      "cell_type": "code",
      "source": [
        "h = 186\n",
        "w = 0.84\n",
        "w3 = (w-wm)/ws\n",
        "h3 = (h-hm)/hs\n",
        "h3, w3"
      ],
      "metadata": {
        "colab": {
          "base_uri": "https://localhost:8080/"
        },
        "id": "setBQTdnYXDi",
        "outputId": "096ec0a3-b387-4d27-ac6a-ef582d4b3364"
      },
      "execution_count": 59,
      "outputs": [
        {
          "output_type": "execute_result",
          "data": {
            "text/plain": [
              "(1.0734133482569597, 1.08043051632241)"
            ]
          },
          "metadata": {},
          "execution_count": 59
        }
      ]
    },
    {
      "cell_type": "code",
      "source": [
        "print(find_k_nearest_neighbor(rescaled_train_xs, train_ys2, [h3, w3], k=1))"
      ],
      "metadata": {
        "colab": {
          "base_uri": "https://localhost:8080/"
        },
        "id": "WK6-QQ50ZAyI",
        "outputId": "16855479-e3ec-45e7-9bc4-baa11a35035e"
      },
      "execution_count": 60,
      "outputs": [
        {
          "output_type": "stream",
          "name": "stdout",
          "text": [
            "32.0\n"
          ]
        }
      ]
    },
    {
      "cell_type": "code",
      "source": [
        "plt.figure(figsize=(5, 5))\n",
        "plt.plot(rescaled_train_xs[:, 0], rescaled_train_xs[:, 1], 'ro', label='sample')\n",
        "plt.plot([h3], [w3], 'b^', label='test')\n",
        "plt.legend()\n",
        "plt.xlim(-2, 2)\n",
        "plt.ylim(-2, 2)\n",
        "plt.show()"
      ],
      "metadata": {
        "colab": {
          "base_uri": "https://localhost:8080/",
          "height": 324
        },
        "id": "XodUOyrrZP51",
        "outputId": "3bdcda4a-2782-4b8e-e7a2-1dd1f7f075a7"
      },
      "execution_count": 61,
      "outputs": [
        {
          "output_type": "display_data",
          "data": {
            "image/png": "[encoded data removed]",
            "text/plain": [
              "<Figure size 360x360 with 1 Axes>"
            ]
          },
          "metadata": {
            "needs_background": "light"
          }
        }
      ]
    }
  ]
}