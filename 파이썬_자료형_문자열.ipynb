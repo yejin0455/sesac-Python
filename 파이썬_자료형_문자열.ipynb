{
  "nbformat": 4,
  "nbformat_minor": 0,
  "metadata": {
    "colab": {
      "name": "파이썬-자료형-문자열.ipynb",
      "provenance": [],
      "authorship_tag": "ABX9TyMIpSYGQFBYiTp3co5ytDe8",
      "include_colab_link": true
    },
    "kernelspec": {
      "name": "python3",
      "display_name": "Python 3"
    },
    "language_info": {
      "name": "python"
    }
  },
  "cells": [
    {
      "cell_type": "markdown",
      "metadata": {
        "id": "view-in-github",
        "colab_type": "text"
      },
      "source": [
        "<a href=\"https://colab.research.google.com/github/yejin0455/sesac-python/blob/main/%ED%8C%8C%EC%9D%B4%EC%8D%AC_%EC%9E%90%EB%A3%8C%ED%98%95_%EB%AC%B8%EC%9E%90%EC%97%B4.ipynb\" target=\"_parent\"><img src=\"https://colab.research.google.com/assets/colab-badge.svg\" alt=\"Open In Colab\"/></a>"
      ]
    },
    {
      "cell_type": "markdown",
      "source": [
        "# 문자열 기본 표현"
      ],
      "metadata": {
        "id": "wg4ov-S9dJ4Z"
      }
    },
    {
      "cell_type": "code",
      "execution_count": 1,
      "metadata": {
        "colab": {
          "base_uri": "https://localhost:8080/"
        },
        "id": "DT0iKcbccu80",
        "outputId": "df6e24d0-18c3-4851-ab5b-5bec011f280d"
      },
      "outputs": [
        {
          "output_type": "stream",
          "name": "stdout",
          "text": [
            "abc\n",
            "ABC\n",
            "안녕하세요\n"
          ]
        }
      ],
      "source": [
        "print('abc')\n",
        "print(\"ABC\")\n",
        "print(\"\"\"안녕하세요\"\"\")"
      ]
    },
    {
      "cell_type": "markdown",
      "source": [
        "# 이스케이프 문자"
      ],
      "metadata": {
        "id": "SMqMX22odOXs"
      }
    },
    {
      "cell_type": "code",
      "source": [
        "print('\\t하이')\n",
        "print('우리는\\t야호\\n하하하')"
      ],
      "metadata": {
        "colab": {
          "base_uri": "https://localhost:8080/"
        },
        "id": "d6fw5sWxdQOp",
        "outputId": "e82ba857-8256-45a0-e87f-c91680d3a905"
      },
      "execution_count": 2,
      "outputs": [
        {
          "output_type": "stream",
          "name": "stdout",
          "text": [
            "\t하이\n",
            "우리는\t야호\n",
            "하하하\n"
          ]
        }
      ]
    },
    {
      "cell_type": "code",
      "source": [
        "print(\"그가 \\\"안녕\\\"이라고 말했다.\")"
      ],
      "metadata": {
        "colab": {
          "base_uri": "https://localhost:8080/"
        },
        "id": "nkNUTqhDeED5",
        "outputId": "01d98aa1-e48c-4289-9325-51952aa645a0"
      },
      "execution_count": 3,
      "outputs": [
        {
          "output_type": "stream",
          "name": "stdout",
          "text": [
            "그가 \"안녕\"이라고 말했다.\n"
          ]
        }
      ]
    },
    {
      "cell_type": "code",
      "source": [
        "print('그가 \"안녕\"이라고 말했다.')"
      ],
      "metadata": {
        "colab": {
          "base_uri": "https://localhost:8080/"
        },
        "id": "A06VoEKIdx4K",
        "outputId": "3f8b1901-4a14-41c6-c265-5e473a96b301"
      },
      "execution_count": 4,
      "outputs": [
        {
          "output_type": "stream",
          "name": "stdout",
          "text": [
            "그가 \"안녕\"이라고 말했다.\n"
          ]
        }
      ]
    },
    {
      "cell_type": "markdown",
      "source": [
        "# 인용문"
      ],
      "metadata": {
        "id": "yoqNT6pEeMpu"
      }
    },
    {
      "cell_type": "code",
      "source": [
        "print(\"================\")\n",
        "azale = \"\"\"\\\n",
        "진달래 꽃\n",
        "나 보기가 역겨워\n",
        "가실 때에는\n",
        "말없이 고이 보내\n",
        "드리오리다.\\\n",
        "\"\"\"\n",
        "print(azale)\n",
        "print(\"================\")"
      ],
      "metadata": {
        "colab": {
          "base_uri": "https://localhost:8080/"
        },
        "id": "BcqwotZ7eOR1",
        "outputId": "8b42fa74-7a4c-49b9-f4ad-11d9fa00e5a5"
      },
      "execution_count": 7,
      "outputs": [
        {
          "output_type": "stream",
          "name": "stdout",
          "text": [
            "================\n",
            "진달래 꽃\n",
            "나 보기가 역겨워\n",
            "가실 때에는\n",
            "말없이 고이 보내\n",
            "드리오리다.\n",
            "================\n"
          ]
        }
      ]
    },
    {
      "cell_type": "markdown",
      "source": [
        "# 문자코드"
      ],
      "metadata": {
        "id": "iHI0VcdofpW9"
      }
    },
    {
      "cell_type": "code",
      "source": [
        "print(\"a:\", ord('a'), \"A:\", ord('A'), \"0:\", ord('0'))  #'a':0110 0001  'A':0101 0001  '0':0011 0001"
      ],
      "metadata": {
        "colab": {
          "base_uri": "https://localhost:8080/"
        },
        "id": "nqtLhY4Rfsr1",
        "outputId": "2e5d6d51-aa5b-4b55-bfe6-346de0c9e911"
      },
      "execution_count": 8,
      "outputs": [
        {
          "output_type": "stream",
          "name": "stdout",
          "text": [
            "a: 97 A: 65 0: 48\n"
          ]
        }
      ]
    },
    {
      "cell_type": "code",
      "source": [
        "print(chr(97), chr(65), chr(48))  #ord의 역함수"
      ],
      "metadata": {
        "colab": {
          "base_uri": "https://localhost:8080/"
        },
        "id": "bwBoLJRcgWns",
        "outputId": "4edae98e-96ff-422f-efa4-9ac888aac17a"
      },
      "execution_count": 9,
      "outputs": [
        {
          "output_type": "stream",
          "name": "stdout",
          "text": [
            "a A 0\n"
          ]
        }
      ]
    }
  ]
}