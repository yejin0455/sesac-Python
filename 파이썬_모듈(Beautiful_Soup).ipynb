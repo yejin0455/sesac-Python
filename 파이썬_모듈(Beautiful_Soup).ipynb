{
  "nbformat": 4,
  "nbformat_minor": 0,
  "metadata": {
    "colab": {
      "name": "파이썬-모듈(Beautiful Soup).ipynb",
      "provenance": [],
      "collapsed_sections": [],
      "authorship_tag": "ABX9TyPEZAh0pJ8L3mZA7xIFYYPQ",
      "include_colab_link": true
    },
    "kernelspec": {
      "name": "python3",
      "display_name": "Python 3"
    },
    "language_info": {
      "name": "python"
    }
  },
  "cells": [
    {
      "cell_type": "markdown",
      "metadata": {
        "id": "view-in-github",
        "colab_type": "text"
      },
      "source": [
        "<a href=\"https://colab.research.google.com/github/yejin0455/sesac-python/blob/main/%ED%8C%8C%EC%9D%B4%EC%8D%AC_%EB%AA%A8%EB%93%88(Beautiful_Soup).ipynb\" target=\"_parent\"><img src=\"https://colab.research.google.com/assets/colab-badge.svg\" alt=\"Open In Colab\"/></a>"
      ]
    },
    {
      "cell_type": "markdown",
      "source": [
        "BeautifulSoup 메뉴얼 사이트: https://www.crummy.com/software/BeautifulSoup/bs4/doc/\n"
      ],
      "metadata": {
        "id": "0Inbv4Twgg-G"
      }
    },
    {
      "cell_type": "code",
      "source": [
        "from bs4 import BeautifulSoup"
      ],
      "metadata": {
        "id": "9EjplwLpgj98"
      },
      "execution_count": 3,
      "outputs": []
    },
    {
      "cell_type": "code",
      "source": [
        "src = \"\"\"\n",
        "<html>\n",
        "\t<head>\n",
        "\t\t<title>test page</title>\n",
        "\t</head>\n",
        "\t<body>\n",
        "\t\t<strong>a~</strong>\n",
        "\t\t<p>bcd</p>\n",
        "\t</body>\n",
        "</html>\n",
        "\"\"\"\n",
        "print(src)"
      ],
      "metadata": {
        "colab": {
          "base_uri": "https://localhost:8080/"
        },
        "id": "DgHIc2eGkTP5",
        "outputId": "e41fd11e-a890-4f45-ae95-be5806405532"
      },
      "execution_count": 2,
      "outputs": [
        {
          "output_type": "stream",
          "name": "stdout",
          "text": [
            "\n",
            "<html>\n",
            "\t<head>\n",
            "\t\t<title>test page</title>\n",
            "\t</head>\n",
            "\t<body>\n",
            "\t\t<strong>a~</strong>\n",
            "\t\t<p>bcd</p>\n",
            "\t</body>\n",
            "</html>\n",
            "\n"
          ]
        }
      ]
    },
    {
      "cell_type": "code",
      "source": [
        "html_parser = BeautifulSoup(src, 'html.parser')\n",
        "html_parser"
      ],
      "metadata": {
        "colab": {
          "base_uri": "https://localhost:8080/"
        },
        "id": "oXlBfZwGkkJR",
        "outputId": "571c9070-592a-4b8e-a5ed-6fd8a574eadb"
      },
      "execution_count": 5,
      "outputs": [
        {
          "output_type": "execute_result",
          "data": {
            "text/plain": [
              "\n",
              "<html>\n",
              "<head>\n",
              "<title>test page</title>\n",
              "</head>\n",
              "<body>\n",
              "<strong>a~</strong>\n",
              "<p>bcd</p>\n",
              "</body>\n",
              "</html>"
            ]
          },
          "metadata": {},
          "execution_count": 5
        }
      ]
    },
    {
      "cell_type": "code",
      "source": [
        "html_parser.head"
      ],
      "metadata": {
        "colab": {
          "base_uri": "https://localhost:8080/"
        },
        "id": "h61izzoWlvzK",
        "outputId": "8a96c6d6-0c35-4e15-9a3e-075a7e44a273"
      },
      "execution_count": 6,
      "outputs": [
        {
          "output_type": "execute_result",
          "data": {
            "text/plain": [
              "<head>\n",
              "<title>test page</title>\n",
              "</head>"
            ]
          },
          "metadata": {},
          "execution_count": 6
        }
      ]
    },
    {
      "cell_type": "code",
      "source": [
        "html_parser.body"
      ],
      "metadata": {
        "colab": {
          "base_uri": "https://localhost:8080/"
        },
        "id": "ZUoYBcqql0iq",
        "outputId": "50b20d02-3b9d-4332-9064-a363c767ad2c"
      },
      "execution_count": 7,
      "outputs": [
        {
          "output_type": "execute_result",
          "data": {
            "text/plain": [
              "<title>test page</title>"
            ]
          },
          "metadata": {},
          "execution_count": 7
        }
      ]
    },
    {
      "cell_type": "code",
      "source": [
        "html_parser.strong"
      ],
      "metadata": {
        "colab": {
          "base_uri": "https://localhost:8080/"
        },
        "id": "z5dvX181l1Ec",
        "outputId": "9cd653ca-d360-4198-f0f6-a2bcc77a6187"
      },
      "execution_count": 8,
      "outputs": [
        {
          "output_type": "execute_result",
          "data": {
            "text/plain": [
              "<body>\n",
              "<strong>a~</strong>\n",
              "<p>bcd</p>\n",
              "</body>"
            ]
          },
          "metadata": {},
          "execution_count": 8
        }
      ]
    },
    {
      "cell_type": "markdown",
      "source": [
        "# 카카오 도서 검색 API 사용하기\n",
        "\n",
        "쿼리 문자열 구조\n",
        "\n",
        "도메인주소?매개변수목록\n",
        "\n",
        "매개변수 목록에서 매개변수와 매개변수는 &로 구분\n",
        "\n",
        "매개변수는 키=값 구조"
      ],
      "metadata": {
        "id": "VG-kuU0YnxYP"
      }
    },
    {
      "cell_type": "code",
      "source": [
        "import urllib.request\n",
        "\n",
        "url = 'https://dapi.kakao.com/v3/search/book'\n",
        "target_param = \"target=title\"\n",
        "query_in = input(\"검색 질의:\")\n",
        "query_param = \"query=\" + urllib.parse.quote(query_in)  #utf-8로 인코딩\n",
        "query_str = url + '?' + target_param + '&' + query_param\n",
        "\n",
        "print(query_str)\n",
        "\n",
        "request = urllib.request.Request(query_str)  #서비스 요청에 사용할 개체를 생성\n",
        "request.add_header(\"Authorization\", \"KakaoAK 1e93a10ce73cf9bb9a37f45fc5f42576\")\n",
        "response = urllib.request.urlopen(request)\n",
        "res = response.read().decode('utf-8')\n",
        "print(res)"
      ],
      "metadata": {
        "colab": {
          "base_uri": "https://localhost:8080/"
        },
        "id": "KDqTDglNn0WI",
        "outputId": "52a51bcb-cb9a-4d71-c452-0b049837a4df"
      },
      "execution_count": 30,
      "outputs": [
        {
          "output_type": "stream",
          "name": "stdout",
          "text": [
            "검색 질의:python\n",
            "https://dapi.kakao.com/v3/search/book?target=title&query=python\n",
            "{\"documents\":[{\"authors\":[\"모리 요시나오\"],\"contents\":\"만화처럼 빨려 들어가는 비주얼한 프로그래밍 입문서 1학년 시리즈! 염소 박사님, 다솜 양과 함께라면 인공지능 앱도 뚝딱!  누구에게나 가볍고 쉬운 파이썬 입문서!\",\"datetime\":\"2018-12-18T00:00:00.000+09:00\",\"isbn\":\"8931555687 9788931555684\",\"price\":17000,\"publisher\":\"성안당\",\"sale_price\":15300,\"status\":\"정상판매\",\"thumbnail\":\"https://search1.kakaocdn.net/thumb/R120x174.q85/?fname=http%3A%2F%2Ft1.daumcdn.net%2Flbook%2Fimage%2F4836717%3Ftimestamp%3D20220222221728\",\"title\":\"파이썬(Python): 1학년\",\"translators\":[\"이영란\"],\"url\":\"https://search.daum.net/search?w=bookpage\\u0026bookId=4836717\\u0026q=%ED%8C%8C%EC%9D%B4%EC%8D%AC%28Python%29%3A+1%ED%95%99%EB%85%84\"},{\"authors\":[\"장삼용\"],\"contents\":\"본서는 200개의 예제로 파이썬을 마스터할 수 있도록 구성되었다. 기초적인 개념에 대해 배우는 1파트 ‘Python 프로그래밍 첫발 내딛기’를 시작으로 5파트 ‘Python으로 간단한 프로그램 작성하기’까지 다양한 예제로 실무 능력을 키울 수 있다.\",\"datetime\":\"2017-02-27T00:00:00.000+09:00\",\"isbn\":\"8956747342 9788956747347\",\"price\":20000,\"publisher\":\"정보문화사\",\"sale_price\":18000,\"status\":\"정상판매\",\"thumbnail\":\"https://search1.kakaocdn.net/thumb/R120x174.q85/?fname=http%3A%2F%2Ft1.daumcdn.net%2Flbook%2Fimage%2F741949%3Ftimestamp%3D20220222221935\",\"title\":\"초보자를 위한 파이썬(Python) 200제\",\"translators\":[],\"url\":\"https://search.daum.net/search?w=bookpage\\u0026bookId=741949\\u0026q=%EC%B4%88%EB%B3%B4%EC%9E%90%EB%A5%BC+%EC%9C%84%ED%95%9C+%ED%8C%8C%EC%9D%B4%EC%8D%AC%28Python%29+200%EC%A0%9C\"},{\"authors\":[\"모리 요시나오\"],\"contents\":\"파이썬은 인공지능의 기초 언어로 배우기 쉬우면서 각종 데이터 분석에 사용되는 프로그래밍 언어로 절정의 인기를 누리고 있다. 기존이 파이썬 책이 선뜻 입문하기 어려운 감이 있었다면 이 책은 염소 박사와 강아지 다솜 양의 친근한 일러스트를 도립해 책 전체가 쉬워보이며 실제로도 코드 설명이나 설치법, 버튼 안내가 큼직큼직한 주제의 만화와 대화체 방식으로 구성하여 매우 쉽게 느껴진다.  인터넷에 공개된 데이터를 수집하는 일을 ‘크롤링(Crawling)’, 이 데이터\",\"datetime\":\"2021-11-17T00:00:00.000+09:00\",\"isbn\":\"8931556896 9788931556896\",\"price\":17000,\"publisher\":\"성안당\",\"sale_price\":15300,\"status\":\"정상판매\",\"thumbnail\":\"https://search1.kakaocdn.net/thumb/R120x174.q85/?fname=http%3A%2F%2Ft1.daumcdn.net%2Flbook%2Fimage%2F5886125%3Ftimestamp%3D20220222212626\",\"title\":\"파이썬(Python) 2학년 스크래핑의 구조\",\"translators\":[\"이영란\"],\"url\":\"https://search.daum.net/search?w=bookpage\\u0026bookId=5886125\\u0026q=%ED%8C%8C%EC%9D%B4%EC%8D%AC%28Python%29+2%ED%95%99%EB%85%84+%EC%8A%A4%ED%81%AC%EB%9E%98%ED%95%91%EC%9D%98+%EA%B5%AC%EC%A1%B0\"},{\"authors\":[\"Needham Timothy C\"],\"contents\":\"\",\"datetime\":\"2020-03-31T00:00:00.000+09:00\",\"isbn\":\" 9781393160939\",\"price\":28970,\"publisher\":\"\",\"sale_price\":25200,\"status\":\"정상판매\",\"thumbnail\":\"https://search1.kakaocdn.net/thumb/R120x174.q85/?fname=http%3A%2F%2Ft1.daumcdn.net%2Flbook%2Fimage%2F5658111\",\"title\":\"Python\",\"translators\":[],\"url\":\"https://search.daum.net/search?w=bookpage\\u0026bookId=5658111\\u0026q=Python\"},{\"authors\":[\"Masterson Charlie\"],\"contents\":\"\",\"datetime\":\"2017-03-22T00:00:00.000+09:00\",\"isbn\":\" 9781544877013\",\"price\":72530,\"publisher\":\"\",\"sale_price\":58970,\"status\":\"정상판매\",\"thumbnail\":\"https://search1.kakaocdn.net/thumb/R120x174.q85/?fname=http%3A%2F%2Ft1.daumcdn.net%2Flbook%2Fimage%2F5120921\",\"title\":\"Python\",\"translators\":[],\"url\":\"https://search.daum.net/search?w=bookpage\\u0026bookId=5120921\\u0026q=Python\"},{\"authors\":[\"Packt Publishing\"],\"contents\":\"\",\"datetime\":\"2017-01-31T00:00:00.000+09:00\",\"isbn\":\"1787125181 9781787125186\",\"price\":110230,\"publisher\":\"Packt Publishing\",\"sale_price\":102790,\"status\":\"정상판매\",\"thumbnail\":\"https://search1.kakaocdn.net/thumb/R120x174.q85/?fname=http%3A%2F%2Ft1.daumcdn.net%2Flbook%2Fimage%2F3639774\",\"title\":\"Python\",\"translators\":[],\"url\":\"https://search.daum.net/search?w=bookpage\\u0026bookId=3639774\\u0026q=Python\"},{\"authors\":[\"Phillips Dusty\"],\"contents\":\"\",\"datetime\":\"2017-01-31T00:00:00.000+09:00\",\"isbn\":\" 9781787125186\",\"price\":123410,\"publisher\":\"\",\"sale_price\":123410,\"status\":\"정상판매\",\"thumbnail\":\"https://search1.kakaocdn.net/thumb/R120x174.q85/?fname=http%3A%2F%2Ft1.daumcdn.net%2Flbook%2Fimage%2F3921889%3Ftimestamp%3D20190227191249\",\"title\":\"Python\",\"translators\":[],\"url\":\"https://search.daum.net/search?w=bookpage\\u0026bookId=3921889\\u0026q=Python\"},{\"authors\":[\"Language Python\"],\"contents\":\"\",\"datetime\":\"2017-04-25T00:00:00.000+09:00\",\"isbn\":\" 9781521155486\",\"price\":29000,\"publisher\":\"\",\"sale_price\":24650,\"status\":\"정상판매\",\"thumbnail\":\"https://search1.kakaocdn.net/thumb/R120x174.q85/?fname=http%3A%2F%2Ft1.daumcdn.net%2Flbook%2Fimage%2F5573326\",\"title\":\"Python\",\"translators\":[],\"url\":\"https://search.daum.net/search?w=bookpage\\u0026bookId=5573326\\u0026q=Python\"},{\"authors\":[\"Eprogramming\"],\"contents\":\"\",\"datetime\":\"2016-07-04T00:00:00.000+09:00\",\"isbn\":\" 9781535092098\",\"price\":30480,\"publisher\":\"\",\"sale_price\":25910,\"status\":\"정상판매\",\"thumbnail\":\"\",\"title\":\"Python\",\"translators\":[],\"url\":\"https://search.daum.net/search?w=bookpage\\u0026bookId=5022683\\u0026q=Python\"},{\"authors\":[\"최용\"],\"contents\":\"『파이썬(Python) 3』은 쉽고 강력한 프로그래밍 언어인 파이썬에 대한 책이다. 파이썬의 기초, 시쿨리, 안드로이드 환경에서의 파이썬 스크립팅, 파이썬을 사용한 문자열 다루기, 다양한 파이썬 패키지의 소개와 다루는 법, 자이썬 등을 다룬다.\",\"datetime\":\"2014-02-12T00:00:00.000+09:00\",\"isbn\":\"1185578005 9791185578002\",\"price\":25000,\"publisher\":\"인피니티북스\",\"sale_price\":22500,\"status\":\"정상판매\",\"thumbnail\":\"https://search1.kakaocdn.net/thumb/R120x174.q85/?fname=http%3A%2F%2Ft1.daumcdn.net%2Flbook%2Fimage%2F1618094%3Ftimestamp%3D20220222202823\",\"title\":\"파이썬(Python) 3(예제 중심의)\",\"translators\":[],\"url\":\"https://search.daum.net/search?w=bookpage\\u0026bookId=1618094\\u0026q=%ED%8C%8C%EC%9D%B4%EC%8D%AC%28Python%29+3%28%EC%98%88%EC%A0%9C+%EC%A4%91%EC%8B%AC%EC%9D%98%29\"}],\"meta\":{\"is_end\":false,\"pageable_count\":1000,\"total_count\":2997}}\n"
          ]
        }
      ]
    },
    {
      "cell_type": "code",
      "source": [
        "import json"
      ],
      "metadata": {
        "id": "OZK08ecl-e6J"
      },
      "execution_count": 31,
      "outputs": []
    },
    {
      "cell_type": "code",
      "source": [
        "jres = json.loads(res)\n",
        "if jres == None:\n",
        "    print(\"json.loads 실패\")\n",
        "    exit(0)\n",
        "for post in jres['documents']:\n",
        "    print(\"제목:\", post['title'])\n",
        "    print(\"설명:\", post['contents'])\n",
        "    print(\"url:\", post['url'])\n",
        "    print(\"가격:\", post['price'])\n",
        "    print(\"---------------------------------------------------------------------------------------------------------------\")"
      ],
      "metadata": {
        "colab": {
          "base_uri": "https://localhost:8080/"
        },
        "id": "Xhcwxh-a-jM5",
        "outputId": "f0ff344e-9468-435d-c855-d6f45f8775b9"
      },
      "execution_count": 33,
      "outputs": [
        {
          "output_type": "stream",
          "name": "stdout",
          "text": [
            "제목: 파이썬(Python): 1학년\n",
            "설명: 만화처럼 빨려 들어가는 비주얼한 프로그래밍 입문서 1학년 시리즈! 염소 박사님, 다솜 양과 함께라면 인공지능 앱도 뚝딱!  누구에게나 가볍고 쉬운 파이썬 입문서!\n",
            "url: https://search.daum.net/search?w=bookpage&bookId=4836717&q=%ED%8C%8C%EC%9D%B4%EC%8D%AC%28Python%29%3A+1%ED%95%99%EB%85%84\n",
            "가격: 17000\n",
            "---------------------------------------------------------------------------------------------------------------\n",
            "제목: 초보자를 위한 파이썬(Python) 200제\n",
            "설명: 본서는 200개의 예제로 파이썬을 마스터할 수 있도록 구성되었다. 기초적인 개념에 대해 배우는 1파트 ‘Python 프로그래밍 첫발 내딛기’를 시작으로 5파트 ‘Python으로 간단한 프로그램 작성하기’까지 다양한 예제로 실무 능력을 키울 수 있다.\n",
            "url: https://search.daum.net/search?w=bookpage&bookId=741949&q=%EC%B4%88%EB%B3%B4%EC%9E%90%EB%A5%BC+%EC%9C%84%ED%95%9C+%ED%8C%8C%EC%9D%B4%EC%8D%AC%28Python%29+200%EC%A0%9C\n",
            "가격: 20000\n",
            "---------------------------------------------------------------------------------------------------------------\n",
            "제목: 파이썬(Python) 2학년 스크래핑의 구조\n",
            "설명: 파이썬은 인공지능의 기초 언어로 배우기 쉬우면서 각종 데이터 분석에 사용되는 프로그래밍 언어로 절정의 인기를 누리고 있다. 기존이 파이썬 책이 선뜻 입문하기 어려운 감이 있었다면 이 책은 염소 박사와 강아지 다솜 양의 친근한 일러스트를 도립해 책 전체가 쉬워보이며 실제로도 코드 설명이나 설치법, 버튼 안내가 큼직큼직한 주제의 만화와 대화체 방식으로 구성하여 매우 쉽게 느껴진다.  인터넷에 공개된 데이터를 수집하는 일을 ‘크롤링(Crawling)’, 이 데이터\n",
            "url: https://search.daum.net/search?w=bookpage&bookId=5886125&q=%ED%8C%8C%EC%9D%B4%EC%8D%AC%28Python%29+2%ED%95%99%EB%85%84+%EC%8A%A4%ED%81%AC%EB%9E%98%ED%95%91%EC%9D%98+%EA%B5%AC%EC%A1%B0\n",
            "가격: 17000\n",
            "---------------------------------------------------------------------------------------------------------------\n",
            "제목: Python\n",
            "설명: \n",
            "url: https://search.daum.net/search?w=bookpage&bookId=5658111&q=Python\n",
            "가격: 28970\n",
            "---------------------------------------------------------------------------------------------------------------\n",
            "제목: Python\n",
            "설명: \n",
            "url: https://search.daum.net/search?w=bookpage&bookId=5120921&q=Python\n",
            "가격: 72530\n",
            "---------------------------------------------------------------------------------------------------------------\n",
            "제목: Python\n",
            "설명: \n",
            "url: https://search.daum.net/search?w=bookpage&bookId=3639774&q=Python\n",
            "가격: 110230\n",
            "---------------------------------------------------------------------------------------------------------------\n",
            "제목: Python\n",
            "설명: \n",
            "url: https://search.daum.net/search?w=bookpage&bookId=3921889&q=Python\n",
            "가격: 123410\n",
            "---------------------------------------------------------------------------------------------------------------\n",
            "제목: Python\n",
            "설명: \n",
            "url: https://search.daum.net/search?w=bookpage&bookId=5573326&q=Python\n",
            "가격: 29000\n",
            "---------------------------------------------------------------------------------------------------------------\n",
            "제목: Python\n",
            "설명: \n",
            "url: https://search.daum.net/search?w=bookpage&bookId=5022683&q=Python\n",
            "가격: 30480\n",
            "---------------------------------------------------------------------------------------------------------------\n",
            "제목: 파이썬(Python) 3(예제 중심의)\n",
            "설명: 『파이썬(Python) 3』은 쉽고 강력한 프로그래밍 언어인 파이썬에 대한 책이다. 파이썬의 기초, 시쿨리, 안드로이드 환경에서의 파이썬 스크립팅, 파이썬을 사용한 문자열 다루기, 다양한 파이썬 패키지의 소개와 다루는 법, 자이썬 등을 다룬다.\n",
            "url: https://search.daum.net/search?w=bookpage&bookId=1618094&q=%ED%8C%8C%EC%9D%B4%EC%8D%AC%28Python%29+3%28%EC%98%88%EC%A0%9C+%EC%A4%91%EC%8B%AC%EC%9D%98%29\n",
            "가격: 25000\n",
            "---------------------------------------------------------------------------------------------------------------\n"
          ]
        }
      ]
    },
    {
      "cell_type": "markdown",
      "source": [
        "# Naver 도서 검색 API 사용하기"
      ],
      "metadata": {
        "id": "CIvvewCl-XD3"
      }
    },
    {
      "cell_type": "code",
      "source": [
        "import urllib.request\n",
        "url = 'https://openapi.naver.com/v1/search/book.xml'\n",
        "query_in = input(\"검색 질의:\")\n",
        "query_param = \"query=\" + urllib.parse.quote(query_in)  #utf-8로 인코딩\n",
        "query_str = url + '?' + query_param\n",
        "\n",
        "print(query_str)\n",
        "\n",
        "request = urllib.request.Request(query_str)  #서비스 요청에 사용할 개체를 생성\n",
        "request.add_header('X-Naver-Client-Id', 'RiilUVG9Ru7KhU3XGnRB')\n",
        "request.add_header('X-Naver-Client-Secret', 'b8AhXiwLQr')\n",
        "\n",
        "response = urllib.request.urlopen(request)\n",
        "res = response.read().decode('utf-8')\n",
        "print(res)"
      ],
      "metadata": {
        "colab": {
          "base_uri": "https://localhost:8080/"
        },
        "id": "E334T9WVFyy6",
        "outputId": "0a57cb27-51a0-4cdd-efab-6d8638067228"
      },
      "execution_count": 34,
      "outputs": [
        {
          "output_type": "stream",
          "name": "stdout",
          "text": [
            "검색 질의:python\n",
            "https://openapi.naver.com/v1/search/book.xml?query=python\n",
            "<?xml version=\"1.0\" encoding=\"UTF-8\"?><rss version=\"2.0\"><channel><title>Naver Open API - book ::'python'</title><link>https://search.naver.com</link><description>Naver Search Result</description><lastBuildDate>Wed, 23 Feb 2022 14:47:15 +0900</lastBuildDate><total>6923</total><start>1</start><display>10</display><item><title>CODING BASICS &lt;b&gt;PYTHON&lt;/b&gt; (파이썬)</title><link>http://book.naver.com/bookdb/book_detail.php?bid=21508274</link><image>https://bookthumb-phinf.pstatic.net/cover/215/082/21508274.jpg?type=m1&amp;udate=20220208</image><author>김상민|장성식|김일태</author><price>20000</price><discount>18000</discount><publisher>렉스미디어닷넷</publisher><pubdate>20220210</pubdate><isbn>8959604216 9788959604210</isbn><description>파이썬으로 다지는 프로그래밍의 기초ㆍ 다양한 예제를 활용하여 초보자도 쉽게 프로그래밍의 기본을 익힐 수 있는 파이썬 입문서입니다.ㆍ 문법을 사전식으로 나열하지 않고 기능적인 프로그램을 하나씩 완성하면서 익힐 수 있게 구성했습니다.ㆍ 단계별로 완성하는 장별 예제 및 연습문제를 바탕으로... </description></item><item><title>처음 만나는 AI 수학 with &lt;b&gt;Python&lt;/b&gt; (한 권으로 배우는 인공지능 수학 첫걸음)</title><link>http://book.naver.com/bookdb/book_detail.php?bid=17799511</link><image>https://bookthumb-phinf.pstatic.net/cover/177/995/17799511.jpg?type=m1&amp;udate=20210929</image><author>아즈마 유키나가</author><price>23000</price><discount>20700</discount><publisher>영진닷컴</publisher><pubdate>20210115</pubdate><isbn>8931463375 9788931463378</isbn><description>인공지능을 공부하는데 필요한 기초 수학개념을 한 권에 모았다!〈처음 만나는 AI 수학 WITH &lt;b&gt;PYTHON&lt;/b&gt;〉은 인공지능을 공부하는데 기본이 되는 수학 개념을 소개하는 도서로 독자가 수학을 잘 하도록 만드는 것이 아니라 필요한 개념을 이해하도록 돕는데 목적을 두고 있다.\n",
            "\n",
            "이 책에서는 AI의 기본이 되는 선형대수... </description></item><item><title>&lt;b&gt;Python&lt;/b&gt;을 이용한 개인화 추천 시스템</title><link>http://book.naver.com/bookdb/book_detail.php?bid=16628756</link><image>https://bookthumb-phinf.pstatic.net/cover/166/287/16628756.jpg?type=m1&amp;udate=20200901</image><author>임일</author><price>18000</price><discount>17640</discount><publisher>청람</publisher><pubdate>20200825</pubdate><isbn>8959727660 9788959727667</isbn><description>현재 추천 알고리즘으로 가장 널리 사용되는 협업 필터링(COLLABORATIVE FILTERING: CF),\n",
            "행렬 요인화(MATRIX FACTORIZATION: MF), 딥러닝(DEEP LEARNING: DL) 알고리즘의 작동원리와 &lt;b&gt;PYTHON&lt;/b&gt;을 사용한 개인화 추천 시스템 구축을 다루고 있다. \n",
            "추천 시스템의 기본적인 원리를 이해하는 데... </description></item><item><title>파이썬으로 배우는 게임 개발 (닷잇 액션, 탄막 슈팅, 맵 에티터,장애물 피하기,실전편)</title><link>http://book.naver.com/bookdb/book_detail.php?bid=17303064</link><image>https://bookthumb-phinf.pstatic.net/cover/173/030/17303064.jpg?type=m1&amp;udate=20211216</image><author>히로세 츠요시</author><price>30000</price><discount>27000</discount><publisher>제이펍</publisher><pubdate>20201120</pubdate><isbn>119066545X 9791190665452</isbn><description>『파이썬으로 배우는 게임 개발: 실전편』은 입문편보다 보다 수준 높은 게임 개발 테크닉을 배웁니다. 유사 3D와 3D CG 기술을 통해 생동감과 박진감이 넘치는 카 레이싱 게임을 만들어 봅니다. 각 장 끝에 삽입된 COLUMN을 통해 25년차 현직 게임 개발자인 저자가 게임 개발 프로세스와 노하우 등을... </description></item><item><title>&lt;b&gt;Python&lt;/b&gt; for Cybersecurity</title><link>http://book.naver.com/bookdb/book_detail.php?bid=21482520</link><image>https://bookthumb-phinf.pstatic.net/cover/214/825/21482520.jpg?type=m1&amp;udate=20220204</image><author>Howard E. Poston|III</author><price>22000</price><discount></discount><publisher>Wiley</publisher><pubdate>20220201</pubdate><isbn>1119850657 9781119850656</isbn><description>Discover an up-to-date and authoritative exploration of &lt;b&gt;Python&lt;/b&gt; cybersecurity strategies &lt;b&gt;Python&lt;/b&gt; For Cybersecurity: Using &lt;b&gt;Python&lt;/b&gt; for Cyber Offense and Defense delivers an intuitive and hands-on explanation of using &lt;b&gt;Python&lt;/b&gt; for cybersecurity. It relies on the MITRE ATT&amp;CK... </description></item><item><title>프로그래머를 위한 &lt;b&gt;Python&lt;/b&gt;</title><link>http://book.naver.com/bookdb/book_detail.php?bid=21379376</link><image>https://bookthumb-phinf.pstatic.net/cover/213/793/21379376.jpg?type=m1&amp;udate=20211225</image><author>폴 데이텔|하비 데이텔</author><price>38000</price><discount>34200</discount><publisher>성안당</publisher><pubdate>20211223</pubdate><isbn>8931556829 9788931556827</isbn><description>사의 ‘&lt;b&gt;PYTHON&lt;/b&gt; FOR PROGRAMMERS’가 오랜만에 번역판으로 나왔다. 특히 이 책은 “파이썬 하면 인공지능 언어”라는 기대를 저버리지 않을 만큼 최신... 타 고급 언어에 대한 배경 지식이 있는 프로그래머를 대상으로 하기도 하지만 실습 지침을 사용하여 파이썬(&lt;b&gt;PYTHON&lt;/b&gt;)을 첨단 컴퓨팅 기술과 프로그래밍을... </description></item><item><title>&lt;b&gt;Python&lt;/b&gt;으로 배우는 문제해결과 인공지능</title><link>http://book.naver.com/bookdb/book_detail.php?bid=18032625</link><image>https://bookthumb-phinf.pstatic.net/cover/180/326/18032625.jpg?type=m1&amp;udate=20210928</image><author>김현정|오경선</author><price>23000</price><discount>22540</discount><publisher>인피니티북스</publisher><pubdate>20210225</pubdate><isbn>1185578811 9791185578811</isbn><description>컴퓨팅 사고는 자신의 영역에 컴퓨터과학 원리와 개념을 활용하여 논리적으로 풀어낼 수 있는 방법을 통해 배양된다. 수년간 대학에서 강의를 해 온 우리는 시대적 요구를 반영하기 위해 SW교육모델과 교육내용을 연구하였다.그 결과 미래사회의 인재를 양성하기 위한 기존의 획일적인 SW기초교육을 탈피하여... </description></item><item><title>Introduction to Digital Music with &lt;b&gt;Python&lt;/b&gt; Programming: Learning Music with Code</title><link>http://book.naver.com/bookdb/book_detail.php?bid=21984389</link><image>https://bookthumb-phinf.pstatic.net/cover/219/843/21984389.jpg?type=m1&amp;udate=20220218</image><author>Horn, Michael|West, Melanie|Roberts, Cameron</author><price>64960</price><discount>58460</discount><publisher>FocalPress</publisher><pubdate>20220207</pubdate><isbn>0367470829 9780367470821</isbn><description></description></item><item><title>R과 &lt;b&gt;Python&lt;/b&gt;을 이용한 비모수통계학</title><link>http://book.naver.com/bookdb/book_detail.php?bid=21370882</link><image>https://bookthumb-phinf.pstatic.net/cover/213/708/21370882.jpg?type=m1&amp;udate=20211228</image><author>박상언</author><price>24000</price><discount>24000</discount><publisher>자유아카데미</publisher><pubdate>20220105</pubdate><isbn>1158083386 9791158083380</isbn><description>학부에서 15년간 비모수통계학을 강의하면서 정리한 내용을 책으로 출간하게 되었다. 기초통계학 수준의 내용을 숙지한 비전공자를 대상으로 교재의 난이도를 조절하다 보니, 내용상 수학적 유도보다는 코딩에 중점을 두게 되었으며, 가급적 기초통계학의 내용과 연결하여 설명하고자 하였다.책의 1장, 2장... </description></item><item><title>&lt;b&gt;python&lt;/b&gt;으로 배우는 OpenCv 프로그래밍</title><link>http://book.naver.com/bookdb/book_detail.php?bid=21368146</link><image>https://bookthumb-phinf.pstatic.net/cover/213/681/21368146.jpg?type=m1&amp;udate=20211218</image><author>김동근</author><price>28000</price><discount>25200</discount><publisher>가메</publisher><pubdate>20211215</pubdate><isbn>8980783108 9788980783106</isbn><description>2018년 출간되었던 “&lt;b&gt;PYTHON&lt;/b&gt;으로 배우는 OPENCV 프로그래밍”의 개정판으로 내용을 보완하여 - &lt;b&gt;PYTHON&lt;/b&gt; 3.10과 OPENCV 4.5 사용- NUMPY, MATPLOTLIB, PAFY, YOUTUBE_DL, PYGAMES. PYOPENGL - 영상 및 비디오 입출력과 녹화- 임계값, 히스토그램 처리, 영상 필터링, 분할- 특징 검출, 디스크립터... </description></item></channel></rss>\n"
          ]
        }
      ]
    },
    {
      "cell_type": "code",
      "source": [
        "from bs4 import BeautifulSoup\n",
        "xmlsoup = BeautifulSoup(res, 'html.parser')\n",
        "items = xmlsoup.find_all('item')\n",
        "for item in items:\n",
        "    print(\"제목:\", item.title.get_text())\n",
        "    print(\"설명:\", item.description.get_text())\n",
        "    print(\"가격:\", item.price.get_text())\n",
        "    print(\"---------------------------------------------------------------------------------------------------------------\")"
      ],
      "metadata": {
        "colab": {
          "base_uri": "https://localhost:8080/"
        },
        "id": "lwIBpH7lMaYz",
        "outputId": "9f561379-3000-4515-f986-858fda3862b2"
      },
      "execution_count": 36,
      "outputs": [
        {
          "output_type": "stream",
          "name": "stdout",
          "text": [
            "제목: CODING BASICS <b>PYTHON</b> (파이썬)\n",
            "설명: 파이썬으로 다지는 프로그래밍의 기초ㆍ 다양한 예제를 활용하여 초보자도 쉽게 프로그래밍의 기본을 익힐 수 있는 파이썬 입문서입니다.ㆍ 문법을 사전식으로 나열하지 않고 기능적인 프로그램을 하나씩 완성하면서 익힐 수 있게 구성했습니다.ㆍ 단계별로 완성하는 장별 예제 및 연습문제를 바탕으로... \n",
            "가격: 20000\n",
            "---------------------------------------------------------------------------------------------------------------\n",
            "제목: 처음 만나는 AI 수학 with <b>Python</b> (한 권으로 배우는 인공지능 수학 첫걸음)\n",
            "설명: 인공지능을 공부하는데 필요한 기초 수학개념을 한 권에 모았다!〈처음 만나는 AI 수학 WITH <b>PYTHON</b>〉은 인공지능을 공부하는데 기본이 되는 수학 개념을 소개하는 도서로 독자가 수학을 잘 하도록 만드는 것이 아니라 필요한 개념을 이해하도록 돕는데 목적을 두고 있다.\n",
            "\n",
            "이 책에서는 AI의 기본이 되는 선형대수... \n",
            "가격: 23000\n",
            "---------------------------------------------------------------------------------------------------------------\n",
            "제목: <b>Python</b>을 이용한 개인화 추천 시스템\n",
            "설명: 현재 추천 알고리즘으로 가장 널리 사용되는 협업 필터링(COLLABORATIVE FILTERING: CF),\n",
            "행렬 요인화(MATRIX FACTORIZATION: MF), 딥러닝(DEEP LEARNING: DL) 알고리즘의 작동원리와 <b>PYTHON</b>을 사용한 개인화 추천 시스템 구축을 다루고 있다. \n",
            "추천 시스템의 기본적인 원리를 이해하는 데... \n",
            "가격: 18000\n",
            "---------------------------------------------------------------------------------------------------------------\n",
            "제목: 파이썬으로 배우는 게임 개발 (닷잇 액션, 탄막 슈팅, 맵 에티터,장애물 피하기,실전편)\n",
            "설명: 『파이썬으로 배우는 게임 개발: 실전편』은 입문편보다 보다 수준 높은 게임 개발 테크닉을 배웁니다. 유사 3D와 3D CG 기술을 통해 생동감과 박진감이 넘치는 카 레이싱 게임을 만들어 봅니다. 각 장 끝에 삽입된 COLUMN을 통해 25년차 현직 게임 개발자인 저자가 게임 개발 프로세스와 노하우 등을... \n",
            "가격: 30000\n",
            "---------------------------------------------------------------------------------------------------------------\n",
            "제목: <b>Python</b> for Cybersecurity\n",
            "설명: Discover an up-to-date and authoritative exploration of <b>Python</b> cybersecurity strategies <b>Python</b> For Cybersecurity: Using <b>Python</b> for Cyber Offense and Defense delivers an intuitive and hands-on explanation of using <b>Python</b> for cybersecurity. It relies on the MITRE ATT&CK... \n",
            "가격: 22000\n",
            "---------------------------------------------------------------------------------------------------------------\n",
            "제목: 프로그래머를 위한 <b>Python</b>\n",
            "설명: 사의 ‘<b>PYTHON</b> FOR PROGRAMMERS’가 오랜만에 번역판으로 나왔다. 특히 이 책은 “파이썬 하면 인공지능 언어”라는 기대를 저버리지 않을 만큼 최신... 타 고급 언어에 대한 배경 지식이 있는 프로그래머를 대상으로 하기도 하지만 실습 지침을 사용하여 파이썬(<b>PYTHON</b>)을 첨단 컴퓨팅 기술과 프로그래밍을... \n",
            "가격: 38000\n",
            "---------------------------------------------------------------------------------------------------------------\n",
            "제목: <b>Python</b>으로 배우는 문제해결과 인공지능\n",
            "설명: 컴퓨팅 사고는 자신의 영역에 컴퓨터과학 원리와 개념을 활용하여 논리적으로 풀어낼 수 있는 방법을 통해 배양된다. 수년간 대학에서 강의를 해 온 우리는 시대적 요구를 반영하기 위해 SW교육모델과 교육내용을 연구하였다.그 결과 미래사회의 인재를 양성하기 위한 기존의 획일적인 SW기초교육을 탈피하여... \n",
            "가격: 23000\n",
            "---------------------------------------------------------------------------------------------------------------\n",
            "제목: Introduction to Digital Music with <b>Python</b> Programming: Learning Music with Code\n",
            "설명: \n",
            "가격: 64960\n",
            "---------------------------------------------------------------------------------------------------------------\n",
            "제목: R과 <b>Python</b>을 이용한 비모수통계학\n",
            "설명: 학부에서 15년간 비모수통계학을 강의하면서 정리한 내용을 책으로 출간하게 되었다. 기초통계학 수준의 내용을 숙지한 비전공자를 대상으로 교재의 난이도를 조절하다 보니, 내용상 수학적 유도보다는 코딩에 중점을 두게 되었으며, 가급적 기초통계학의 내용과 연결하여 설명하고자 하였다.책의 1장, 2장... \n",
            "가격: 24000\n",
            "---------------------------------------------------------------------------------------------------------------\n",
            "제목: <b>python</b>으로 배우는 OpenCv 프로그래밍\n",
            "설명: 2018년 출간되었던 “<b>PYTHON</b>으로 배우는 OPENCV 프로그래밍”의 개정판으로 내용을 보완하여 - <b>PYTHON</b> 3.10과 OPENCV 4.5 사용- NUMPY, MATPLOTLIB, PAFY, YOUTUBE_DL, PYGAMES. PYOPENGL - 영상 및 비디오 입출력과 녹화- 임계값, 히스토그램 처리, 영상 필터링, 분할- 특징 검출, 디스크립터... \n",
            "가격: 28000\n",
            "---------------------------------------------------------------------------------------------------------------\n"
          ]
        }
      ]
    },
    {
      "cell_type": "markdown",
      "source": [
        "# 연습"
      ],
      "metadata": {
        "id": "tdaufaqmUMZR"
      }
    },
    {
      "cell_type": "code",
      "source": [
        "import urllib.request\n",
        "\n",
        "url = 'http://apis.data.go.kr/B551182/telCnslHospService/getTelCnslHospList'\n",
        "serviceKey_param = \"serviceKey=4XC9ZlvdCSjcZHskPcgQNOvnyeMfcxgnYAJ%2BhRw8gB4XL1LupIngQE6tNSeyt75PIdWMGMidutpl%2FvTJVhR6lQ%3D%3D\"\n",
        "pageNo_param = \"pageNo=1\"\n",
        "numOfRows_param = \"numOfRows=10\"\n",
        "\n",
        "query_str = url + '?' + serviceKey_param + '&' + pageNo_param + '&' + numOfRows_param\n",
        "\n",
        "print(\"요청 url:\",query_str)\n",
        "print()\n",
        "\n",
        "#urllib.request.urlopen(query_str) #HTTP Error 401: Unauthorized 인증키를 가지고 있지 않으므로 권한이 없음\n",
        "request = urllib.request.Request(query_str) #서비스 요청에 상요할 개체를 생성\n",
        "response = urllib.request.urlopen(request)\n",
        "res = response.read().decode('utf-8')\n",
        "print(res) #JSON 방식으로 반환"
      ],
      "metadata": {
        "colab": {
          "base_uri": "https://localhost:8080/"
        },
        "id": "7k2xYBeKUObN",
        "outputId": "fbc28455-22c8-4b05-9775-37820092a436"
      },
      "execution_count": 38,
      "outputs": [
        {
          "output_type": "stream",
          "name": "stdout",
          "text": [
            "b'<OpenAPI_ServiceResponse>\\n\\t<cmmMsgHeader>\\n\\t\\t<errMsg>SERVICE ERROR</errMsg>\\n\\t\\t<returnAuthMsg>SERVICE_KEY_IS_NOT_REGISTERED_ERROR</returnAuthMsg>\\n\\t\\t<returnReasonCode>30</returnReasonCode>\\n\\t</cmmMsgHeader>\\n</OpenAPI_ServiceResponse>'\n"
          ]
        }
      ]
    },
    {
      "cell_type": "code",
      "source": [
        "import urllib.request\n",
        "\n",
        "url = 'http://openapi.data.go.kr/openapi/service/rest/Covid19/getCovid19InfStateJson'\n",
        "serviceKey_param = \"serviceKey=OEN4y7PVyCnRaxqq%2BAPIavKmsyIt1rjBNjrf16A918FS%2B3NZ1Qe8nXvUEQCKteA%2F7SoeojlhNDv%2BINInuEZINQ%3D%3D\"\n",
        "pageNo_param = \"pageNo=1\"\n",
        "numOfRows_param = \"numOfRows=10\"\n",
        "startCreateDt_param = \"startCreateDt=20200310\"\n",
        "endCreateDt_param = \"endCreateDt=20200315\"\n",
        "\n",
        "query_str = url + '?' + serviceKey_param + '&' + pageNo_param + '&' + numOfRows_param + '&' + startCreateDt_param + '&' + endCreateDt_param\n",
        "\n",
        "print(\"요청 url:\",query_str)\n",
        "print()\n",
        "\n",
        "request = urllib.request.Request(query_str)\n",
        "response = urllib.request.urlopen(request)\n",
        "res = response.read().decode('utf-8')\n",
        "print(res)\n",
        "\n",
        "#response = requests.get(url, params=params)\n",
        "#print(response.content)"
      ],
      "metadata": {
        "colab": {
          "base_uri": "https://localhost:8080/"
        },
        "id": "HXxxZ2GEZHTO",
        "outputId": "e07fe635-076e-44da-acba-e391aa0dacd3"
      },
      "execution_count": 2,
      "outputs": [
        {
          "output_type": "stream",
          "name": "stdout",
          "text": [
            "요청 url: http://openapi.data.go.kr/openapi/service/rest/Covid19/getCovid19InfStateJson?serviceKey=OEN4y7PVyCnRaxqq%2BAPIavKmsyIt1rjBNjrf16A918FS%2B3NZ1Qe8nXvUEQCKteA%2F7SoeojlhNDv%2BINInuEZINQ%3D%3D&pageNo=1&numOfRows=10&startCreateDt=20200310&endCreateDt=20200315\n",
            "\n",
            "<?xml version=\"1.0\" encoding=\"UTF-8\" standalone=\"yes\"?><response><header><resultCode>99</resultCode><resultMsg>SERVICE KEY IS NOT REGISTERED ERROR.</resultMsg></header></response>\n"
          ]
        }
      ]
    },
    {
      "cell_type": "code",
      "source": [
        "import urllib.request\n",
        "\n",
        "url = 'http://openapi.seoul.go.kr:8088/4c6a6b585179656a3130304d6c667261/xml/ksccPatternStation/1/5/'\n",
        "key_param = \"key=4c6a6b585179656a3130304d6c667261\"\n",
        "type_param = \"type=xml\"\n",
        "service_param = \"service=ksccPatternStation\"\n",
        "startIndex_param = \"startIndex=1\"\n",
        "endIndex_param = \"endIndex=10\"\n",
        "\n",
        "query_str = url + '?' + key_param + '&' + type_param + '&' + service_param + '&' + startIndex_param + '&' + endIndex_param\n",
        "\n",
        "print(\"요청 url:\",query_str)\n",
        "print()\n",
        "\n",
        "request = urllib.request.Request(query_str)\n",
        "response = urllib.request.urlopen(request)\n",
        "res = response.read().decode('utf-8')\n",
        "print(res)\n"
      ],
      "metadata": {
        "colab": {
          "base_uri": "https://localhost:8080/"
        },
        "id": "LTxUeoMQfmab",
        "outputId": "822c83a9-0f05-44a5-bb01-f8c3b835c0e8"
      },
      "execution_count": 8,
      "outputs": [
        {
          "output_type": "stream",
          "name": "stdout",
          "text": [
            "요청 url: http://openapi.seoul.go.kr:8088/4c6a6b585179656a3130304d6c667261/xml/ksccPatternStation/1/5/?key=4c6a6b585179656a3130304d6c667261&type=xml&service=ksccPatternStation&startIndex=1&endIndex=10\n",
            "\n",
            "<?xml version=\"1.0\" encoding=\"UTF-8\"?>\n",
            "<ksccPatternStation>\n",
            "<list_total_count>10100</list_total_count>\n",
            "<RESULT>\n",
            "<CODE>INFO-000</CODE>\n",
            "<MESSAGE>정상 처리되었습니다</MESSAGE>\n",
            "</RESULT>\n",
            "<row>\n",
            "<CRTR_DT>20220218</CRTR_DT>\n",
            "<PASNG_PTTRN>①[버스] → ②[지하철] → ③[경기버스] → ④[지하철] → ⑤[지하철]</PASNG_PTTRN>\n",
            "<TOT_PSGRCNT>1</TOT_PSGRCNT>\n",
            "<TOT_PSGRCNT_PEPL>1</TOT_PSGRCNT_PEPL>\n",
            "<TOT_PSGRCNT_CHILD/>\n",
            "<TOT_PSGRCNT_BYNGR/>\n",
            "<TOT_PSGRCNT_ODPSN/>\n",
            "<TOT_PSGRCNT_DABLPSN/>\n",
            "</row>\n",
            "<row>\n",
            "<CRTR_DT>20220218</CRTR_DT>\n",
            "<PASNG_PTTRN>①[버스] → ②[버스] → ③[지하철] → ④[버스]</PASNG_PTTRN>\n",
            "<TOT_PSGRCNT>2186</TOT_PSGRCNT>\n",
            "<TOT_PSGRCNT_PEPL>2091</TOT_PSGRCNT_PEPL>\n",
            "<TOT_PSGRCNT_CHILD>24</TOT_PSGRCNT_CHILD>\n",
            "<TOT_PSGRCNT_BYNGR>71</TOT_PSGRCNT_BYNGR>\n",
            "<TOT_PSGRCNT_ODPSN/>\n",
            "<TOT_PSGRCNT_DABLPSN/>\n",
            "</row>\n",
            "<row>\n",
            "<CRTR_DT>20220218</CRTR_DT>\n",
            "<PASNG_PTTRN>①[버스] → ②[경기버스] → ③[버스] → ④[버스]</PASNG_PTTRN>\n",
            "<TOT_PSGRCNT>265</TOT_PSGRCNT>\n",
            "<TOT_PSGRCNT_PEPL>233</TOT_PSGRCNT_PEPL>\n",
            "<TOT_PSGRCNT_CHILD>1</TOT_PSGRCNT_CHILD>\n",
            "<TOT_PSGRCNT_BYNGR>10</TOT_PSGRCNT_BYNGR>\n",
            "<TOT_PSGRCNT_ODPSN>13</TOT_PSGRCNT_ODPSN>\n",
            "<TOT_PSGRCNT_DABLPSN>8</TOT_PSGRCNT_DABLPSN>\n",
            "</row>\n",
            "<row>\n",
            "<CRTR_DT>20220218</CRTR_DT>\n",
            "<PASNG_PTTRN>①[버스] → ②[버스] → ③[지하철] → ④[지하철]</PASNG_PTTRN>\n",
            "<TOT_PSGRCNT>15</TOT_PSGRCNT>\n",
            "<TOT_PSGRCNT_PEPL>12</TOT_PSGRCNT_PEPL>\n",
            "<TOT_PSGRCNT_CHILD/>\n",
            "<TOT_PSGRCNT_BYNGR>3</TOT_PSGRCNT_BYNGR>\n",
            "<TOT_PSGRCNT_ODPSN/>\n",
            "<TOT_PSGRCNT_DABLPSN/>\n",
            "</row>\n",
            "<row>\n",
            "<CRTR_DT>20220218</CRTR_DT>\n",
            "<PASNG_PTTRN>①[버스] → ②[경기버스] → ③[경기버스] → ④[버스]</PASNG_PTTRN>\n",
            "<TOT_PSGRCNT>178</TOT_PSGRCNT>\n",
            "<TOT_PSGRCNT_PEPL>150</TOT_PSGRCNT_PEPL>\n",
            "<TOT_PSGRCNT_CHILD/>\n",
            "<TOT_PSGRCNT_BYNGR>4</TOT_PSGRCNT_BYNGR>\n",
            "<TOT_PSGRCNT_ODPSN>17</TOT_PSGRCNT_ODPSN>\n",
            "<TOT_PSGRCNT_DABLPSN>7</TOT_PSGRCNT_DABLPSN>\n",
            "</row>\n",
            "</ksccPatternStation>\n",
            "\n"
          ]
        }
      ]
    },
    {
      "cell_type": "code",
      "source": [
        "from bs4 import BeautifulSoup\n",
        "xmlsoup = BeautifulSoup(res, 'html.parser')\n",
        "items = xmlsoup.find_all('row')\n",
        "for item in items:\n",
        "  # print(item)\n",
        "    print(\"패턴:\", item.pasng_pttrn.get_text())\n",
        "    try:\n",
        "        cnum = item.tot_psgrcnt_child.get_integer()\n",
        "    except:\n",
        "        cnum=0\n",
        "    print(\"어린이:\", cnum)\n",
        "\n",
        "    try:\n",
        "        onum = item.tot_psgrcnt_odpsn.get_integer()\n",
        "    except:\n",
        "        onum=0\n",
        "    print(\"경로:\", onum)\n",
        "    print(\"---------------------------------------------------------------------------------------------------------------\")"
      ],
      "metadata": {
        "colab": {
          "base_uri": "https://localhost:8080/"
        },
        "id": "9r-TC53zhmOp",
        "outputId": "785ab79e-ddaa-444d-9db1-66122bf3d7fa"
      },
      "execution_count": 24,
      "outputs": [
        {
          "output_type": "stream",
          "name": "stdout",
          "text": [
            "패턴: ①[버스] → ②[지하철] → ③[경기버스] → ④[지하철] → ⑤[지하철]\n",
            "어린이: 0\n",
            "경로: 0\n",
            "---------------------------------------------------------------------------------------------------------------\n",
            "패턴: ①[버스] → ②[버스] → ③[지하철] → ④[버스]\n",
            "어린이: 0\n",
            "경로: 0\n",
            "---------------------------------------------------------------------------------------------------------------\n",
            "패턴: ①[버스] → ②[경기버스] → ③[버스] → ④[버스]\n",
            "어린이: 0\n",
            "경로: 0\n",
            "---------------------------------------------------------------------------------------------------------------\n",
            "패턴: ①[버스] → ②[버스] → ③[지하철] → ④[지하철]\n",
            "어린이: 0\n",
            "경로: 0\n",
            "---------------------------------------------------------------------------------------------------------------\n",
            "패턴: ①[버스] → ②[경기버스] → ③[경기버스] → ④[버스]\n",
            "어린이: 0\n",
            "경로: 0\n",
            "---------------------------------------------------------------------------------------------------------------\n"
          ]
        }
      ]
    }
  ]
}