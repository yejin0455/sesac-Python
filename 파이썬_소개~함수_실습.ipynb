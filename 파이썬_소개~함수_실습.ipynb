{
  "nbformat": 4,
  "nbformat_minor": 0,
  "metadata": {
    "colab": {
      "name": "파이썬-소개~함수 실습.ipynb",
      "provenance": [],
      "collapsed_sections": [],
      "mount_file_id": "115RA4KAgKnjtGVrcjRVDEmtzMjGvjxk6",
      "authorship_tag": "ABX9TyP9sfjbZKT8VxZOPSReAT9f",
      "include_colab_link": true
    },
    "kernelspec": {
      "name": "python3",
      "display_name": "Python 3"
    },
    "language_info": {
      "name": "python"
    }
  },
  "cells": [
    {
      "cell_type": "markdown",
      "metadata": {
        "id": "view-in-github",
        "colab_type": "text"
      },
      "source": [
        "<a href=\"https://colab.research.google.com/github/yejin0455/sesac-python/blob/main/%ED%8C%8C%EC%9D%B4%EC%8D%AC_%EC%86%8C%EA%B0%9C~%ED%95%A8%EC%88%98_%EC%8B%A4%EC%8A%B5.ipynb\" target=\"_parent\"><img src=\"https://colab.research.google.com/assets/colab-badge.svg\" alt=\"Open In Colab\"/></a>"
      ]
    },
    {
      "cell_type": "markdown",
      "source": [
        "회원 관리 프로그램을 작성하시오\n",
        "\n",
        "프로그램은 메뉴 선택에 의해 동작하는 콘솔 응용입니다\n",
        "\n",
        "1: 회원 데이터 추가\n",
        "\n",
        "    회원 아이디를 입력받는다\n",
        "\n",
        "    이미 존재하면 기능 종료\n",
        "\n",
        "    이름, 이메일, 나이, 키를 입력받는다\n",
        "\n",
        "2: 회원 데이터 삭제\n",
        "\n",
        "    회원 아이디를 입력받는다\n",
        "\n",
        "    아이디가 존재하지 않으면 없다고 출력하고 기능 종료\n",
        "\n",
        "    존재하면 삭제하고 삭제하였다고 출력\n",
        "\n",
        "3: 회원 데이터 검색\n",
        "\n",
        "    회원 아이디를 입력받는다\n",
        "\n",
        "    아이디가 존재하지 않으면 없다고 출력하고 기능 종료\n",
        "\n",
        "    존재하면 회원 정보 출력\n",
        "\n",
        "4: 전체 회원 데이터 정보 출력\n",
        "\n",
        "    아이디 순으로 전체 회원 정보 출력\n",
        "\n",
        "0: 프로그램 종료\n",
        "\n",
        "    프로그램 종료 시 회원정보를 members.csv 파일로 기록\n",
        "\n",
        "    프로그램 시작 시 member.csv 파일에 정보를 로딩"
      ],
      "metadata": {
        "id": "q5WvRT7EJdW-"
      }
    },
    {
      "cell_type": "code",
      "source": [
        "members={}\n",
        "def load(fname):\n",
        "  try:\n",
        "    fs = open(fname,'r')\n",
        "  except:\n",
        "    print(\"처음 사용하신군요. Welcome~\")\n",
        "    return\n",
        "  all = fs.read()\n",
        "  fs.close()\n",
        "  k_datas=all.split('\\n')\n",
        "  for i in range(1,len(k_datas)):\n",
        "    k_data = k_datas[i]\n",
        "    kds = k_data.split(',')\n",
        "    if(len(kds)!=5):\n",
        "      break\n",
        "    data=[]    \n",
        "    for i in range(1,5):      \n",
        "      data.append(kds[i])\n",
        "    members[kds[0]] = data"
      ],
      "metadata": {
        "id": "KWclNjHfKuR7"
      },
      "execution_count": 14,
      "outputs": []
    },
    {
      "cell_type": "code",
      "source": [
        "def save(fname):\n",
        "  fs = open(fname,'w')\n",
        "  fs.write(\"아이디,이름,이메일,나이,키\\n\")\n",
        "  for _, (id,data) in enumerate(members.items()):\n",
        "    fs.write(f\"{id},{data[0]},{data[1]},{data[2]},{data[3]}\\n\")\n",
        "  fs.close()"
      ],
      "metadata": {
        "id": "0NydJU0KLr5R"
      },
      "execution_count": 15,
      "outputs": []
    },
    {
      "cell_type": "code",
      "source": [
        "def add_member():  \n",
        "  id = input(\"추가할 회원 아이디:\")#회원 아이디를 입력받는다.\n",
        "  if id in members:#이미 존재하면\n",
        "    print(\"이미 존재하는 아이디입니다.\")\n",
        "    return #기능 종료\n",
        "  data=[]\n",
        "  data.append(input(\"이름:\"))\n",
        "  data.append(input(\"이메일:\"))\n",
        "  try:\n",
        "    data.append(int(input(\"나이:\")))\n",
        "  except:\n",
        "    print(\"잘못 입력하여 나이를 0으로 설정합니다.\")\n",
        "    data.append(0)\n",
        "  try:\n",
        "    data.append(float(input(\"키:\")))    \n",
        "  except:\n",
        "    print(\"잘못 입력하여 키를 0으로 설정합니다.\")\n",
        "    data.append(0)\n",
        "  members[id] = data"
      ],
      "metadata": {
        "id": "CANIG1_ULsOD"
      },
      "execution_count": 16,
      "outputs": []
    },
    {
      "cell_type": "code",
      "source": [
        "def remove_member():\n",
        "  id = input(\"삭제할 회원 아이디:\")#회원 아이디를 입력받는다.\n",
        "  if id not in members:#존재하지 않으면\n",
        "    print(\"존재하지 않는 아이디입니다.\")\n",
        "    return #기능 종료\n",
        "  del members[id]\n",
        "  print(\"삭제하였습니다.!!!\")"
      ],
      "metadata": {
        "id": "FcVaPz-qLsfj"
      },
      "execution_count": 17,
      "outputs": []
    },
    {
      "cell_type": "code",
      "source": [
        "def find_member():\n",
        "  id = input(\"검색할 회원 아이디:\")#회원 아이디를 입력받는다.\n",
        "  if id not in members:#존재하지 않으면\n",
        "    print(\"존재하지 않는 아이디입니다.\")\n",
        "    return #기능 종료\n",
        "  print(members[id])"
      ],
      "metadata": {
        "id": "ZaEzg4XeLs6N"
      },
      "execution_count": 18,
      "outputs": []
    },
    {
      "cell_type": "code",
      "source": [
        "def view_members():\n",
        "  print(members)"
      ],
      "metadata": {
        "id": "ixGJEb2fL4xl"
      },
      "execution_count": 19,
      "outputs": []
    },
    {
      "cell_type": "code",
      "source": [
        "def select_menu():    \n",
        "  print(\"회원 관리 프로그램...\")\n",
        "  print(\"1: 회원 데이터 추가\")\n",
        "  print(\"2: 회원 데이터 삭제\")\n",
        "  print(\"3: 회원 데이터 검색\")\n",
        "  print(\"4: 전체 회원 데이터 보기\")\n",
        "  print(\"0: 프로그램 종료\")\n",
        "  try:\n",
        "    key = int(input(\"선택:\"))\n",
        "  except:\n",
        "    key = 5\n",
        "  return key"
      ],
      "metadata": {
        "id": "uQJd6Dk_MaHh"
      },
      "execution_count": 20,
      "outputs": []
    },
    {
      "cell_type": "code",
      "source": [
        "fname = '/content/drive/MyDrive/Python/members.csv'\n",
        "load(fname)\n",
        "while True:\n",
        "    key = select_menu()\n",
        "    if key == 0:\n",
        "        print(\"프로그램을 종료합니다.\")\n",
        "        break\n",
        "    if key == 1:\n",
        "        add_member()\n",
        "    elif key == 2:\n",
        "        remove_member()\n",
        "    elif key == 3:\n",
        "        find_member()\n",
        "    elif key == 4:\n",
        "        view_members()\n",
        "    else:\n",
        "        print(\"잘못 입력하였습니다.\")\n",
        "save(fname)"
      ],
      "metadata": {
        "colab": {
          "base_uri": "https://localhost:8080/"
        },
        "id": "eKWGfWV2L-d6",
        "outputId": "794ef1d8-dcfe-4f02-d12a-28c62a5ca57d"
      },
      "execution_count": 22,
      "outputs": [
        {
          "output_type": "stream",
          "name": "stdout",
          "text": [
            "회원 관리 프로그램...\n",
            "1: 회원 데이터 추가\n",
            "2: 회원 데이터 삭제\n",
            "3: 회원 데이터 검색\n",
            "4: 전체 회원 데이터 보기\n",
            "0: 프로그램 종료\n",
            "선택:1\n",
            "추가할 회원 아이디:yejin\n",
            "이름:최예진\n",
            "이메일:yejin@gmail\n",
            "나이:24\n",
            "키:158\n",
            "회원 관리 프로그램...\n",
            "1: 회원 데이터 추가\n",
            "2: 회원 데이터 삭제\n",
            "3: 회원 데이터 검색\n",
            "4: 전체 회원 데이터 보기\n",
            "0: 프로그램 종료\n",
            "선택:3\n",
            "검색할 회원 아이디:yejin\n",
            "['최예진', 'yejin@gmail', 24, 158.0]\n",
            "회원 관리 프로그램...\n",
            "1: 회원 데이터 추가\n",
            "2: 회원 데이터 삭제\n",
            "3: 회원 데이터 검색\n",
            "4: 전체 회원 데이터 보기\n",
            "0: 프로그램 종료\n",
            "선택:0\n",
            "프로그램을 종료합니다.\n"
          ]
        }
      ]
    }
  ]
}