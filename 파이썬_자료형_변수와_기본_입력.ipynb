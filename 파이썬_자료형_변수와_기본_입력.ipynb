{
  "nbformat": 4,
  "nbformat_minor": 0,
  "metadata": {
    "colab": {
      "name": "파이썬-자료형-변수와 기본 입력.ipynb",
      "provenance": [],
      "collapsed_sections": [],
      "authorship_tag": "ABX9TyMAqj3t9yBfkTJG9gJ9Txva",
      "include_colab_link": true
    },
    "kernelspec": {
      "name": "python3",
      "display_name": "Python 3"
    },
    "language_info": {
      "name": "python"
    }
  },
  "cells": [
    {
      "cell_type": "markdown",
      "metadata": {
        "id": "view-in-github",
        "colab_type": "text"
      },
      "source": [
        "<a href=\"https://colab.research.google.com/github/yejin0455/sesac-python/blob/main/%ED%8C%8C%EC%9D%B4%EC%8D%AC_%EC%9E%90%EB%A3%8C%ED%98%95_%EB%B3%80%EC%88%98%EC%99%80_%EA%B8%B0%EB%B3%B8_%EC%9E%85%EB%A0%A5.ipynb\" target=\"_parent\"><img src=\"https://colab.research.google.com/assets/colab-badge.svg\" alt=\"Open In Colab\"/></a>"
      ]
    },
    {
      "cell_type": "markdown",
      "source": [
        "# 변수"
      ],
      "metadata": {
        "id": "5jiGtLYxkgGk"
      }
    },
    {
      "cell_type": "code",
      "source": [
        "korea = 90\n",
        "math = 85\n",
        "sum = korea + math\n",
        "print(\"국어:\", korea, \"수학:\", math, \"합계:\", sum)"
      ],
      "metadata": {
        "colab": {
          "base_uri": "https://localhost:8080/"
        },
        "id": "GxtjocV8kiUZ",
        "outputId": "91427989-56c9-4fec-8b33-df7d58ca8261"
      },
      "execution_count": 1,
      "outputs": [
        {
          "output_type": "stream",
          "name": "stdout",
          "text": [
            "국어: 90 수학: 85 합계: 175\n"
          ]
        }
      ]
    },
    {
      "cell_type": "markdown",
      "source": [
        "# 기본 입력 input"
      ],
      "metadata": {
        "id": "kuDyPfVulTMp"
      }
    },
    {
      "cell_type": "code",
      "source": [
        "korea = input(\"국어 점수:\")\n",
        "math = input(\"영어 점수:\")\n",
        "print(\"국어:\", korea, \"수학:\", math, \"합계:\", korea+math)"
      ],
      "metadata": {
        "colab": {
          "base_uri": "https://localhost:8080/"
        },
        "id": "yhJlInI-lWCf",
        "outputId": "71b64578-6ba5-47e7-a1bc-c0eed8ebfc4e"
      },
      "execution_count": 2,
      "outputs": [
        {
          "output_type": "stream",
          "name": "stdout",
          "text": [
            "국어 점수:50\n",
            "영어 점수:50\n",
            "국어: 50 수학: 50 합계: 5050\n"
          ]
        }
      ]
    },
    {
      "cell_type": "code",
      "source": [
        "print(type(korea), type(math))"
      ],
      "metadata": {
        "colab": {
          "base_uri": "https://localhost:8080/"
        },
        "id": "-0CxwarlmBWm",
        "outputId": "ecd1108b-8259-4dbd-a15e-46de6894c892"
      },
      "execution_count": 3,
      "outputs": [
        {
          "output_type": "stream",
          "name": "stdout",
          "text": [
            "<class 'str'> <class 'str'>\n"
          ]
        }
      ]
    },
    {
      "cell_type": "code",
      "source": [
        "korea = int(korea)\n",
        "math = int(math)\n",
        "print(\"국어:\", korea, \"수학:\", math, \"합계:\", korea+math)"
      ],
      "metadata": {
        "colab": {
          "base_uri": "https://localhost:8080/"
        },
        "id": "lRa5B5jLmGjg",
        "outputId": "26e70a67-050d-4369-cb45-59aa74bb2562"
      },
      "execution_count": 4,
      "outputs": [
        {
          "output_type": "stream",
          "name": "stdout",
          "text": [
            "국어: 50 수학: 50 합계: 100\n"
          ]
        }
      ]
    },
    {
      "cell_type": "code",
      "source": [
        "korea = int(input(\"국어 점수:\"))\n",
        "math = int(input(\"수학 점수:\"))\n",
        "print(\"국어:\", korea, \"수학:\", math, \"합계:\", korea+math)"
      ],
      "metadata": {
        "colab": {
          "base_uri": "https://localhost:8080/"
        },
        "id": "yxMWCZeDmRFb",
        "outputId": "5e0bbcf4-5f0b-473c-9e78-cfa37f449cf2"
      },
      "execution_count": 5,
      "outputs": [
        {
          "output_type": "stream",
          "name": "stdout",
          "text": [
            "국어 점수:50\n",
            "수학 점수:50\n",
            "국어: 50 수학: 50 합계: 100\n"
          ]
        }
      ]
    },
    {
      "cell_type": "code",
      "source": [
        "fstr1 = \"12.34\"\n",
        "fstr2 = \"3.14\"\n",
        "f1 = float(fstr1)\n",
        "f2 = float(fstr2)\n",
        "print(\"f1:\", f1, \"f2:\", f2, \"f1*f2=\", f1*f2)"
      ],
      "metadata": {
        "colab": {
          "base_uri": "https://localhost:8080/"
        },
        "id": "zdxD1Eram3UH",
        "outputId": "ca50850d-e94c-480b-d233-b2b6f0ba3417"
      },
      "execution_count": 6,
      "outputs": [
        {
          "output_type": "stream",
          "name": "stdout",
          "text": [
            "f1: 12.34 f2: 3.14 f1*f2= 38.7476\n"
          ]
        }
      ]
    },
    {
      "cell_type": "code",
      "source": [
        "k_str = str(korea)\n",
        "print(\"k_str:\", k_str, \"type:\", type(k_str))"
      ],
      "metadata": {
        "colab": {
          "base_uri": "https://localhost:8080/"
        },
        "id": "H15KTDNsnMLZ",
        "outputId": "af32bb13-8c49-48f4-d69a-e6f44feaaf69"
      },
      "execution_count": 7,
      "outputs": [
        {
          "output_type": "stream",
          "name": "stdout",
          "text": [
            "k_str: 50 type: <class 'str'>\n"
          ]
        }
      ]
    }
  ]
}