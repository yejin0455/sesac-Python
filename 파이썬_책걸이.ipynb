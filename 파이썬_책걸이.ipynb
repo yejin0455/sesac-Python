{
  "nbformat": 4,
  "nbformat_minor": 0,
  "metadata": {
    "colab": {
      "name": "파이썬-책걸이.ipynb",
      "provenance": [],
      "collapsed_sections": [],
      "mount_file_id": "1RTM1CeBdVeoFtj-PTVJX7POcFra7OY41",
      "authorship_tag": "ABX9TyMPUYvdssGvO3NPK9imnXlP",
      "include_colab_link": true
    },
    "kernelspec": {
      "name": "python3",
      "display_name": "Python 3"
    },
    "language_info": {
      "name": "python"
    }
  },
  "cells": [
    {
      "cell_type": "markdown",
      "metadata": {
        "id": "view-in-github",
        "colab_type": "text"
      },
      "source": [
        "<a href=\"https://colab.research.google.com/github/yejin0455/sesac-python/blob/main/%ED%8C%8C%EC%9D%B4%EC%8D%AC_%EC%B1%85%EA%B1%B8%EC%9D%B4.ipynb\" target=\"_parent\"><img src=\"https://colab.research.google.com/assets/colab-badge.svg\" alt=\"Open In Colab\"/></a>"
      ]
    },
    {
      "cell_type": "code",
      "execution_count": 16,
      "metadata": {
        "colab": {
          "base_uri": "https://localhost:8080/",
          "height": 72
        },
        "id": "UoGJ9JdDtFQy",
        "outputId": "69db9738-cd48-475b-ce37-5e3ac164e7c6"
      },
      "outputs": [
        {
          "output_type": "execute_result",
          "data": {
            "application/vnd.google.colaboratory.intrinsic+json": {
              "type": "string"
            },
            "text/plain": [
              "'http://api.odcloud.kr/api/15098910/v1/uddi:a5ff8a87-db3e-4317-bc95-9283aa1dd4a2?page=1&perPage=10&returnType=JSON&serviceKey=OEN4y7PVyCnRaxqq%2BAPIavKmsyIt1rjBNjrf16A918FS%2B3NZ1Qe8nXvUEQCKteA%2F7SoeojlhNDv%2BINInuEZINQ%3D%3D'"
            ]
          },
          "metadata": {},
          "execution_count": 16
        }
      ],
      "source": [
        "url = 'http://api.odcloud.kr/api/15098910/v1/uddi:a5ff8a87-db3e-4317-bc95-9283aa1dd4a2'\n",
        "page_param = \"page=1\"\n",
        "size_param = \"perPage=10\"\n",
        "rt_param = \"returnType=JSON\"  # or XML\n",
        "auth_param = \"serviceKey=OEN4y7PVyCnRaxqq%2BAPIavKmsyIt1rjBNjrf16A918FS%2B3NZ1Qe8nXvUEQCKteA%2F7SoeojlhNDv%2BINInuEZINQ%3D%3D\"\n",
        "query_str = url + \"?\" + page_param + \"&\" + size_param + \"&\" + rt_param + \"&\" + auth_param\n",
        "query_str"
      ]
    },
    {
      "cell_type": "code",
      "source": [
        "import urllib.request"
      ],
      "metadata": {
        "id": "a0rh5qC1w5md"
      },
      "execution_count": 13,
      "outputs": []
    },
    {
      "cell_type": "code",
      "source": [
        "req = urllib.request.Request(query_str)\n",
        "res = urllib.request.urlopen(req)\n",
        "data = res.read().decode('utf-8')\n",
        "print(data)"
      ],
      "metadata": {
        "colab": {
          "base_uri": "https://localhost:8080/"
        },
        "id": "WiMgab0pxIjK",
        "outputId": "d2f75818-345c-4268-bcc1-a450cbc19153"
      },
      "execution_count": 17,
      "outputs": [
        {
          "output_type": "stream",
          "name": "stdout",
          "text": [
            "{\"currentCount\":10,\"data\":[{\"구분\":\"2020-01-31\",\"사망자\":0,\"확진자\":0},{\"구분\":\"2020-02-29\",\"사망자\":0,\"확진자\":1},{\"구분\":\"2020-03-31\",\"사망자\":0,\"확진자\":45},{\"구분\":\"2020-04-30\",\"사망자\":0,\"확진자\":0},{\"구분\":\"2020-05-31\",\"사망자\":0,\"확진자\":1},{\"구분\":\"2020-06-30\",\"사망자\":0,\"확진자\":3},{\"구분\":\"2020-07-31\",\"사망자\":0,\"확진자\":0},{\"구분\":\"2020-08-31\",\"사망자\":0,\"확진자\":17},{\"구분\":\"2020-09-30\",\"사망자\":0,\"확진자\":9},{\"구분\":\"2020-10-31\",\"사망자\":0,\"확진자\":6}],\"matchCount\":24,\"page\":1,\"perPage\":10,\"totalCount\":24}\n",
            "\n"
          ]
        }
      ]
    },
    {
      "cell_type": "code",
      "source": [
        "import sys\n",
        "sys.path.append('/content/drive/MyDrive/module/')"
      ],
      "metadata": {
        "id": "A-UXccZ2NkVB"
      },
      "execution_count": 30,
      "outputs": []
    },
    {
      "cell_type": "code",
      "source": [
        "from coviddata import CovidData"
      ],
      "metadata": {
        "id": "bcaXgLO_NYi0"
      },
      "execution_count": 29,
      "outputs": []
    },
    {
      "cell_type": "code",
      "source": [
        "import json\n",
        "jres = json.loads(data)\n",
        "cdata = jres['data']\n",
        "cds = []\n",
        "for raw_cd in cdata:\n",
        "    cds.append(CovidData.make_covid_data(raw_cd))\n",
        "for cd in cds:\n",
        "    print(f\"일자:{cd.dt}, 사망자:{cd.dcnt}, 확진자:{cd.ccnt}\")"
      ],
      "metadata": {
        "colab": {
          "base_uri": "https://localhost:8080/"
        },
        "id": "NNGh4sgQJgw1",
        "outputId": "03f13dbf-31bf-4781-ccf8-c32c6211b0d4"
      },
      "execution_count": 27,
      "outputs": [
        {
          "output_type": "stream",
          "name": "stdout",
          "text": [
            "일자:2020-01-31 00:00:00, 사망자:0, 확진자:0\n",
            "일자:2020-02-29 00:00:00, 사망자:0, 확진자:1\n",
            "일자:2020-03-31 00:00:00, 사망자:0, 확진자:45\n",
            "일자:2020-04-30 00:00:00, 사망자:0, 확진자:0\n",
            "일자:2020-05-31 00:00:00, 사망자:0, 확진자:1\n",
            "일자:2020-06-30 00:00:00, 사망자:0, 확진자:3\n",
            "일자:2020-07-31 00:00:00, 사망자:0, 확진자:0\n",
            "일자:2020-08-31 00:00:00, 사망자:0, 확진자:17\n",
            "일자:2020-09-30 00:00:00, 사망자:0, 확진자:9\n",
            "일자:2020-10-31 00:00:00, 사망자:0, 확진자:6\n"
          ]
        }
      ]
    }
  ]
}