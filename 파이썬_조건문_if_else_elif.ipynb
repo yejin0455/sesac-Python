{
  "nbformat": 4,
  "nbformat_minor": 0,
  "metadata": {
    "colab": {
      "name": "파이썬-조건문-if else elif.ipynb",
      "provenance": [],
      "collapsed_sections": [],
      "authorship_tag": "ABX9TyMIrTNz5PHoP0tr80RaetEk",
      "include_colab_link": true
    },
    "kernelspec": {
      "name": "python3",
      "display_name": "Python 3"
    },
    "language_info": {
      "name": "python"
    }
  },
  "cells": [
    {
      "cell_type": "markdown",
      "metadata": {
        "id": "view-in-github",
        "colab_type": "text"
      },
      "source": [
        "<a href=\"https://colab.research.google.com/github/yejin0455/sesac-python/blob/main/%ED%8C%8C%EC%9D%B4%EC%8D%AC_%EC%A1%B0%EA%B1%B4%EB%AC%B8_if_else_elif.ipynb\" target=\"_parent\"><img src=\"https://colab.research.google.com/assets/colab-badge.svg\" alt=\"Open In Colab\"/></a>"
      ]
    },
    {
      "cell_type": "markdown",
      "source": [
        "# if else\n",
        "\n",
        "if 조건:\n",
        "\n",
        "...조건이 참일 때 수행할 구문\n",
        "\n",
        "else:\n",
        "\n",
        "...조건이 거짓일 때 수행할 구문"
      ],
      "metadata": {
        "id": "ykSNgxvhsw0J"
      }
    },
    {
      "cell_type": "code",
      "execution_count": null,
      "metadata": {
        "colab": {
          "base_uri": "https://localhost:8080/"
        },
        "id": "dPDT3Ieep-AJ",
        "outputId": "47e6ef6e-62f3-44d5-e351-afa7c85a9278"
      },
      "outputs": [
        {
          "output_type": "stream",
          "name": "stdout",
          "text": [
            "정수:44\n",
            "짝수\n",
            "...\n"
          ]
        }
      ],
      "source": [
        "num = int(input(\"정수:\"))\n",
        "if num % 2 == 0:\n",
        "    print(\"짝수\")\n",
        "else:\n",
        "    print(\"홀수\")\n",
        "print(\"...\")"
      ]
    },
    {
      "cell_type": "markdown",
      "source": [
        "# if elif else\n",
        "\n",
        "\n",
        "if 조건1:\n",
        "\n",
        "...조건1이 참일 때 수행할 구문\n",
        "\n",
        "elif 조건2:\n",
        "\n",
        "...조건2가 참일 때 수행할 구문\n",
        "\n",
        "else:\n",
        "\n",
        "...모든 조건이 거짓일 때 수행할 구문"
      ],
      "metadata": {
        "id": "EV-PNeg2tSan"
      }
    },
    {
      "cell_type": "code",
      "source": [
        "score = int(input(\"국어점수:\"))\n",
        "if score >= 90:\n",
        "    print(\"A\")\n",
        "elif score>=80:\n",
        "    print(\"B\")\n",
        "elif score>=70:\n",
        "    print(\"C\")\n",
        "elif score>=60:\n",
        "    print(\"D\")\n",
        "else:\n",
        "    print(\"F\")\n",
        "print(\"...\")"
      ],
      "metadata": {
        "colab": {
          "base_uri": "https://localhost:8080/"
        },
        "id": "f5YYSf8NtWU5",
        "outputId": "83749624-e324-4569-804e-60df36e2aeea"
      },
      "execution_count": null,
      "outputs": [
        {
          "output_type": "stream",
          "name": "stdout",
          "text": [
            "국어점수:86\n",
            "B\n",
            "...\n"
          ]
        }
      ]
    }
  ]
}