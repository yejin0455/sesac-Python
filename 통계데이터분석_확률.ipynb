{
  "nbformat": 4,
  "nbformat_minor": 0,
  "metadata": {
    "colab": {
      "name": "통계데이터분석-확률.ipynb",
      "provenance": [],
      "collapsed_sections": [],
      "authorship_tag": "ABX9TyM1LZNwHcpEpks8FlAnwzBg",
      "include_colab_link": true
    },
    "kernelspec": {
      "name": "python3",
      "display_name": "Python 3"
    },
    "language_info": {
      "name": "python"
    }
  },
  "cells": [
    {
      "cell_type": "markdown",
      "metadata": {
        "id": "view-in-github",
        "colab_type": "text"
      },
      "source": [
        "<a href=\"https://colab.research.google.com/github/yejin0455/sesac-python/blob/main/%ED%86%B5%EA%B3%84%EB%8D%B0%EC%9D%B4%ED%84%B0%EB%B6%84%EC%84%9D_%ED%99%95%EB%A5%A0.ipynb\" target=\"_parent\"><img src=\"https://colab.research.google.com/assets/colab-badge.svg\" alt=\"Open In Colab\"/></a>"
      ]
    },
    {
      "cell_type": "code",
      "execution_count": 1,
      "metadata": {
        "id": "ydpgxwHU1W39"
      },
      "outputs": [],
      "source": [
        "import enum, random\n",
        "class Coin(enum.Enum):\n",
        "    FRONT = 0\n",
        "    BACK = 1\n",
        "    def random_coin():\n",
        "        return random.choice([Coin.FRONT, Coin.BACK])"
      ]
    },
    {
      "cell_type": "code",
      "source": [
        "for _ in range(20):\n",
        "    if Coin.random_coin() == Coin.FRONT:\n",
        "        print(\".\", end=' ')\n",
        "    else:\n",
        "        print(\"1\", end=' ')"
      ],
      "metadata": {
        "colab": {
          "base_uri": "https://localhost:8080/"
        },
        "id": "7GpUs3CM5tEl",
        "outputId": "e644125a-cc04-417a-ff79-a9d9736ef688"
      },
      "execution_count": 2,
      "outputs": [
        {
          "output_type": "stream",
          "name": "stdout",
          "text": [
            ". 1 1 1 1 . 1 1 1 1 1 1 1 1 1 . 1 . 1 1 "
          ]
        }
      ]
    },
    {
      "cell_type": "markdown",
      "source": [
        "만약에 동전을 두 번 던졌을 때 P(both|first)와 P(both|either)를 구하시오\n",
        "\n",
        "P(both|first) 첫 번째 던졌을 때 뒷면이 나오고 둘 다 뒷면이 나올 확률\n",
        "\n",
        "P(both|either)둘 중 하나가 뒷면이 나오고 둘 다 뒷면이 나올 확률"
      ],
      "metadata": {
        "id": "EqgcugCp6Pth"
      }
    },
    {
      "cell_type": "code",
      "source": [
        "both_back = 0  #둘 다 뒷면이 나온 횟수\n",
        "first_back = 0  #첫 번째 뒷면이 나온 횟수\n",
        "either_back = 0  #둘 중 하나는 뒷면이 나온 횟수\n",
        "\n",
        "for _ in range(10000):\n",
        "    first = Coin.random_coin()\n",
        "    second = Coin.random_coin()\n",
        "    if first == Coin.BACK:\n",
        "        first_back += 1\n",
        "    if first == Coin.BACK and second == Coin.BACK:\n",
        "        both_back += 1\n",
        "    if first == Coin.BACK or second == Coin.BACK:\n",
        "        either_back += 1\n",
        "print(\"P(both|first)\", both_back/first_back)\n",
        "print(\"P(both|either)\", both_back/either_back)"
      ],
      "metadata": {
        "colab": {
          "base_uri": "https://localhost:8080/"
        },
        "id": "qSwIT0zZ6q5x",
        "outputId": "bd586c02-bcf2-4c9e-8511-faa86d370306"
      },
      "execution_count": 3,
      "outputs": [
        {
          "output_type": "stream",
          "name": "stdout",
          "text": [
            "P(both|first) 0.49072206534893104\n",
            "P(both|either) 0.3249198717948718\n"
          ]
        }
      ]
    },
    {
      "cell_type": "markdown",
      "source": [
        "균등분포와 누적분포"
      ],
      "metadata": {
        "id": "FcI0LghK9PKd"
      }
    },
    {
      "cell_type": "code",
      "source": [
        "def uniform_pdf(x):  #균등분포\n",
        "    if 0 <= x < 1:\n",
        "        return 1\n",
        "    return 0"
      ],
      "metadata": {
        "id": "tUuJNfMo9aN_"
      },
      "execution_count": 4,
      "outputs": []
    },
    {
      "cell_type": "code",
      "source": [
        "def uniform_cdf(x):  #누적분포\n",
        "    if x < 0:\n",
        "        return 0\n",
        "    if x < 1:\n",
        "        return x\n",
        "    return 1"
      ],
      "metadata": {
        "id": "C6Y7FRhR9qEs"
      },
      "execution_count": 5,
      "outputs": []
    },
    {
      "cell_type": "code",
      "source": [
        "xs = []\n",
        "pys = []\n",
        "cys = []\n",
        "# -1~2까지 step=0.01로 균등 분포와 누적 분포를 계산하여 컬렉션에 보관\n",
        "for x_100 in range(-100, 200):\n",
        "    pys.append(uniform_pdf(x_100/100))\n",
        "    cys.append(uniform_cdf(x_100/100))\n",
        "    xs.append(x_100/100)"
      ],
      "metadata": {
        "id": "JqcbaK1--VyF"
      },
      "execution_count": 6,
      "outputs": []
    },
    {
      "cell_type": "code",
      "source": [
        "import matplotlib.pyplot as plt\n",
        "fig, ax = plt.subplots(1, 2)\n",
        "ax[0].plot(xs, pys, \"b.\", label=\"pdf\")\n",
        "ax[1].plot(xs, cys, \"r.\", label=\"cdf\")\n",
        "ax[0].set_title(\"The uniform pdf\")\n",
        "ax[1].set_title(\"The uniform cdf\")\n",
        "plt.show()"
      ],
      "metadata": {
        "colab": {
          "base_uri": "https://localhost:8080/",
          "height": 281
        },
        "id": "BIgWxJEU-pBe",
        "outputId": "838f8db0-9c85-4a6f-91be-1fad8f0cb903"
      },
      "execution_count": 7,
      "outputs": [
        {
          "output_type": "display_data",
          "data": {
            "image/png": "[encoded data removed]",
            "text/plain": [
              "<Figure size 432x288 with 2 Axes>"
            ]
          },
          "metadata": {
            "needs_background": "light"
          }
        }
      ]
    },
    {
      "cell_type": "markdown",
      "source": [
        "정규분포\n",
        "\n",
        "![image.png](data:image/png;base64,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)"
      ],
      "metadata": {
        "id": "YDUQawLTDh6a"
      }
    },
    {
      "cell_type": "code",
      "source": [
        "import math\n",
        "SQRT_TWO_PI = math.sqrt(2*math.pi)\n",
        "def normal_pdf(x, mu=0, sigma=1):  #정규분포 (mu:평균, sigma:표준편차)\n",
        "    pre = 1/(sigma*SQRT_TWO_PI)\n",
        "    post = math.exp(-((x-mu)**2)/(2*(sigma**2)))\n",
        "    return pre * post"
      ],
      "metadata": {
        "id": "6Rs7ghb3ED8N"
      },
      "execution_count": 8,
      "outputs": []
    },
    {
      "cell_type": "code",
      "source": [
        "xs = [x/10.0 for x in range(-50, 50)]\n",
        "ys1 = [normal_pdf(x, sigma=1) for x in xs]\n",
        "ys2 = [normal_pdf(x, sigma=2) for x in xs]\n",
        "ys3 = [normal_pdf(x, sigma=0.5) for x in xs]\n",
        "ys4 = [normal_pdf(x, mu=1) for x in xs]\n",
        "plt.plot(xs, ys1, '-', label=\"mu=0, sigma=1\")\n",
        "plt.plot(xs, ys2, '--', label=\"mu=0, sigma=2\")\n",
        "plt.plot(xs, ys3, ':', label=\"mu=0, sigma=0.5\")\n",
        "plt.plot(xs, ys4, '-.', label=\"mu=1, sigma=1\")\n",
        "plt.legend()\n",
        "plt.show()"
      ],
      "metadata": {
        "colab": {
          "base_uri": "https://localhost:8080/",
          "height": 265
        },
        "id": "x8_b4OhmGcNj",
        "outputId": "398f5ab8-fadc-4fc3-a7de-ac2225781274"
      },
      "execution_count": 9,
      "outputs": [
        {
          "output_type": "display_data",
          "data": {
            "image/png": "[encoded data removed]",
            "text/plain": [
              "<Figure size 432x288 with 1 Axes>"
            ]
          },
          "metadata": {
            "needs_background": "light"
          }
        }
      ]
    },
    {
      "cell_type": "markdown",
      "source": [
        "정규누적분포\n",
        "\n",
        "![image.png](data:image/png;base64,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)"
      ],
      "metadata": {
        "id": "EE-zmOXDD_yC"
      }
    },
    {
      "cell_type": "code",
      "source": [
        "def normal_cdf(x, mu=0, sigma=1):  #정규누적분포\n",
        "    return (1 + math.erf((x-mu)/(sigma*math.sqrt(2)))) / 2"
      ],
      "metadata": {
        "id": "1LyV79EbDgjn"
      },
      "execution_count": 10,
      "outputs": []
    },
    {
      "cell_type": "code",
      "source": [
        "xs = [x/10.0 for x in range(-50, 50)]\n",
        "ys1 = [normal_cdf(x, sigma=1) for x in xs]\n",
        "ys2 = [normal_cdf(x, sigma=2) for x in xs]\n",
        "ys3 = [normal_cdf(x, sigma=0.5) for x in xs]\n",
        "ys4 = [normal_cdf(x, mu=1) for x in xs]\n",
        "plt.plot(xs, ys1, '-', label=\"mu=0, sigma=1\")\n",
        "plt.plot(xs, ys2, '--', label=\"mu=0, sigma=2\")\n",
        "plt.plot(xs, ys3, ':', label=\"mu=0, sigma=0.5\")\n",
        "plt.plot(xs, ys4, '-.', label=\"mu=1, sigma=1\")\n",
        "plt.legend()\n",
        "plt.show()"
      ],
      "metadata": {
        "colab": {
          "base_uri": "https://localhost:8080/",
          "height": 265
        },
        "id": "QTMNA0gtH9bL",
        "outputId": "25d0d23b-66e5-4bb1-83e4-e3077738e5c1"
      },
      "execution_count": 11,
      "outputs": [
        {
          "output_type": "display_data",
          "data": {
            "image/png": "[encoded data removed]",
            "text/plain": [
              "<Figure size 432x288 with 1 Axes>"
            ]
          },
          "metadata": {
            "needs_background": "light"
          }
        }
      ]
    },
    {
      "cell_type": "markdown",
      "source": [
        "베르누이 시행"
      ],
      "metadata": {
        "id": "PWYeswIoI3IB"
      }
    },
    {
      "cell_type": "code",
      "source": [
        "def bernouli_trial(p):\n",
        "    return 1 if random.random() < p else 0"
      ],
      "metadata": {
        "id": "usQd14qqI40O"
      },
      "execution_count": 12,
      "outputs": []
    },
    {
      "cell_type": "code",
      "source": [
        "cnt = 0\n",
        "for _ in range(1000):\n",
        "    re = bernouli_trial(1/6)\n",
        "    print(re, end=',')  #확률이 1/6인 사건이 발생하면 1, 발생하지 않으면 0 출력\n",
        "    if re == 1:\n",
        "        cnt += 1\n",
        "print()\n",
        "print(cnt)"
      ],
      "metadata": {
        "colab": {
          "base_uri": "https://localhost:8080/"
        },
        "id": "_WkTOFV4JFa5",
        "outputId": "e6a131f9-97cd-48aa-d17c-1c05f67a7ce6"
      },
      "execution_count": 13,
      "outputs": [
        {
          "output_type": "stream",
          "name": "stdout",
          "text": [
            "0,0,0,0,0,1,0,0,0,0,0,0,0,0,0,0,0,0,1,0,0,1,1,0,0,0,0,0,0,1,0,0,0,0,0,0,0,0,0,0,1,0,1,0,0,0,0,0,0,0,0,0,0,0,0,0,0,0,0,0,0,0,0,0,0,0,0,1,0,0,0,0,0,0,0,0,0,0,0,1,0,0,1,0,1,0,0,0,0,1,0,0,0,0,0,0,0,1,0,0,1,0,0,0,0,0,1,1,0,0,0,1,0,0,0,0,0,0,0,0,0,0,1,0,0,0,0,0,0,0,0,0,0,0,0,0,1,0,0,1,0,0,0,0,0,0,0,0,0,0,0,0,1,0,0,0,1,0,0,0,0,0,0,0,0,0,0,0,0,0,0,0,1,0,0,0,0,0,1,0,0,0,0,0,0,0,0,0,1,0,0,0,1,0,0,1,0,0,0,0,0,0,0,0,0,0,0,0,0,1,0,0,0,0,0,0,1,1,0,0,0,0,0,0,0,0,0,0,1,1,0,0,0,0,0,0,0,1,0,0,0,0,0,0,0,0,1,0,0,0,0,0,0,0,0,0,0,0,1,0,0,0,0,0,1,0,0,1,0,0,0,1,0,0,0,0,0,0,0,0,0,0,0,0,0,0,0,0,0,0,0,1,0,0,0,0,0,0,0,1,0,0,1,0,0,0,0,0,0,0,0,0,0,0,0,0,0,0,0,0,0,0,0,0,1,0,0,0,1,0,0,0,0,0,1,0,1,0,0,0,0,0,0,1,0,0,0,0,0,0,0,0,0,0,0,0,1,0,0,0,0,0,0,0,0,0,0,0,0,0,0,0,0,0,1,0,0,0,1,0,0,0,1,0,0,0,0,0,0,0,0,0,0,0,0,0,0,0,0,0,0,1,0,0,0,0,0,0,0,0,0,0,0,0,0,0,0,0,1,0,0,0,0,0,0,0,0,0,0,1,0,0,0,0,0,0,0,0,0,0,1,0,1,0,0,0,0,0,0,0,0,0,1,0,0,0,1,0,0,0,1,0,1,0,0,1,0,0,0,0,0,0,0,0,0,0,0,0,0,0,0,1,0,0,0,1,0,1,0,0,0,0,0,0,0,0,0,1,0,0,0,0,0,0,0,0,0,0,0,0,1,0,0,0,0,0,0,0,0,0,0,0,0,1,0,0,0,0,1,0,0,0,0,0,0,0,1,0,1,0,0,0,1,0,0,0,0,0,0,0,0,0,0,0,0,0,1,0,0,0,1,0,1,0,0,0,0,0,0,0,0,0,0,0,0,0,1,0,0,1,0,0,0,0,0,1,1,0,1,0,0,1,0,0,1,0,0,0,0,0,0,0,0,0,1,1,0,0,0,0,0,0,0,0,0,0,0,0,0,0,0,0,0,0,0,0,1,1,0,0,0,0,0,0,0,0,0,0,0,0,0,0,0,0,0,0,0,1,0,0,0,0,1,0,0,0,0,0,0,0,0,0,0,0,0,0,0,0,1,0,1,0,0,0,0,0,0,0,0,0,0,0,0,0,0,0,0,0,1,0,0,0,0,0,0,0,0,0,0,0,0,0,1,1,0,0,0,0,0,0,0,0,0,0,0,0,0,0,0,1,0,0,0,0,0,0,0,0,1,0,1,1,0,0,0,0,0,0,0,0,0,0,0,0,0,0,0,1,0,0,0,0,0,1,1,0,0,0,0,0,0,0,0,0,0,0,0,0,0,0,0,0,0,0,0,0,0,0,0,0,0,1,0,0,0,0,0,0,0,0,0,1,0,0,0,0,0,0,1,0,0,0,0,0,0,0,0,0,0,0,0,0,0,0,0,1,0,0,0,0,0,0,0,0,1,0,0,0,0,0,0,0,1,0,0,0,1,0,0,0,0,0,0,0,1,0,0,1,0,0,0,0,0,0,0,1,0,0,0,0,0,1,0,0,0,0,0,0,0,0,0,0,0,0,0,0,1,0,0,0,1,1,0,0,0,0,0,0,0,1,0,0,0,0,0,0,0,0,0,0,0,0,0,0,1,0,0,1,0,0,0,0,0,0,0,0,0,0,0,0,0,0,1,0,0,0,1,0,0,0,0,0,0,0,0,0,0,0,0,0,0,0,0,0,0,0,0,0,1,0,0,0,0,0,0,0,0,0,1,1,1,0,0,0,0,0,0,1,0,1,0,0,0,0,0,0,0,0,0,0,1,0,0,0,0,0,0,1,0,0,0,0,1,0,0,0,0,0,0,0,\n",
            "126\n"
          ]
        }
      ]
    },
    {
      "cell_type": "code",
      "source": [
        "def binomial(n, p):\n",
        "    return sum(bernouli_trial(p) for _ in range(n))"
      ],
      "metadata": {
        "id": "1KVcWC43J2Fm"
      },
      "execution_count": 14,
      "outputs": []
    },
    {
      "cell_type": "code",
      "source": [
        "for _ in range(20):\n",
        "    print(binomial(100, 1/6), end='.')  #주사위를 100번 던졌을 때 숫자 1이 나올 횟수"
      ],
      "metadata": {
        "colab": {
          "base_uri": "https://localhost:8080/"
        },
        "id": "namKTSKEKD7e",
        "outputId": "c33ee4f1-85bf-440b-f33b-02be1e2000a3"
      },
      "execution_count": 15,
      "outputs": [
        {
          "output_type": "stream",
          "name": "stdout",
          "text": [
            "20.19.18.12.18.10.18.14.12.15.24.18.6.22.12.18.24.12.18.17."
          ]
        }
      ]
    },
    {
      "cell_type": "code",
      "source": [
        "from collections import Counter"
      ],
      "metadata": {
        "id": "TZtucICqKVhs"
      },
      "execution_count": 16,
      "outputs": []
    },
    {
      "cell_type": "code",
      "source": [
        "from numpy import histogram\n",
        "def binomial_histogram(p, n, nps):  # p:확률, n:시도할 횟수, nps:(p,n)을 시도할 횟수\n",
        "    data = [binomial(n, p) for _ in range(nps)]\n",
        "    #print(data)\n",
        "    #print(len(data))\n",
        "    histogram = Counter(data)\n",
        "    #print(histogram.values())\n",
        "    #print(histogram.keys())\n",
        "    #print([v/nps for v in histogram.values()])\n",
        "    mu = p * n\n",
        "    sigma = math.sqrt(n*p*(1-p))\n",
        "    xs = range(min(data), max(data)+1)\n",
        "    ys = [normal_cdf(i+0.5, mu, sigma) - normal_cdf(i-0.5, mu, sigma) for i in xs]  #normal_cdf에서 (i-0.5)~(i+0.5)의 변화량\n",
        "    plt.bar(histogram.keys(), [v/nps for v in histogram.values()], color=\"r\")\n",
        "    plt.plot(xs, ys)\n",
        "    plt.title()\n",
        "    plt.show()"
      ],
      "metadata": {
        "id": "ZDh6xfKwKmaS"
      },
      "execution_count": 17,
      "outputs": []
    },
    {
      "cell_type": "code",
      "source": [
        "binomial_histogram(1/6, 100, 1200)"
      ],
      "metadata": {
        "id": "PT0LCJIALJCU"
      },
      "execution_count": null,
      "outputs": []
    },
    {
      "cell_type": "markdown",
      "source": [
        "로지스틱 회귀"
      ],
      "metadata": {
        "id": "wSiobeRLKZdZ"
      }
    },
    {
      "cell_type": "code",
      "source": [
        "import numpy as np\n",
        "def sigmoid(x):  #시그모이드 함수, 로지스틱 함수와 같은 함수\n",
        "    return 1/(1+np.e**(-x))"
      ],
      "metadata": {
        "id": "Vx6y5FusS1Wq"
      },
      "execution_count": 21,
      "outputs": []
    },
    {
      "cell_type": "code",
      "source": [
        "xs = range(-10, 10)\n",
        "ys = [sigmoid(x) for x in xs]\n",
        "plt.plot(xs, ys, marker='.')\n",
        "plt.axvline(x=0, color='black')\n",
        "plt.axhline(y=0, color='red')\n",
        "plt.axhline(y=1, color='green')\n",
        "plt.title(\"sigmoid function\")\n",
        "plt.show()"
      ],
      "metadata": {
        "colab": {
          "base_uri": "https://localhost:8080/",
          "height": 281
        },
        "id": "6VQgqiuKTNmM",
        "outputId": "b3f17c95-6351-4443-bce5-c5a81e1657b3"
      },
      "execution_count": 22,
      "outputs": [
        {
          "output_type": "display_data",
          "data": {
            "image/png": "[encoded data removed]",
            "text/plain": [
              "<Figure size 432x288 with 1 Axes>"
            ]
          },
          "metadata": {
            "needs_background": "light"
          }
        }
      ]
    },
    {
      "cell_type": "code",
      "source": [
        "def gradient(y,x,w,b):\n",
        "  wd = x*(sigmoid(w*x+b)-y)\n",
        "  bd = (sigmoid(w*x+b)-y)\n",
        "  return wd,bd"
      ],
      "metadata": {
        "id": "4frSA70ZUEON"
      },
      "execution_count": 23,
      "outputs": []
    },
    {
      "cell_type": "code",
      "source": [
        "def gradient_descent(xs,ys,lr=0.001,epochs=100):\n",
        "  if isinstance(xs,list):\n",
        "    xs = np.array(xs).reshape(-1)\n",
        "  wbhl = [] #학습 과정에서의 가중치와 편향을 보관하기 위함\n",
        "\n",
        "  wp = np.random.uniform(-1,1) #초기 가중치를 랜덤하게 결정\n",
        "  bp = np.random.uniform(-1,1) #초기 편향\n",
        "\n",
        "  for epoch in range(epochs):\n",
        "    for i,x in enumerate(xs):\n",
        "      wd,bd = gradient(ys[i],x,wp,bp)\n",
        "      wp = wp - (wd*lr) #가중치를 경사*lr 만큼 빼준다(곡선 아래 부분으로 이동)\n",
        "      bp = bp - (bd*lr) #편향을 경사*lr 만큼 빼준다 이하동일\n",
        "    wbhl.append([wp,bp])\n",
        "  return wp,bp,wbhl"
      ],
      "metadata": {
        "id": "TIKd068oUX8W"
      },
      "execution_count": 24,
      "outputs": []
    },
    {
      "cell_type": "code",
      "source": [
        "xs = np.arange(-10,10,0.3)\n",
        "ys = np.array([1 if x>0 else 0 for x in xs]) #else를 사용하는 경우 조건을 맨 뒤가 아닌 for문 앞에 적어준다\n",
        "#참(0보다 크면 다 1), 거짓(아니면 다 0) 두가지 값만 존재\n",
        "\n",
        "wp,bp,wbhl = gradient_descent(xs,ys,epochs=1000)\n",
        "min_val = min(min(xs),min(ys))\n",
        "max_val = max(max(xs),max(ys))\n",
        "\n",
        "for wi in range(0,len(wbhl)):\n",
        "  if wi > 5 and wi%50!=0: #초반 5개 외, 50번 마다 그래프 출력\n",
        "    continue\n",
        "  w,b = wbhl[wi]\n",
        "  pre_ys = [sigmoid(w*x+b) for x in xs]\n",
        "  plt.figure(figsize=(5,5))\n",
        "  plt.plot(xs,ys,'b^',label='actual') #실제값을 도면에 뿌림\n",
        "  plt.plot(xs,pre_ys,'r.',label=f'epoch:{wi} predict w:{w} b:{b}')\n",
        "  plt.axvline(x=0,color='black')\n",
        "  plt.axhline(y=0,color='black')\n",
        "  plt.xlim(min_val,max_val)\n",
        "  plt.ylim(min_val,max_val)\n",
        "  plt.legend()\n",
        "  plt.show()"
      ],
      "metadata": {
        "id": "Ebz1AfK2VyGP"
      },
      "execution_count": null,
      "outputs": []
    },
    {
      "cell_type": "code",
      "source": [
        "xs2 = [[x] for x in xs]\n",
        "xs2"
      ],
      "metadata": {
        "id": "RkHQysSAWUKj"
      },
      "execution_count": null,
      "outputs": []
    },
    {
      "cell_type": "code",
      "source": [
        "from sklearn.model_selection import train_test_split"
      ],
      "metadata": {
        "id": "KWeds6CUY6ce"
      },
      "execution_count": 27,
      "outputs": []
    },
    {
      "cell_type": "code",
      "source": [
        "train_xs, test_xs, train_ys, test_ys = train_test_split(xs2, ys)"
      ],
      "metadata": {
        "id": "2A6ZFyGFZAAP"
      },
      "execution_count": 28,
      "outputs": []
    },
    {
      "cell_type": "code",
      "source": [
        "len(xs2), len(ys), len(train_xs), len(test_xs), len(train_ys), len(test_ys)"
      ],
      "metadata": {
        "colab": {
          "base_uri": "https://localhost:8080/"
        },
        "id": "VmCDjBsAZWQF",
        "outputId": "3b754c04-9156-4365-e1a3-58e3516cf51f"
      },
      "execution_count": 29,
      "outputs": [
        {
          "output_type": "execute_result",
          "data": {
            "text/plain": [
              "(67, 67, 50, 17, 50, 17)"
            ]
          },
          "metadata": {},
          "execution_count": 29
        }
      ]
    },
    {
      "cell_type": "code",
      "source": [
        "from sklearn.linear_model import LogisticRegression"
      ],
      "metadata": {
        "id": "VajaV5nhZhG2"
      },
      "execution_count": 30,
      "outputs": []
    },
    {
      "cell_type": "code",
      "source": [
        "lr_model = LogisticRegression() #학습 모델 개체 생성\n",
        "lr_model.fit(train_xs,train_ys) #학습시키기\n",
        "pre_vals = lr_model.predict(test_xs) #예측(독립변수 대입)\n",
        "for i,y in enumerate(test_ys):\n",
        "  print(f\"actual:{y}, predict:{pre_vals[i]}\")"
      ],
      "metadata": {
        "colab": {
          "base_uri": "https://localhost:8080/"
        },
        "id": "Kvp-5YFpZ9PV",
        "outputId": "0fcb431d-8ff5-46ac-b342-768f18f92990"
      },
      "execution_count": 31,
      "outputs": [
        {
          "output_type": "stream",
          "name": "stdout",
          "text": [
            "actual:1, predict:1\n",
            "actual:0, predict:0\n",
            "actual:1, predict:1\n",
            "actual:0, predict:0\n",
            "actual:0, predict:0\n",
            "actual:0, predict:0\n",
            "actual:0, predict:0\n",
            "actual:0, predict:0\n",
            "actual:1, predict:1\n",
            "actual:0, predict:0\n",
            "actual:0, predict:0\n",
            "actual:1, predict:1\n",
            "actual:1, predict:1\n",
            "actual:1, predict:0\n",
            "actual:1, predict:1\n",
            "actual:0, predict:0\n",
            "actual:1, predict:1\n"
          ]
        }
      ]
    },
    {
      "cell_type": "code",
      "source": [
        "print(lr_model.score(train_xs, train_ys))\n",
        "print(lr_model.score(test_xs, test_ys))"
      ],
      "metadata": {
        "colab": {
          "base_uri": "https://localhost:8080/"
        },
        "id": "IqwHIjcXagnM",
        "outputId": "33115092-718e-41ab-f4df-5dca69be2267"
      },
      "execution_count": 32,
      "outputs": [
        {
          "output_type": "stream",
          "name": "stdout",
          "text": [
            "1.0\n",
            "0.9411764705882353\n"
          ]
        }
      ]
    },
    {
      "cell_type": "markdown",
      "source": [
        "x > 5 일 때 99.7% 확률로 1 \n",
        "\n",
        "2 < x <= 5 일 때 90% 확률로 1\n",
        "\n",
        "0 < x <= 2일 때 70% 확률로 1\n",
        "\n",
        "x <= 0 일 때 0% 확률로 1"
      ],
      "metadata": {
        "id": "dBI_J2jMgUq3"
      }
    },
    {
      "cell_type": "code",
      "source": [
        "xs = np.arange(-10, 10, 0.3)\n",
        "ys1 = []\n",
        "for x in xs:\n",
        "    if x > 5:\n",
        "        if np.random.uniform(0, 10) > 0.03:  #0~10사이의 랜덤한 수가 0.03보다 크면\n",
        "            ys1.append(1)\n",
        "        else:\n",
        "            ys1.append(0)\n",
        "    elif x > 2:\n",
        "        if np.random.uniform(0, 10) > 1:\n",
        "            ys1.append(1)\n",
        "        else:\n",
        "            ys1.append(0)\n",
        "    elif x > 0:\n",
        "        if np.random.uniform(0, 10) > 3:\n",
        "            ys1.append(1)\n",
        "        else:\n",
        "            ys1.append(0)\n",
        "    else:\n",
        "        ys1.append(0)"
      ],
      "metadata": {
        "id": "5DxT0UY8gUJ7"
      },
      "execution_count": 36,
      "outputs": []
    },
    {
      "cell_type": "code",
      "source": [
        "plt.plot(xs, ys1, '.')\n",
        "plt.show()"
      ],
      "metadata": {
        "colab": {
          "base_uri": "https://localhost:8080/",
          "height": 265
        },
        "id": "-DgFCTfahO2k",
        "outputId": "02ae5866-2f9d-4b83-b06a-a53f1408a37d"
      },
      "execution_count": 37,
      "outputs": [
        {
          "output_type": "display_data",
          "data": {
            "image/png": "[encoded data removed]",
            "text/plain": [
              "<Figure size 432x288 with 1 Axes>"
            ]
          },
          "metadata": {
            "needs_background": "light"
          }
        }
      ]
    },
    {
      "cell_type": "code",
      "source": [
        "wp,bp,wbhl = gradient_descent(xs,ys1,epochs=1000)\n",
        "\n",
        "min_val = min(min(xs),min(ys1))\n",
        "max_val = max(max(xs),max(ys1))\n",
        "\n",
        "for wi in range(len(wbhl)):\n",
        "  if wi > 5 and wi%50!=0: #초반 5개 외, 50번 마다 그래프 출력\n",
        "    continue\n",
        "  w,b = wbhl[wi]\n",
        "  pre_ys = [sigmoid(w*x+b) for x in xs]\n",
        "  plt.figure(figsize=(5,5))\n",
        "  plt.plot(xs,ys1,'b^',label='actual') #실제값을 도면에 뿌림\n",
        "  plt.plot(xs,pre_ys,'r.',label=f'epoch:{wi} predict w:{w} b:{b}')\n",
        "  plt.axvline(x=0,color='black')\n",
        "  plt.axhline(y=0,color='black')\n",
        "  plt.xlim(min_val,max_val)\n",
        "  plt.ylim(min_val,max_val)\n",
        "  plt.legend()\n",
        "  plt.show()"
      ],
      "metadata": {
        "id": "y5pZ6v4fkQQU"
      },
      "execution_count": null,
      "outputs": []
    }
  ]
}