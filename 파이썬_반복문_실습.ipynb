{
  "nbformat": 4,
  "nbformat_minor": 0,
  "metadata": {
    "colab": {
      "name": "파이썬-반복문 실습.ipynb",
      "provenance": [],
      "collapsed_sections": [],
      "authorship_tag": "ABX9TyNa44ePxVaV2S9uvOtsRTJH",
      "include_colab_link": true
    },
    "kernelspec": {
      "name": "python3",
      "display_name": "Python 3"
    },
    "language_info": {
      "name": "python"
    }
  },
  "cells": [
    {
      "cell_type": "markdown",
      "metadata": {
        "id": "view-in-github",
        "colab_type": "text"
      },
      "source": [
        "<a href=\"https://colab.research.google.com/github/yejin0455/sesac-python/blob/main/%ED%8C%8C%EC%9D%B4%EC%8D%AC_%EB%B0%98%EB%B3%B5%EB%AC%B8_%EC%8B%A4%EC%8A%B5.ipynb\" target=\"_parent\"><img src=\"https://colab.research.google.com/assets/colab-badge.svg\" alt=\"Open In Colab\"/></a>"
      ]
    },
    {
      "cell_type": "markdown",
      "source": [
        "# 반복문 실습"
      ],
      "metadata": {
        "id": "4bownMEEqpG0"
      }
    },
    {
      "cell_type": "markdown",
      "source": [
        "1. 사용자로부터 삼각형의 밑변과 높이를 입력받아 넓이를 출력하시오.\n",
        "   밑변과 높이는 실수를 입력할 수 있으며 넓이는 소수점 이하 2째 자리까지 출력하시오."
      ],
      "metadata": {
        "id": "EKTYuzCUqunM"
      }
    },
    {
      "cell_type": "code",
      "source": [
        "a = int(input(\"밑변:\"))\n",
        "b = int(input(\"높이:\"))\n",
        "c = (a * b) / 2\n",
        "print(\"%0.2f\" % c)"
      ],
      "metadata": {
        "id": "dqredGfxqxOR"
      },
      "execution_count": null,
      "outputs": []
    },
    {
      "cell_type": "code",
      "source": [
        "a = float(input(\"밑변:\"))\n",
        "b = float(input(\"높이:\"))\n",
        "print(f\"넓이:{(a * b / 2):.2f}\")"
      ],
      "metadata": {
        "id": "bE5kKE3eTAJm"
      },
      "execution_count": null,
      "outputs": []
    },
    {
      "cell_type": "markdown",
      "source": [
        "2. 두 개의 정수를 입력받아 작은 수가 큰 수의 약수인지 아닌지를 출력하시오."
      ],
      "metadata": {
        "id": "G4Z8Ors-qyIy"
      }
    },
    {
      "cell_type": "code",
      "source": [
        "num1 = int(input(\"num1:\"))\n",
        "num2 = int(input(\"num2:\"))\n",
        "\n",
        "if num1 > num2:\n",
        "    if num1 % num2 == 0:\n",
        "        print(\"약수입니다.\")\n",
        "    else:\n",
        "        print(\"약수가 아닙니다.\")\n",
        "if num1 < num2:\n",
        "    if num2 % num1 == 0:\n",
        "        print(\"약수입니다.\")\n",
        "    else:\n",
        "        print(\"약수가 아닙니다.\")"
      ],
      "metadata": {
        "id": "owDXmxuWqz_n"
      },
      "execution_count": null,
      "outputs": []
    },
    {
      "cell_type": "code",
      "source": [
        "num1 = int(input(\"첫번째 정수:\"))\n",
        "num2 = int(input(\"두번째 정수:\"))\n",
        "\n",
        "if num1 > num2:\n",
        "    num1, num2 = num2, num1\n",
        "\n",
        "if num2 % num1 == 0:\n",
        "    print(\"약수입니다.\")\n",
        "else:\n",
        "    print(\"약수가 아닙니다.\")"
      ],
      "metadata": {
        "id": "idLzLdJiTnwc"
      },
      "execution_count": null,
      "outputs": []
    },
    {
      "cell_type": "markdown",
      "source": [
        "3. 두 개의 정수를 입력받아 두 개의 정수 사이의 정수의 합계를 구하여 출력하시오."
      ],
      "metadata": {
        "id": "djdPwJ_2q0QI"
      }
    },
    {
      "cell_type": "code",
      "source": [
        "num1 = int(input(\"num1:\"))\n",
        "num2 = int(input(\"num2:\"))\n",
        "\n",
        "if num1 > num2:\n",
        "    temp = num1\n",
        "    num1 = num2\n",
        "    num2 = temp\n",
        "#print(num1, num2)\n",
        "\n",
        "sum = 0\n",
        "while num1 <= num2:\n",
        "    sum += num1\n",
        "    num1 += 1\n",
        "print(sum)"
      ],
      "metadata": {
        "id": "b1jXFPZ1q2cZ"
      },
      "execution_count": null,
      "outputs": []
    },
    {
      "cell_type": "code",
      "source": [
        "num1 = int(input(\"첫번째 정수:\"))\n",
        "num2 = int(input(\"두번째 정수:\"))\n",
        "\n",
        "if num1 > num2:\n",
        "    num1, num2 = num2, num1\n",
        "\n",
        "sum = 0\n",
        "for i in range(num1, num2+1):\n",
        "    sum += i\n",
        "print(f\"{num1}~{num2} 합계: {sum}\")"
      ],
      "metadata": {
        "id": "qZldZNmdT-jv"
      },
      "execution_count": null,
      "outputs": []
    },
    {
      "cell_type": "markdown",
      "source": [
        "4. n개의 정수를 입력받아 평균과 표준 편차를 구하시오."
      ],
      "metadata": {
        "id": "5XAKofV8q2uo"
      }
    },
    {
      "cell_type": "code",
      "source": [
        "import math\n",
        "\n",
        "n_list = []\n",
        "n = int(input(\"n:\"))\n",
        "for i in range(n):\n",
        "    num = int(input(f\"정수 {i+1}:\"))\n",
        "    n_list.append(num)\n",
        "avg = sum(n_list)/num\n",
        "print(\"평균:\", avg)\n",
        "\n",
        "var = 0\n",
        "for i in range(n):\n",
        "    var += (n_list[i] - avg) **2\n",
        "var = var / n\n",
        "stan_dev = math.sqrt(var)\n",
        "print(\"분산:\", format(var, \".3f\"))\n",
        "print(\"표준편차:\", format(stan_dev, \".3f\"))"
      ],
      "metadata": {
        "id": "ukhMKX_pq40z"
      },
      "execution_count": null,
      "outputs": []
    },
    {
      "cell_type": "code",
      "source": [
        "n = int(input(\"입력할 개수:\"))\n",
        "nums = []\n",
        "for num in range(n):\n",
        "    num = int(input(f\"{i+1}번째 정수:\"))\n",
        "    nums.append(num)\n",
        "avg = sum(nums) / n\n",
        "print(f\"평균:{avg}\")\n",
        "\n",
        "var = 0\n",
        "for elem in nums:\n",
        "    var += (avg - elem) **2\n",
        "var = var / n  #분산\n",
        "stddev = math.sqrt(var)  #표준편차\n",
        "print(f\"표준편차:{stddev:.2f}\")"
      ],
      "metadata": {
        "colab": {
          "base_uri": "https://localhost:8080/"
        },
        "id": "XkPhtYt0UaZT",
        "outputId": "3e212d62-73d3-447a-84ff-04f875762774"
      },
      "execution_count": 7,
      "outputs": [
        {
          "output_type": "stream",
          "name": "stdout",
          "text": [
            "입력할 개수:2\n",
            "5번째 정수:1\n",
            "5번째 정수:2\n",
            "평균:1.5\n",
            "표준편차:0.50\n"
          ]
        }
      ]
    },
    {
      "cell_type": "markdown",
      "source": [
        "5. n명의 국어, 영어, 수학 점수를 입력받아 출력하시오."
      ],
      "metadata": {
        "id": "faSzTw-3q6D7"
      }
    },
    {
      "cell_type": "code",
      "source": [
        "n = int(input(\"n:\"))\n",
        "dict = {}\n",
        "scores = []\n",
        "for i in range(n):\n",
        "    print(\"이름:\")\n",
        "    for i in range(n):\n",
        "        input()"
      ],
      "metadata": {
        "id": "I1PdRMSFq8ws"
      },
      "execution_count": null,
      "outputs": []
    },
    {
      "cell_type": "code",
      "source": [
        "subjects = (\"국어\", \"영어\", \"수학\")\n",
        "n = int(input(\"입력할 학생 수:\"))\n",
        "m_dict = dict()\n",
        "for i in range(n):\n",
        "    name = input(f\"{i+1}번째 학생 이름:\")\n",
        "    scores = []\n",
        "    for subject in subjects:\n",
        "        score = int(input(f\"{subject} 점수:\"))\n",
        "        scores.append(score)\n",
        "    m_dict[name] = scores\n",
        "print(m_dict)"
      ],
      "metadata": {
        "id": "OFI0kyr5WPbB"
      },
      "execution_count": null,
      "outputs": []
    },
    {
      "cell_type": "markdown",
      "source": [
        "6. n명의 국어, 영어, 수학 점수를 입력받아 과목별 합계, 평균, 표준 편차를 출력하시오."
      ],
      "metadata": {
        "id": "rzwmpxDkq9UE"
      }
    },
    {
      "cell_type": "code",
      "source": [
        "import math\n",
        "\n",
        "subjects = (\"국어\", \"영어\", \"수학\")\n",
        "n = int(input(\"입력할 학생 수:\"))\n",
        "scores = []\n",
        "scores.append([])  #국어\n",
        "scores.append([])  #영어\n",
        "scores.append([])  #수학\n",
        "\n",
        "for i in range(n):\n",
        "    for si, subject in enumerate(subjects):\n",
        "        score = int(input(f\"{subject} 점수:\"))\n",
        "        scores[si].append(score)\n",
        "#print(scores)\n",
        "print(\"\\n\\n===========================\\n\\n\")\n",
        "for si, subject in enumerate(subjects):\n",
        "    avg = sum(scores[si]) / len(scores[si])\n",
        "    print(f\"{subjects[si]} 합계:{sum(scores[si])}\")\n",
        "    print(f\"{subjects[si]} 평균:{avg:.2f}\")\n",
        "    var = 0\n",
        "    for score in scores[si]:\n",
        "        var += (avg - score) **2\n",
        "    var = var / n\n",
        "    stddev = math.sqrt(var)\n",
        "    print(f\"{subjects[si]} 표준편차:{stddev:.2f}\")"
      ],
      "metadata": {
        "colab": {
          "base_uri": "https://localhost:8080/"
        },
        "id": "OVMIkl4bq-_N",
        "outputId": "f1343b1e-85d8-4922-e51a-5e4aea0bf576"
      },
      "execution_count": 2,
      "outputs": [
        {
          "output_type": "stream",
          "name": "stdout",
          "text": [
            "입력할 학생 수:2\n",
            "국어 점수:50\n",
            "영어 점수:60\n",
            "수학 점수:40\n",
            "국어 점수:10\n",
            "영어 점수:50\n",
            "수학 점수:90\n",
            "\n",
            "\n",
            "===========================\n",
            "\n",
            "\n",
            "국어 합계:60\n",
            "국어 평균:30.00\n",
            "국어 표준편차:20.00\n",
            "영어 합계:110\n",
            "영어 평균:55.00\n",
            "영어 표준편차:5.00\n",
            "수학 합계:130\n",
            "수학 평균:65.00\n",
            "수학 표준편차:25.00\n"
          ]
        }
      ]
    },
    {
      "cell_type": "code",
      "source": [
        ""
      ],
      "metadata": {
        "id": "EQACP4sRb1O3"
      },
      "execution_count": null,
      "outputs": []
    }
  ]
}