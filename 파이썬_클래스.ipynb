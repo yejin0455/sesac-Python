{
  "nbformat": 4,
  "nbformat_minor": 0,
  "metadata": {
    "colab": {
      "name": "파이썬-클래스.ipynb",
      "provenance": [],
      "collapsed_sections": [],
      "authorship_tag": "ABX9TyMgs0XRxc4Cy4nhji/Uz0Za",
      "include_colab_link": true
    },
    "kernelspec": {
      "name": "python3",
      "display_name": "Python 3"
    },
    "language_info": {
      "name": "python"
    }
  },
  "cells": [
    {
      "cell_type": "markdown",
      "metadata": {
        "id": "view-in-github",
        "colab_type": "text"
      },
      "source": [
        "<a href=\"https://colab.research.google.com/github/yejin0455/sesac-python/blob/main/%ED%8C%8C%EC%9D%B4%EC%8D%AC_%ED%81%B4%EB%9E%98%EC%8A%A4.ipynb\" target=\"_parent\"><img src=\"https://colab.research.google.com/assets/colab-badge.svg\" alt=\"Open In Colab\"/></a>"
      ]
    },
    {
      "cell_type": "markdown",
      "source": [
        "# 구조체 캡슐화\n",
        "\n",
        "데이터를 멤버로 구성하는 캡슐화\n",
        "\n",
        "절차식 언어에서 캡슐화하는 방법"
      ],
      "metadata": {
        "id": "bekFfPnfRLGC"
      }
    },
    {
      "cell_type": "code",
      "source": [
        "from dataclasses import dataclass\n",
        "@dataclass\n",
        "class Product:\n",
        "    weight:int = None\n",
        "    price:int = None"
      ],
      "metadata": {
        "id": "lnihFvNQRS1O"
      },
      "execution_count": 1,
      "outputs": []
    },
    {
      "cell_type": "code",
      "source": [
        "pen = Product()\n",
        "pen.weight = 100\n",
        "pen.price = 1000\n",
        "print(\"무게:\", pen.weight, \"가격:\", pen.price)"
      ],
      "metadata": {
        "id": "ClSYuN9iR1Gv"
      },
      "execution_count": null,
      "outputs": []
    },
    {
      "cell_type": "markdown",
      "source": [
        "# 클래스 캡슐화\n",
        "\n",
        "멤버 데이터와 멤버 메서드를 캡슐화 할 수 있다\n",
        "\n",
        "OOPL에서 캡슐화하는 방법\n",
        "\n"
      ],
      "metadata": {
        "id": "pSZIpJuhSwJ-"
      }
    },
    {
      "cell_type": "code",
      "source": [
        "class Student:\n",
        "    def __init__(self, num, name):\n",
        "        self.num = num\n",
        "        self.name = name\n",
        "        self.iq = 0\n",
        "    def introduce(self):\n",
        "        print(f\"번호는{self.num}, 이름은{self.name}, 아이큐는{self.iq}\")\n",
        "    def study(self):\n",
        "        self.iq += 1\n",
        "        print(f\"{self.name} 공부합니다.\")"
      ],
      "metadata": {
        "id": "FA6JyJ2vTFQA"
      },
      "execution_count": 18,
      "outputs": []
    },
    {
      "cell_type": "code",
      "source": [
        "s1 = Student(1, \"홍길동\")\n",
        "s1.introduce()\n",
        "s1.study()\n",
        "s1.study()\n",
        "s1.study()\n",
        "s1.introduce()"
      ],
      "metadata": {
        "id": "U5NzKoqtUBnu"
      },
      "execution_count": null,
      "outputs": []
    },
    {
      "cell_type": "markdown",
      "source": [
        "# 정보 은닉\n",
        "\n",
        "캡슐화 과정에서 특정 멤버의 가시성을 차단하는 방법\n",
        "\n",
        "사용하는 곳에서 직접 사용하지 못하며 형식 내부에서만 사용하게 하는 기법\n",
        "\n",
        "데이터 신뢰성을 높이는 방법으로 사용한다."
      ],
      "metadata": {
        "id": "fHYhqkyIVAmh"
      }
    },
    {
      "cell_type": "code",
      "source": [
        "#시나리오 s:\n",
        "#   학생이 연속으로 5회 공부하면 아이큐가 1 올라간다\n",
        "class Student:\n",
        "    def __init__(self, name):\n",
        "        self.name = name\n",
        "        self.iq = 100\n",
        "        self.__scnt = 0  #연속으로 공부한 횟수\n",
        "    def study(self):\n",
        "        self.__scnt += 1\n",
        "        if self.__scnt == 5:\n",
        "            self.iq += 1\n",
        "            self.__scnt = 0\n",
        "    def introduce(self):\n",
        "        print(f\"이름은{self.name} 아이큐는 {self.iq} scnt:{self.scnt}\")"
      ],
      "metadata": {
        "id": "uV1gTCNWVP2H"
      },
      "execution_count": 20,
      "outputs": []
    },
    {
      "cell_type": "code",
      "source": [
        "s1 = Student(\"홍길동\")\n",
        "s1.introduce()\n",
        "s1.study()\n",
        "s1.study()\n",
        "s1.study()\n",
        "s1.study()\n",
        "s1.study()\n",
        "#print(s1.iq)  #정보 은닉한 멤버에 접근할 수 없다.\n",
        "s1.introduce()"
      ],
      "metadata": {
        "id": "bTmBlaQsXGGX"
      },
      "execution_count": null,
      "outputs": []
    },
    {
      "cell_type": "markdown",
      "source": [
        "# 특별한 멤버 - 생성자, 소멸자\n",
        "\n",
        "개체를 생성할 때 생성자(__init__)를 호출한다\n",
        "\n",
        "해당 개체를 소멸하는 것은 가비지 컬렉터가 알아서 수행한다 (c, c++에서는 개발자가 직접 소멸시켜야 하는 부담이있다)"
      ],
      "metadata": {
        "id": "UIqRVIYtYVCU"
      }
    },
    {
      "cell_type": "code",
      "source": [
        "class Student:\n",
        "    def __init__(self):\n",
        "        print(\"__init__\")\n",
        "    def __del__(self):\n",
        "        print(\"__del__\")"
      ],
      "metadata": {
        "id": "pu1Y2ILPYYhi"
      },
      "execution_count": 18,
      "outputs": []
    },
    {
      "cell_type": "code",
      "source": [
        "print(\"==1==\")\n",
        "s1 = Student()\n",
        "print(\"==2==\")\n",
        "s2 = Student()\n",
        "print(\"==3==\")\n",
        "exit(0)"
      ],
      "metadata": {
        "id": "v7SntquLZX4y"
      },
      "execution_count": null,
      "outputs": []
    },
    {
      "cell_type": "markdown",
      "source": [
        "# 데이터 신뢰성을 높이는 멤버 - 설정자, 접근자\n",
        "\n",
        "멤버 필드의 가시성을 차단하고 필요하면 설정자와 접근자를 제공한다.\n",
        "\n",
        "\n",
        "설정자: 멤버 필드에 값을 설정하는 메서드, set_멤버필드명\n",
        "\n",
        "접근자: 멤버 필드에 값을 확인하는 메서드, get_멤버필드명"
      ],
      "metadata": {
        "id": "1oWdtp97acpn"
      }
    },
    {
      "cell_type": "code",
      "source": [
        "class Student:\n",
        "    def __init__(self, name, num):\n",
        "        self.__name = name\n",
        "        self.__num = num\n",
        "        self.__korea = 0\n",
        "        self.__eng = 0\n",
        "        self.__math = 0\n",
        "    def get_name(self):\n",
        "        return self.__name\n",
        "    def get_num(self):\n",
        "        return self.__num\n",
        "    def set_korea(self, score):\n",
        "        self.__korea = score\n",
        "    def set_eng(self, score):\n",
        "        self.__eng = score\n",
        "    def set_math(self, score):\n",
        "        self.__math = score\n",
        "    def get_korea(self):\n",
        "        return self.__korea\n",
        "    def get_eng(self):\n",
        "        return self.__eng\n",
        "    def get_math(self):\n",
        "        return self.__math\n",
        "    def tostr(self):\n",
        "        return f\"이름:{self.__name} 번호:{self.__num} 국어:{self.__korea} 영어:{self.__eng} 수학:{self.__math}\""
      ],
      "metadata": {
        "id": "sH4F-NREa3Ab"
      },
      "execution_count": 11,
      "outputs": []
    },
    {
      "cell_type": "code",
      "source": [
        "s1 = Student(\"홍길동\", 3)\n",
        "print(s1.tostr())\n",
        "s1.set_korea(90)\n",
        "s1.set_eng(100)\n",
        "s1.set_math(80)\n",
        "print(s1.tostr())"
      ],
      "metadata": {
        "id": "xm4fBSz3fsIZ"
      },
      "execution_count": null,
      "outputs": []
    }
  ]
}