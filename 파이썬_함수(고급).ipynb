{
  "nbformat": 4,
  "nbformat_minor": 0,
  "metadata": {
    "colab": {
      "name": "파이썬-함수(고급).ipynb",
      "provenance": [],
      "collapsed_sections": [],
      "authorship_tag": "ABX9TyOqJUx7xr92BUtqCTm9kCk/",
      "include_colab_link": true
    },
    "kernelspec": {
      "name": "python3",
      "display_name": "Python 3"
    },
    "language_info": {
      "name": "python"
    }
  },
  "cells": [
    {
      "cell_type": "markdown",
      "metadata": {
        "id": "view-in-github",
        "colab_type": "text"
      },
      "source": [
        "<a href=\"https://colab.research.google.com/github/yejin0455/sesac-python/blob/main/%ED%8C%8C%EC%9D%B4%EC%8D%AC_%ED%95%A8%EC%88%98(%EA%B3%A0%EA%B8%89).ipynb\" target=\"_parent\"><img src=\"https://colab.research.google.com/assets/colab-badge.svg\" alt=\"Open In Colab\"/></a>"
      ]
    },
    {
      "cell_type": "markdown",
      "source": [
        "# 튜플\n",
        "\n",
        "여러 개의 요소로 구성한 컬렉션\n",
        "\n",
        "요소의 값을 변경할 수 없다"
      ],
      "metadata": {
        "id": "-vT5oKcmSxbp"
      }
    },
    {
      "cell_type": "code",
      "source": [
        "a, b = (2, 3)\n",
        "print(a, b)"
      ],
      "metadata": {
        "id": "Wiovqcu6YsrV"
      },
      "execution_count": null,
      "outputs": []
    },
    {
      "cell_type": "code",
      "source": [
        "t = 1, 2, 3, 4\n",
        "print(type(t))"
      ],
      "metadata": {
        "id": "HAyoyTGQYtEF"
      },
      "execution_count": null,
      "outputs": []
    },
    {
      "cell_type": "code",
      "source": [
        "a, b, c = 1, 2, 3\n",
        "print(type(a))"
      ],
      "metadata": {
        "id": "0zmk52mGY0yd"
      },
      "execution_count": null,
      "outputs": []
    },
    {
      "cell_type": "code",
      "source": [
        "a = 2\n",
        "b = 3\n",
        "print(a, b)\n",
        "a, b = b, a\n",
        "print(a, b)"
      ],
      "metadata": {
        "id": "F4-aDv_pZLG7"
      },
      "execution_count": null,
      "outputs": []
    },
    {
      "cell_type": "code",
      "source": [
        "def get_sum_average(numbers):\n",
        "    s = 0\n",
        "    for number in numbers:\n",
        "        s += number\n",
        "    return s, s/len(numbers)"
      ],
      "metadata": {
        "id": "JBpXsPnoTYSF"
      },
      "execution_count": 2,
      "outputs": []
    },
    {
      "cell_type": "code",
      "source": [
        "s, aver = get_sum_average([1, 2, 4, 5, 54, 5, 6])\n",
        "print(f\"합계:{s} 평균:{aver:.2f}\")"
      ],
      "metadata": {
        "id": "9S6Gnp-ST5aN"
      },
      "execution_count": null,
      "outputs": []
    },
    {
      "cell_type": "code",
      "source": [
        "re = get_sum_average([1, 2, 4, 5, 54, 5, 6])\n",
        "print(re)\n",
        "print(type(re))"
      ],
      "metadata": {
        "id": "pz_C-__vUFpG"
      },
      "execution_count": null,
      "outputs": []
    },
    {
      "cell_type": "markdown",
      "source": [
        "# 람다"
      ],
      "metadata": {
        "id": "g4x15R3eaWZ6"
      }
    },
    {
      "cell_type": "code",
      "source": [
        "def square(x):\n",
        "    return x*x"
      ],
      "metadata": {
        "id": "EQIv5QrwaYDj"
      },
      "execution_count": 5,
      "outputs": []
    },
    {
      "cell_type": "code",
      "source": [
        "sq = lambda x: x*x"
      ],
      "metadata": {
        "id": "V3zFyrmraoUk"
      },
      "execution_count": 6,
      "outputs": []
    },
    {
      "cell_type": "code",
      "source": [
        "def foo(x):\n",
        "    print(f\"foo({x})\")\n",
        "    return 2*x"
      ],
      "metadata": {
        "id": "frpCeUNVa6qW"
      },
      "execution_count": 7,
      "outputs": []
    },
    {
      "cell_type": "code",
      "source": [
        "re = map(foo, [1, 2, 3, 4])\n",
        "for e in re:\n",
        "    print(e)"
      ],
      "metadata": {
        "id": "ig-yH3U-bFjv"
      },
      "execution_count": null,
      "outputs": []
    },
    {
      "cell_type": "code",
      "source": [
        "re = map(sq, [1, 2, 3, 4])\n",
        "for e in re:\n",
        "    print(e)"
      ],
      "metadata": {
        "id": "eCDz2cKCbk6d"
      },
      "execution_count": null,
      "outputs": []
    },
    {
      "cell_type": "code",
      "source": [
        "re = map(lambda x:x+2, [1, 2, 3, 4])\n",
        "for e in re:\n",
        "    print(e)"
      ],
      "metadata": {
        "id": "5FkdFElTb0NC"
      },
      "execution_count": null,
      "outputs": []
    },
    {
      "cell_type": "code",
      "source": [
        "def is_odd(x):\n",
        "    return x%2 == 1"
      ],
      "metadata": {
        "id": "LkI0eqeycCR6"
      },
      "execution_count": 13,
      "outputs": []
    },
    {
      "cell_type": "code",
      "source": [
        "re = filter(is_odd, [1, 2, 3, 4, 5, 6, 7, 8, 10, 23, 4, 23, 11])\n",
        "for e in re:\n",
        "    print(e)"
      ],
      "metadata": {
        "id": "-8SyFqaLcIIj"
      },
      "execution_count": null,
      "outputs": []
    },
    {
      "cell_type": "code",
      "source": [
        "re = filter(lambda x:x%2==1, [1, 2, 3, 4, 5, 6, 7, 8, 10, 23, 4, 23, 11])\n",
        "for e in re:\n",
        "    print(e)"
      ],
      "metadata": {
        "id": "uw6pyL-4cdF0"
      },
      "execution_count": null,
      "outputs": []
    }
  ]
}