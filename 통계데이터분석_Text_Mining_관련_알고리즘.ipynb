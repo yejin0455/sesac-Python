{
  "nbformat": 4,
  "nbformat_minor": 0,
  "metadata": {
    "colab": {
      "name": "통계데이터분석-Text Mining 관련 알고리즘.ipynb",
      "provenance": [],
      "collapsed_sections": [],
      "authorship_tag": "ABX9TyM3jkU+t4znF8PC16PqIQqb",
      "include_colab_link": true
    },
    "kernelspec": {
      "name": "python3",
      "display_name": "Python 3"
    },
    "language_info": {
      "name": "python"
    }
  },
  "cells": [
    {
      "cell_type": "markdown",
      "metadata": {
        "id": "view-in-github",
        "colab_type": "text"
      },
      "source": [
        "<a href=\"https://colab.research.google.com/github/yejin0455/sesac-python/blob/main/%ED%86%B5%EA%B3%84%EB%8D%B0%EC%9D%B4%ED%84%B0%EB%B6%84%EC%84%9D_Text_Mining_%EA%B4%80%EB%A0%A8_%EC%95%8C%EA%B3%A0%EB%A6%AC%EC%A6%98.ipynb\" target=\"_parent\"><img src=\"https://colab.research.google.com/assets/colab-badge.svg\" alt=\"Open In Colab\"/></a>"
      ]
    },
    {
      "cell_type": "markdown",
      "source": [
        "언휴는 eh 도서관의 사서입니다.\n",
        "\n",
        "고객이 많아지면서 언휴에게 책을 찾아달라는 요청도 많아졌어요.\n",
        "\n",
        "이제 원하는 책을 찾는 것을 프로그램으로 제작해 보려고 합니다.\n",
        "\n",
        "책을 찾을 때 원하는 질의를 입력하면 연관성이 높은지 점수를 부여할 거예요.\n",
        "\n",
        "점수는 책 내에 질의가 나오는 빈도와 질의의 희귀도를 조합하에 계산합니다.\n",
        "\n",
        "예를 들어 책 A에 전체 단어 수가 100개이고 질의가 3번 나오면 빈도 점수는 3/100입니다.\n",
        "\n",
        "빈도 점수 = 질의 빈도/책에 단어 수\n",
        "\n",
        "전체 책이 50권이고 질의를 포함하는 책이 6권이면 희귀도는 log2(50/(6+1))입니다.\n",
        "\n",
        "희귀도 = log2((전체 책 수+1)/(질의 포함 책 수+1))\n",
        "\n",
        "log2는 밑수가 2인 로그를 의미합니다.\n",
        "\n",
        "책에 부여하는 연관성 점수는 희귀도 점수가 0일 때는 빈도 점수입니다.\n",
        "\n",
        "*연관성 점수 = 빈도 점수 * : 희귀도 점수가 0일 때\n",
        "\n",
        "희귀도 점수가 0이 아닐 때는 빈도 점수 X 희귀도 입니다.\n",
        "\n",
        "연관성 점수 = 빈도 점수 X 희귀도 :희귀도 점수가 0이 아닐 때\n",
        "\n",
        "입력은 책 내용 목록(문자열을 원소로 하는 리스트)와 검색 질의(문자열)이 주어집니다.\n",
        "\n",
        "출력(반환)은 점수 목록입니다.\n",
        "\n",
        "단어는 공백을 기준으로 구분합니다.\n",
        "\n",
        "입력: [\"abc korea bbc dde zzz\",\"abc hello yahoo\",\"korea python korea yahoo abc\",\"hello korea\",\"yahoo\",\"hello\",\"world\"],\"korea\"\n",
        "\n",
        "출력: [0.2, 0.0, 0.4, 0.5, 0.0, 0.0, 0.0]"
      ],
      "metadata": {
        "id": "yWqZeNRU_wBG"
      }
    },
    {
      "cell_type": "code",
      "execution_count": 6,
      "metadata": {
        "id": "q_W3ZBb494Ll"
      },
      "outputs": [],
      "source": [
        "import math\n",
        "def ranking(books, query):\n",
        "    #todo - 1. DF값을 구한다\n",
        "    dcnt = len(books)  #1.a 문서 개수를 구한다\n",
        "    #1.b 질의를 포함하는 문서 개수를 구한다\n",
        "    dref = 0  #참조(문서) 개수를 0으로 초기화\n",
        "    for book in books:\n",
        "        if query in books:\n",
        "            dref += 1\n",
        "    #1.c 1.a와 1.b에서 구한 값을 이용하여 idf값을 산출한다\n",
        "    idf = math.log((dcnt+1)/(dref+1), 2)\n",
        "\n",
        "    #todo - 2. 모든 책들에 TF값을 구한다\n",
        "    scores = []  #scores값을 보관할 컬렉션\n",
        "    #2.a 반복(모든 책들을 순차적으로)\n",
        "    for book in books:\n",
        "        #2.a.1 책의 내용을 단어별로 분리\n",
        "        svs = str.split(book)\n",
        "        #2.a.2 반복(해당 책의 모든 단어를 순차적으로)\n",
        "        tref = 0  #참조(단어) 카운터를 0으로 초기화\n",
        "        for word in svs:\n",
        "            #2.a.2.1 질의와 단어가 일치하면 카운터 증가\n",
        "            if word == query:\n",
        "                tref += 1\n",
        "        #2.a.3 tf값을 계산한다\n",
        "        tf = tref/len(svs)\n",
        "        #2.a.4 tf*idf값을 계산한다.\n",
        "        score = tf * idf\n",
        "        scores.append(score)\n",
        "    return scores  #결과 반환"
      ]
    },
    {
      "cell_type": "code",
      "source": [
        "re = ranking([\"abc korea bbc dde zzz\",\"abc hello yahoo\",\"korea python korea yahoo abc\",\"hello korea\",\"yahoo\",\"hello\",\"world\"],\"korea\")\n",
        "print(\"결과:\", re)\n",
        "print(\"정답:\", [0.2, 0.0, 0.4, 0.5, 0.0, 0.0, 0.0])"
      ],
      "metadata": {
        "colab": {
          "base_uri": "https://localhost:8080/"
        },
        "id": "0KHUGzga_T7e",
        "outputId": "65aad685-0169-4744-ddd8-53f019f6947d"
      },
      "execution_count": 8,
      "outputs": [
        {
          "output_type": "stream",
          "name": "stdout",
          "text": [
            "결과: [0.6000000000000001, 0.0, 1.2000000000000002, 1.5, 0.0, 0.0, 0.0]\n",
            "정답: [0.2, 0.0, 0.4, 0.5, 0.0, 0.0, 0.0]\n"
          ]
        }
      ]
    }
  ]
}