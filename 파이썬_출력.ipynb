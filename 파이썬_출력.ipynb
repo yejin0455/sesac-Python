{
  "nbformat": 4,
  "nbformat_minor": 0,
  "metadata": {
    "colab": {
      "name": "파이썬-출력.ipynb",
      "provenance": [],
      "collapsed_sections": [],
      "authorship_tag": "ABX9TyN3YEBw4Thv6qWt7/Kt7WQz",
      "include_colab_link": true
    },
    "kernelspec": {
      "name": "python3",
      "display_name": "Python 3"
    },
    "language_info": {
      "name": "python"
    }
  },
  "cells": [
    {
      "cell_type": "markdown",
      "metadata": {
        "id": "view-in-github",
        "colab_type": "text"
      },
      "source": [
        "<a href=\"https://colab.research.google.com/github/yejin0455/sesac-python/blob/main/%ED%8C%8C%EC%9D%B4%EC%8D%AC_%EC%B6%9C%EB%A0%A5.ipynb\" target=\"_parent\"><img src=\"https://colab.research.google.com/assets/colab-badge.svg\" alt=\"Open In Colab\"/></a>"
      ]
    },
    {
      "cell_type": "markdown",
      "source": [
        "# 출력 기본"
      ],
      "metadata": {
        "id": "YPGnaKKpyLPH"
      }
    },
    {
      "cell_type": "code",
      "source": [
        "print(12)\n",
        "print(12.3)\n",
        "print('hello')"
      ],
      "metadata": {
        "colab": {
          "base_uri": "https://localhost:8080/"
        },
        "id": "608x_YXDyOSc",
        "outputId": "2cd9aa27-62dd-4f85-ce9e-892aa0f1bcc1"
      },
      "execution_count": 1,
      "outputs": [
        {
          "output_type": "stream",
          "name": "stdout",
          "text": [
            "12\n",
            "12.3\n",
            "hello\n"
          ]
        }
      ]
    },
    {
      "cell_type": "code",
      "source": [
        "print(12, 12.3, 'hello')"
      ],
      "metadata": {
        "colab": {
          "base_uri": "https://localhost:8080/"
        },
        "id": "4JaHtHeryV2A",
        "outputId": "9f79a544-8a03-4f65-f35b-526b34a65e41"
      },
      "execution_count": 2,
      "outputs": [
        {
          "output_type": "stream",
          "name": "stdout",
          "text": [
            "12 12.3 hello\n"
          ]
        }
      ]
    },
    {
      "cell_type": "markdown",
      "source": [
        "# format 사용"
      ],
      "metadata": {
        "id": "JL5pYKI8ybhb"
      }
    },
    {
      "cell_type": "code",
      "source": [
        "print(\"{0} abc {1} bbc {0} aaa {2} bbb {0}\".format('홍길동', '강감찬', '을지문덕'))"
      ],
      "metadata": {
        "colab": {
          "base_uri": "https://localhost:8080/"
        },
        "id": "xSwQUKFcyeHk",
        "outputId": "bfffbe1b-0320-44fe-b369-65ab4b1ca5fe"
      },
      "execution_count": 3,
      "outputs": [
        {
          "output_type": "stream",
          "name": "stdout",
          "text": [
            "홍길동 abc 강감찬 bbc 홍길동 aaa 을지문덕 bbb 홍길동\n"
          ]
        }
      ]
    },
    {
      "cell_type": "code",
      "source": [
        "print(\"{0:3d}\".format(12))\n",
        "print(\"{0:10d}\".format(12))"
      ],
      "metadata": {
        "colab": {
          "base_uri": "https://localhost:8080/"
        },
        "id": "UFOV2MiczBBL",
        "outputId": "9fa6945a-f508-4eb3-e823-1205c0344f72"
      },
      "execution_count": 4,
      "outputs": [
        {
          "output_type": "stream",
          "name": "stdout",
          "text": [
            " 12\n",
            "        12\n"
          ]
        }
      ]
    },
    {
      "cell_type": "code",
      "source": [
        "print(\"{0:010d}\".format(12))"
      ],
      "metadata": {
        "colab": {
          "base_uri": "https://localhost:8080/"
        },
        "id": "J4P6CBsdzziI",
        "outputId": "1e7d6da4-e38b-4f58-c53b-e32f2a9e1654"
      },
      "execution_count": 5,
      "outputs": [
        {
          "output_type": "stream",
          "name": "stdout",
          "text": [
            "0000000012\n"
          ]
        }
      ]
    },
    {
      "cell_type": "code",
      "source": [
        "print(\"{0:+10d}\".format(-12))\n",
        "print(\"{0:+10d}\".format(12))"
      ],
      "metadata": {
        "colab": {
          "base_uri": "https://localhost:8080/"
        },
        "id": "wSRCFlUpz79g",
        "outputId": "c84025a1-d279-46ab-e0ba-3e3d9c406f8b"
      },
      "execution_count": 7,
      "outputs": [
        {
          "output_type": "stream",
          "name": "stdout",
          "text": [
            "       -12\n",
            "       +12\n"
          ]
        }
      ]
    },
    {
      "cell_type": "code",
      "source": [
        "print(\"{0:15.2f}\".format(3/2))"
      ],
      "metadata": {
        "colab": {
          "base_uri": "https://localhost:8080/"
        },
        "id": "zV8DtRAK1gwB",
        "outputId": "4a65650e-3803-4535-ae5c-3bb6ff342f36"
      },
      "execution_count": 11,
      "outputs": [
        {
          "output_type": "stream",
          "name": "stdout",
          "text": [
            "           1.50\n"
          ]
        }
      ]
    },
    {
      "cell_type": "code",
      "source": [
        "print(\"{0:3o} {0:3d} {0:3x}\".format(12))"
      ],
      "metadata": {
        "colab": {
          "base_uri": "https://localhost:8080/"
        },
        "id": "LlSlqUfO1wkI",
        "outputId": "d7ecb350-bd32-4375-d112-6234a0398150"
      },
      "execution_count": 12,
      "outputs": [
        {
          "output_type": "stream",
          "name": "stdout",
          "text": [
            " 14  12   c\n"
          ]
        }
      ]
    },
    {
      "cell_type": "markdown",
      "source": [
        "# f\"문자열\""
      ],
      "metadata": {
        "id": "3D3YuJOP0l-L"
      }
    },
    {
      "cell_type": "code",
      "source": [
        "num = 23\n",
        "name = \"홍길동\"\n",
        "height = 185.3\n",
        "weight = 89\n",
        "print(f\"번호는 {num} 이름은 {name} 키는 {height} 몸무게{weight}\")"
      ],
      "metadata": {
        "colab": {
          "base_uri": "https://localhost:8080/"
        },
        "id": "JhLkjnAs0ttw",
        "outputId": "2d748c0a-b86e-4a98-d1ab-33731a5860fe"
      },
      "execution_count": 9,
      "outputs": [
        {
          "output_type": "stream",
          "name": "stdout",
          "text": [
            "번호는 23 이름은 홍길동 키는 185.3 몸무게89\n"
          ]
        }
      ]
    }
  ]
}