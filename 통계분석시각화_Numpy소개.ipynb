{
  "nbformat": 4,
  "nbformat_minor": 0,
  "metadata": {
    "colab": {
      "name": "통계분석시각화-Numpy소개.ipynb",
      "provenance": [],
      "collapsed_sections": [],
      "authorship_tag": "ABX9TyPoPLMTO6DQz3o4V9nYyUhj",
      "include_colab_link": true
    },
    "kernelspec": {
      "name": "python3",
      "display_name": "Python 3"
    },
    "language_info": {
      "name": "python"
    }
  },
  "cells": [
    {
      "cell_type": "markdown",
      "metadata": {
        "id": "view-in-github",
        "colab_type": "text"
      },
      "source": [
        "<a href=\"https://colab.research.google.com/github/yejin0455/sesac-python/blob/main/%ED%86%B5%EA%B3%84%EB%B6%84%EC%84%9D%EC%8B%9C%EA%B0%81%ED%99%94_Numpy%EC%86%8C%EA%B0%9C.ipynb\" target=\"_parent\"><img src=\"https://colab.research.google.com/assets/colab-badge.svg\" alt=\"Open In Colab\"/></a>"
      ]
    },
    {
      "cell_type": "markdown",
      "source": [
        "# Numpy 소개"
      ],
      "metadata": {
        "id": "x2AkLngXOGh_"
      }
    },
    {
      "cell_type": "code",
      "execution_count": 1,
      "metadata": {
        "id": "4-F1htawKa-h"
      },
      "outputs": [],
      "source": [
        "import numpy as np"
      ]
    },
    {
      "cell_type": "markdown",
      "source": [
        "numpy는 선형 시퀀스를 배열 개체로 취급"
      ],
      "metadata": {
        "id": "7OlnUZ0XOcIv"
      }
    },
    {
      "cell_type": "code",
      "source": [
        "ls = [1, 2, 3]\n",
        "arr = np.array(ls)\n",
        "print(arr)"
      ],
      "metadata": {
        "colab": {
          "base_uri": "https://localhost:8080/"
        },
        "id": "_eKKbI3gOGIN",
        "outputId": "6f627409-539d-48ec-897f-50161c727729"
      },
      "execution_count": 2,
      "outputs": [
        {
          "output_type": "stream",
          "name": "stdout",
          "text": [
            "[1 2 3]\n"
          ]
        }
      ]
    },
    {
      "cell_type": "code",
      "source": [
        "arr = np.array([1, 2, 3])\n",
        "print(arr)"
      ],
      "metadata": {
        "colab": {
          "base_uri": "https://localhost:8080/"
        },
        "id": "DLz5gyI7OmQ2",
        "outputId": "39aa309d-878c-40d9-b462-a8ffb690e080"
      },
      "execution_count": 3,
      "outputs": [
        {
          "output_type": "stream",
          "name": "stdout",
          "text": [
            "[1 2 3]\n"
          ]
        }
      ]
    },
    {
      "cell_type": "code",
      "source": [
        "print(\"구조:\", arr.shape)\n",
        "print(\"차원:\", arr.ndim)"
      ],
      "metadata": {
        "colab": {
          "base_uri": "https://localhost:8080/"
        },
        "id": "F5wVieuaOq_u",
        "outputId": "7ab94ced-4403-4b03-e126-6c61db536c2c"
      },
      "execution_count": 4,
      "outputs": [
        {
          "output_type": "stream",
          "name": "stdout",
          "text": [
            "구조: (3,)\n",
            "차원: 1\n"
          ]
        }
      ]
    },
    {
      "cell_type": "markdown",
      "source": [
        "다차원 배열"
      ],
      "metadata": {
        "id": "udbxLVW8PT_i"
      }
    },
    {
      "cell_type": "code",
      "source": [
        "ls = [[1, 2, 3], [4, 5, 6], [7, 8, 9], [10, 11, 12]]\n",
        "arr = np.array(ls)\n",
        "print(arr)"
      ],
      "metadata": {
        "colab": {
          "base_uri": "https://localhost:8080/"
        },
        "id": "JIqRP3sePVYo",
        "outputId": "50d6df2f-351e-422f-a5d5-3045277791fe"
      },
      "execution_count": 5,
      "outputs": [
        {
          "output_type": "stream",
          "name": "stdout",
          "text": [
            "[[ 1  2  3]\n",
            " [ 4  5  6]\n",
            " [ 7  8  9]\n",
            " [10 11 12]]\n"
          ]
        }
      ]
    },
    {
      "cell_type": "code",
      "source": [
        "print(\"구조:\", arr.shape)\n",
        "print(\"차원:\", arr.ndim)"
      ],
      "metadata": {
        "colab": {
          "base_uri": "https://localhost:8080/"
        },
        "id": "kB1SrJNrPgXe",
        "outputId": "068a1a91-8a67-47a6-ce5d-2cc2c1187383"
      },
      "execution_count": 6,
      "outputs": [
        {
          "output_type": "stream",
          "name": "stdout",
          "text": [
            "구조: (4, 3)\n",
            "차원: 2\n"
          ]
        }
      ]
    },
    {
      "cell_type": "markdown",
      "source": [
        "# 다양한 방법의 생성"
      ],
      "metadata": {
        "id": "9dQIY1TlQZg-"
      }
    },
    {
      "cell_type": "code",
      "source": [
        "z_arr = np.zeros(10)\n",
        "print(z_arr)\n",
        "print(\"구조:\", z_arr.shape)\n",
        "print(\"차원:\", z_arr.ndim)\n",
        "print(\"원소형식:\", z_arr.dtype)"
      ],
      "metadata": {
        "colab": {
          "base_uri": "https://localhost:8080/"
        },
        "id": "fHvytppmQeL_",
        "outputId": "55d079a8-96e3-4214-8fa4-98ade307b68b"
      },
      "execution_count": 8,
      "outputs": [
        {
          "output_type": "stream",
          "name": "stdout",
          "text": [
            "[0. 0. 0. 0. 0. 0. 0. 0. 0. 0.]\n",
            "구조: (10,)\n",
            "차원: 1\n",
            "원소형식: float64\n"
          ]
        }
      ]
    },
    {
      "cell_type": "code",
      "source": [
        "z_arr = np.zeros(10, dtype=int)\n",
        "print(z_arr)\n",
        "print(\"구조:\", z_arr.shape)\n",
        "print(\"차원:\", z_arr.ndim)\n",
        "print(\"원소형식:\", z_arr.dtype)"
      ],
      "metadata": {
        "colab": {
          "base_uri": "https://localhost:8080/"
        },
        "id": "sPfrMfsqRYX-",
        "outputId": "a758df85-0165-4fa3-8b8a-0835d686bb2a"
      },
      "execution_count": 9,
      "outputs": [
        {
          "output_type": "stream",
          "name": "stdout",
          "text": [
            "[0 0 0 0 0 0 0 0 0 0]\n",
            "구조: (10,)\n",
            "차원: 1\n",
            "원소형식: int64\n"
          ]
        }
      ]
    },
    {
      "cell_type": "code",
      "source": [
        "z_arr = np.zeros((2, 3))\n",
        "print(z_arr)\n",
        "print(\"구조:\", z_arr.shape)\n",
        "print(\"차원:\", z_arr.ndim)\n",
        "print(\"원소형식:\", z_arr.dtype)"
      ],
      "metadata": {
        "colab": {
          "base_uri": "https://localhost:8080/"
        },
        "id": "hoDGJaUeS9ZW",
        "outputId": "70e7dd63-828d-4f03-c429-3ff56c8ccd44"
      },
      "execution_count": 10,
      "outputs": [
        {
          "output_type": "stream",
          "name": "stdout",
          "text": [
            "[[0. 0. 0.]\n",
            " [0. 0. 0.]]\n",
            "구조: (2, 3)\n",
            "차원: 2\n",
            "원소형식: float64\n"
          ]
        }
      ]
    },
    {
      "cell_type": "code",
      "source": [
        "def view_arr_info(arr):\n",
        "    print(arr)\n",
        "    print(\"구조:\", arr.shape)\n",
        "    print(\"차원:\", arr.ndim)\n",
        "    print(\"원소형식:\", arr.dtype)"
      ],
      "metadata": {
        "id": "i-ALrT-2TbQK"
      },
      "execution_count": 15,
      "outputs": []
    },
    {
      "cell_type": "code",
      "source": [
        "z_arr = np.zeros((3, 2, 4), dtype=int)\n",
        "view_arr_info(z_arr)"
      ],
      "metadata": {
        "colab": {
          "base_uri": "https://localhost:8080/"
        },
        "id": "sJJY5pFyTl6O",
        "outputId": "e7db5bda-bb8f-4b09-9414-e84b849c65aa"
      },
      "execution_count": 16,
      "outputs": [
        {
          "output_type": "stream",
          "name": "stdout",
          "text": [
            "[[[0 0 0 0]\n",
            "  [0 0 0 0]]\n",
            "\n",
            " [[0 0 0 0]\n",
            "  [0 0 0 0]]\n",
            "\n",
            " [[0 0 0 0]\n",
            "  [0 0 0 0]]]\n",
            "구조: (3, 2, 4)\n",
            "차원: 3\n",
            "원소형식: int64\n"
          ]
        }
      ]
    },
    {
      "cell_type": "code",
      "source": [
        "o_arr = np.ones(10)\n",
        "view_arr_info(o_arr)"
      ],
      "metadata": {
        "colab": {
          "base_uri": "https://localhost:8080/"
        },
        "id": "eD0Kr4xrTsku",
        "outputId": "6e753c2d-b137-421a-d424-6c9505dd1c41"
      },
      "execution_count": 17,
      "outputs": [
        {
          "output_type": "stream",
          "name": "stdout",
          "text": [
            "[1. 1. 1. 1. 1. 1. 1. 1. 1. 1.]\n",
            "구조: (10,)\n",
            "차원: 1\n",
            "원소형식: float64\n"
          ]
        }
      ]
    },
    {
      "cell_type": "code",
      "source": [
        "s_arr = np.arange(100)\n",
        "view_arr_info(s_arr)"
      ],
      "metadata": {
        "colab": {
          "base_uri": "https://localhost:8080/"
        },
        "id": "KZ9oaJwmaQcM",
        "outputId": "4b2a5aa1-915f-4c03-9ebf-d738b2ecc40f"
      },
      "execution_count": 18,
      "outputs": [
        {
          "output_type": "stream",
          "name": "stdout",
          "text": [
            "[ 0  1  2  3  4  5  6  7  8  9 10 11 12 13 14 15 16 17 18 19 20 21 22 23\n",
            " 24 25 26 27 28 29 30 31 32 33 34 35 36 37 38 39 40 41 42 43 44 45 46 47\n",
            " 48 49 50 51 52 53 54 55 56 57 58 59 60 61 62 63 64 65 66 67 68 69 70 71\n",
            " 72 73 74 75 76 77 78 79 80 81 82 83 84 85 86 87 88 89 90 91 92 93 94 95\n",
            " 96 97 98 99]\n",
            "구조: (100,)\n",
            "차원: 1\n",
            "원소형식: int64\n"
          ]
        }
      ]
    },
    {
      "cell_type": "code",
      "source": [
        "s_arr = np.arange(50, 100)\n",
        "view_arr_info(s_arr)"
      ],
      "metadata": {
        "colab": {
          "base_uri": "https://localhost:8080/"
        },
        "id": "j_UhKIAnaX6U",
        "outputId": "3177075c-b45f-4a51-af30-522355d091ce"
      },
      "execution_count": 19,
      "outputs": [
        {
          "output_type": "stream",
          "name": "stdout",
          "text": [
            "[50 51 52 53 54 55 56 57 58 59 60 61 62 63 64 65 66 67 68 69 70 71 72 73\n",
            " 74 75 76 77 78 79 80 81 82 83 84 85 86 87 88 89 90 91 92 93 94 95 96 97\n",
            " 98 99]\n",
            "구조: (50,)\n",
            "차원: 1\n",
            "원소형식: int64\n"
          ]
        }
      ]
    },
    {
      "cell_type": "markdown",
      "source": [
        "# 기본적인 사용"
      ],
      "metadata": {
        "id": "DVDZZnJFd2NF"
      }
    },
    {
      "cell_type": "code",
      "source": [
        "a1 = np.arange(1, 100)\n",
        "view_arr_info(a1)"
      ],
      "metadata": {
        "colab": {
          "base_uri": "https://localhost:8080/"
        },
        "id": "9ICJTLzqatP_",
        "outputId": "3446a75d-a912-4e0d-b4e4-dbfa3e5121d8"
      },
      "execution_count": 20,
      "outputs": [
        {
          "output_type": "stream",
          "name": "stdout",
          "text": [
            "[ 1  2  3  4  5  6  7  8  9 10 11 12 13 14 15 16 17 18 19 20 21 22 23 24\n",
            " 25 26 27 28 29 30 31 32 33 34 35 36 37 38 39 40 41 42 43 44 45 46 47 48\n",
            " 49 50 51 52 53 54 55 56 57 58 59 60 61 62 63 64 65 66 67 68 69 70 71 72\n",
            " 73 74 75 76 77 78 79 80 81 82 83 84 85 86 87 88 89 90 91 92 93 94 95 96\n",
            " 97 98 99]\n",
            "구조: (99,)\n",
            "차원: 1\n",
            "원소형식: int64\n"
          ]
        }
      ]
    },
    {
      "cell_type": "code",
      "source": [
        "print(a1[4])  #인덱스를 통해 원소에 접근\n",
        "a1[4] = 9\n",
        "print(a1[4])"
      ],
      "metadata": {
        "colab": {
          "base_uri": "https://localhost:8080/"
        },
        "id": "ntXN1Z5wd_YO",
        "outputId": "baf27c82-40eb-4b79-f131-21296b1f6dc6"
      },
      "execution_count": 21,
      "outputs": [
        {
          "output_type": "stream",
          "name": "stdout",
          "text": [
            "5\n",
            "9\n"
          ]
        }
      ]
    },
    {
      "cell_type": "code",
      "source": [
        "print(a1[2:8])  #슬라이스를 통해 부분 원소를 선택\n",
        "print(a1[:8])\n",
        "print(a1[8:])"
      ],
      "metadata": {
        "colab": {
          "base_uri": "https://localhost:8080/"
        },
        "id": "9wqfGwYbeIhm",
        "outputId": "1ed84657-70a3-40f1-c2f0-000772d231ba"
      },
      "execution_count": 22,
      "outputs": [
        {
          "output_type": "stream",
          "name": "stdout",
          "text": [
            "[3 4 9 6 7 8]\n",
            "[1 2 3 4 9 6 7 8]\n",
            "[ 9 10 11 12 13 14 15 16 17 18 19 20 21 22 23 24 25 26 27 28 29 30 31 32\n",
            " 33 34 35 36 37 38 39 40 41 42 43 44 45 46 47 48 49 50 51 52 53 54 55 56\n",
            " 57 58 59 60 61 62 63 64 65 66 67 68 69 70 71 72 73 74 75 76 77 78 79 80\n",
            " 81 82 83 84 85 86 87 88 89 90 91 92 93 94 95 96 97 98 99]\n"
          ]
        }
      ]
    },
    {
      "cell_type": "code",
      "source": [
        "a1 = np.arange(0, 100)\n",
        "view_arr_info(a1)\n",
        "a2 = a1.reshape(5, 20)\n",
        "view_arr_info(a2)"
      ],
      "metadata": {
        "colab": {
          "base_uri": "https://localhost:8080/"
        },
        "id": "LmKwvr5Oeoo7",
        "outputId": "c98a7647-55c2-4f99-8f4f-3d127ae15f6a"
      },
      "execution_count": 23,
      "outputs": [
        {
          "output_type": "stream",
          "name": "stdout",
          "text": [
            "[ 0  1  2  3  4  5  6  7  8  9 10 11 12 13 14 15 16 17 18 19 20 21 22 23\n",
            " 24 25 26 27 28 29 30 31 32 33 34 35 36 37 38 39 40 41 42 43 44 45 46 47\n",
            " 48 49 50 51 52 53 54 55 56 57 58 59 60 61 62 63 64 65 66 67 68 69 70 71\n",
            " 72 73 74 75 76 77 78 79 80 81 82 83 84 85 86 87 88 89 90 91 92 93 94 95\n",
            " 96 97 98 99]\n",
            "구조: (100,)\n",
            "차원: 1\n",
            "원소형식: int64\n",
            "[[ 0  1  2  3  4  5  6  7  8  9 10 11 12 13 14 15 16 17 18 19]\n",
            " [20 21 22 23 24 25 26 27 28 29 30 31 32 33 34 35 36 37 38 39]\n",
            " [40 41 42 43 44 45 46 47 48 49 50 51 52 53 54 55 56 57 58 59]\n",
            " [60 61 62 63 64 65 66 67 68 69 70 71 72 73 74 75 76 77 78 79]\n",
            " [80 81 82 83 84 85 86 87 88 89 90 91 92 93 94 95 96 97 98 99]]\n",
            "구조: (5, 20)\n",
            "차원: 2\n",
            "원소형식: int64\n"
          ]
        }
      ]
    },
    {
      "cell_type": "code",
      "source": [
        "print(a2[0])  #인덱스 0인 원소: 리스트[0, 1, 2,....19]\n",
        "print(a2[0][2])  #인덱스 0인 원소: 리스트[0, 1, 2, ....19]의 인덱스 2인 원소"
      ],
      "metadata": {
        "colab": {
          "base_uri": "https://localhost:8080/"
        },
        "id": "zQzsTfelexyu",
        "outputId": "f80a6dde-14ad-4a4c-dd26-e9e94cc639b2"
      },
      "execution_count": 25,
      "outputs": [
        {
          "output_type": "stream",
          "name": "stdout",
          "text": [
            "[ 0  1  2  3  4  5  6  7  8  9 10 11 12 13 14 15 16 17 18 19]\n",
            "2\n"
          ]
        }
      ]
    },
    {
      "cell_type": "code",
      "source": [
        "#음의 정수로 인덱스를 표현하면 뒤에서부터 접근 (-1부터 시작)\n",
        "print(a2[0][-1])  #인덱스 0인 원소: 리스트[0, 1, 2, ....19]의 인덱스 -1인 원소"
      ],
      "metadata": {
        "colab": {
          "base_uri": "https://localhost:8080/"
        },
        "id": "eXeLRwzofGI2",
        "outputId": "fd4401da-6306-49f8-a81c-77712f69093d"
      },
      "execution_count": 26,
      "outputs": [
        {
          "output_type": "stream",
          "name": "stdout",
          "text": [
            "19\n"
          ]
        }
      ]
    },
    {
      "cell_type": "markdown",
      "source": [
        "# 구조 변경"
      ],
      "metadata": {
        "id": "4EPtcTChf8Fy"
      }
    },
    {
      "cell_type": "code",
      "source": [
        "a1 = np.arange(100)\n",
        "view_arr_info(a1)"
      ],
      "metadata": {
        "colab": {
          "base_uri": "https://localhost:8080/"
        },
        "id": "kx3IEx-Ff-KQ",
        "outputId": "acc34f45-f3a2-48d1-c5a2-0002282540b0"
      },
      "execution_count": 27,
      "outputs": [
        {
          "output_type": "stream",
          "name": "stdout",
          "text": [
            "[ 0  1  2  3  4  5  6  7  8  9 10 11 12 13 14 15 16 17 18 19 20 21 22 23\n",
            " 24 25 26 27 28 29 30 31 32 33 34 35 36 37 38 39 40 41 42 43 44 45 46 47\n",
            " 48 49 50 51 52 53 54 55 56 57 58 59 60 61 62 63 64 65 66 67 68 69 70 71\n",
            " 72 73 74 75 76 77 78 79 80 81 82 83 84 85 86 87 88 89 90 91 92 93 94 95\n",
            " 96 97 98 99]\n",
            "구조: (100,)\n",
            "차원: 1\n",
            "원소형식: int64\n"
          ]
        }
      ]
    },
    {
      "cell_type": "code",
      "source": [
        "a4 = a1.reshape((5, 2, 5, -1))\n",
        "view_arr_info(a4)"
      ],
      "metadata": {
        "colab": {
          "base_uri": "https://localhost:8080/"
        },
        "id": "fpbDD-xQgEE-",
        "outputId": "eb7f3346-73b4-4b5d-cbc0-293032cd180b"
      },
      "execution_count": 28,
      "outputs": [
        {
          "output_type": "stream",
          "name": "stdout",
          "text": [
            "[[[[ 0  1]\n",
            "   [ 2  3]\n",
            "   [ 4  5]\n",
            "   [ 6  7]\n",
            "   [ 8  9]]\n",
            "\n",
            "  [[10 11]\n",
            "   [12 13]\n",
            "   [14 15]\n",
            "   [16 17]\n",
            "   [18 19]]]\n",
            "\n",
            "\n",
            " [[[20 21]\n",
            "   [22 23]\n",
            "   [24 25]\n",
            "   [26 27]\n",
            "   [28 29]]\n",
            "\n",
            "  [[30 31]\n",
            "   [32 33]\n",
            "   [34 35]\n",
            "   [36 37]\n",
            "   [38 39]]]\n",
            "\n",
            "\n",
            " [[[40 41]\n",
            "   [42 43]\n",
            "   [44 45]\n",
            "   [46 47]\n",
            "   [48 49]]\n",
            "\n",
            "  [[50 51]\n",
            "   [52 53]\n",
            "   [54 55]\n",
            "   [56 57]\n",
            "   [58 59]]]\n",
            "\n",
            "\n",
            " [[[60 61]\n",
            "   [62 63]\n",
            "   [64 65]\n",
            "   [66 67]\n",
            "   [68 69]]\n",
            "\n",
            "  [[70 71]\n",
            "   [72 73]\n",
            "   [74 75]\n",
            "   [76 77]\n",
            "   [78 79]]]\n",
            "\n",
            "\n",
            " [[[80 81]\n",
            "   [82 83]\n",
            "   [84 85]\n",
            "   [86 87]\n",
            "   [88 89]]\n",
            "\n",
            "  [[90 91]\n",
            "   [92 93]\n",
            "   [94 95]\n",
            "   [96 97]\n",
            "   [98 99]]]]\n",
            "구조: (5, 2, 5, 2)\n",
            "차원: 4\n",
            "원소형식: int64\n"
          ]
        }
      ]
    },
    {
      "cell_type": "code",
      "source": [
        "a2 = a1.reshape((20, -1))\n",
        "view_arr_info(a2)"
      ],
      "metadata": {
        "colab": {
          "base_uri": "https://localhost:8080/"
        },
        "id": "ZMe_y8wRgLH2",
        "outputId": "c7ec609d-536d-4a17-d0a3-ad53b338fd6e"
      },
      "execution_count": 29,
      "outputs": [
        {
          "output_type": "stream",
          "name": "stdout",
          "text": [
            "[[ 0  1  2  3  4]\n",
            " [ 5  6  7  8  9]\n",
            " [10 11 12 13 14]\n",
            " [15 16 17 18 19]\n",
            " [20 21 22 23 24]\n",
            " [25 26 27 28 29]\n",
            " [30 31 32 33 34]\n",
            " [35 36 37 38 39]\n",
            " [40 41 42 43 44]\n",
            " [45 46 47 48 49]\n",
            " [50 51 52 53 54]\n",
            " [55 56 57 58 59]\n",
            " [60 61 62 63 64]\n",
            " [65 66 67 68 69]\n",
            " [70 71 72 73 74]\n",
            " [75 76 77 78 79]\n",
            " [80 81 82 83 84]\n",
            " [85 86 87 88 89]\n",
            " [90 91 92 93 94]\n",
            " [95 96 97 98 99]]\n",
            "구조: (20, 5)\n",
            "차원: 2\n",
            "원소형식: int64\n"
          ]
        }
      ]
    },
    {
      "cell_type": "code",
      "source": [
        "a1 = np.arange(784)\n",
        "view_arr_info(a1)"
      ],
      "metadata": {
        "id": "OZv7rQp0gaOX"
      },
      "execution_count": null,
      "outputs": []
    },
    {
      "cell_type": "code",
      "source": [
        "a2 = a1.reshape(28, -1)\n",
        "view_arr_info(a2)"
      ],
      "metadata": {
        "colab": {
          "base_uri": "https://localhost:8080/"
        },
        "id": "4bjRJWOnggjf",
        "outputId": "5cd63517-a4c0-4313-ac9b-ead9d6750fd3"
      },
      "execution_count": 31,
      "outputs": [
        {
          "output_type": "stream",
          "name": "stdout",
          "text": [
            "[[  0   1   2   3   4   5   6   7   8   9  10  11  12  13  14  15  16  17\n",
            "   18  19  20  21  22  23  24  25  26  27]\n",
            " [ 28  29  30  31  32  33  34  35  36  37  38  39  40  41  42  43  44  45\n",
            "   46  47  48  49  50  51  52  53  54  55]\n",
            " [ 56  57  58  59  60  61  62  63  64  65  66  67  68  69  70  71  72  73\n",
            "   74  75  76  77  78  79  80  81  82  83]\n",
            " [ 84  85  86  87  88  89  90  91  92  93  94  95  96  97  98  99 100 101\n",
            "  102 103 104 105 106 107 108 109 110 111]\n",
            " [112 113 114 115 116 117 118 119 120 121 122 123 124 125 126 127 128 129\n",
            "  130 131 132 133 134 135 136 137 138 139]\n",
            " [140 141 142 143 144 145 146 147 148 149 150 151 152 153 154 155 156 157\n",
            "  158 159 160 161 162 163 164 165 166 167]\n",
            " [168 169 170 171 172 173 174 175 176 177 178 179 180 181 182 183 184 185\n",
            "  186 187 188 189 190 191 192 193 194 195]\n",
            " [196 197 198 199 200 201 202 203 204 205 206 207 208 209 210 211 212 213\n",
            "  214 215 216 217 218 219 220 221 222 223]\n",
            " [224 225 226 227 228 229 230 231 232 233 234 235 236 237 238 239 240 241\n",
            "  242 243 244 245 246 247 248 249 250 251]\n",
            " [252 253 254 255 256 257 258 259 260 261 262 263 264 265 266 267 268 269\n",
            "  270 271 272 273 274 275 276 277 278 279]\n",
            " [280 281 282 283 284 285 286 287 288 289 290 291 292 293 294 295 296 297\n",
            "  298 299 300 301 302 303 304 305 306 307]\n",
            " [308 309 310 311 312 313 314 315 316 317 318 319 320 321 322 323 324 325\n",
            "  326 327 328 329 330 331 332 333 334 335]\n",
            " [336 337 338 339 340 341 342 343 344 345 346 347 348 349 350 351 352 353\n",
            "  354 355 356 357 358 359 360 361 362 363]\n",
            " [364 365 366 367 368 369 370 371 372 373 374 375 376 377 378 379 380 381\n",
            "  382 383 384 385 386 387 388 389 390 391]\n",
            " [392 393 394 395 396 397 398 399 400 401 402 403 404 405 406 407 408 409\n",
            "  410 411 412 413 414 415 416 417 418 419]\n",
            " [420 421 422 423 424 425 426 427 428 429 430 431 432 433 434 435 436 437\n",
            "  438 439 440 441 442 443 444 445 446 447]\n",
            " [448 449 450 451 452 453 454 455 456 457 458 459 460 461 462 463 464 465\n",
            "  466 467 468 469 470 471 472 473 474 475]\n",
            " [476 477 478 479 480 481 482 483 484 485 486 487 488 489 490 491 492 493\n",
            "  494 495 496 497 498 499 500 501 502 503]\n",
            " [504 505 506 507 508 509 510 511 512 513 514 515 516 517 518 519 520 521\n",
            "  522 523 524 525 526 527 528 529 530 531]\n",
            " [532 533 534 535 536 537 538 539 540 541 542 543 544 545 546 547 548 549\n",
            "  550 551 552 553 554 555 556 557 558 559]\n",
            " [560 561 562 563 564 565 566 567 568 569 570 571 572 573 574 575 576 577\n",
            "  578 579 580 581 582 583 584 585 586 587]\n",
            " [588 589 590 591 592 593 594 595 596 597 598 599 600 601 602 603 604 605\n",
            "  606 607 608 609 610 611 612 613 614 615]\n",
            " [616 617 618 619 620 621 622 623 624 625 626 627 628 629 630 631 632 633\n",
            "  634 635 636 637 638 639 640 641 642 643]\n",
            " [644 645 646 647 648 649 650 651 652 653 654 655 656 657 658 659 660 661\n",
            "  662 663 664 665 666 667 668 669 670 671]\n",
            " [672 673 674 675 676 677 678 679 680 681 682 683 684 685 686 687 688 689\n",
            "  690 691 692 693 694 695 696 697 698 699]\n",
            " [700 701 702 703 704 705 706 707 708 709 710 711 712 713 714 715 716 717\n",
            "  718 719 720 721 722 723 724 725 726 727]\n",
            " [728 729 730 731 732 733 734 735 736 737 738 739 740 741 742 743 744 745\n",
            "  746 747 748 749 750 751 752 753 754 755]\n",
            " [756 757 758 759 760 761 762 763 764 765 766 767 768 769 770 771 772 773\n",
            "  774 775 776 777 778 779 780 781 782 783]]\n",
            "구조: (28, 28)\n",
            "차원: 2\n",
            "원소형식: int64\n"
          ]
        }
      ]
    },
    {
      "cell_type": "markdown",
      "source": [
        "# 쉬어가는 코너"
      ],
      "metadata": {
        "id": "4CJddk7ZiSBS"
      }
    },
    {
      "cell_type": "code",
      "source": [
        "from tensorflow import keras"
      ],
      "metadata": {
        "id": "5ZSgZCNDiUAH"
      },
      "execution_count": 32,
      "outputs": []
    },
    {
      "cell_type": "code",
      "source": [
        "data = keras.datasets.mnist.load_data()  #손글씨 데이터를 다운로드"
      ],
      "metadata": {
        "colab": {
          "base_uri": "https://localhost:8080/"
        },
        "id": "aQ3Ub5_kiXKG",
        "outputId": "0fb7dba2-7258-4f96-a63d-4c2ba15c086d"
      },
      "execution_count": 34,
      "outputs": [
        {
          "output_type": "stream",
          "name": "stdout",
          "text": [
            "Downloading data from https://storage.googleapis.com/tensorflow/tf-keras-datasets/mnist.npz\n",
            "11493376/11490434 [==============================] - 0s 0us/step\n",
            "11501568/11490434 [==============================] - 0s 0us/step\n"
          ]
        }
      ]
    },
    {
      "cell_type": "code",
      "source": [
        "train_data, test_data = data  #학습용 데이터, 평가용 데이터로 분리\n",
        "image_train, label_train = train_data  #이미지, 실제값"
      ],
      "metadata": {
        "id": "B7eV6SFeiht4"
      },
      "execution_count": 35,
      "outputs": []
    },
    {
      "cell_type": "code",
      "source": [
        "print(image_train.shape)\n",
        "print(label_train.shape)"
      ],
      "metadata": {
        "colab": {
          "base_uri": "https://localhost:8080/"
        },
        "id": "TeRW1taxi3Ho",
        "outputId": "5fecb791-f749-42b6-b737-ff7708bace5e"
      },
      "execution_count": 37,
      "outputs": [
        {
          "output_type": "stream",
          "name": "stdout",
          "text": [
            "(60000, 28, 28)\n",
            "(60000,)\n"
          ]
        }
      ]
    },
    {
      "cell_type": "code",
      "source": [
        "for r in range(28):\n",
        "    for c in range(28):\n",
        "        if(image_train[1][r][c] == 0):\n",
        "            print(\" \", end='')\n",
        "        else:\n",
        "            print(\"*\", end='')\n",
        "    print()\n",
        "print(label_train[1])"
      ],
      "metadata": {
        "colab": {
          "base_uri": "https://localhost:8080/"
        },
        "id": "lMNlTvQwi6Mf",
        "outputId": "188c1764-2123-4412-bad1-40f07e25ea12"
      },
      "execution_count": 39,
      "outputs": [
        {
          "output_type": "stream",
          "name": "stdout",
          "text": [
            "                            \n",
            "                            \n",
            "                            \n",
            "                            \n",
            "               *****        \n",
            "              ******        \n",
            "             *********      \n",
            "           ***********      \n",
            "           ***********      \n",
            "          ************      \n",
            "         *********  ***     \n",
            "        ******      ***     \n",
            "       *******      ***     \n",
            "       ****         ***     \n",
            "       ***          ***     \n",
            "      ****          ***     \n",
            "      ****        *****     \n",
            "      ***        *****      \n",
            "      ***       ****        \n",
            "      ***      ****         \n",
            "      *************         \n",
            "      ***********           \n",
            "      *********             \n",
            "       *******              \n",
            "                            \n",
            "                            \n",
            "                            \n",
            "                            \n",
            "0\n"
          ]
        }
      ]
    }
  ]
}