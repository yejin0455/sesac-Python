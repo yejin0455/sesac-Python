{
  "nbformat": 4,
  "nbformat_minor": 0,
  "metadata": {
    "colab": {
      "name": "파이썬-시작하기.ipynb",
      "provenance": [],
      "authorship_tag": "ABX9TyMbm1TNPjm5ZunGrTtVjRJJ",
      "include_colab_link": true
    },
    "kernelspec": {
      "name": "python3",
      "display_name": "Python 3"
    },
    "language_info": {
      "name": "python"
    }
  },
  "cells": [
    {
      "cell_type": "markdown",
      "metadata": {
        "id": "view-in-github",
        "colab_type": "text"
      },
      "source": [
        "<a href=\"https://colab.research.google.com/github/yejin0455/sesac-python/blob/main/%ED%8C%8C%EC%9D%B4%EC%8D%AC_%EC%8B%9C%EC%9E%91%ED%95%98%EA%B8%B0.ipynb\" target=\"_parent\"><img src=\"https://colab.research.google.com/assets/colab-badge.svg\" alt=\"Open In Colab\"/></a>"
      ]
    },
    {
      "cell_type": "markdown",
      "source": [
        "계산"
      ],
      "metadata": {
        "id": "YwZDZuUfP3Sr"
      }
    },
    {
      "cell_type": "code",
      "execution_count": null,
      "metadata": {
        "colab": {
          "base_uri": "https://localhost:8080/"
        },
        "id": "9g7sNvX7MD9m",
        "outputId": "5c03d560-8530-4114-d967-30977ba9c971"
      },
      "outputs": [
        {
          "output_type": "execute_result",
          "data": {
            "text/plain": [
              "27"
            ]
          },
          "metadata": {},
          "execution_count": 1
        }
      ],
      "source": [
        "23+4"
      ]
    },
    {
      "cell_type": "code",
      "source": [
        "korea = 90\n",
        "math = 80\n",
        "sum = korea + math\n",
        "sum"
      ],
      "metadata": {
        "colab": {
          "base_uri": "https://localhost:8080/"
        },
        "id": "AC82ABNbQqM9",
        "outputId": "e79f7c05-00c5-46ee-88db-8e914cd54556"
      },
      "execution_count": null,
      "outputs": [
        {
          "output_type": "execute_result",
          "data": {
            "text/plain": [
              "170"
            ]
          },
          "metadata": {},
          "execution_count": 3
        }
      ]
    },
    {
      "cell_type": "markdown",
      "source": [
        "주석"
      ],
      "metadata": {
        "id": "lSfWZIAqTD9h"
      }
    },
    {
      "cell_type": "code",
      "source": [
        "#주석\n",
        "a = 3  #변수 a에 3을 대입"
      ],
      "metadata": {
        "id": "4Eo6iKO9TF42"
      },
      "execution_count": null,
      "outputs": []
    },
    {
      "cell_type": "markdown",
      "source": [
        "출력문"
      ],
      "metadata": {
        "id": "7AwEHleNXD6d"
      }
    },
    {
      "cell_type": "code",
      "source": [
        "print(12)\n",
        "print(\"aaa\")\n",
        "print(12, 3, \"aaa\")"
      ],
      "metadata": {
        "colab": {
          "base_uri": "https://localhost:8080/"
        },
        "id": "H_3dH7EbXE5m",
        "outputId": "185373fb-1e75-4a58-d30f-49a11649bca9"
      },
      "execution_count": null,
      "outputs": [
        {
          "output_type": "stream",
          "name": "stdout",
          "text": [
            "12\n",
            "aaa\n",
            "12 3 aaa\n"
          ]
        }
      ]
    },
    {
      "cell_type": "code",
      "source": [
        "print(\"진달래꽃\")\n",
        "print()\n",
        "print(\"aaaa\")"
      ],
      "metadata": {
        "colab": {
          "base_uri": "https://localhost:8080/"
        },
        "id": "2qq06i25XYXw",
        "outputId": "c6f18dfb-338d-4a1d-ff1e-27111a42678d"
      },
      "execution_count": null,
      "outputs": [
        {
          "output_type": "stream",
          "name": "stdout",
          "text": [
            "진달래꽃\n",
            "\n",
            "aaaa\n"
          ]
        }
      ]
    },
    {
      "cell_type": "code",
      "source": [
        ""
      ],
      "metadata": {
        "id": "XF-ksgumX3sn"
      },
      "execution_count": null,
      "outputs": []
    }
  ]
}