{
  "nbformat": 4,
  "nbformat_minor": 0,
  "metadata": {
    "colab": {
      "name": "파이썬-모듈.ipynb",
      "provenance": [],
      "collapsed_sections": [],
      "mount_file_id": "1aHAh9lK9jQJ-L_vGTDWzKbDSzMZ4yNS1",
      "authorship_tag": "ABX9TyOBZk1HSUwCyuNcb596qqcf",
      "include_colab_link": true
    },
    "kernelspec": {
      "name": "python3",
      "display_name": "Python 3"
    },
    "language_info": {
      "name": "python"
    }
  },
  "cells": [
    {
      "cell_type": "markdown",
      "metadata": {
        "id": "view-in-github",
        "colab_type": "text"
      },
      "source": [
        "<a href=\"https://colab.research.google.com/github/yejin0455/sesac-python/blob/main/%ED%8C%8C%EC%9D%B4%EC%8D%AC_%EB%AA%A8%EB%93%88.ipynb\" target=\"_parent\"><img src=\"https://colab.research.google.com/assets/colab-badge.svg\" alt=\"Open In Colab\"/></a>"
      ]
    },
    {
      "cell_type": "markdown",
      "source": [
        "# 모듈\n",
        "\n",
        "관련있는 형식이나 기능을 모아서 정의한 코드 집합\n",
        "\n",
        "파이썬에서는 하나의 파이썬 파일(.py)로 정의\n",
        "\n",
        "\n",
        "\n",
        "*   표준 모듈\n",
        "\n",
        "    파이썬을 설치하면 기본적으로 사용 가능한 모듈\n",
        "\n",
        "*   외부 모듈\n",
        "    \n",
        "    별도의 설치를 해야 사용 가능한 모듈\n",
        "\n",
        "*   사용자 정의 모듈\n",
        "\n",
        "    개발자(파이썬 사용자)가 직접 정의한 모듈\n",
        "\n",
        "\n",
        "\n"
      ],
      "metadata": {
        "id": "2QYNZ6W75cTq"
      }
    },
    {
      "cell_type": "markdown",
      "source": [
        "# 패키지\n",
        "\n",
        "배포의 단위\n",
        "\n",
        "파이썬에서는 파이썬 파일들을 포함하는 폴더"
      ],
      "metadata": {
        "id": "i0cISEgH5l2K"
      }
    },
    {
      "cell_type": "markdown",
      "source": [
        "# 프레임워크\n",
        "\n",
        "비슷한 형태의 프로그램의 기본 구조와 골격을 정의해 놓은 것"
      ],
      "metadata": {
        "id": "3A7kQSiT5y_6"
      }
    },
    {
      "cell_type": "markdown",
      "source": [
        "# 진입점\n",
        "\n",
        "프로그램을 실행시켰을 때 시작하는 지점\n",
        "\n",
        "name에는 진입점이 무엇인지 알 수 있다."
      ],
      "metadata": {
        "id": "e1yfAUTt8P9R"
      }
    },
    {
      "cell_type": "code",
      "source": [
        "import sys\n",
        "\n",
        "sys.path.append('/content/drive/MyDrive/module')  #절대경로 - 이 경로의 파일만 사용\n",
        "sys.path"
      ],
      "metadata": {
        "colab": {
          "base_uri": "https://localhost:8080/"
        },
        "id": "qnw0LMsM96-M",
        "outputId": "2af7c6ec-8975-4172-a838-fe3555cc6216"
      },
      "execution_count": 1,
      "outputs": [
        {
          "output_type": "execute_result",
          "data": {
            "text/plain": [
              "['',\n",
              " '/content',\n",
              " '/env/python',\n",
              " '/usr/lib/python37.zip',\n",
              " '/usr/lib/python3.7',\n",
              " '/usr/lib/python3.7/lib-dynload',\n",
              " '/usr/local/lib/python3.7/dist-packages',\n",
              " '/usr/lib/python3/dist-packages',\n",
              " '/usr/local/lib/python3.7/dist-packages/IPython/extensions',\n",
              " '/root/.ipython',\n",
              " '/content/drive/MyDrive/module']"
            ]
          },
          "metadata": {},
          "execution_count": 1
        }
      ]
    },
    {
      "cell_type": "markdown",
      "source": [
        "# 모듈 사용하기\n",
        "\n",
        "모듈 이름은 파이썬 파일 이름이다\n",
        "\n"
      ],
      "metadata": {
        "id": "m1RrjXW9GdaE"
      }
    },
    {
      "cell_type": "code",
      "source": [
        "import dummy"
      ],
      "metadata": {
        "id": "2ePHoehS-Ucv"
      },
      "execution_count": 2,
      "outputs": []
    },
    {
      "cell_type": "code",
      "source": [
        "dummy.print_n(\"hello\", 3)"
      ],
      "metadata": {
        "colab": {
          "base_uri": "https://localhost:8080/"
        },
        "id": "dKa7ey3G-X-v",
        "outputId": "2dbf3631-f27e-41a8-9678-d5c4179436b8"
      },
      "execution_count": 4,
      "outputs": [
        {
          "output_type": "stream",
          "name": "stdout",
          "text": [
            "1 s\n",
            "2 s\n",
            "3 s\n"
          ]
        }
      ]
    },
    {
      "cell_type": "code",
      "source": [
        "dummy.print_list([1, 2, 3])"
      ],
      "metadata": {
        "colab": {
          "base_uri": "https://localhost:8080/"
        },
        "id": "_cOPM-93-hR0",
        "outputId": "72cd8c41-265b-4a4e-8c79-219dedbd85f8"
      },
      "execution_count": 5,
      "outputs": [
        {
          "output_type": "stream",
          "name": "stdout",
          "text": [
            "1 : 1\n",
            "2 : 2\n",
            "3 : 3\n"
          ]
        }
      ]
    },
    {
      "cell_type": "markdown",
      "source": [
        "# 모듈에 있는 이름을 직접 사용하기"
      ],
      "metadata": {
        "id": "fNZI8qREGjeo"
      }
    },
    {
      "cell_type": "code",
      "source": [
        "from dummy import print_n, print_list"
      ],
      "metadata": {
        "id": "-apoC3rwAKAo"
      },
      "execution_count": 9,
      "outputs": []
    },
    {
      "cell_type": "code",
      "source": [
        "print_n(\"yahoo\", 3)"
      ],
      "metadata": {
        "colab": {
          "base_uri": "https://localhost:8080/"
        },
        "id": "Hn0WHYuUANyP",
        "outputId": "b20cad9b-b37d-4106-aea7-76a9e34f9cab"
      },
      "execution_count": 7,
      "outputs": [
        {
          "output_type": "stream",
          "name": "stdout",
          "text": [
            "1 s\n",
            "2 s\n",
            "3 s\n"
          ]
        }
      ]
    },
    {
      "cell_type": "code",
      "source": [
        "print_list([1, 2, 3])"
      ],
      "metadata": {
        "colab": {
          "base_uri": "https://localhost:8080/"
        },
        "id": "_4SHBGScAcBq",
        "outputId": "7ad25b56-eb36-4866-c9dc-e64518585be4"
      },
      "execution_count": 10,
      "outputs": [
        {
          "output_type": "stream",
          "name": "stdout",
          "text": [
            "1 : 1\n",
            "2 : 2\n",
            "3 : 3\n"
          ]
        }
      ]
    },
    {
      "cell_type": "markdown",
      "source": [
        "form 모듈이름import *\n",
        "\n",
        "모듈에 있는 모든 이름을 직접 사용할 수 있다\n",
        "\n",
        "하지만 다른 모듈에 같은 이름이 있을 때 모호할 수 있으니 권장하지 않음"
      ],
      "metadata": {
        "id": "_RpA8i4qGoxM"
      }
    },
    {
      "cell_type": "code",
      "source": [
        "from dummy import *  # *:모든 것의 이름을 직접 사용"
      ],
      "metadata": {
        "id": "eIefFAVQAf8F"
      },
      "execution_count": 11,
      "outputs": []
    },
    {
      "cell_type": "code",
      "source": [
        "print_n(\"yahoo\", 3)"
      ],
      "metadata": {
        "colab": {
          "base_uri": "https://localhost:8080/"
        },
        "id": "Uh4YlsjvApgt",
        "outputId": "d146ccc1-1966-41e6-aec6-258112fc1648"
      },
      "execution_count": 12,
      "outputs": [
        {
          "output_type": "stream",
          "name": "stdout",
          "text": [
            "1 s\n",
            "2 s\n",
            "3 s\n"
          ]
        }
      ]
    },
    {
      "cell_type": "code",
      "source": [
        "import dummy as dm  #alias\n",
        "dm.print_n(\"yahoo\", 3)"
      ],
      "metadata": {
        "colab": {
          "base_uri": "https://localhost:8080/"
        },
        "id": "EkOEcw90BqJL",
        "outputId": "82e5132a-1211-4fe3-ca13-dd1f5ef7240c"
      },
      "execution_count": 14,
      "outputs": [
        {
          "output_type": "stream",
          "name": "stdout",
          "text": [
            "1 s\n",
            "2 s\n",
            "3 s\n"
          ]
        }
      ]
    },
    {
      "cell_type": "code",
      "source": [
        "if __name__ == \"__main__\":\n",
        "    print_n(\"Hello\", 3)\n",
        "    print_list([1, 2, 3])"
      ],
      "metadata": {
        "colab": {
          "base_uri": "https://localhost:8080/"
        },
        "id": "3qxY59l8A5RS",
        "outputId": "d5a4ab60-809c-4ba7-cb34-d3056bcdd188"
      },
      "execution_count": 13,
      "outputs": [
        {
          "output_type": "stream",
          "name": "stdout",
          "text": [
            "1 s\n",
            "2 s\n",
            "3 s\n",
            "1 : 1\n",
            "2 : 2\n",
            "3 : 3\n"
          ]
        }
      ]
    },
    {
      "cell_type": "code",
      "source": [
        "import dummy2 as d2"
      ],
      "metadata": {
        "colab": {
          "base_uri": "https://localhost:8080/"
        },
        "id": "5XQK6UniHuSf",
        "outputId": "86bc42f4-77dd-45d2-d083-857d0902ff8b"
      },
      "execution_count": 15,
      "outputs": [
        {
          "output_type": "stream",
          "name": "stdout",
          "text": [
            "1: Hello\n",
            "2: Hello\n",
            "3: Hello\n"
          ]
        }
      ]
    }
  ]
}