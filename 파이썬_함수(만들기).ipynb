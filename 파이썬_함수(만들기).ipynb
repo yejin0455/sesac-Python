{
  "nbformat": 4,
  "nbformat_minor": 0,
  "metadata": {
    "colab": {
      "name": "파이썬-함수(만들기).ipynb",
      "provenance": [],
      "collapsed_sections": [],
      "authorship_tag": "ABX9TyP20Y5pqEZEKzQ8Xv57/t+Q",
      "include_colab_link": true
    },
    "kernelspec": {
      "name": "python3",
      "display_name": "Python 3"
    },
    "language_info": {
      "name": "python"
    }
  },
  "cells": [
    {
      "cell_type": "markdown",
      "metadata": {
        "id": "view-in-github",
        "colab_type": "text"
      },
      "source": [
        "<a href=\"https://colab.research.google.com/github/yejin0455/sesac-python/blob/main/%ED%8C%8C%EC%9D%B4%EC%8D%AC_%ED%95%A8%EC%88%98(%EB%A7%8C%EB%93%A4%EA%B8%B0).ipynb\" target=\"_parent\"><img src=\"https://colab.research.google.com/assets/colab-badge.svg\" alt=\"Open In Colab\"/></a>"
      ]
    },
    {
      "cell_type": "markdown",
      "source": [
        "# 함수\n",
        "\n",
        "자주 사용하는 알고리즘을 이름을 부여하여 만든 로직 혹은 코드 블록\n",
        "\n",
        "로직이름, 입력매개변수목록, 수행할 코드, 반환값 으로 구성\n",
        "\n",
        "매개변수와 반환값은 생략 가능\n",
        "\n",
        "함수를 만드는 것을 함수 정의\n",
        "\n",
        "함수를 사용하는 것을 함수 호출"
      ],
      "metadata": {
        "id": "NYczjWdrwL1G"
      }
    },
    {
      "cell_type": "code",
      "source": [
        "#함수명:foo\n",
        "#입력매개변수:2개(a, b)\n",
        "#수행 코드는 두 개의 인자를 출력한 후 곱한 값을 반환\n",
        "#반환값:a*b\n",
        "\n",
        "def foo(a, b):\n",
        "    print(f\"a:{a} b:{b}\")\n",
        "    return a*b"
      ],
      "metadata": {
        "id": "QHpK0hKlwbxB"
      },
      "execution_count": null,
      "outputs": []
    },
    {
      "cell_type": "code",
      "source": [
        "re = foo(2, 3)  #함수호출(반환값을 re에 대입)\n",
        "print(f\"결과:{re}\")\n",
        "foo(3, 4)  #함수호출(반환값을 무시)"
      ],
      "metadata": {
        "id": "S8YlaBhsxQLK"
      },
      "execution_count": null,
      "outputs": []
    },
    {
      "cell_type": "code",
      "source": [
        "def print_menu():\n",
        "    print(\"1:데이터 추가\")\n",
        "    print(\"2:데이터 삭제\")\n",
        "    print(\"3:데이터 검색\")\n",
        "    print(\"4:전체 데이터 확인\")\n",
        "    print(\"0:종료\")"
      ],
      "metadata": {
        "id": "NjEJSEhexuqu"
      },
      "execution_count": null,
      "outputs": []
    },
    {
      "cell_type": "code",
      "source": [
        "def menu_select():\n",
        "    print_menu()\n",
        "    return int(input(\"메뉴선택:\"))"
      ],
      "metadata": {
        "id": "M-796Ti4x734"
      },
      "execution_count": null,
      "outputs": []
    },
    {
      "cell_type": "code",
      "source": [
        "while True:\n",
        "    key = menu_select()\n",
        "    if key == 0:\n",
        "        break\n",
        "    if key == 1:\n",
        "        print(\"데이터 추가\")\n",
        "    elif key == 2:\n",
        "        print(\"데이터 삭제\")\n",
        "    elif key == 3:\n",
        "        print(\"데이터 검색\")\n",
        "    elif key == 4:\n",
        "        print(\"전체 데이터 확인\")\n",
        "    else:\n",
        "        print(\"잘못 선택하였습니다.\")"
      ],
      "metadata": {
        "id": "nkxETP1jyE0I"
      },
      "execution_count": null,
      "outputs": []
    },
    {
      "cell_type": "markdown",
      "source": [
        "특정 범위의 수의 합계를 구하는 함수"
      ],
      "metadata": {
        "id": "13LepGRpzE9z"
      }
    },
    {
      "cell_type": "code",
      "source": [
        "def getsum(start, end):\n",
        "    s = 0\n",
        "    for i in range(start, end+1):\n",
        "        s += i\n",
        "    return s"
      ],
      "metadata": {
        "id": "RcFw6Gh2zK53"
      },
      "execution_count": 1,
      "outputs": []
    },
    {
      "cell_type": "code",
      "source": [
        "s = int(input(\"시작:\"))\n",
        "e = int(input(\"끝:\"))\n",
        "print(f\"{s}~{e} 합계:{getsum(s, e)}\")\n",
        "\n",
        "print(f\"1~100 합계:{getsum(1, 100)}\")"
      ],
      "metadata": {
        "colab": {
          "base_uri": "https://localhost:8080/"
        },
        "id": "cXlC8rEizaDP",
        "outputId": "580d1a86-cb00-438f-c388-f70a8f97c605"
      },
      "execution_count": 2,
      "outputs": [
        {
          "output_type": "stream",
          "name": "stdout",
          "text": [
            "시작:2\n",
            "끝:5\n",
            "2~5 합계:14\n",
            "1~100 합계:5050\n"
          ]
        }
      ]
    },
    {
      "cell_type": "code",
      "source": [
        "#re = getsum(1, 2, 3)  #정의한 함수와 다르게 인자를 전달하고 있음 - typeError\n",
        "#print(re)"
      ],
      "metadata": {
        "id": "opdw_ukW0bR7"
      },
      "execution_count": null,
      "outputs": []
    },
    {
      "cell_type": "code",
      "source": [
        "def soo(a, temp=1, yahoo='a'):  #temp는 인자를 전달하지 않을 때 1을 디폴트 값으로, yahoo는 'a'를 디폴트 값으로 함\n",
        "    print(a, temp, yahoo)"
      ],
      "metadata": {
        "id": "ykBeygQD0rKS"
      },
      "execution_count": 4,
      "outputs": []
    },
    {
      "cell_type": "code",
      "source": [
        "soo(1)\n",
        "soo(1, temp=2)\n",
        "soo(3, yahoo=7)\n",
        "soo(3, 4)\n",
        "soo(3, 4, 5)"
      ],
      "metadata": {
        "colab": {
          "base_uri": "https://localhost:8080/"
        },
        "id": "HKhOCQPg1eMG",
        "outputId": "80d76b54-7e4c-4481-c306-5e39039cd046"
      },
      "execution_count": 6,
      "outputs": [
        {
          "output_type": "stream",
          "name": "stdout",
          "text": [
            "1 1 a\n",
            "1 2 a\n",
            "3 1 7\n",
            "3 4 a\n",
            "3 4 5\n"
          ]
        }
      ]
    },
    {
      "cell_type": "code",
      "source": [
        "def zoo(n=2, *values):  # *은 가변인자(몇 개의 값이 들어오는지 모름)\n",
        "    print(\"====\")\n",
        "    print(n)\n",
        "    for value in values:\n",
        "        print(value, end=' ')\n",
        "    print()"
      ],
      "metadata": {
        "id": "gUODN10p1v6i"
      },
      "execution_count": 7,
      "outputs": []
    },
    {
      "cell_type": "code",
      "source": [
        "zoo()\n",
        "zoo(1)\n",
        "zoo(1, 3)\n",
        "zoo(1, 3, 4, 5)"
      ],
      "metadata": {
        "colab": {
          "base_uri": "https://localhost:8080/"
        },
        "id": "n4pnr3-A2B6M",
        "outputId": "d1de38ba-261d-4375-dc0f-dc305081fa36"
      },
      "execution_count": 9,
      "outputs": [
        {
          "output_type": "stream",
          "name": "stdout",
          "text": [
            "====\n",
            "2\n",
            "\n",
            "====\n",
            "1\n",
            "\n",
            "====\n",
            "1\n",
            "3 \n",
            "====\n",
            "1\n",
            "3 4 5 \n"
          ]
        }
      ]
    },
    {
      "cell_type": "code",
      "source": [
        "name = input(\"이름:\")\n",
        "print(f\"이름:{name}\")"
      ],
      "metadata": {
        "colab": {
          "base_uri": "https://localhost:8080/"
        },
        "id": "v2ZJGp733g3q",
        "outputId": "2b9a0aaf-c087-4b00-c0b3-84be1124f52f"
      },
      "execution_count": 10,
      "outputs": [
        {
          "output_type": "stream",
          "name": "stdout",
          "text": [
            "이름:\n",
            "이름:\n"
          ]
        }
      ]
    },
    {
      "cell_type": "code",
      "source": [
        "def square(x):\n",
        "    return x * x"
      ],
      "metadata": {
        "id": "a9zMbn3L3rWg"
      },
      "execution_count": 11,
      "outputs": []
    },
    {
      "cell_type": "code",
      "source": [
        "for i in range(1, 5):\n",
        "    re = square(i)\n",
        "    print(f\"{i}의 제곱: {re}\")"
      ],
      "metadata": {
        "colab": {
          "base_uri": "https://localhost:8080/"
        },
        "id": "dte9P4au3z3P",
        "outputId": "a259e566-7745-4808-e63f-f595b30548da"
      },
      "execution_count": 12,
      "outputs": [
        {
          "output_type": "stream",
          "name": "stdout",
          "text": [
            "1의 제곱: 1\n",
            "2의 제곱: 4\n",
            "3의 제곱: 9\n",
            "4의 제곱: 16\n"
          ]
        }
      ]
    },
    {
      "cell_type": "code",
      "source": [
        "def find_nearest_sum(start, goal):\n",
        "    s = 0\n",
        "    while s < goal:\n",
        "        s += start\n",
        "        start += 1\n",
        "        if(start == 100):\n",
        "            return s\n",
        "    print(\"find!!\")\n",
        "    return s"
      ],
      "metadata": {
        "id": "cxyKrl4w4NMu"
      },
      "execution_count": 15,
      "outputs": []
    },
    {
      "cell_type": "code",
      "source": [
        "re = find_nearest_sum(1, 2000)\n",
        "print(re)\n",
        "re = find_nearest_sum(1, 20000)\n",
        "print(re)"
      ],
      "metadata": {
        "colab": {
          "base_uri": "https://localhost:8080/"
        },
        "id": "dT794V5t40xv",
        "outputId": "0b165ebd-ddd1-4c6d-9ac3-15022fbe6299"
      },
      "execution_count": 16,
      "outputs": [
        {
          "output_type": "stream",
          "name": "stdout",
          "text": [
            "find!!\n",
            "2016\n",
            "4950\n"
          ]
        }
      ]
    }
  ]
}