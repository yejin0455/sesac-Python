{
  "nbformat": 4,
  "nbformat_minor": 0,
  "metadata": {
    "colab": {
      "name": "파이썬-예외처리.ipynb",
      "provenance": [],
      "collapsed_sections": [],
      "authorship_tag": "ABX9TyNftwpwOAeiFyLwG+ElJuaR",
      "include_colab_link": true
    },
    "kernelspec": {
      "name": "python3",
      "display_name": "Python 3"
    },
    "language_info": {
      "name": "python"
    }
  },
  "cells": [
    {
      "cell_type": "markdown",
      "metadata": {
        "id": "view-in-github",
        "colab_type": "text"
      },
      "source": [
        "<a href=\"https://colab.research.google.com/github/yejin0455/sesac-python/blob/main/%ED%8C%8C%EC%9D%B4%EC%8D%AC_%EC%98%88%EC%99%B8%EC%B2%98%EB%A6%AC.ipynb\" target=\"_parent\"><img src=\"https://colab.research.google.com/assets/colab-badge.svg\" alt=\"Open In Colab\"/></a>"
      ]
    },
    {
      "cell_type": "markdown",
      "source": [
        "구문오류: 코드의 문법적 잘못에 의해 발생하는 오류\n",
        "\n",
        "런타임오류: 실행 시점에서 발생하는 오류"
      ],
      "metadata": {
        "id": "dE1VFulFBc_W"
      }
    },
    {
      "cell_type": "code",
      "source": [
        "#구문오류\n",
        "print(\"Hello)"
      ],
      "metadata": {
        "id": "EWWzHCLAB86s"
      },
      "execution_count": null,
      "outputs": []
    },
    {
      "cell_type": "code",
      "source": [
        "num1 = int(input(\"정수:\"))\n",
        "num2 = int(input(\"정수:\"))\n",
        "print(num1/num2)"
      ],
      "metadata": {
        "id": "n0CEE_jiCBmG"
      },
      "execution_count": null,
      "outputs": []
    },
    {
      "cell_type": "markdown",
      "source": [
        "예외를 확인하여 원하는 형태로 처리하기"
      ],
      "metadata": {
        "id": "zWwLLY9ICVsm"
      }
    },
    {
      "cell_type": "code",
      "source": [
        "num1 = int(input(\"정수:\"))\n",
        "num2 = int(input(\"정수:\"))\n",
        "try:\n",
        "    print(num1/num2)\n",
        "except:\n",
        "    print(\"pass\")\n",
        "else:\n",
        "    print(\"수고하셨습니다\")\n",
        "finally:\n",
        "    print(\"end\")"
      ],
      "metadata": {
        "id": "NbPydML-Cekc"
      },
      "execution_count": null,
      "outputs": []
    },
    {
      "cell_type": "code",
      "source": [
        "num1 = int(input(\"정수:\"))\n",
        "num2 = int(input(\"정수:\"))\n",
        "try:\n",
        "    print(num1/num2)\n",
        "except Exception as ex:\n",
        "    print(ex)\n",
        "    print(type(ex))\n",
        "else:\n",
        "    print(\"수고하셨습니다\")"
      ],
      "metadata": {
        "colab": {
          "base_uri": "https://localhost:8080/"
        },
        "id": "pHvQW2EgF9-m",
        "outputId": "747660f2-f1ca-4f9c-eb73-6aefe326e22c"
      },
      "execution_count": 1,
      "outputs": [
        {
          "output_type": "stream",
          "name": "stdout",
          "text": [
            "정수:3\n",
            "정수:0\n",
            "division by zero\n"
          ]
        }
      ]
    },
    {
      "cell_type": "markdown",
      "source": [
        "예외 개체 사용"
      ],
      "metadata": {
        "id": "31Nd6QdDGtST"
      }
    },
    {
      "cell_type": "code",
      "source": [
        "try:\n",
        "    num1 = int(input(\"정수:\"))\n",
        "    num2 = int(input(\"정수:\"))\n",
        "    print(num1/num2)\n",
        "    ls = [1, 2, 3]\n",
        "    n = int(input(\"1~3 중에서 고르세요.\"))\n",
        "    print(ls[n-1])\n",
        "\n",
        "except ValueError as ex:\n",
        "    print(\"입력한 값은 문제가 있네요.\", ex)\n",
        "except ZeroDivisionError:\n",
        "    print(\"젯수가 0이네요.\")\n",
        "except Exception:\n",
        "    print(\"어딘가 문제가 있네요.\")\n",
        "else:\n",
        "    print(\"수고하셨습니다\")"
      ],
      "metadata": {
        "id": "r-F6VitMGvDx"
      },
      "execution_count": null,
      "outputs": []
    },
    {
      "cell_type": "markdown",
      "source": [
        "# 예외를 발생시키기"
      ],
      "metadata": {
        "id": "vxmusWHmIE3i"
      }
    },
    {
      "cell_type": "code",
      "source": [
        "def getsum(start, end, step=1):\n",
        "    if start > end:\n",
        "        raise ValueError  #예외 발생시킴\n",
        "    s = 0\n",
        "    for i in range(start, end+1, step):\n",
        "        s += i\n",
        "    return s"
      ],
      "metadata": {
        "id": "oJBjt6BhIIHW"
      },
      "execution_count": 2,
      "outputs": []
    },
    {
      "cell_type": "code",
      "source": [
        "try:\n",
        "    print(getsum(2, 10))\n",
        "    print(getsum(10, 2))\n",
        "except:\n",
        "    print(\"예외 발생\")"
      ],
      "metadata": {
        "colab": {
          "base_uri": "https://localhost:8080/"
        },
        "id": "SNSSppXVIkgw",
        "outputId": "8fafce2e-84c2-4a4c-a413-a1e7e8961aeb"
      },
      "execution_count": 3,
      "outputs": [
        {
          "output_type": "stream",
          "name": "stdout",
          "text": [
            "54\n",
            "예외 발생\n"
          ]
        }
      ]
    }
  ]
}