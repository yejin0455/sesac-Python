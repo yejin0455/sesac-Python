{
  "nbformat": 4,
  "nbformat_minor": 0,
  "metadata": {
    "colab": {
      "name": "통계분석시각화-응용.ipynb",
      "provenance": [],
      "collapsed_sections": [],
      "mount_file_id": "1cj5KvCmiD18aBxL5Sa5mrL29evMnZ9PV",
      "authorship_tag": "ABX9TyOk9tG5WKDEuyXlFyjrL/h8",
      "include_colab_link": true
    },
    "kernelspec": {
      "name": "python3",
      "display_name": "Python 3"
    },
    "language_info": {
      "name": "python"
    }
  },
  "cells": [
    {
      "cell_type": "markdown",
      "metadata": {
        "id": "view-in-github",
        "colab_type": "text"
      },
      "source": [
        "<a href=\"https://colab.research.google.com/github/yejin0455/sesac-python/blob/main/%ED%86%B5%EA%B3%84%EB%B6%84%EC%84%9D%EC%8B%9C%EA%B0%81%ED%99%94_%EC%9D%91%EC%9A%A9.ipynb\" target=\"_parent\"><img src=\"https://colab.research.google.com/assets/colab-badge.svg\" alt=\"Open In Colab\"/></a>"
      ]
    },
    {
      "cell_type": "code",
      "execution_count": 1,
      "metadata": {
        "id": "jcYWdBY_JOOr"
      },
      "outputs": [],
      "source": [
        "import urllib.request"
      ]
    },
    {
      "cell_type": "code",
      "source": [
        "url = 'https://dapi.kakao.com/v3/search/book'  #OpenAPI 서비스 제공URL\n",
        "target_param = \"target=title\"  #전달 인자\n",
        "page_param = \"page=2\"  #전달 인자\n",
        "query_in = input(\"검색 질의:\")\n",
        "query_param = \"query=\" + urllib.parse.quote(query_in)  #utf-8로 인코딩, 전달 인자\n",
        "\n",
        "query_str = url + '?' + target_param + '&' + query_param + '&' + page_param  #쿼리문자열\n",
        "\n",
        "print(query_str)\n",
        "\n",
        "request = urllib.request.Request(query_str)  #서비스 요청에 사용할 개체를 생성\n",
        "request.add_header(\"Authorization\", \"KakaoAK 1e93a10ce73cf9bb9a37f45fc5f42576\")  #발급받은RESTAPI키\n",
        "response = urllib.request.urlopen(request)  #웹 서버에 요청\n",
        "res = response.read().decode('utf-8')\n",
        "print(res)"
      ],
      "metadata": {
        "id": "KoMjX0nVJUPg"
      },
      "execution_count": null,
      "outputs": []
    },
    {
      "cell_type": "code",
      "source": [
        "import json\n",
        "jd = json.loads(res)\n",
        "print(jd)"
      ],
      "metadata": {
        "id": "Aic3pcVUKYnk"
      },
      "execution_count": null,
      "outputs": []
    },
    {
      "cell_type": "code",
      "source": [
        "import pandas as pd\n",
        "df = pd.json_normalize(jd['documents'])\n",
        "df"
      ],
      "metadata": {
        "id": "bGnKWlzEKeSI"
      },
      "execution_count": null,
      "outputs": []
    },
    {
      "cell_type": "code",
      "source": [
        "df.info()"
      ],
      "metadata": {
        "id": "-wh9YYUvKxzL"
      },
      "execution_count": null,
      "outputs": []
    },
    {
      "cell_type": "code",
      "source": [
        "url = 'https://openapi.naver.com/v1/search/book.xml'\n",
        "query_in = input(\"검색 질의:\")\n",
        "query_param = \"query=\" + urllib.parse.quote(query_in)  #utf-8로 인코딩\n",
        "query_str = url + '?' + query_param\n",
        "\n",
        "print(query_str)\n",
        "\n",
        "request = urllib.request.Request(query_str)  #서비스 요청에 사용할 개체를 생성\n",
        "request.add_header('X-Naver-Client-Id', 'RiilUVG9Ru7KhU3XGnRB')\n",
        "request.add_header('X-Naver-Client-Secret', 'b8AhXiwLQr')\n",
        "\n",
        "response = urllib.request.urlopen(request)\n",
        "res = response.read().decode('utf-8')\n",
        "print(res)"
      ],
      "metadata": {
        "id": "YAZczVh2LoiV"
      },
      "execution_count": null,
      "outputs": []
    },
    {
      "cell_type": "code",
      "source": [
        "df = pd.read_xml(res, xpath=\".//item\")\n",
        "df.info()"
      ],
      "metadata": {
        "id": "hdqaudVuMagJ"
      },
      "execution_count": null,
      "outputs": []
    },
    {
      "cell_type": "code",
      "source": [
        "import matplotlib.pyplot as plt\n",
        "df.price.plot()\n",
        "plt.show()"
      ],
      "metadata": {
        "id": "iEVo7QqOM0hB"
      },
      "execution_count": null,
      "outputs": []
    },
    {
      "cell_type": "code",
      "source": [
        "des_str = df.description[0]\n",
        "des_str"
      ],
      "metadata": {
        "id": "_z3dHG8eNRes"
      },
      "execution_count": null,
      "outputs": []
    },
    {
      "cell_type": "code",
      "source": [
        "demo_str = \"abc 123 cas$ asd# cr\"\n",
        "target_str = \"\"\n",
        "for ch in demo_str:\n",
        "    if ch.isalnum() or ch.isspace():\n",
        "        target_str = target_str + ch\n",
        "print(target_str)\n",
        "target_str = \"\".join(char for char in demo_str if (char.isalnum() or char.isspace()))\n",
        "print(target_str)"
      ],
      "metadata": {
        "id": "-ohOGR25N4rr"
      },
      "execution_count": null,
      "outputs": []
    },
    {
      "cell_type": "code",
      "source": [
        "filter_str = \"\".join(char for char in des_str if(char.isalnum() or char.isspace()) and char != ' * ')\n",
        "print(filter_str)\n",
        "words = filter_str.split(' ')\n",
        "s = pd.Series(words)\n",
        "s.value_counts()"
      ],
      "metadata": {
        "id": "im8n9nqbPIKM"
      },
      "execution_count": null,
      "outputs": []
    },
    {
      "cell_type": "code",
      "source": [
        "from wordcloud import WordCloud"
      ],
      "metadata": {
        "id": "ojMKOtlYTjMB"
      },
      "execution_count": 12,
      "outputs": []
    },
    {
      "cell_type": "code",
      "source": [
        "src = \"\"\"\n",
        "NumPy is the fundamental package for scientific computing in Python. It is a Python library that provides a multidimensional array object, various derived objects (such as masked arrays and matrices), and an assortment of routines for fast operations on arrays, including mathematical, logical, shape manipulation, sorting, selecting, I/O, discrete Fourier transforms, basic linear algebra, basic statistical operations, random simulation and much more.\n",
        "\"\"\"\n",
        "\n",
        "filter_str = \"\"\"\n",
        "이것은 유용한 판다 레시피에 대한 짧고 달콤한 예제와 링크를 위한 저장소입니다. 사용자가 이 문서에 추가할 것을 권장합니다.\n",
        "\n",
        "이 섹션에 흥미로운 링크 및/또는 인라인 예제를 추가하는 것은 훌륭한 First Pull Request 입니다.\n",
        "\n",
        "Stack-Overflow 및 GitHub 링크를 보강하기 위해 단순화되고 압축된 새로운 사용자 친화적인 인라인 예제가 가능한 곳에 삽입되었습니다. 많은 링크에는 인라인 예제가 제공하는 것 이상의 확장된 정보가 포함되어 있습니다.\n",
        "\n",
        "pandas(pd) 및 NumPy(np)는 두 개의 축약된 가져오기 모듈뿐입니다. 나머지는 신규 사용자를 위해 명시적으로 가져온 상태로 유지됩니다.\n",
        "\"\"\""
      ],
      "metadata": {
        "id": "YCq_nJgST_mg"
      },
      "execution_count": 13,
      "outputs": []
    },
    {
      "cell_type": "code",
      "source": [
        "wc = WordCloud()\n",
        "wc.generate(src)\n",
        "plt.figure()\n",
        "plt.imshow(wc)\n",
        "plt.axis('off')\n",
        "plt.show()\n",
        "wc.words_"
      ],
      "metadata": {
        "id": "w2xFFYl-UCWr"
      },
      "execution_count": null,
      "outputs": []
    },
    {
      "cell_type": "code",
      "source": [
        "!sudo apt-get install -y fonts-nanum # 한글 폰트 설치\n",
        "!sudo fc-cache -fv\n",
        "!rm ~/.cache/matplotlib -rf"
      ],
      "metadata": {
        "id": "xfcdjmttVd9_"
      },
      "execution_count": null,
      "outputs": []
    },
    {
      "cell_type": "code",
      "source": [
        "plt.rc('font',family='NanumBarunGothic')\n",
        "plt.title(\"테스트\")\n",
        "plt.show()"
      ],
      "metadata": {
        "id": "3T6I6LmLk1Ua"
      },
      "execution_count": null,
      "outputs": []
    },
    {
      "cell_type": "code",
      "source": [
        "import matplotlib.font_manager as fm\n",
        "sf = fm.findSystemFonts()\n",
        "[f for f in sf if 'Nanum' in f]"
      ],
      "metadata": {
        "id": "lfvQMOAvWFK4"
      },
      "execution_count": null,
      "outputs": []
    },
    {
      "cell_type": "code",
      "source": [
        "from bs4 import BeautifulSoup\n",
        "url = 'https://ehpub.co.kr'\n",
        "\n",
        "response = urllib.request.urlopen(url)\n",
        "res = response.read().decode('utf-8')\n",
        "\n",
        "hre = BeautifulSoup(res, 'html.parser')\n",
        "\n",
        "wc = WordCloud(font_path = '/usr/share/fonts/truetype/nanum/NanumBarunGothicBold.ttf')\n",
        "wc.generate(hre.body.text)\n",
        "plt.figure(figsize=(10, 10))\n",
        "plt.imshow(wc)\n",
        "plt.axis('off')\n",
        "plt.show()"
      ],
      "metadata": {
        "id": "N5vsHsb-M9UK"
      },
      "execution_count": null,
      "outputs": []
    },
    {
      "cell_type": "code",
      "source": [
        "wc = WordCloud(font_path = '/usr/share/fonts/truetype/nanum/NanumBarunGothicBold.ttf')\n",
        "wc.generate(filter_str)\n",
        "plt.figure()\n",
        "plt.imshow(wc)\n",
        "plt.axis('off')\n",
        "plt.show()\n",
        "wc.words_"
      ],
      "metadata": {
        "id": "7qcs9saPWW22"
      },
      "execution_count": null,
      "outputs": []
    },
    {
      "cell_type": "markdown",
      "source": [
        "# 시각화 분석 실습"
      ],
      "metadata": {
        "id": "uN9tAK0gZKNM"
      }
    },
    {
      "cell_type": "code",
      "source": [
        "import pandas as pd\n",
        "import numpy as np\n",
        "path = '/content/drive/MyDrive/module/train_titanic.csv'\n",
        "df = pd.read_csv(path)\n",
        "df"
      ],
      "metadata": {
        "colab": {
          "base_uri": "https://localhost:8080/",
          "height": 832
        },
        "id": "MBsTr9JUaGCV",
        "outputId": "40d84c3a-b3c6-455b-bc14-2e977dfb2b3b"
      },
      "execution_count": 20,
      "outputs": [
        {
          "output_type": "execute_result",
          "data": {
            "text/html": [
              "\n",
              "  <div id=\"df-c9504e27-90a9-4d1f-adb4-65f1d723b290\">\n",
              "    <div class=\"colab-df-container\">\n",
              "      <div>\n",
              "<style scoped>\n",
              "    .dataframe tbody tr th:only-of-type {\n",
              "        vertical-align: middle;\n",
              "    }\n",
              "\n",
              "    .dataframe tbody tr th {\n",
              "        vertical-align: top;\n",
              "    }\n",
              "\n",
              "    .dataframe thead th {\n",
              "        text-align: right;\n",
              "    }\n",
              "</style>\n",
              "<table border=\"1\" class=\"dataframe\">\n",
              "  <thead>\n",
              "    <tr style=\"text-align: right;\">\n",
              "      <th></th>\n",
              "      <th>PassengerId</th>\n",
              "      <th>Survived</th>\n",
              "      <th>Pclass</th>\n",
              "      <th>Name</th>\n",
              "      <th>Sex</th>\n",
              "      <th>Age</th>\n",
              "      <th>SibSp</th>\n",
              "      <th>Parch</th>\n",
              "      <th>Ticket</th>\n",
              "      <th>Fare</th>\n",
              "      <th>Cabin</th>\n",
              "      <th>Embarked</th>\n",
              "    </tr>\n",
              "  </thead>\n",
              "  <tbody>\n",
              "    <tr>\n",
              "      <th>0</th>\n",
              "      <td>1</td>\n",
              "      <td>0</td>\n",
              "      <td>3</td>\n",
              "      <td>Braund, Mr. Owen Harris</td>\n",
              "      <td>male</td>\n",
              "      <td>22.0</td>\n",
              "      <td>1</td>\n",
              "      <td>0</td>\n",
              "      <td>A/5 21171</td>\n",
              "      <td>7.2500</td>\n",
              "      <td>NaN</td>\n",
              "      <td>S</td>\n",
              "    </tr>\n",
              "    <tr>\n",
              "      <th>1</th>\n",
              "      <td>2</td>\n",
              "      <td>1</td>\n",
              "      <td>1</td>\n",
              "      <td>Cumings, Mrs. John Bradley (Florence Briggs Th...</td>\n",
              "      <td>female</td>\n",
              "      <td>38.0</td>\n",
              "      <td>1</td>\n",
              "      <td>0</td>\n",
              "      <td>PC 17599</td>\n",
              "      <td>71.2833</td>\n",
              "      <td>C85</td>\n",
              "      <td>C</td>\n",
              "    </tr>\n",
              "    <tr>\n",
              "      <th>2</th>\n",
              "      <td>3</td>\n",
              "      <td>1</td>\n",
              "      <td>3</td>\n",
              "      <td>Heikkinen, Miss. Laina</td>\n",
              "      <td>female</td>\n",
              "      <td>26.0</td>\n",
              "      <td>0</td>\n",
              "      <td>0</td>\n",
              "      <td>STON/O2. 3101282</td>\n",
              "      <td>7.9250</td>\n",
              "      <td>NaN</td>\n",
              "      <td>S</td>\n",
              "    </tr>\n",
              "    <tr>\n",
              "      <th>3</th>\n",
              "      <td>4</td>\n",
              "      <td>1</td>\n",
              "      <td>1</td>\n",
              "      <td>Futrelle, Mrs. Jacques Heath (Lily May Peel)</td>\n",
              "      <td>female</td>\n",
              "      <td>35.0</td>\n",
              "      <td>1</td>\n",
              "      <td>0</td>\n",
              "      <td>113803</td>\n",
              "      <td>53.1000</td>\n",
              "      <td>C123</td>\n",
              "      <td>S</td>\n",
              "    </tr>\n",
              "    <tr>\n",
              "      <th>4</th>\n",
              "      <td>5</td>\n",
              "      <td>0</td>\n",
              "      <td>3</td>\n",
              "      <td>Allen, Mr. William Henry</td>\n",
              "      <td>male</td>\n",
              "      <td>35.0</td>\n",
              "      <td>0</td>\n",
              "      <td>0</td>\n",
              "      <td>373450</td>\n",
              "      <td>8.0500</td>\n",
              "      <td>NaN</td>\n",
              "      <td>S</td>\n",
              "    </tr>\n",
              "    <tr>\n",
              "      <th>...</th>\n",
              "      <td>...</td>\n",
              "      <td>...</td>\n",
              "      <td>...</td>\n",
              "      <td>...</td>\n",
              "      <td>...</td>\n",
              "      <td>...</td>\n",
              "      <td>...</td>\n",
              "      <td>...</td>\n",
              "      <td>...</td>\n",
              "      <td>...</td>\n",
              "      <td>...</td>\n",
              "      <td>...</td>\n",
              "    </tr>\n",
              "    <tr>\n",
              "      <th>886</th>\n",
              "      <td>887</td>\n",
              "      <td>0</td>\n",
              "      <td>2</td>\n",
              "      <td>Montvila, Rev. Juozas</td>\n",
              "      <td>male</td>\n",
              "      <td>27.0</td>\n",
              "      <td>0</td>\n",
              "      <td>0</td>\n",
              "      <td>211536</td>\n",
              "      <td>13.0000</td>\n",
              "      <td>NaN</td>\n",
              "      <td>S</td>\n",
              "    </tr>\n",
              "    <tr>\n",
              "      <th>887</th>\n",
              "      <td>888</td>\n",
              "      <td>1</td>\n",
              "      <td>1</td>\n",
              "      <td>Graham, Miss. Margaret Edith</td>\n",
              "      <td>female</td>\n",
              "      <td>19.0</td>\n",
              "      <td>0</td>\n",
              "      <td>0</td>\n",
              "      <td>112053</td>\n",
              "      <td>30.0000</td>\n",
              "      <td>B42</td>\n",
              "      <td>S</td>\n",
              "    </tr>\n",
              "    <tr>\n",
              "      <th>888</th>\n",
              "      <td>889</td>\n",
              "      <td>0</td>\n",
              "      <td>3</td>\n",
              "      <td>Johnston, Miss. Catherine Helen \"Carrie\"</td>\n",
              "      <td>female</td>\n",
              "      <td>NaN</td>\n",
              "      <td>1</td>\n",
              "      <td>2</td>\n",
              "      <td>W./C. 6607</td>\n",
              "      <td>23.4500</td>\n",
              "      <td>NaN</td>\n",
              "      <td>S</td>\n",
              "    </tr>\n",
              "    <tr>\n",
              "      <th>889</th>\n",
              "      <td>890</td>\n",
              "      <td>1</td>\n",
              "      <td>1</td>\n",
              "      <td>Behr, Mr. Karl Howell</td>\n",
              "      <td>male</td>\n",
              "      <td>26.0</td>\n",
              "      <td>0</td>\n",
              "      <td>0</td>\n",
              "      <td>111369</td>\n",
              "      <td>30.0000</td>\n",
              "      <td>C148</td>\n",
              "      <td>C</td>\n",
              "    </tr>\n",
              "    <tr>\n",
              "      <th>890</th>\n",
              "      <td>891</td>\n",
              "      <td>0</td>\n",
              "      <td>3</td>\n",
              "      <td>Dooley, Mr. Patrick</td>\n",
              "      <td>male</td>\n",
              "      <td>32.0</td>\n",
              "      <td>0</td>\n",
              "      <td>0</td>\n",
              "      <td>370376</td>\n",
              "      <td>7.7500</td>\n",
              "      <td>NaN</td>\n",
              "      <td>Q</td>\n",
              "    </tr>\n",
              "  </tbody>\n",
              "</table>\n",
              "<p>891 rows × 12 columns</p>\n",
              "</div>\n",
              "      <button class=\"colab-df-convert\" onclick=\"convertToInteractive('df-c9504e27-90a9-4d1f-adb4-65f1d723b290')\"\n",
              "              title=\"Convert this dataframe to an interactive table.\"\n",
              "              style=\"display:none;\">\n",
              "        \n",
              "  <svg xmlns=\"http://www.w3.org/2000/svg\" height=\"24px\"viewBox=\"0 0 24 24\"\n",
              "       width=\"24px\">\n",
              "    <path d=\"M0 0h24v24H0V0z\" fill=\"none\"/>\n",
              "    <path d=\"M18.56 5.44l.94 2.06.94-2.06 2.06-.94-2.06-.94-.94-2.06-.94 2.06-2.06.94zm-11 1L8.5 8.5l.94-2.06 2.06-.94-2.06-.94L8.5 2.5l-.94 2.06-2.06.94zm10 10l.94 2.06.94-2.06 2.06-.94-2.06-.94-.94-2.06-.94 2.06-2.06.94z\"/><path d=\"M17.41 7.96l-1.37-1.37c-.4-.4-.92-.59-1.43-.59-.52 0-1.04.2-1.43.59L10.3 9.45l-7.72 7.72c-.78.78-.78 2.05 0 2.83L4 21.41c.39.39.9.59 1.41.59.51 0 1.02-.2 1.41-.59l7.78-7.78 2.81-2.81c.8-.78.8-2.07 0-2.86zM5.41 20L4 18.59l7.72-7.72 1.47 1.35L5.41 20z\"/>\n",
              "  </svg>\n",
              "      </button>\n",
              "      \n",
              "  <style>\n",
              "    .colab-df-container {\n",
              "      display:flex;\n",
              "      flex-wrap:wrap;\n",
              "      gap: 12px;\n",
              "    }\n",
              "\n",
              "    .colab-df-convert {\n",
              "      background-color: #E8F0FE;\n",
              "      border: none;\n",
              "      border-radius: 50%;\n",
              "      cursor: pointer;\n",
              "      display: none;\n",
              "      fill: #1967D2;\n",
              "      height: 32px;\n",
              "      padding: 0 0 0 0;\n",
              "      width: 32px;\n",
              "    }\n",
              "\n",
              "    .colab-df-convert:hover {\n",
              "      background-color: #E2EBFA;\n",
              "      box-shadow: 0px 1px 2px rgba(60, 64, 67, 0.3), 0px 1px 3px 1px rgba(60, 64, 67, 0.15);\n",
              "      fill: #174EA6;\n",
              "    }\n",
              "\n",
              "    [theme=dark] .colab-df-convert {\n",
              "      background-color: #3B4455;\n",
              "      fill: #D2E3FC;\n",
              "    }\n",
              "\n",
              "    [theme=dark] .colab-df-convert:hover {\n",
              "      background-color: #434B5C;\n",
              "      box-shadow: 0px 1px 3px 1px rgba(0, 0, 0, 0.15);\n",
              "      filter: drop-shadow(0px 1px 2px rgba(0, 0, 0, 0.3));\n",
              "      fill: #FFFFFF;\n",
              "    }\n",
              "  </style>\n",
              "\n",
              "      <script>\n",
              "        const buttonEl =\n",
              "          document.querySelector('#df-c9504e27-90a9-4d1f-adb4-65f1d723b290 button.colab-df-convert');\n",
              "        buttonEl.style.display =\n",
              "          google.colab.kernel.accessAllowed ? 'block' : 'none';\n",
              "\n",
              "        async function convertToInteractive(key) {\n",
              "          const element = document.querySelector('#df-c9504e27-90a9-4d1f-adb4-65f1d723b290');\n",
              "          const dataTable =\n",
              "            await google.colab.kernel.invokeFunction('convertToInteractive',\n",
              "                                                     [key], {});\n",
              "          if (!dataTable) return;\n",
              "\n",
              "          const docLinkHtml = 'Like what you see? Visit the ' +\n",
              "            '<a target=\"_blank\" href=https://colab.research.google.com/notebooks/data_table.ipynb>data table notebook</a>'\n",
              "            + ' to learn more about interactive tables.';\n",
              "          element.innerHTML = '';\n",
              "          dataTable['output_type'] = 'display_data';\n",
              "          await google.colab.output.renderOutput(dataTable, element);\n",
              "          const docLink = document.createElement('div');\n",
              "          docLink.innerHTML = docLinkHtml;\n",
              "          element.appendChild(docLink);\n",
              "        }\n",
              "      </script>\n",
              "    </div>\n",
              "  </div>\n",
              "  "
            ],
            "text/plain": [
              "     PassengerId  Survived  Pclass  \\\n",
              "0              1         0       3   \n",
              "1              2         1       1   \n",
              "2              3         1       3   \n",
              "3              4         1       1   \n",
              "4              5         0       3   \n",
              "..           ...       ...     ...   \n",
              "886          887         0       2   \n",
              "887          888         1       1   \n",
              "888          889         0       3   \n",
              "889          890         1       1   \n",
              "890          891         0       3   \n",
              "\n",
              "                                                  Name     Sex   Age  SibSp  \\\n",
              "0                              Braund, Mr. Owen Harris    male  22.0      1   \n",
              "1    Cumings, Mrs. John Bradley (Florence Briggs Th...  female  38.0      1   \n",
              "2                               Heikkinen, Miss. Laina  female  26.0      0   \n",
              "3         Futrelle, Mrs. Jacques Heath (Lily May Peel)  female  35.0      1   \n",
              "4                             Allen, Mr. William Henry    male  35.0      0   \n",
              "..                                                 ...     ...   ...    ...   \n",
              "886                              Montvila, Rev. Juozas    male  27.0      0   \n",
              "887                       Graham, Miss. Margaret Edith  female  19.0      0   \n",
              "888           Johnston, Miss. Catherine Helen \"Carrie\"  female   NaN      1   \n",
              "889                              Behr, Mr. Karl Howell    male  26.0      0   \n",
              "890                                Dooley, Mr. Patrick    male  32.0      0   \n",
              "\n",
              "     Parch            Ticket     Fare Cabin Embarked  \n",
              "0        0         A/5 21171   7.2500   NaN        S  \n",
              "1        0          PC 17599  71.2833   C85        C  \n",
              "2        0  STON/O2. 3101282   7.9250   NaN        S  \n",
              "3        0            113803  53.1000  C123        S  \n",
              "4        0            373450   8.0500   NaN        S  \n",
              "..     ...               ...      ...   ...      ...  \n",
              "886      0            211536  13.0000   NaN        S  \n",
              "887      0            112053  30.0000   B42        S  \n",
              "888      2        W./C. 6607  23.4500   NaN        S  \n",
              "889      0            111369  30.0000  C148        C  \n",
              "890      0            370376   7.7500   NaN        Q  \n",
              "\n",
              "[891 rows x 12 columns]"
            ]
          },
          "metadata": {},
          "execution_count": 20
        }
      ]
    },
    {
      "cell_type": "code",
      "source": [
        "df.info()"
      ],
      "metadata": {
        "colab": {
          "base_uri": "https://localhost:8080/"
        },
        "id": "w8hhhTTFgtYH",
        "outputId": "a58a5a97-8732-4003-9127-1a0d70e7a961"
      },
      "execution_count": 21,
      "outputs": [
        {
          "output_type": "stream",
          "name": "stdout",
          "text": [
            "<class 'pandas.core.frame.DataFrame'>\n",
            "RangeIndex: 891 entries, 0 to 890\n",
            "Data columns (total 12 columns):\n",
            " #   Column       Non-Null Count  Dtype  \n",
            "---  ------       --------------  -----  \n",
            " 0   PassengerId  891 non-null    int64  \n",
            " 1   Survived     891 non-null    int64  \n",
            " 2   Pclass       891 non-null    int64  \n",
            " 3   Name         891 non-null    object \n",
            " 4   Sex          891 non-null    object \n",
            " 5   Age          714 non-null    float64\n",
            " 6   SibSp        891 non-null    int64  \n",
            " 7   Parch        891 non-null    int64  \n",
            " 8   Ticket       891 non-null    object \n",
            " 9   Fare         891 non-null    float64\n",
            " 10  Cabin        204 non-null    object \n",
            " 11  Embarked     889 non-null    object \n",
            "dtypes: float64(2), int64(5), object(5)\n",
            "memory usage: 83.7+ KB\n"
          ]
        }
      ]
    },
    {
      "cell_type": "markdown",
      "source": [
        "1. 주어진 자료의 인원, 생존자, 사망자는 몇 명인가?"
      ],
      "metadata": {
        "id": "telZYRvwZa-u"
      }
    },
    {
      "cell_type": "code",
      "source": [
        "sur_data = df['Survived']\n",
        "svc = sur_data.value_counts()\n",
        "print(f\"인원:{sur_data.count()} 사망자:{svc.values[0]} 생존자:{svc.values[1]}\")"
      ],
      "metadata": {
        "colab": {
          "base_uri": "https://localhost:8080/"
        },
        "id": "Efau_v78ZdOj",
        "outputId": "ad6b8cbb-57b7-4a8c-e8c8-27cf41caedf4"
      },
      "execution_count": 22,
      "outputs": [
        {
          "output_type": "stream",
          "name": "stdout",
          "text": [
            "인원:891 사망자:549 생존자:342\n"
          ]
        }
      ]
    },
    {
      "cell_type": "markdown",
      "source": [
        "2. 생존자와 사망자를 Pie 그래프로 나타내고 생존자와 사망자의 퍼센트를 소수점 2자리까지 나타내시오.\n"
      ],
      "metadata": {
        "id": "KU0mbQCPZdZx"
      }
    },
    {
      "cell_type": "code",
      "source": [
        "labels = [\"사망자\", \"생존자\"]\n",
        "plt.pie(svc, labels = labels, autopct='%.2f%%')\n",
        "plt.title(\"생존자-사망자 %\")\n",
        "plt.show()"
      ],
      "metadata": {
        "colab": {
          "base_uri": "https://localhost:8080/",
          "height": 263
        },
        "id": "oWysCNZvZfS9",
        "outputId": "36d925f2-dbd7-424d-e0d2-8e997a0d41d2"
      },
      "execution_count": 23,
      "outputs": [
        {
          "output_type": "display_data",
          "data": {
            "image/png": "[encoded data removed]",
            "text/plain": [
              "<Figure size 432x288 with 1 Axes>"
            ]
          },
          "metadata": {}
        }
      ]
    },
    {
      "cell_type": "markdown",
      "source": [
        "3. 결측데이터가 있는 컬럼들을 조사하시오."
      ],
      "metadata": {
        "id": "I4AKWGbtZgZj"
      }
    },
    {
      "cell_type": "code",
      "source": [
        "age = df['Age'].isnull().value_counts()\n",
        "cabin = df['Cabin'].isnull().value_counts()\n",
        "embarked = df['Embarked'].isnull().value_counts()\n",
        "print(age)\n",
        "print(\"--------------------------\")\n",
        "print(cabin)\n",
        "print(\"--------------------------\")\n",
        "print(embarked)"
      ],
      "metadata": {
        "colab": {
          "base_uri": "https://localhost:8080/"
        },
        "id": "XFuuU7lvZjcd",
        "outputId": "dda6cf12-3506-4763-9617-293fc354ad9b"
      },
      "execution_count": 24,
      "outputs": [
        {
          "output_type": "stream",
          "name": "stdout",
          "text": [
            "False    714\n",
            "True     177\n",
            "Name: Age, dtype: int64\n",
            "--------------------------\n",
            "True     687\n",
            "False    204\n",
            "Name: Cabin, dtype: int64\n",
            "--------------------------\n",
            "False    889\n",
            "True       2\n",
            "Name: Embarked, dtype: int64\n"
          ]
        }
      ]
    },
    {
      "cell_type": "markdown",
      "source": [
        "4. Pclass의 종류별로 분포를 Pie 그래프로 나타내시오."
      ],
      "metadata": {
        "id": "xB3ge0_cZlG2"
      }
    },
    {
      "cell_type": "code",
      "source": [
        "dvc = df.Pclass.value_counts().sort_index()  # df['Pclass'}]==df.Pclass\n",
        "labels = [\"1등급\", \"2등급\", \"3등급\"]\n",
        "plt.pie(dvc, labels = labels, autopct='%.2f%%', explode = [0.02, 0.02, 0.02])\n",
        "plt.title(\"Pclass의 종류별 분포\")\n",
        "plt.show()"
      ],
      "metadata": {
        "colab": {
          "base_uri": "https://localhost:8080/",
          "height": 263
        },
        "id": "THyqtoiJZlxd",
        "outputId": "d2f58c96-3482-46fc-fe60-bd4af232db6e"
      },
      "execution_count": 25,
      "outputs": [
        {
          "output_type": "display_data",
          "data": {
            "image/png": "[encoded data removed]",
            "text/plain": [
              "<Figure size 432x288 with 1 Axes>"
            ]
          },
          "metadata": {}
        }
      ]
    },
    {
      "cell_type": "markdown",
      "source": [
        "5. Pclass의 종류별로 생존자와 사망자를 하나의 막대그래프로 나타내시오.(아래:생존자, 위:사망자)"
      ],
      "metadata": {
        "id": "TQLbYWRgZmxE"
      }
    },
    {
      "cell_type": "code",
      "source": [
        "pdata = df.Pclass\n",
        "cn = len(pdata.unique())\n",
        "pc_alive_arr = np.zeros(cn)\n",
        "pc_dead_arr = np.zeros(cn)\n",
        "for index in range(len(pdata)):\n",
        "    pi = pdata[index]-1  #Pclass는 1,2,3  ->  0,1,2로 변환\n",
        "    if sur_data[index] == 0:  #사망자일 때\n",
        "        pc_dead_arr[pi] += 1\n",
        "    else:  #생존자일 때\n",
        "        pc_alive_arr[pi] += 1\n",
        "\n",
        "labels = ['1등급', '2등급', '3등급']\n",
        "plt.bar(labels, pc_alive_arr)\n",
        "plt.bar(labels, pc_dead_arr, bottom = pc_alive_arr)\n",
        "for i in range(cn):\n",
        "    plt.annotate(str(pc_alive_arr[i]), (-0.1+i, 40))\n",
        "    plt.annotate(str(pc_dead_arr[i]), (-0.1+i, pc_alive_arr[i]+30))\n",
        "plt.title(\"Pclass의 종류별 생존자와 사망자\")\n",
        "plt.show()"
      ],
      "metadata": {
        "colab": {
          "base_uri": "https://localhost:8080/",
          "height": 280
        },
        "id": "MonfdallZoff",
        "outputId": "6b167ad0-ed3c-42da-8428-ad81d2b6f03c"
      },
      "execution_count": 26,
      "outputs": [
        {
          "output_type": "display_data",
          "data": {
            "image/png": "[encoded data removed]",
            "text/plain": [
              "<Figure size 432x288 with 1 Axes>"
            ]
          },
          "metadata": {
            "needs_background": "light"
          }
        }
      ]
    },
    {
      "cell_type": "markdown",
      "source": [
        "6. Name 컬럼에 탑승자를 부르는 호칭을 Mr, Mrs, Miss, Master, Dr, ETC로 나누어 분포를 파이 그래프로 나타내시오."
      ],
      "metadata": {
        "id": "KYbliQQxZqP0"
      }
    },
    {
      "cell_type": "code",
      "source": [
        "names_values = ['Mr', 'Mrs', 'Miss', 'Master', 'Dr', 'ETC']\n",
        "def get_name_index(name):\n",
        "    first, second = name.split(',')  #콤마 기준으로 분리\n",
        "    foos = second.split('.')  #마침표를 기준으로 분리\n",
        "    tn = foos[0].replace(' ', '')  #공백은 제거\n",
        "    for index, nv in enumerate(names_values):\n",
        "        if nv == tn:\n",
        "            return index\n",
        "    return 5\n",
        "#ni = get_name_index(df.Name[0])\n",
        "#print(f\"{df.Name[0]}:{names_values[ni]}\")\n",
        "\n",
        "n_cnts = np.zeros(6)\n",
        "for i, name in enumerate(df.Name):\n",
        "    ni = get_name_index(name)\n",
        "    n_cnts[ni] += 1\n",
        "#print(n_cnts)\n",
        "\n",
        "plt.pie(n_cnts, labels = names_values, autopct='%.2f%%')\n",
        "plt.title(\"탑승객 호칭별 분포\")\n",
        "plt.show()"
      ],
      "metadata": {
        "colab": {
          "base_uri": "https://localhost:8080/",
          "height": 263
        },
        "id": "83TmWb7KZqyL",
        "outputId": "3e71ae97-de2e-491d-b33c-2d18f228a622"
      },
      "execution_count": 27,
      "outputs": [
        {
          "output_type": "display_data",
          "data": {
            "image/png": "[encoded data removed]",
            "text/plain": [
              "<Figure size 432x288 with 1 Axes>"
            ]
          },
          "metadata": {}
        }
      ]
    },
    {
      "cell_type": "markdown",
      "source": [
        "7. 앞에서 구분한 호칭에 따른 생존자와 사망자를 하나의 막대그래프로 나타내시오.(아래:생존자, 위:사망자)"
      ],
      "metadata": {
        "id": "uIz8d3a6Ztlw"
      }
    },
    {
      "cell_type": "code",
      "source": [
        "pn_alive_arr = np.zeros(6)\n",
        "pn_dead_arr = np.zeros(6)\n",
        "for i, name in enumerate(df.Name):\n",
        "    ni = get_name_index(name)\n",
        "    if sur_data[i] == 0:\n",
        "        pn_dead_arr[ni] += 1\n",
        "    else:\n",
        "        pn_alive_arr[ni] += 1\n",
        "plt.bar(names_values, pn_alive_arr)\n",
        "plt.bar(names_values, pn_dead_arr, bottom = pn_alive_arr)\n",
        "for i in range(6):\n",
        "  plt.annotate(str(pn_alive_arr[i]),(-0.1+i,40))\n",
        "  if pn_alive_arr[i]<40:\n",
        "    plt.annotate(str(pn_dead_arr[i]),(-0.1+i,pn_alive_arr[i]+80))\n",
        "  else:\n",
        "    plt.annotate(str(pn_dead_arr[i]),(-0.1+i,pn_alive_arr[i]+30))\n",
        "plt.show()"
      ],
      "metadata": {
        "colab": {
          "base_uri": "https://localhost:8080/",
          "height": 265
        },
        "id": "jvt2_v01Zvn3",
        "outputId": "84b29a81-728b-40e7-923e-3ec65d35ae25"
      },
      "execution_count": 28,
      "outputs": [
        {
          "output_type": "display_data",
          "data": {
            "image/png": "[encoded data removed]",
            "text/plain": [
              "<Figure size 432x288 with 1 Axes>"
            ]
          },
          "metadata": {
            "needs_background": "light"
          }
        }
      ]
    },
    {
      "cell_type": "markdown",
      "source": [
        "8. 성별로 분포를 파이 그래프로 나타내시오."
      ],
      "metadata": {
        "id": "MzrOqOMmZv4R"
      }
    },
    {
      "cell_type": "code",
      "source": [
        "svc = df.Sex.value_counts().sort_index()\n",
        "plt.pie(svc, labels = ['female', 'male'], autopct='%.2f%%', explode = [0.02, 0.02])\n",
        "plt.title(\"성별 분포\")\n",
        "plt.show()"
      ],
      "metadata": {
        "colab": {
          "base_uri": "https://localhost:8080/",
          "height": 263
        },
        "id": "wpkn5sRtSpTL",
        "outputId": "45a2b030-656b-4279-8ac0-cd698481360f"
      },
      "execution_count": 29,
      "outputs": [
        {
          "output_type": "display_data",
          "data": {
            "image/png": "[encoded data removed]",
            "text/plain": [
              "<Figure size 432x288 with 1 Axes>"
            ]
          },
          "metadata": {}
        }
      ]
    },
    {
      "cell_type": "code",
      "source": [
        "sex_values = ['female', 'male']\n",
        "def get_sex_index(sex):\n",
        "    if sex == 'female':\n",
        "        return 0\n",
        "    return 1\n",
        "\n",
        "s_cnts = np.zeros(2)\n",
        "for i, sex in enumerate(df.Sex):\n",
        "    si = get_sex_index(sex)\n",
        "    s_cnts[si] += 1\n",
        "\n",
        "plt.pie(s_cnts, labels = sex_values, autopct='%.2f%%')\n",
        "plt.title(\"성별 분포\")\n",
        "plt.show()"
      ],
      "metadata": {
        "colab": {
          "base_uri": "https://localhost:8080/",
          "height": 263
        },
        "id": "SbxElI9mZyEj",
        "outputId": "3fb1d04a-7827-43d7-e9b1-5974f7598104"
      },
      "execution_count": 30,
      "outputs": [
        {
          "output_type": "display_data",
          "data": {
            "image/png": "[encoded data removed]",
            "text/plain": [
              "<Figure size 432x288 with 1 Axes>"
            ]
          },
          "metadata": {}
        }
      ]
    },
    {
      "cell_type": "markdown",
      "source": [
        "9. 성별에 따른 생존자와 사망자를 하나의 막대그래프로 나타내시오.(아래:생존자, 위:사망자)"
      ],
      "metadata": {
        "id": "SSWeiTP9ZyMu"
      }
    },
    {
      "cell_type": "code",
      "source": [
        "sdata = df.Sex\n",
        "sn = len(sdata.unique())\n",
        "s_alive_arr = np.zeros(sn)\n",
        "s_dead_arr = np.zeros(sn)\n",
        "for index in range(len(sdata)):\n",
        "    if sdata[index] == 'female':\n",
        "        si = 0\n",
        "    else:\n",
        "        si = 1\n",
        "    if sur_data[index] == 0:  #사망자일 때\n",
        "        s_dead_arr[si] += 1\n",
        "    else:  #생존자일 때\n",
        "        s_alive_arr[si] += 1\n",
        "\n",
        "labels = ['female', 'male']\n",
        "plt.bar(labels, s_alive_arr)\n",
        "plt.bar(labels, s_dead_arr, bottom = s_alive_arr)\n",
        "for i in range(sn):\n",
        "    plt.annotate(str(s_alive_arr[i]), (-0.1+i, 40))\n",
        "    plt.annotate(str(s_dead_arr[i]), (-0.1+i, s_alive_arr[i]+30))\n",
        "plt.title(\"성별 생존자와 사망자\")\n",
        "plt.show()"
      ],
      "metadata": {
        "colab": {
          "base_uri": "https://localhost:8080/",
          "height": 280
        },
        "id": "b27JenTPZzs6",
        "outputId": "459fe9a7-2119-4c2e-93ed-56a8e5ed16da"
      },
      "execution_count": 31,
      "outputs": [
        {
          "output_type": "display_data",
          "data": {
            "image/png": "[encoded data removed]",
            "text/plain": [
              "<Figure size 432x288 with 1 Axes>"
            ]
          },
          "metadata": {
            "needs_background": "light"
          }
        }
      ]
    },
    {
      "cell_type": "markdown",
      "source": [
        "10. 나이를 5살 범위로 17단계로(0 ~ 5, 5 ~ 10,...,80 ~ 85)로 나누어 분포를 조사하여 파이 그래프로 나타내시오.(결측값은 평균나이로 처리하시오.)"
      ],
      "metadata": {
        "id": "uRYwPZZ8Zz62"
      }
    },
    {
      "cell_type": "code",
      "source": [
        "#df[\"Age\"].isna().sum()\n",
        "#df[\"Age\"].describe()\n",
        "\n",
        "mv = df['Age'].mean()  #평균\n",
        "ad = df['Age'].fillna(mv)  #결측치 평균값으로 채움\n",
        "#ad.isnull().value_counts()"
      ],
      "metadata": {
        "id": "a9fOXvUfZ2PR"
      },
      "execution_count": 32,
      "outputs": []
    },
    {
      "cell_type": "code",
      "source": [
        "#1\n",
        "n, _, _ = plt.hist(ad, bins = [0,5,10,15,20,25,30,35,40,45,50,55,60,65,70,75,80,85])  #n값 말고는 필요없음 bins, patches -> _로 생략\n",
        "plt.show()\n",
        "n, _"
      ],
      "metadata": {
        "colab": {
          "base_uri": "https://localhost:8080/",
          "height": 302
        },
        "id": "w9VrsZgrgEuZ",
        "outputId": "bf047007-28f4-45ae-9b07-896e5bad719d"
      },
      "execution_count": 33,
      "outputs": [
        {
          "output_type": "display_data",
          "data": {
            "image/png": "[encoded data removed]",
            "text/plain": [
              "<Figure size 432x288 with 1 Axes>"
            ]
          },
          "metadata": {
            "needs_background": "light"
          }
        },
        {
          "output_type": "execute_result",
          "data": {
            "text/plain": [
              "(array([ 40.,  22.,  16.,  86., 114., 283.,  95.,  72.,  48.,  41.,  32.,\n",
              "         16.,  15.,   4.,   6.,   0.,   1.]), <a list of 17 Patch objects>)"
            ]
          },
          "metadata": {},
          "execution_count": 33
        }
      ]
    },
    {
      "cell_type": "code",
      "source": [
        "#2\n",
        "age_values = np.zeros(17)\n",
        "for i, age in enumerate(ad):\n",
        "    ai = age//5\n",
        "    ai = int(ai)  #타입이 int이어야 인덱스로 사용 가능 float->int 형변환\n",
        "    age_values[ai] += 1\n",
        "age_values"
      ],
      "metadata": {
        "colab": {
          "base_uri": "https://localhost:8080/"
        },
        "id": "yOD1nVj5g8fH",
        "outputId": "5ca4b9df-5283-41bc-aa54-bd53f364508c"
      },
      "execution_count": 34,
      "outputs": [
        {
          "output_type": "execute_result",
          "data": {
            "text/plain": [
              "array([ 40.,  22.,  16.,  86., 114., 283.,  95.,  72.,  48.,  41.,  32.,\n",
              "        16.,  15.,   4.,   6.,   0.,   1.])"
            ]
          },
          "metadata": {},
          "execution_count": 34
        }
      ]
    },
    {
      "cell_type": "code",
      "source": [
        "plt.pie(age_values, labels=['0', '5', '10', '15', '20', '25', '30', '35', '40', '45', '50', '55', '60', '65', '70', '75', '80'], autopct=\"%.2f%%\")\n",
        "plt.show()"
      ],
      "metadata": {
        "colab": {
          "base_uri": "https://localhost:8080/",
          "height": 248
        },
        "id": "lFyJ0SmyiDwP",
        "outputId": "7a51afb8-e61f-4c51-be7c-0439f9680bd5"
      },
      "execution_count": 35,
      "outputs": [
        {
          "output_type": "display_data",
          "data": {
            "image/png": "[encoded data removed]",
            "text/plain": [
              "<Figure size 432x288 with 1 Axes>"
            ]
          },
          "metadata": {}
        }
      ]
    },
    {
      "cell_type": "markdown",
      "source": [
        "11. 나이를 구분한 단계에 따른 생존자와 사망자를 하나의 막대그래프로 나타내시오.(아래:생존자, 위:사망자)"
      ],
      "metadata": {
        "id": "elN9POuZZ2a_"
      }
    },
    {
      "cell_type": "code",
      "source": [
        "a_alive_arr = np.zeros(17)\n",
        "a_dead_arr = np.zeros(17)\n",
        "for index in range(len(ad)):\n",
        "    ai = ad[index]//5\n",
        "    ai = int(ai)\n",
        "\n",
        "    if sur_data[index] == 0:  #사망자일 때\n",
        "        a_dead_arr[ai] += 1\n",
        "    else:  #생존자일 때\n",
        "        a_alive_arr[ai] += 1\n",
        "\n",
        "labels=['0', '5', '10', '15', '20', '25', '30', '35', '40', '45', '50', '55', '60', '65', '70', '75', '80']\n",
        "plt.bar(labels, a_alive_arr)\n",
        "plt.bar(labels, a_dead_arr, bottom = a_alive_arr)\n",
        "plt.show()\n",
        "\n",
        "for i in range(17):\n",
        "    print(f\"{i*5:02d}~{(i+1)*5:-02d}:{age_values[i]:03.0f}\")"
      ],
      "metadata": {
        "colab": {
          "base_uri": "https://localhost:8080/",
          "height": 575
        },
        "id": "4_-l3fw3Z4OV",
        "outputId": "3e0ac218-0899-4e24-a8a5-fa6623f15f6f"
      },
      "execution_count": 36,
      "outputs": [
        {
          "output_type": "display_data",
          "data": {
            "image/png": "[encoded data removed]",
            "text/plain": [
              "<Figure size 432x288 with 1 Axes>"
            ]
          },
          "metadata": {
            "needs_background": "light"
          }
        },
        {
          "output_type": "stream",
          "name": "stdout",
          "text": [
            "00~05:040\n",
            "05~10:022\n",
            "10~15:016\n",
            "15~20:086\n",
            "20~25:114\n",
            "25~30:283\n",
            "30~35:095\n",
            "35~40:072\n",
            "40~45:048\n",
            "45~50:041\n",
            "50~55:032\n",
            "55~60:016\n",
            "60~65:015\n",
            "65~70:004\n",
            "70~75:006\n",
            "75~80:000\n",
            "80~85:001\n"
          ]
        }
      ]
    },
    {
      "cell_type": "markdown",
      "source": [
        "12. SibSp 컬럼의 값의 종류에 따른 분포를 조사하여 파이 그래프로 나타내시오."
      ],
      "metadata": {
        "id": "wEJ1kjRSZ4Xf"
      }
    },
    {
      "cell_type": "code",
      "source": [
        "#df[\"SibSp\"].describe()\n",
        "svc = df.SibSp.value_counts().sort_index()\n",
        "plt.pie(svc.values, labels=svc.index, autopct=\"%.2f%%\")\n",
        "plt.show()"
      ],
      "metadata": {
        "colab": {
          "base_uri": "https://localhost:8080/",
          "height": 248
        },
        "id": "bCLrysa2Z5nk",
        "outputId": "7b7c651b-917d-4213-ac0c-8616dbc8a7c0"
      },
      "execution_count": 37,
      "outputs": [
        {
          "output_type": "display_data",
          "data": {
            "image/png": "[encoded data removed]",
            "text/plain": [
              "<Figure size 432x288 with 1 Axes>"
            ]
          },
          "metadata": {}
        }
      ]
    },
    {
      "cell_type": "markdown",
      "source": [
        "13. 값에 따른 생존자와 사망자를 하나의 막대그래프로 나타내시오.(아래:생존자, 위:사망자)"
      ],
      "metadata": {
        "id": "QY2bnxofZ5w8"
      }
    },
    {
      "cell_type": "code",
      "source": [
        "sdata = df.SibSp\n",
        "sn = 9  #형제 자매 수를 인덱스로 사용하기 위해 0~8까지 9개를 사용\n",
        "s_alive_arr = np.zeros(sn)\n",
        "s_dead_arr = np.zeros(sn)\n",
        "for index in range(len(sdata)):\n",
        "    si = sdata[index]  #형제 자매 수를 얻어옴\n",
        "    if sur_data[index] == 0:  #사망자일 때\n",
        "        s_dead_arr[si] += 1\n",
        "    else:  #생존자일 때\n",
        "        s_alive_arr[si] += 1\n",
        "\n",
        "labels = [str(i) for i in range(9)]\n",
        "plt.bar(labels, s_alive_arr)\n",
        "plt.bar(labels, s_dead_arr, bottom = s_alive_arr)\n",
        "for i in range(sn):\n",
        "    plt.annotate(str(s_alive_arr[i]), (-0.2+i, 40))\n",
        "    if s_alive_arr[i] < 40:\n",
        "        plt.annotate(str(s_alive_arr[i]), (-0.2+i, s_alive_arr[i]+80))\n",
        "    else:\n",
        "        plt.annotate(str(s_dead_arr[i]), (-0.2+i, s_alive_arr[i]+30))\n",
        "plt.show()"
      ],
      "metadata": {
        "colab": {
          "base_uri": "https://localhost:8080/",
          "height": 265
        },
        "id": "aXXHV4A5Z7Gz",
        "outputId": "f8202156-25b4-4bdf-aa3d-049b439e4405"
      },
      "execution_count": 38,
      "outputs": [
        {
          "output_type": "display_data",
          "data": {
            "image/png": "[encoded data removed]",
            "text/plain": [
              "<Figure size 432x288 with 1 Axes>"
            ]
          },
          "metadata": {
            "needs_background": "light"
          }
        }
      ]
    },
    {
      "cell_type": "markdown",
      "source": [
        "14. Parch 컬럼의 값의 종류에 따른 분포를 조사하여 파이 그래프로 나타내시오."
      ],
      "metadata": {
        "id": "cFRTFoxyZ7O5"
      }
    },
    {
      "cell_type": "code",
      "source": [
        "pvc = df.Parch.value_counts().sort_index()\n",
        "plt.pie(pvc.values, labels=pvc.index, autopct=\"%.2f%%\")\n",
        "plt.title(\"Parch\")\n",
        "plt.show()"
      ],
      "metadata": {
        "id": "HpEmYE8MZ9-J",
        "colab": {
          "base_uri": "https://localhost:8080/",
          "height": 263
        },
        "outputId": "bbabec0d-1f29-4621-c7b6-cdf948cc8af6"
      },
      "execution_count": 41,
      "outputs": [
        {
          "output_type": "display_data",
          "data": {
            "image/png": "[encoded data removed]",
            "text/plain": [
              "<Figure size 432x288 with 1 Axes>"
            ]
          },
          "metadata": {}
        }
      ]
    },
    {
      "cell_type": "markdown",
      "source": [
        "15. 값에 따른 생존자와 사망자를 하나의 막대그래프로 나타내시오.(아래:생존자, 위:사망자)"
      ],
      "metadata": {
        "id": "Qi9prLStZ-IM"
      }
    },
    {
      "cell_type": "code",
      "source": [
        "pdata = df.Parch\n",
        "pn = 7  #직계 자손, 조상 수를 인덱스로 사용하기 위해 0~6까지 7개를 사용\n",
        "pc_alive_arr = np.zeros(pn)\n",
        "pc_dead_arr = np.zeros(pn)\n",
        "for index in range(len(pdata)):\n",
        "    pi = pdata[index]  #직계 자손, 조상 수\n",
        "    if sur_data[index] == 0:  #사망자일 때\n",
        "        pc_dead_arr[pi] += 1\n",
        "    else:  #생존자일 때\n",
        "        pc_alive_arr[pi] += 1\n",
        "\n",
        "labels = [str(i) for i in range(pn)]  #['0','1','2',...,'6']\n",
        "plt.bar(labels, pc_alive_arr)\n",
        "plt.bar(labels, pc_dead_arr, bottom = pc_alive_arr)\n",
        "for i in range(pn):\n",
        "    plt.annotate(str(pc_alive_arr[i]), (-0.2+i, 40))\n",
        "    if pc_alive_arr[i] < 40:\n",
        "        plt.annotate(str(pc_alive_arr[i]), (-0.2+i, pc_alive_arr[i]+80))\n",
        "    else:\n",
        "        plt.annotate(str(pc_dead_arr[i]), (-0.2+i, pc_alive_arr[i]+30))\n",
        "plt.show()"
      ],
      "metadata": {
        "id": "f7zN3IRLZ_qs"
      },
      "execution_count": null,
      "outputs": []
    },
    {
      "cell_type": "markdown",
      "source": [
        "16. 승선한 항구(Embarked 컬럼)에 따른 분포를 조사하여 파이 그래프로 나타내시오.(결측값은 'N'으로 마킹하시오.)"
      ],
      "metadata": {
        "id": "qrEtyflGZ_1W"
      }
    },
    {
      "cell_type": "code",
      "source": [
        "df.Embarked.isnull().value_counts()"
      ],
      "metadata": {
        "id": "xipH9HAiaBps",
        "colab": {
          "base_uri": "https://localhost:8080/"
        },
        "outputId": "86429dd2-a8e4-4a4c-db38-55e3427644c9"
      },
      "execution_count": 45,
      "outputs": [
        {
          "output_type": "execute_result",
          "data": {
            "text/plain": [
              "False    889\n",
              "True       2\n",
              "Name: Embarked, dtype: int64"
            ]
          },
          "metadata": {},
          "execution_count": 45
        }
      ]
    },
    {
      "cell_type": "code",
      "source": [
        "edata = df.Embarked.fillna('N')\n",
        "edata.isnull().value_counts()"
      ],
      "metadata": {
        "colab": {
          "base_uri": "https://localhost:8080/"
        },
        "id": "rjXam7WXkcuc",
        "outputId": "88541c4a-66ee-4f9c-9569-9db1cb8ec7d8"
      },
      "execution_count": 46,
      "outputs": [
        {
          "output_type": "execute_result",
          "data": {
            "text/plain": [
              "False    891\n",
              "Name: Embarked, dtype: int64"
            ]
          },
          "metadata": {},
          "execution_count": 46
        }
      ]
    },
    {
      "cell_type": "code",
      "source": [
        "evc = edata.value_counts()\n",
        "plt.pie(evc.values, labels=evc.index, autopct=\"%.2f%%\")\n",
        "plt.title(\"Embarked\")\n",
        "plt.show()"
      ],
      "metadata": {
        "colab": {
          "base_uri": "https://localhost:8080/",
          "height": 263
        },
        "id": "o2pmmYtpkuX1",
        "outputId": "c9fbe42b-96a9-47c2-b438-24fe342506db"
      },
      "execution_count": 47,
      "outputs": [
        {
          "output_type": "display_data",
          "data": {
            "image/png": "[encoded data removed]",
            "text/plain": [
              "<Figure size 432x288 with 1 Axes>"
            ]
          },
          "metadata": {}
        }
      ]
    },
    {
      "cell_type": "markdown",
      "source": [
        "17. 값에 따른 생존자와 사망자를 하나의 막대그래프로 나타내시오.(아래:생존자, 위:사망자)"
      ],
      "metadata": {
        "id": "PAbr6KQGaBvy"
      }
    },
    {
      "cell_type": "code",
      "source": [
        "len(edata.unique())"
      ],
      "metadata": {
        "colab": {
          "base_uri": "https://localhost:8080/"
        },
        "id": "dGiyXdaFlee4",
        "outputId": "ecf2a158-33cc-4a3a-d162-703f4475daaa"
      },
      "execution_count": 48,
      "outputs": [
        {
          "output_type": "execute_result",
          "data": {
            "text/plain": [
              "4"
            ]
          },
          "metadata": {},
          "execution_count": 48
        }
      ]
    },
    {
      "cell_type": "code",
      "source": [
        "evc.index"
      ],
      "metadata": {
        "colab": {
          "base_uri": "https://localhost:8080/"
        },
        "id": "rzBBKCtmlqJp",
        "outputId": "6bf1da65-7bb5-4cfa-90ff-c8efad0bf31a"
      },
      "execution_count": 49,
      "outputs": [
        {
          "output_type": "execute_result",
          "data": {
            "text/plain": [
              "Index(['S', 'C', 'Q', 'N'], dtype='object')"
            ]
          },
          "metadata": {},
          "execution_count": 49
        }
      ]
    },
    {
      "cell_type": "code",
      "source": [
        "def get_embarked_index(embarked):\n",
        "    if embarked == 'S':\n",
        "        return 0\n",
        "    if embarked == 'C':\n",
        "        return 1\n",
        "    if embarked == 'Q':\n",
        "        return 2\n",
        "    if embarked == 'N':\n",
        "        return 3"
      ],
      "metadata": {
        "id": "TDa1RiX9lusE"
      },
      "execution_count": 50,
      "outputs": []
    },
    {
      "cell_type": "code",
      "source": [
        "en = len(edata.unique())  #승선한 항구 수\n",
        "ec_alive_arr = np.zeros(en)\n",
        "ec_dead_arr = np.zeros(en)\n",
        "for index in range(len(edata)):\n",
        "    ei = get_embarked_index(edata[index])  #embarked의 인덱스 얻어옴\n",
        "    if sur_data[index] == 0:  #사망자일 때\n",
        "        ec_dead_arr[ei] += 1\n",
        "    else:  #생존자일 때\n",
        "        ec_alive_arr[ei] += 1\n",
        "\n",
        "labels = [str(i) for i in range(en)]  #['0','1','2','3']\n",
        "plt.bar(labels, ec_alive_arr)\n",
        "plt.bar(labels, ec_dead_arr, bottom = ec_alive_arr)\n",
        "for i in range(en):\n",
        "    plt.annotate(str(ec_alive_arr[i]), (-0.2+i, 40))\n",
        "    if ec_alive_arr[i] < 40:\n",
        "        plt.annotate(str(ec_alive_arr[i]), (-0.2+i, ec_alive_arr[i]+80))\n",
        "    else:\n",
        "        plt.annotate(str(ec_dead_arr[i]), (-0.2+i, ec_alive_arr[i]+30))\n",
        "plt.show()"
      ],
      "metadata": {
        "id": "dmfaZt8faDQ_",
        "colab": {
          "base_uri": "https://localhost:8080/",
          "height": 265
        },
        "outputId": "88fd543c-4df0-4d27-c8e3-7a3015a73eeb"
      },
      "execution_count": 51,
      "outputs": [
        {
          "output_type": "display_data",
          "data": {
            "image/png": "[encoded data removed]",
            "text/plain": [
              "<Figure size 432x288 with 1 Axes>"
            ]
          },
          "metadata": {
            "needs_background": "light"
          }
        }
      ]
    }
  ]
}