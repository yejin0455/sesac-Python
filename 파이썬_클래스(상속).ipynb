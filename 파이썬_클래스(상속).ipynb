{
  "nbformat": 4,
  "nbformat_minor": 0,
  "metadata": {
    "colab": {
      "name": "파이썬-클래스(상속).ipynb",
      "provenance": [],
      "collapsed_sections": [],
      "authorship_tag": "ABX9TyPrHhFHKCsPtoHGLzRIf2eC",
      "include_colab_link": true
    },
    "kernelspec": {
      "name": "python3",
      "display_name": "Python 3"
    },
    "language_info": {
      "name": "python"
    }
  },
  "cells": [
    {
      "cell_type": "markdown",
      "metadata": {
        "id": "view-in-github",
        "colab_type": "text"
      },
      "source": [
        "<a href=\"https://colab.research.google.com/github/yejin0455/sesac-python/blob/main/%ED%8C%8C%EC%9D%B4%EC%8D%AC_%ED%81%B4%EB%9E%98%EC%8A%A4(%EC%83%81%EC%86%8D).ipynb\" target=\"_parent\"><img src=\"https://colab.research.google.com/assets/colab-badge.svg\" alt=\"Open In Colab\"/></a>"
      ]
    },
    {
      "cell_type": "markdown",
      "source": [
        "# 상속\n",
        "\n",
        "기반 형식에 정의한 멤버는 파생 형식에 상속한다.\n",
        "\n",
        "예 : 음악가 형식에 이름, 연주하다 -> 캡슐화\n",
        "\n",
        "음악가에서 파생한 형식인 피아니스트는 자동으로 이름, 연주하다 멤버를 갖게 된다.\n",
        "\n",
        "설계 시점에서는 프로그램에 사용할 인스턴스들 중에 공통점을 찾아 여러 형식의 공통점을 기반 형식으로 정의하는 작업을 진행한다. 이를 일반화라 부른다."
      ],
      "metadata": {
        "id": "PHvZX3QbiVVQ"
      }
    },
    {
      "cell_type": "code",
      "source": [
        "class Man:\n",
        "    def __init__(self, name):\n",
        "        self.__name = name\n",
        "    def introduce(self):\n",
        "        print(\"my name is \", self.__name)"
      ],
      "metadata": {
        "id": "qXHWYf1DjN3L"
      },
      "execution_count": 5,
      "outputs": []
    },
    {
      "cell_type": "code",
      "source": [
        "m1 = Man(\"홍길동\")\n",
        "m1.introduce()"
      ],
      "metadata": {
        "colab": {
          "base_uri": "https://localhost:8080/"
        },
        "id": "NO9vxHMnjvyM",
        "outputId": "61dfbc31-e91e-45b6-923d-212e46d6ccc9"
      },
      "execution_count": 6,
      "outputs": [
        {
          "output_type": "stream",
          "name": "stdout",
          "text": [
            "my name is  홍길동\n"
          ]
        }
      ]
    },
    {
      "cell_type": "code",
      "source": [
        "class Student(Man):\n",
        "    def __init__(self, name, num):\n",
        "        super().__init__(name)\n",
        "        self.__num = num\n",
        "    def view(self):\n",
        "        self.introduce()\n",
        "        print(\"my number is \", self.__num)"
      ],
      "metadata": {
        "id": "16swfJ2Aj0f-"
      },
      "execution_count": 8,
      "outputs": []
    },
    {
      "cell_type": "code",
      "source": [
        "s1 = Student(\"강감찬\", 2)\n",
        "s1.view()\n",
        "s1.introduce()"
      ],
      "metadata": {
        "colab": {
          "base_uri": "https://localhost:8080/"
        },
        "id": "vBXa0BlJkVU9",
        "outputId": "864dbc1d-804e-4881-d069-b5fd2297915b"
      },
      "execution_count": 9,
      "outputs": [
        {
          "output_type": "stream",
          "name": "stdout",
          "text": [
            "my name is  강감찬\n",
            "my number is  2\n",
            "my name is  강감찬\n"
          ]
        }
      ]
    },
    {
      "cell_type": "code",
      "source": [
        "if isinstance(s1, Man):\n",
        "    print(\"사람입니다\")\n",
        "else:\n",
        "    print(\"사람이 아닙니다\")"
      ],
      "metadata": {
        "colab": {
          "base_uri": "https://localhost:8080/"
        },
        "id": "uzr1FCrqlmfP",
        "outputId": "5e31a764-2437-4862-ec44-c57f28dfd96f"
      },
      "execution_count": 10,
      "outputs": [
        {
          "output_type": "stream",
          "name": "stdout",
          "text": [
            "사람입니다\n"
          ]
        }
      ]
    }
  ]
}