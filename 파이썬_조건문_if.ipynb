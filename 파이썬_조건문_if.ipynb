{
  "nbformat": 4,
  "nbformat_minor": 0,
  "metadata": {
    "colab": {
      "name": "파이썬-조건문-if.ipynb",
      "provenance": [],
      "collapsed_sections": [],
      "authorship_tag": "ABX9TyPeLTPbvRzCZk4zhhsukBbB",
      "include_colab_link": true
    },
    "kernelspec": {
      "name": "python3",
      "display_name": "Python 3"
    },
    "language_info": {
      "name": "python"
    }
  },
  "cells": [
    {
      "cell_type": "markdown",
      "metadata": {
        "id": "view-in-github",
        "colab_type": "text"
      },
      "source": [
        "<a href=\"https://colab.research.google.com/github/yejin0455/sesac-python/blob/main/%ED%8C%8C%EC%9D%B4%EC%8D%AC_%EC%A1%B0%EA%B1%B4%EB%AC%B8_if.ipynb\" target=\"_parent\"><img src=\"https://colab.research.google.com/assets/colab-badge.svg\" alt=\"Open In Colab\"/></a>"
      ]
    },
    {
      "cell_type": "markdown",
      "source": [
        "# 조건문 if\n",
        "\n",
        "if expression: \n",
        "\n",
        "....statement\n",
        "\n",
        "expression이 참일 때 statement 수행"
      ],
      "metadata": {
        "id": "Uq6nq9L1gG24"
      }
    },
    {
      "cell_type": "code",
      "source": [
        "num1 = int(input(\"국어점수:\"))\n",
        "if num1 >= 90:\n",
        "    print(\"A\")  #조건이 참일 때 수행, if구문 끝남\n",
        "    print(\"good\")   #조건이 참일 때\n",
        "print(\"끝\")  #if랑 상관없이 실행"
      ],
      "metadata": {
        "colab": {
          "base_uri": "https://localhost:8080/"
        },
        "id": "Fzu8ibKtgUBX",
        "outputId": "5e36eed6-839f-4973-8995-c321cf889f6c"
      },
      "execution_count": 1,
      "outputs": [
        {
          "output_type": "stream",
          "name": "stdout",
          "text": [
            "국어점수:95\n",
            "A\n",
            "good\n",
            "A는 아닙니다.\n"
          ]
        }
      ]
    },
    {
      "cell_type": "code",
      "source": [
        "import datetime"
      ],
      "metadata": {
        "id": "7NwN25R3iZCU"
      },
      "execution_count": 3,
      "outputs": []
    },
    {
      "cell_type": "code",
      "source": [
        "now = datetime.datetime.now()\n",
        "if now.hour<12:\n",
        "    print('오후가 아닙니다.')\n",
        "print(now.hour)"
      ],
      "metadata": {
        "colab": {
          "base_uri": "https://localhost:8080/"
        },
        "id": "nPee-_rDi9Bk",
        "outputId": "cc3c8c9f-624c-4003-ab19-018e49f93437"
      },
      "execution_count": 6,
      "outputs": [
        {
          "output_type": "stream",
          "name": "stdout",
          "text": [
            "오후가 아닙니다.\n",
            "6\n"
          ]
        }
      ]
    },
    {
      "cell_type": "code",
      "source": [
        "now = datetime.datetime.now()\n",
        "if (now.month == 1)or(now.month == 2)or(now.month == 12):\n",
        "    print('겨울')\n",
        "if (now.month == 3)or(now.month == 4)or(now.month == 5):\n",
        "    print('봄')\n",
        "if (now.month == 6)or(now.month == 7)or(now.month == 8):\n",
        "    print('여름')\n",
        "if (now.month == 9)or(now.month == 10)or(now.month == 11):\n",
        "    print('가을')"
      ],
      "metadata": {
        "colab": {
          "base_uri": "https://localhost:8080/"
        },
        "id": "m6P4VKVDkMBc",
        "outputId": "edbad8c9-ddcd-4139-8c15-6f0f1e8673b3"
      },
      "execution_count": 7,
      "outputs": [
        {
          "output_type": "stream",
          "name": "stdout",
          "text": [
            "겨울\n"
          ]
        }
      ]
    }
  ]
}