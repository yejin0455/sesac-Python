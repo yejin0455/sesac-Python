{
  "nbformat": 4,
  "nbformat_minor": 0,
  "metadata": {
    "colab": {
      "name": "파이썬-자료형-숫자.ipynb",
      "provenance": [],
      "authorship_tag": "ABX9TyNtZUlQgHGs6793CNjPUHKK",
      "include_colab_link": true
    },
    "kernelspec": {
      "name": "python3",
      "display_name": "Python 3"
    },
    "language_info": {
      "name": "python"
    }
  },
  "cells": [
    {
      "cell_type": "markdown",
      "metadata": {
        "id": "view-in-github",
        "colab_type": "text"
      },
      "source": [
        "<a href=\"https://colab.research.google.com/github/yejin0455/sesac-python/blob/main/%ED%8C%8C%EC%9D%B4%EC%8D%AC_%EC%9E%90%EB%A3%8C%ED%98%95_%EC%88%AB%EC%9E%90.ipynb\" target=\"_parent\"><img src=\"https://colab.research.google.com/assets/colab-badge.svg\" alt=\"Open In Colab\"/></a>"
      ]
    },
    {
      "cell_type": "markdown",
      "source": [
        "# 실수"
      ],
      "metadata": {
        "id": "z_QpUTesZMvF"
      }
    },
    {
      "cell_type": "code",
      "source": [
        "print(3.14, 1.234e6)  # 3.14:부동소수점 표기, 1.234e6:지수 표현"
      ],
      "metadata": {
        "colab": {
          "base_uri": "https://localhost:8080/"
        },
        "id": "TEEAVWniZN68",
        "outputId": "34cb6a14-992c-40cb-c527-a589994f7ac3"
      },
      "execution_count": null,
      "outputs": [
        {
          "output_type": "stream",
          "name": "stdout",
          "text": [
            "3.14 1234000.0\n"
          ]
        }
      ]
    },
    {
      "cell_type": "markdown",
      "source": [
        "# 수와 관계있는 연산"
      ],
      "metadata": {
        "id": "KiRVHl4KaBcs"
      }
    },
    {
      "cell_type": "code",
      "source": [
        "print(\"8+3=\", 8+3)\n",
        "print(\"8-3=\", 8-3)\n",
        "print(\"8*3=\", 8*3)\n",
        "print(\"8/3=\", 8/3)"
      ],
      "metadata": {
        "colab": {
          "base_uri": "https://localhost:8080/"
        },
        "id": "o31f8EV_aLsr",
        "outputId": "85dc145d-d214-496b-ec99-a6f6256e5361"
      },
      "execution_count": null,
      "outputs": [
        {
          "output_type": "stream",
          "name": "stdout",
          "text": [
            "8+3= 11\n",
            "8-3= 5\n",
            "8*3= 24\n",
            "8/3= 2.6666666666666665\n"
          ]
        }
      ]
    },
    {
      "cell_type": "code",
      "source": [
        "print(\"8//5=\", 8//5)  #몫\n",
        "print(\"8%5=\", 8%5)  #나머지"
      ],
      "metadata": {
        "colab": {
          "base_uri": "https://localhost:8080/"
        },
        "id": "dWXXH-pRagTX",
        "outputId": "a3cd4599-e613-4acc-ce16-97f547db8894"
      },
      "execution_count": null,
      "outputs": [
        {
          "output_type": "stream",
          "name": "stdout",
          "text": [
            "8//5= 1\n",
            "8%5= 3\n"
          ]
        }
      ]
    },
    {
      "cell_type": "code",
      "source": [
        "i = 0\n",
        "i = (i + 1) % 5\n",
        "print(i)\n",
        "i = (i + 1) % 5\n",
        "print(i)\n",
        "i = (i + 1) % 5\n",
        "print(i)\n",
        "i = (i + 1) % 5\n",
        "print(i)\n",
        "i = (i + 1) % 5\n",
        "print(i)\n",
        "i = (i + 1) % 5\n",
        "print(i)\n",
        "i = (i + 1) % 5\n",
        "print(i)\n"
      ],
      "metadata": {
        "colab": {
          "base_uri": "https://localhost:8080/"
        },
        "id": "9Y9qgGpFazUk",
        "outputId": "5d418e1f-9555-42b6-9e1b-7f9360aea71d"
      },
      "execution_count": null,
      "outputs": [
        {
          "output_type": "stream",
          "name": "stdout",
          "text": [
            "1\n",
            "2\n",
            "3\n",
            "4\n",
            "0\n",
            "1\n",
            "2\n"
          ]
        }
      ]
    },
    {
      "cell_type": "markdown",
      "source": [
        "# 복소수"
      ],
      "metadata": {
        "id": "a0TjuyBTbazd"
      }
    },
    {
      "cell_type": "code",
      "source": [
        "print(2 + 3j)"
      ],
      "metadata": {
        "colab": {
          "base_uri": "https://localhost:8080/"
        },
        "id": "tntk_GMKbePD",
        "outputId": "e5e4cdd3-22f9-4736-9ea5-952d59d1ddb6"
      },
      "execution_count": null,
      "outputs": [
        {
          "output_type": "stream",
          "name": "stdout",
          "text": [
            "(2+3j)\n"
          ]
        }
      ]
    },
    {
      "cell_type": "code",
      "source": [
        "cv = 2 + 3j\n",
        "print(\"실수부:\", cv.real, \"허수부:\", cv.imag)"
      ],
      "metadata": {
        "colab": {
          "base_uri": "https://localhost:8080/"
        },
        "id": "BT80A0sXcG4u",
        "outputId": "06db900c-0048-4207-d99e-98c3f2e28a43"
      },
      "execution_count": null,
      "outputs": [
        {
          "output_type": "stream",
          "name": "stdout",
          "text": [
            "실수부: 2.0 허수부: 3.0\n"
          ]
        }
      ]
    }
  ]
}