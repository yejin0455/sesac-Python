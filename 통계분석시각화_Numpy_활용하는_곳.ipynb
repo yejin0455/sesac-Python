{
  "nbformat": 4,
  "nbformat_minor": 0,
  "metadata": {
    "colab": {
      "name": "통계분석시각화-Numpy 활용하는 곳.ipynb",
      "provenance": [],
      "collapsed_sections": [],
      "mount_file_id": "1sjrc5vEOSdns6s5a7ReXN5hLXZnGpGLP",
      "authorship_tag": "ABX9TyP+1X/gBvvKRNkqeRQxdy7n",
      "include_colab_link": true
    },
    "kernelspec": {
      "name": "python3",
      "display_name": "Python 3"
    },
    "language_info": {
      "name": "python"
    }
  },
  "cells": [
    {
      "cell_type": "markdown",
      "metadata": {
        "id": "view-in-github",
        "colab_type": "text"
      },
      "source": [
        "<a href=\"https://colab.research.google.com/github/yejin0455/sesac-python/blob/main/%ED%86%B5%EA%B3%84%EB%B6%84%EC%84%9D%EC%8B%9C%EA%B0%81%ED%99%94_Numpy_%ED%99%9C%EC%9A%A9%ED%95%98%EB%8A%94_%EA%B3%B3.ipynb\" target=\"_parent\"><img src=\"https://colab.research.google.com/assets/colab-badge.svg\" alt=\"Open In Colab\"/></a>"
      ]
    },
    {
      "cell_type": "markdown",
      "source": [
        "# 영상 처리"
      ],
      "metadata": {
        "id": "C0Rc2wyoRMkH"
      }
    },
    {
      "cell_type": "code",
      "source": [
        "import cv2  #OpenCV 라이브러리를 사용하기 위한 구문\n",
        "from google.colab.patches import cv2_imshow  #코랩에서 시각화를 위해 필요한 구문"
      ],
      "metadata": {
        "id": "fP2GT3iIROvt"
      },
      "execution_count": 2,
      "outputs": []
    },
    {
      "cell_type": "code",
      "source": [
        "cv2.__version__"
      ],
      "metadata": {
        "id": "z3XQlfHnTCnt"
      },
      "execution_count": null,
      "outputs": []
    },
    {
      "cell_type": "code",
      "source": [
        "path = '/content/drive/MyDrive/module/KakaoTalk_20220223_182254562.jpg'\n",
        "image = cv2.imread(path, cv2.IMREAD_COLOR)\n",
        "cv2_imshow(image)"
      ],
      "metadata": {
        "id": "eNjqiFIXTGkv"
      },
      "execution_count": null,
      "outputs": []
    },
    {
      "cell_type": "code",
      "source": [
        "print(type(image))"
      ],
      "metadata": {
        "id": "5SuPlRJHThTn"
      },
      "execution_count": null,
      "outputs": []
    },
    {
      "cell_type": "code",
      "source": [
        "print(image.shape)  #(세로, 가로, RGB)"
      ],
      "metadata": {
        "id": "cY1ebjziTkSv"
      },
      "execution_count": null,
      "outputs": []
    },
    {
      "cell_type": "markdown",
      "source": [
        "# 빈 이미지 만들어서 작업하기"
      ],
      "metadata": {
        "id": "c3gpKqyoVNJl"
      }
    },
    {
      "cell_type": "code",
      "source": [
        "import numpy as np\n",
        "image = np.zeros((28, 28, 3), np.uint8)  #uint는 음수X (0~256)"
      ],
      "metadata": {
        "id": "6EWjHbSVTz_f"
      },
      "execution_count": 11,
      "outputs": []
    },
    {
      "cell_type": "code",
      "source": [
        "cv2_imshow(image)"
      ],
      "metadata": {
        "id": "79zo1KOhV0Tf"
      },
      "execution_count": null,
      "outputs": []
    },
    {
      "cell_type": "code",
      "source": [
        "print(image)"
      ],
      "metadata": {
        "id": "YKYQQshbV28H"
      },
      "execution_count": null,
      "outputs": []
    },
    {
      "cell_type": "code",
      "source": [
        "image[:, :, 0] = 255\n",
        "print(image)"
      ],
      "metadata": {
        "id": "QOTIU6_5WWEA"
      },
      "execution_count": null,
      "outputs": []
    },
    {
      "cell_type": "code",
      "source": [
        "image[:, :, 2] = 255\n",
        "cv2_imshow(image)"
      ],
      "metadata": {
        "id": "9chDeZcRWecX"
      },
      "execution_count": null,
      "outputs": []
    },
    {
      "cell_type": "code",
      "source": [
        "from tensorflow import keras"
      ],
      "metadata": {
        "id": "ZFbTwZegW7v9"
      },
      "execution_count": 19,
      "outputs": []
    },
    {
      "cell_type": "code",
      "source": [
        "data = keras.datasets.mnist.load_data()\n",
        "print(type(data))\n",
        "print(len(data))"
      ],
      "metadata": {
        "id": "qXHy9TNmXAh4"
      },
      "execution_count": null,
      "outputs": []
    },
    {
      "cell_type": "code",
      "source": [
        "train_data, test_data = data  #학습터 데이터와 평가용 데이터\n",
        "print(type(train_data))\n",
        "print(len(train_data))"
      ],
      "metadata": {
        "id": "74kELfEnX8mP"
      },
      "execution_count": null,
      "outputs": []
    },
    {
      "cell_type": "code",
      "source": [
        "image_train, label_train = train_data  #이미지 데이터와 정답 데이터\n",
        "print(image_train.shape)\n",
        "print(label_train.shape)"
      ],
      "metadata": {
        "id": "bbNVAio2YOWX"
      },
      "execution_count": null,
      "outputs": []
    },
    {
      "cell_type": "code",
      "source": [
        "image = image_train[0]\n",
        "cv2_imshow(image)"
      ],
      "metadata": {
        "id": "Y2kKjk13Ymov"
      },
      "execution_count": null,
      "outputs": []
    },
    {
      "cell_type": "code",
      "source": [
        "label = label_train[0]\n",
        "print(label)"
      ],
      "metadata": {
        "id": "IBC4zqvZYyU_"
      },
      "execution_count": null,
      "outputs": []
    },
    {
      "cell_type": "markdown",
      "source": [
        "# 비슷한 데이터의 평균으로 예측하자"
      ],
      "metadata": {
        "id": "3sgE-fgchV8h"
      }
    },
    {
      "cell_type": "code",
      "source": [
        "from tensorflow import keras\n",
        "data = keras.datasets.mnist.load_data()  #손글씨 데이터 로딩\n",
        "train_data, test_data = data  #학습데이터, 평가데이터\n",
        "image_train, label_train = train_data  #학습이미지, 정답\n",
        "image_test, label_test = test_data  #평가이미지, 정답\n",
        "\n",
        "print(image_train.shape, label_train.shape)\n",
        "image_train2 = image_train.reshape(60000, -1)\n",
        "print(image_train2.shape)\n",
        "image_test2 = image_test.reshape(10000, -1)"
      ],
      "metadata": {
        "id": "1OWfdl4vjIdk"
      },
      "execution_count": null,
      "outputs": []
    },
    {
      "cell_type": "code",
      "source": [
        "from sklearn.neighbors import KNeighborsClassifier"
      ],
      "metadata": {
        "id": "8yaSCKCGhngw"
      },
      "execution_count": 28,
      "outputs": []
    },
    {
      "cell_type": "code",
      "source": [
        "model = KNeighborsClassifier()  #모델 생성\n",
        "model.fit(image_train2, label_train)  #학습(독립변수, 종속변수)"
      ],
      "metadata": {
        "id": "ESxjvXSFh6jY"
      },
      "execution_count": null,
      "outputs": []
    },
    {
      "cell_type": "code",
      "source": [
        "pred_value = model.predict(image_test2)  #예측"
      ],
      "metadata": {
        "id": "kwqsyea3iKKn"
      },
      "execution_count": 35,
      "outputs": []
    },
    {
      "cell_type": "code",
      "source": [
        "correct = 0\n",
        "for i in range(len(pred_value)):\n",
        "    if pred_value[i] == label_test[i]:\n",
        "        correct += 1\n",
        "print(correct, \"/\", len(pred_value))"
      ],
      "metadata": {
        "id": "gGem7Gw_kWwI"
      },
      "execution_count": null,
      "outputs": []
    },
    {
      "cell_type": "markdown",
      "source": [
        "# 러프하게"
      ],
      "metadata": {
        "id": "N5ezrNKGlhkN"
      }
    },
    {
      "cell_type": "markdown",
      "source": [
        "동전을 던졌을 때 앞면이 나올 확률이 1/2 이라고 가정하자\n",
        "\n",
        "동전을 100번 던졌을 때 앞면이 몇 번 나오는지 테스트를 만 번 수행하여 수행결과를 배열로 만드시오"
      ],
      "metadata": {
        "id": "7mXY-_Z7lmUB"
      }
    },
    {
      "cell_type": "code",
      "source": [
        "import random"
      ],
      "metadata": {
        "id": "qMkI2SNwl2Vg"
      },
      "execution_count": 37,
      "outputs": []
    },
    {
      "cell_type": "code",
      "source": [
        "#전제조건: 동전을 던졌을 때 앞면이 나올 확률은 1/2\n",
        "#동전을 100번 던져서 앞면이 나온 횟수를 반환\n",
        "def test_n(n = 100):\n",
        "    cnt = 0\n",
        "    for i in range(n):\n",
        "        if random.randrange(0, 2) == 1:\n",
        "            cnt += 1\n",
        "    return cnt"
      ],
      "metadata": {
        "id": "sMCB506tl69v"
      },
      "execution_count": 45,
      "outputs": []
    },
    {
      "cell_type": "code",
      "source": [
        "na = np.zeros(100)  #앞면이 몇 번 나왔는지 기록할 배열\n",
        "for i in range(1000):  #실험을 10만번 수행\n",
        "    na[test_n()] += 1  #실험해서 앞면이 나온 원소 값을 1 증가\n",
        "print(na)"
      ],
      "metadata": {
        "id": "ggjilY7HmVCA"
      },
      "execution_count": null,
      "outputs": []
    },
    {
      "cell_type": "code",
      "source": [
        "import matplotlib.pyplot as plt"
      ],
      "metadata": {
        "id": "s9Uvp14pm3yg"
      },
      "execution_count": 47,
      "outputs": []
    },
    {
      "cell_type": "code",
      "source": [
        "plt.plot(na)"
      ],
      "metadata": {
        "id": "hwFO3uSQnh2Q"
      },
      "execution_count": null,
      "outputs": []
    },
    {
      "cell_type": "markdown",
      "source": [
        "어느 카지노에서 동전을 100번 던져서 몇 번 나오는지 배팅하는 게임이 있다.\n",
        "\n",
        "길동이가 카지노에 가서 67번 나오는 것에 배팅을 하였는데 대박을 맞았다.\n",
        "\n",
        "대박 맞을 확률은?\n",
        "\n",
        "해당 카지노의 동전은 앞면이 나올 확률이 1/2라고 말할 수 있는지 검정하시오"
      ],
      "metadata": {
        "id": "m-aWUAs8sr7N"
      }
    },
    {
      "cell_type": "code",
      "source": [
        "nac = np.cumsum(na)\n",
        "print(nac[33]*2 / 100000*100, \"%\")"
      ],
      "metadata": {
        "id": "Hbjuwp7BtAuu"
      },
      "execution_count": null,
      "outputs": []
    },
    {
      "cell_type": "code",
      "source": [
        "print(\"평균:\", np.mean(na), \"표준편자:\", np.std(na))"
      ],
      "metadata": {
        "id": "_ACXjsSFtmeX"
      },
      "execution_count": null,
      "outputs": []
    },
    {
      "cell_type": "code",
      "source": [
        "#정규분포를 표쥰정규분포로 전환 - 스케일조정\n",
        "na2 = na-np.mean(na)\n",
        "print(\"평균:\", np.mean(na2), \"표준편자:\", np.std(na2))\n",
        "na3 = na2/np.std(na2)\n",
        "print(\"평균:\", np.mean(na3), \"표준편자:\", np.std(na3))"
      ],
      "metadata": {
        "id": "XG8qOLMzvIVY"
      },
      "execution_count": null,
      "outputs": []
    },
    {
      "cell_type": "code",
      "source": [
        "plt.plot(na, 'ro', label='na')\n",
        "plt.plot(na2, 'bo', label='na2')\n",
        "plt.plot(na3, 'go', label='na3')\n",
        "plt.legend()\n",
        "plt.show()"
      ],
      "metadata": {
        "id": "t6G02is2xEvE"
      },
      "execution_count": null,
      "outputs": []
    },
    {
      "cell_type": "code",
      "source": [
        "plt.plot(na3, 'go', label='na3')\n",
        "plt.legend()\n",
        "plt.show()"
      ],
      "metadata": {
        "id": "h8ffMeHmxaFf"
      },
      "execution_count": null,
      "outputs": []
    }
  ]
}