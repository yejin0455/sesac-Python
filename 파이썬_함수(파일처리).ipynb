{
  "nbformat": 4,
  "nbformat_minor": 0,
  "metadata": {
    "colab": {
      "name": "파이썬-함수(파일처리).ipynb",
      "provenance": [],
      "collapsed_sections": [],
      "authorship_tag": "ABX9TyNoSz6C+dG3hNXzfY64YoHn",
      "include_colab_link": true
    },
    "kernelspec": {
      "name": "python3",
      "display_name": "Python 3"
    },
    "language_info": {
      "name": "python"
    }
  },
  "cells": [
    {
      "cell_type": "markdown",
      "metadata": {
        "id": "view-in-github",
        "colab_type": "text"
      },
      "source": [
        "<a href=\"https://colab.research.google.com/github/yejin0455/sesac-python/blob/main/%ED%8C%8C%EC%9D%B4%EC%8D%AC_%ED%95%A8%EC%88%98(%ED%8C%8C%EC%9D%BC%EC%B2%98%EB%A6%AC).ipynb\" target=\"_parent\"><img src=\"https://colab.research.google.com/assets/colab-badge.svg\" alt=\"Open In Colab\"/></a>"
      ]
    },
    {
      "cell_type": "code",
      "execution_count": null,
      "metadata": {
        "id": "g5317lJbdbtU"
      },
      "outputs": [],
      "source": [
        "fp = '복사한 파일경로'\n",
        "fs = open(fp, 'r')\n",
        "data = fs.read()\n",
        "fs.close()\n",
        "print(data)"
      ]
    },
    {
      "cell_type": "code",
      "source": [
        "fp = '복사한 파일경로'\n",
        "fs = open(fp, 'w')\n",
        "fs.write(\"plz\")\n",
        "fs.close()"
      ],
      "metadata": {
        "id": "xYuE4Ggbeuux"
      },
      "execution_count": null,
      "outputs": []
    },
    {
      "cell_type": "code",
      "source": [
        "fp = '복사한 파일경로'\n",
        "fs = open(fp, 'r')\n",
        "data = fs.read()\n",
        "fs.close()\n",
        "print(data)"
      ],
      "metadata": {
        "id": "m9qvFieje48w"
      },
      "execution_count": null,
      "outputs": []
    },
    {
      "cell_type": "markdown",
      "source": [
        "# 연습"
      ],
      "metadata": {
        "id": "0L0rJH_2hTYX"
      }
    },
    {
      "cell_type": "code",
      "source": [
        "import pandas as pd\n",
        "mr = pd.read_csv('복사한 파일경로')\n",
        "mr"
      ],
      "metadata": {
        "id": "-G-y5SIrhWh8"
      },
      "execution_count": null,
      "outputs": []
    },
    {
      "cell_type": "code",
      "source": [
        "mcs = mr['class']\n",
        "mcs"
      ],
      "metadata": {
        "id": "S6HRzXVwiB8-"
      },
      "execution_count": null,
      "outputs": []
    }
  ]
}