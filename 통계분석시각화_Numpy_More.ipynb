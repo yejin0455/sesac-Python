{
  "nbformat": 4,
  "nbformat_minor": 0,
  "metadata": {
    "colab": {
      "name": "통계분석시각화-Numpy More.ipynb",
      "provenance": [],
      "collapsed_sections": [],
      "authorship_tag": "ABX9TyP3xmFoxOm6qYr3vAlpNxhG",
      "include_colab_link": true
    },
    "kernelspec": {
      "name": "python3",
      "display_name": "Python 3"
    },
    "language_info": {
      "name": "python"
    }
  },
  "cells": [
    {
      "cell_type": "markdown",
      "metadata": {
        "id": "view-in-github",
        "colab_type": "text"
      },
      "source": [
        "<a href=\"https://colab.research.google.com/github/yejin0455/sesac-python/blob/main/%ED%86%B5%EA%B3%84%EB%B6%84%EC%84%9D%EC%8B%9C%EA%B0%81%ED%99%94_Numpy_More.ipynb\" target=\"_parent\"><img src=\"https://colab.research.google.com/assets/colab-badge.svg\" alt=\"Open In Colab\"/></a>"
      ]
    },
    {
      "cell_type": "markdown",
      "source": [
        "# 행렬의 기본 연산"
      ],
      "metadata": {
        "id": "twifFKefnixJ"
      }
    },
    {
      "cell_type": "code",
      "execution_count": 1,
      "metadata": {
        "id": "j15bfY31nclo"
      },
      "outputs": [],
      "source": [
        "import numpy as np"
      ]
    },
    {
      "cell_type": "code",
      "source": [
        "ls1 = [1, 2]\n",
        "ls2 = [3, 4]\n",
        "ls3 = ls1 + ls2\n",
        "print(ls3)"
      ],
      "metadata": {
        "colab": {
          "base_uri": "https://localhost:8080/"
        },
        "id": "edXHNom0nnnw",
        "outputId": "03d8993a-f566-4e16-85a6-ac1155f1349d"
      },
      "execution_count": 3,
      "outputs": [
        {
          "output_type": "stream",
          "name": "stdout",
          "text": [
            "[1, 2, 3, 4]\n"
          ]
        }
      ]
    },
    {
      "cell_type": "code",
      "source": [
        "s = 0\n",
        "for i in range(10):\n",
        "    s += i\n",
        "\n",
        "assert s == 45, \"s는 45여야 합니다\""
      ],
      "metadata": {
        "id": "JfEXtoLroZJw"
      },
      "execution_count": 5,
      "outputs": []
    },
    {
      "cell_type": "code",
      "source": [
        "#ls 목록에 있는 요소의 합계를 구하는 함수\n",
        "def calsum(ls):\n",
        "    s = 0\n",
        "    for e in ls:\n",
        "        s += e\n",
        "    return s"
      ],
      "metadata": {
        "id": "sqJ5Cs0Yox7y"
      },
      "execution_count": null,
      "outputs": []
    },
    {
      "cell_type": "code",
      "source": [
        "assert calsum([1, 2, 3, 2]) == 8, \"calsum([1, 2, 3, 2]) 값은 8이어야 합니다\""
      ],
      "metadata": {
        "id": "YvsEkrpro-fS"
      },
      "execution_count": null,
      "outputs": []
    },
    {
      "cell_type": "code",
      "source": [
        "def add(l1, l2):\n",
        "    assert len(l1) == len(l2), \"더하기 연산을 위해서는 요소의 길이가 같아야 됨\"\n",
        "    re = []\n",
        "    for i in range(len(l1)):\n",
        "        re.append(l1[i] + l2[i])\n",
        "    return re"
      ],
      "metadata": {
        "id": "dStsoGwvntWf"
      },
      "execution_count": 6,
      "outputs": []
    },
    {
      "cell_type": "code",
      "source": [
        "ls1 = [1, 2]\n",
        "ls2 = [3, 4]\n",
        "ls3 = add(ls1, ls2)\n",
        "print(ls3)"
      ],
      "metadata": {
        "colab": {
          "base_uri": "https://localhost:8080/"
        },
        "id": "CL6qFoBcp04f",
        "outputId": "05bef73d-c5fd-44aa-dd12-f87d1e7b8f75"
      },
      "execution_count": 7,
      "outputs": [
        {
          "output_type": "stream",
          "name": "stdout",
          "text": [
            "[4, 6]\n"
          ]
        }
      ]
    },
    {
      "cell_type": "code",
      "source": [
        "n1 = np.array([1, 2])\n",
        "n2 = np.array([3, 4])\n",
        "n3 = n1 + n2\n",
        "print(n3)"
      ],
      "metadata": {
        "colab": {
          "base_uri": "https://localhost:8080/"
        },
        "id": "3OIIEJGKp6uf",
        "outputId": "f0b98b25-fc82-4d33-f166-9aa39d428280"
      },
      "execution_count": 8,
      "outputs": [
        {
          "output_type": "stream",
          "name": "stdout",
          "text": [
            "[4 6]\n"
          ]
        }
      ]
    },
    {
      "cell_type": "code",
      "source": [
        "n3 = n1 - n2\n",
        "print(n3)"
      ],
      "metadata": {
        "colab": {
          "base_uri": "https://localhost:8080/"
        },
        "id": "GIVCb1uBqcSf",
        "outputId": "808a98a1-cdda-4926-fbc8-29c77b13bc63"
      },
      "execution_count": 9,
      "outputs": [
        {
          "output_type": "stream",
          "name": "stdout",
          "text": [
            "[-2 -2]\n"
          ]
        }
      ]
    },
    {
      "cell_type": "code",
      "source": [
        "ls1 = [1, 2, 3, 4]\n",
        "ls2 = ls1 * 3\n",
        "print(ls2)"
      ],
      "metadata": {
        "colab": {
          "base_uri": "https://localhost:8080/"
        },
        "id": "6eOVbpJ-rDH_",
        "outputId": "afb080ba-8cec-4471-93f8-1427593a5618"
      },
      "execution_count": 10,
      "outputs": [
        {
          "output_type": "stream",
          "name": "stdout",
          "text": [
            "[1, 2, 3, 4, 1, 2, 3, 4, 1, 2, 3, 4]\n"
          ]
        }
      ]
    },
    {
      "cell_type": "code",
      "source": [
        "n1 = np.array([1, 2, 3, 4])\n",
        "n2 = n1 * 3\n",
        "print(n2)"
      ],
      "metadata": {
        "colab": {
          "base_uri": "https://localhost:8080/"
        },
        "id": "9kWMac7trJln",
        "outputId": "21070baa-dcc3-4cda-fab0-78aaf6326435"
      },
      "execution_count": 11,
      "outputs": [
        {
          "output_type": "stream",
          "name": "stdout",
          "text": [
            "[ 3  6  9 12]\n"
          ]
        }
      ]
    },
    {
      "cell_type": "code",
      "source": [
        "n2 = n1/3\n",
        "print(n2)"
      ],
      "metadata": {
        "colab": {
          "base_uri": "https://localhost:8080/"
        },
        "id": "nP_b67AxrQzH",
        "outputId": "f65c998f-612a-4e07-a70d-101ded04f567"
      },
      "execution_count": 12,
      "outputs": [
        {
          "output_type": "stream",
          "name": "stdout",
          "text": [
            "[0.33333333 0.66666667 1.         1.33333333]\n"
          ]
        }
      ]
    },
    {
      "cell_type": "code",
      "source": [
        "n1 = np.random.randint(1, 1000, 100, dtype=int)\n",
        "print(n1)"
      ],
      "metadata": {
        "colab": {
          "base_uri": "https://localhost:8080/"
        },
        "id": "Mov5B7Jxslk2",
        "outputId": "e1ba8134-e6c8-400d-9b44-21eca9a15a42"
      },
      "execution_count": 13,
      "outputs": [
        {
          "output_type": "stream",
          "name": "stdout",
          "text": [
            "[125 371 161 676 618 758 984 856 852 955 933 854 343 744 405 353 210 596\n",
            " 364 358 769 604 922 402  31  73 343 850 256 898 262 502 515 362 193 143\n",
            " 724 146 511  17 780 305 227 976 294 937 837 375 447 421 615 914 666 989\n",
            " 785 717 819 301 689 624 113 308 549 703 335 371 554 855  84 767 720  25\n",
            " 283  69 995 804 147 133 148  16 834 268 409 414 825 922 298 448 628 404\n",
            " 260 726 578 423 874 576 293 958 288 398]\n"
          ]
        }
      ]
    },
    {
      "cell_type": "code",
      "source": [
        "n2 = n1 > 500\n",
        "print(n2)"
      ],
      "metadata": {
        "colab": {
          "base_uri": "https://localhost:8080/"
        },
        "id": "JQ0IkDeBstmm",
        "outputId": "29774562-f4c9-4fda-dae6-fad2b96d00be"
      },
      "execution_count": 14,
      "outputs": [
        {
          "output_type": "stream",
          "name": "stdout",
          "text": [
            "[False False False  True  True  True  True  True  True  True  True  True\n",
            " False  True False False False  True False False  True  True  True False\n",
            " False False False  True False  True False  True  True False False False\n",
            "  True False  True False  True False False  True False  True  True False\n",
            " False False  True  True  True  True  True  True  True False  True  True\n",
            " False False  True  True False False  True  True False  True  True False\n",
            " False False  True  True False False False False  True False False False\n",
            "  True  True False False  True False False  True  True False  True  True\n",
            " False  True False False]\n"
          ]
        }
      ]
    },
    {
      "cell_type": "code",
      "source": [
        "n3 = n1[n2]\n",
        "print(n3)"
      ],
      "metadata": {
        "colab": {
          "base_uri": "https://localhost:8080/"
        },
        "id": "DEO33wkGsxe-",
        "outputId": "5b6254e9-4628-42c8-842c-d79437e76e78"
      },
      "execution_count": 15,
      "outputs": [
        {
          "output_type": "stream",
          "name": "stdout",
          "text": [
            "[676 618 758 984 856 852 955 933 854 744 596 769 604 922 850 898 502 515\n",
            " 724 511 780 976 937 837 615 914 666 989 785 717 819 689 624 549 703 554\n",
            " 855 767 720 995 804 834 825 922 628 726 578 874 576 958]\n"
          ]
        }
      ]
    },
    {
      "cell_type": "code",
      "source": [
        "n1 = np.array([[1, 2], [3, 4]])\n",
        "n2 = np.array([4, 5])\n",
        "n3 = np.dot(n1, n2)\n",
        "print(n3)"
      ],
      "metadata": {
        "colab": {
          "base_uri": "https://localhost:8080/"
        },
        "id": "E--851HFtFI4",
        "outputId": "b7803913-3a21-4baf-a446-f535715bb2fa"
      },
      "execution_count": 16,
      "outputs": [
        {
          "output_type": "stream",
          "name": "stdout",
          "text": [
            "[14 32]\n"
          ]
        }
      ]
    },
    {
      "cell_type": "code",
      "source": [
        "n1 = np.array([1, 2, 3, 4])\n",
        "n2 = n1.reshape((2, 2))\n",
        "print(n2)"
      ],
      "metadata": {
        "colab": {
          "base_uri": "https://localhost:8080/"
        },
        "id": "izM_ViLqvUV3",
        "outputId": "6235460b-d82a-47f5-de24-40b52035396e"
      },
      "execution_count": 17,
      "outputs": [
        {
          "output_type": "stream",
          "name": "stdout",
          "text": [
            "[[1 2]\n",
            " [3 4]]\n"
          ]
        }
      ]
    },
    {
      "cell_type": "code",
      "source": [
        "n3 = np.transpose(n2)\n",
        "print(n3)"
      ],
      "metadata": {
        "colab": {
          "base_uri": "https://localhost:8080/"
        },
        "id": "xarJzWSEwNlH",
        "outputId": "51f4a068-7286-4966-c635-b79dc1fcbb3d"
      },
      "execution_count": 18,
      "outputs": [
        {
          "output_type": "stream",
          "name": "stdout",
          "text": [
            "[[1 3]\n",
            " [2 4]]\n"
          ]
        }
      ]
    },
    {
      "cell_type": "code",
      "source": [
        "n3 = np.invert(n2)  #반전(원소의 메모리)\n",
        "print(n3)"
      ],
      "metadata": {
        "id": "kwqlj5nSwRlP"
      },
      "execution_count": null,
      "outputs": []
    },
    {
      "cell_type": "code",
      "source": [
        "n3 = np.linalg.inv(n2)  #역행렬\n",
        "print(n3)"
      ],
      "metadata": {
        "id": "oqD3EVnn6ovu"
      },
      "execution_count": null,
      "outputs": []
    },
    {
      "cell_type": "code",
      "source": [
        "n4 = n2.dot(n3)\n",
        "print(n4)"
      ],
      "metadata": {
        "colab": {
          "base_uri": "https://localhost:8080/"
        },
        "id": "LGRWnnw2xtUw",
        "outputId": "5e8e5dcf-77cd-4a1e-e75d-4dc692c5dfe4"
      },
      "execution_count": 21,
      "outputs": [
        {
          "output_type": "stream",
          "name": "stdout",
          "text": [
            "[[-10 -13]\n",
            " [-22 -29]]\n"
          ]
        }
      ]
    },
    {
      "cell_type": "code",
      "source": [
        "n1 = np.array([1, 2, 3, 4])\n",
        "n2 = n1 - 3\n",
        "print(n2)"
      ],
      "metadata": {
        "colab": {
          "base_uri": "https://localhost:8080/"
        },
        "id": "YG-htCbH3lte",
        "outputId": "944b2206-cce7-4a24-b7a9-398cb64890e5"
      },
      "execution_count": 22,
      "outputs": [
        {
          "output_type": "stream",
          "name": "stdout",
          "text": [
            "[-2 -1  0  1]\n"
          ]
        }
      ]
    },
    {
      "cell_type": "code",
      "source": [
        "n2 = n1/3\n",
        "print(n2)"
      ],
      "metadata": {
        "colab": {
          "base_uri": "https://localhost:8080/"
        },
        "id": "hXoB-tQe3v--",
        "outputId": "f1a1e173-5b7d-48ce-8a8d-680344306098"
      },
      "execution_count": 23,
      "outputs": [
        {
          "output_type": "stream",
          "name": "stdout",
          "text": [
            "[0.33333333 0.66666667 1.         1.33333333]\n"
          ]
        }
      ]
    },
    {
      "cell_type": "markdown",
      "source": [
        "# 통계 관련"
      ],
      "metadata": {
        "id": "4Wk3YkyK6ZpK"
      }
    },
    {
      "cell_type": "code",
      "source": [
        "n1 = np.random.randint(1, 100, 30, dtype=int)\n",
        "print(n1)"
      ],
      "metadata": {
        "colab": {
          "base_uri": "https://localhost:8080/"
        },
        "id": "tod_kHPy6dMq",
        "outputId": "292c62c1-5f4c-45f5-9433-70220f02255c"
      },
      "execution_count": 26,
      "outputs": [
        {
          "output_type": "stream",
          "name": "stdout",
          "text": [
            "[94 70 75 65 39 27 23 24 10 88 65 57 10 72 98 23 85 77 27 80 89 66 81 38\n",
            " 60 98 59 50 25 64]\n"
          ]
        }
      ]
    },
    {
      "cell_type": "code",
      "source": [
        "print(\"길이:\", len(n1))"
      ],
      "metadata": {
        "colab": {
          "base_uri": "https://localhost:8080/"
        },
        "id": "of5A0_yR7Baf",
        "outputId": "eb392b02-07be-4716-a5dd-5ed3a899cfd8"
      },
      "execution_count": 27,
      "outputs": [
        {
          "output_type": "stream",
          "name": "stdout",
          "text": [
            "길이: 30\n"
          ]
        }
      ]
    },
    {
      "cell_type": "code",
      "source": [
        "print(\"평균:\", n1.mean())"
      ],
      "metadata": {
        "colab": {
          "base_uri": "https://localhost:8080/"
        },
        "id": "uU35SSiK7EdP",
        "outputId": "d2d8cf08-29c6-41dc-e418-ecd030da0e63"
      },
      "execution_count": 28,
      "outputs": [
        {
          "output_type": "stream",
          "name": "stdout",
          "text": [
            "평균: 57.96666666666667\n"
          ]
        }
      ]
    },
    {
      "cell_type": "code",
      "source": [
        "n2 = n1 - n1.mean()\n",
        "print(\"수평 이동한 후 평균:\", n2.mean())"
      ],
      "metadata": {
        "colab": {
          "base_uri": "https://localhost:8080/"
        },
        "id": "I8_6JWtX7VRH",
        "outputId": "1995f2f0-a466-4acd-9a25-069b1a594d8b"
      },
      "execution_count": 29,
      "outputs": [
        {
          "output_type": "stream",
          "name": "stdout",
          "text": [
            "수평 이동한 후 평균: -1.8947806286936005e-15\n"
          ]
        }
      ]
    },
    {
      "cell_type": "code",
      "source": [
        "print(\"최대값 위치:\", n1.argmax())\n",
        "print(\"최대값:\", n1[16])\n",
        "print(\"최대값:\", n1.max())"
      ],
      "metadata": {
        "colab": {
          "base_uri": "https://localhost:8080/"
        },
        "id": "vIqmTS4U7c02",
        "outputId": "54228ffe-6488-4f53-d7db-f2af61a09e31"
      },
      "execution_count": 30,
      "outputs": [
        {
          "output_type": "stream",
          "name": "stdout",
          "text": [
            "최대값 위치: 14\n",
            "최대값: 85\n",
            "최대값: 98\n"
          ]
        }
      ]
    },
    {
      "cell_type": "code",
      "source": [
        "print(\"분산:\", n1.var())"
      ],
      "metadata": {
        "colab": {
          "base_uri": "https://localhost:8080/"
        },
        "id": "Syc3Khmp70Qf",
        "outputId": "4fa33d68-ae79-42ff-eeb6-870aafed1556"
      },
      "execution_count": 31,
      "outputs": [
        {
          "output_type": "stream",
          "name": "stdout",
          "text": [
            "분산: 711.4322222222221\n"
          ]
        }
      ]
    },
    {
      "cell_type": "code",
      "source": [
        "print(\"표준편차:\", n1.std())"
      ],
      "metadata": {
        "colab": {
          "base_uri": "https://localhost:8080/"
        },
        "id": "-jsZ3bFX8L-f",
        "outputId": "d56b4ba3-eb63-4806-9753-a0c22dfb71b7"
      },
      "execution_count": 32,
      "outputs": [
        {
          "output_type": "stream",
          "name": "stdout",
          "text": [
            "표준편차: 26.67268682045778\n"
          ]
        }
      ]
    },
    {
      "cell_type": "code",
      "source": [
        "n2 = n1/n1.std()\n",
        "print(\"스케일 조절한 후 표준 편차:\", n2.std())"
      ],
      "metadata": {
        "colab": {
          "base_uri": "https://localhost:8080/"
        },
        "id": "PruYIV0v8Pz3",
        "outputId": "5ea73c16-3943-4827-df12-9237c8fb64d9"
      },
      "execution_count": 33,
      "outputs": [
        {
          "output_type": "stream",
          "name": "stdout",
          "text": [
            "스케일 조절한 후 표준 편차: 0.9999999999999999\n"
          ]
        }
      ]
    },
    {
      "cell_type": "code",
      "source": [
        "print(\"최소값:\", n1.min())\n",
        "print(\"중앙값:\", np.median(n1))  # .np정적메소드로 접근\n",
        "print(\"1/4분위값:\", np.percentile(n1, 25))\n",
        "print(\"3/4분위값:\", np.percentile(n1, 75))"
      ],
      "metadata": {
        "colab": {
          "base_uri": "https://localhost:8080/"
        },
        "id": "zlUaqJwn8Ws_",
        "outputId": "52f35433-dd6f-4420-8064-e9ffab923b9e"
      },
      "execution_count": 37,
      "outputs": [
        {
          "output_type": "stream",
          "name": "stdout",
          "text": [
            "최소값: 1\n",
            "중앙값: 5.0\n",
            "1/4분위값: 3.0\n",
            "3/4분위값: 7.0\n"
          ]
        }
      ]
    },
    {
      "cell_type": "code",
      "source": [
        "print(n1)\n",
        "print(\"누적 합:\", np.cumsum(n1))"
      ],
      "metadata": {
        "colab": {
          "base_uri": "https://localhost:8080/"
        },
        "id": "g5VTEsPh9Sqa",
        "outputId": "a2db875c-00f5-4580-b7c0-7ec51a51821e"
      },
      "execution_count": 35,
      "outputs": [
        {
          "output_type": "stream",
          "name": "stdout",
          "text": [
            "[94 70 75 65 39 27 23 24 10 88 65 57 10 72 98 23 85 77 27 80 89 66 81 38\n",
            " 60 98 59 50 25 64]\n",
            "누적 합: [  94  164  239  304  343  370  393  417  427  515  580  637  647  719\n",
            "  817  840  925 1002 1029 1109 1198 1264 1345 1383 1443 1541 1600 1650\n",
            " 1675 1739]\n"
          ]
        }
      ]
    },
    {
      "cell_type": "code",
      "source": [
        "n1 = np.arange(1, 10)\n",
        "print(n1)\n",
        "print(\"누적 곱:\", np.cumprod(n1))"
      ],
      "metadata": {
        "colab": {
          "base_uri": "https://localhost:8080/"
        },
        "id": "I8nNZWu29Z02",
        "outputId": "99f9705c-2f29-47a5-973a-2cca0644f85c"
      },
      "execution_count": 36,
      "outputs": [
        {
          "output_type": "stream",
          "name": "stdout",
          "text": [
            "[1 2 3 4 5 6 7 8 9]\n",
            "누적 곱: [     1      2      6     24    120    720   5040  40320 362880]\n"
          ]
        }
      ]
    }
  ]
}