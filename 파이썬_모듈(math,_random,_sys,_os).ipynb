{
  "nbformat": 4,
  "nbformat_minor": 0,
  "metadata": {
    "colab": {
      "name": "파이썬-모듈(math, random, sys, os).ipynb",
      "provenance": [],
      "collapsed_sections": [],
      "authorship_tag": "ABX9TyPauXI3Mq8X+qRCFuI5cQRS",
      "include_colab_link": true
    },
    "kernelspec": {
      "name": "python3",
      "display_name": "Python 3"
    },
    "language_info": {
      "name": "python"
    }
  },
  "cells": [
    {
      "cell_type": "markdown",
      "metadata": {
        "id": "view-in-github",
        "colab_type": "text"
      },
      "source": [
        "<a href=\"https://colab.research.google.com/github/yejin0455/sesac-python/blob/main/%ED%8C%8C%EC%9D%B4%EC%8D%AC_%EB%AA%A8%EB%93%88(math%2C_random%2C_sys%2C_os).ipynb\" target=\"_parent\"><img src=\"https://colab.research.google.com/assets/colab-badge.svg\" alt=\"Open In Colab\"/></a>"
      ]
    },
    {
      "cell_type": "code",
      "execution_count": 1,
      "metadata": {
        "id": "3rCRabTgJGS3"
      },
      "outputs": [],
      "source": [
        "import math"
      ]
    },
    {
      "cell_type": "code",
      "source": [
        "print(f\"{math.sin(math.pi):.5f}\")\n",
        "print(f\"{math.cos(math.pi):.5f}\")\n",
        "print(f\"{math.tan(math.pi):.5f}\")\n",
        "print(f\"{math.ceil(math.pi):.5f}\")  #올림\n",
        "print(f\"{math.floor(math.pi):.5f}\")  #내림\n",
        "print(f\"{round(math.pi):.5f}\")  #반올림"
      ],
      "metadata": {
        "colab": {
          "base_uri": "https://localhost:8080/"
        },
        "id": "0-uiFnZoJnIN",
        "outputId": "c499ddf5-896e-4ed9-e7f6-f6394f4d04f1"
      },
      "execution_count": 5,
      "outputs": [
        {
          "output_type": "stream",
          "name": "stdout",
          "text": [
            "0.00000\n",
            "-1.00000\n",
            "-0.00000\n",
            "4.00000\n",
            "3.00000\n",
            "3.00000\n"
          ]
        }
      ]
    },
    {
      "cell_type": "code",
      "source": [
        "from math import sin, cos, tan"
      ],
      "metadata": {
        "id": "S2B3iPnFK996"
      },
      "execution_count": 7,
      "outputs": []
    },
    {
      "cell_type": "code",
      "source": [
        "print(f\"{sin(math.pi):.5f}\")\n",
        "print(f\"{cos(math.pi):.5f}\")\n",
        "print(f\"{tan(math.pi):.5f}\")\n",
        "print(f\"{math.ceil(math.pi):.5f}\")  #올림\n",
        "print(f\"{math.floor(math.pi):.5f}\")  #내림\n",
        "print(f\"{round(math.pi):.5f}\")  #반올림"
      ],
      "metadata": {
        "colab": {
          "base_uri": "https://localhost:8080/"
        },
        "id": "fFZ4kaBYLD7P",
        "outputId": "36767cc4-ca76-4089-e0a3-d612610c8d9a"
      },
      "execution_count": 11,
      "outputs": [
        {
          "output_type": "stream",
          "name": "stdout",
          "text": [
            "0.00000\n",
            "-1.00000\n",
            "-0.00000\n",
            "4.00000\n",
            "3.00000\n",
            "3.00000\n"
          ]
        }
      ]
    },
    {
      "cell_type": "code",
      "source": [
        "import math as m"
      ],
      "metadata": {
        "id": "N4vUepfeLZlJ"
      },
      "execution_count": 9,
      "outputs": []
    },
    {
      "cell_type": "code",
      "source": [
        "print(f\"{math.sin(m.pi):.5f}\")\n",
        "print(f\"{math.cos(m.pi):.5f}\")\n",
        "print(f\"{math.tan(m.pi):.5f}\")\n",
        "print(f\"{math.ceil(m.pi):.5f}\")  #올림\n",
        "print(f\"{math.floor(m.pi):.5f}\")  #내림\n",
        "print(f\"{round(m.pi):.5f}\")  #반올림"
      ],
      "metadata": {
        "colab": {
          "base_uri": "https://localhost:8080/"
        },
        "id": "COfa1MhDLcSU",
        "outputId": "efb71f81-d737-4899-ca9b-3495d157f73d"
      },
      "execution_count": 10,
      "outputs": [
        {
          "output_type": "stream",
          "name": "stdout",
          "text": [
            "0.00000\n",
            "-1.00000\n",
            "-0.00000\n",
            "4.00000\n",
            "3.00000\n",
            "3.00000\n"
          ]
        }
      ]
    },
    {
      "cell_type": "markdown",
      "source": [
        "# random"
      ],
      "metadata": {
        "id": "f-mNOjJUMDCZ"
      }
    },
    {
      "cell_type": "code",
      "source": [
        "import random"
      ],
      "metadata": {
        "id": "w8_nexEyMGKx"
      },
      "execution_count": 13,
      "outputs": []
    },
    {
      "cell_type": "markdown",
      "source": [
        "random.random():0~1사이의 랜덤한 값을 반환"
      ],
      "metadata": {
        "id": "odH2vawoNbDv"
      }
    },
    {
      "cell_type": "code",
      "source": [
        "for i in range(100):\n",
        "    print(f\"{random.random():8.5f}\", end=' ')\n",
        "    if i%10 == 9:\n",
        "        print()"
      ],
      "metadata": {
        "colab": {
          "base_uri": "https://localhost:8080/"
        },
        "id": "2l_5Jk_CMJ04",
        "outputId": "0eccb33c-eedd-4246-ccba-00d9f03d2edf"
      },
      "execution_count": 16,
      "outputs": [
        {
          "output_type": "stream",
          "name": "stdout",
          "text": [
            " 0.38943  0.84604  0.22748  0.71763  0.77932  0.72063  0.14040  0.03831  0.59396  0.45418 \n",
            " 0.76854  0.88693  0.63832  0.45342  0.84617  0.54649  0.45751  0.87259  0.10084  0.66491 \n",
            " 0.97081  0.17019  0.23529  0.16792  0.79973  0.33760  0.27990  0.66813  0.48851  0.90921 \n",
            " 0.92343  0.68200  0.07874  0.27838  0.35845  0.70816  0.34697  0.77778  0.36468  0.28839 \n",
            " 0.97797  0.09344  0.43980  0.11007  0.64298  0.68168  0.08916  0.25690  0.28212  0.95579 \n",
            " 0.94656  0.01315  0.61908  0.39832  0.15272  0.47871  0.77070  0.59797  0.89489  0.05431 \n",
            " 0.67467  0.80076  0.98290  0.52046  0.83534  0.19632  0.48565  0.34163  0.74570  0.25097 \n",
            " 0.26154  0.57900  0.49543  0.46138  0.01395  0.21877  0.91189  0.10571  0.90605  0.16399 \n",
            " 0.82222  0.28413  0.57561  0.24530  0.32961  0.26803  0.39875  0.73679  0.34493  0.08051 \n",
            " 0.66844  0.16095  0.49595  0.92951  0.03005  0.81652  0.08225  0.84782  0.67462  0.03966 \n"
          ]
        }
      ]
    },
    {
      "cell_type": "markdown",
      "source": [
        "random.randrange(e:정수):0~e-1 사이의 정수 중 랜덤한 값을 반환\n",
        "\n",
        "random.randrange(s:정수, e:정수):s~e-1 사이의 정수 중 랜덤한 값을 반환"
      ],
      "metadata": {
        "id": "QnoDmKA8OHu0"
      }
    },
    {
      "cell_type": "code",
      "source": [
        "for i in range(100):\n",
        "    print(f\"{random.randrange(10):8.5f}\", end=' ')\n",
        "    if i%10 == 9:\n",
        "        print()\n",
        "print(\"=====================\")\n",
        "for i in range(100):\n",
        "    print(f\"{random.randrange(10, 20):8.5f}\", end=' ')\n",
        "    if i%10 == 9:\n",
        "        print()"
      ],
      "metadata": {
        "colab": {
          "base_uri": "https://localhost:8080/"
        },
        "id": "UCf40CoiNp65",
        "outputId": "e3ce6cac-99ee-4cae-a0e3-ffbed45eab99"
      },
      "execution_count": 19,
      "outputs": [
        {
          "output_type": "stream",
          "name": "stdout",
          "text": [
            " 3.00000  3.00000  5.00000  2.00000  8.00000  3.00000  0.00000  0.00000  3.00000  6.00000 \n",
            " 5.00000  3.00000  5.00000  2.00000  7.00000  0.00000  6.00000  3.00000  8.00000  3.00000 \n",
            " 8.00000  8.00000  8.00000  7.00000  7.00000  5.00000  6.00000  4.00000  9.00000  5.00000 \n",
            " 2.00000  4.00000  3.00000  5.00000  7.00000  5.00000  5.00000  7.00000  6.00000  0.00000 \n",
            " 4.00000  1.00000  8.00000  0.00000  9.00000  0.00000  2.00000  2.00000  4.00000  1.00000 \n",
            " 8.00000  7.00000  9.00000  9.00000  8.00000  4.00000  4.00000  4.00000  6.00000  2.00000 \n",
            " 8.00000  6.00000  6.00000  4.00000  9.00000  4.00000  3.00000  3.00000  2.00000  0.00000 \n",
            " 3.00000  3.00000  2.00000  8.00000  7.00000  0.00000  2.00000  2.00000  7.00000  6.00000 \n",
            " 4.00000  0.00000  1.00000  0.00000  6.00000  6.00000  3.00000  8.00000  0.00000  3.00000 \n",
            " 9.00000  1.00000  3.00000  7.00000  5.00000  6.00000  7.00000  6.00000  2.00000  2.00000 \n",
            "=====================\n",
            "10.00000 13.00000 19.00000 14.00000 16.00000 15.00000 19.00000 17.00000 11.00000 17.00000 \n",
            "16.00000 17.00000 12.00000 11.00000 19.00000 16.00000 15.00000 10.00000 18.00000 17.00000 \n",
            "11.00000 16.00000 17.00000 12.00000 11.00000 18.00000 17.00000 16.00000 17.00000 12.00000 \n",
            "19.00000 16.00000 12.00000 12.00000 17.00000 14.00000 16.00000 11.00000 10.00000 18.00000 \n",
            "11.00000 19.00000 16.00000 12.00000 14.00000 10.00000 18.00000 16.00000 11.00000 16.00000 \n",
            "11.00000 10.00000 11.00000 17.00000 16.00000 13.00000 18.00000 10.00000 14.00000 19.00000 \n",
            "12.00000 15.00000 18.00000 14.00000 11.00000 13.00000 11.00000 15.00000 10.00000 17.00000 \n",
            "10.00000 10.00000 19.00000 14.00000 11.00000 10.00000 10.00000 15.00000 17.00000 13.00000 \n",
            "18.00000 19.00000 15.00000 12.00000 11.00000 15.00000 18.00000 10.00000 14.00000 19.00000 \n",
            "17.00000 16.00000 13.00000 10.00000 13.00000 16.00000 12.00000 14.00000 17.00000 19.00000 \n"
          ]
        }
      ]
    },
    {
      "cell_type": "markdown",
      "source": [
        "random.shuffle(목록): 목록의 요소를 랜덤하게 섞어줌"
      ],
      "metadata": {
        "id": "LTt3E47UU6ea"
      }
    },
    {
      "cell_type": "code",
      "source": [
        "ls = [1, 2, 3, 4, 5, 6, 7, 8, 9, 10]\n",
        "random.shuffle(ls)\n",
        "ls"
      ],
      "metadata": {
        "colab": {
          "base_uri": "https://localhost:8080/"
        },
        "id": "wl6IMK4iQRIp",
        "outputId": "df21b3a1-76db-4e57-dbdb-7a927ac99a73"
      },
      "execution_count": 20,
      "outputs": [
        {
          "output_type": "execute_result",
          "data": {
            "text/plain": [
              "[8, 4, 5, 7, 6, 1, 2, 3, 9, 10]"
            ]
          },
          "metadata": {},
          "execution_count": 20
        }
      ]
    },
    {
      "cell_type": "markdown",
      "source": [
        "random.uniform("
      ],
      "metadata": {
        "id": "yoZeen4gUkt4"
      }
    },
    {
      "cell_type": "code",
      "source": [
        "for i in range(100):\n",
        "  print(f\"{random.uniform(10,20):8.5f}\",end=' ')\n",
        "  if i%10==9:\n",
        "    print()"
      ],
      "metadata": {
        "id": "pvds7vEHV3f4"
      },
      "execution_count": null,
      "outputs": []
    },
    {
      "cell_type": "markdown",
      "source": [
        "random.choice(목록):목록 요소 중에 랜덤하게 선택한다"
      ],
      "metadata": {
        "id": "Rcx6S-hXVjX_"
      }
    },
    {
      "cell_type": "code",
      "source": [
        "for i in range(100):\n",
        "    print(f\"{random.choice(ls).8f}\", end=' ')\n",
        "    if i%10 == 9:\n",
        "        print()"
      ],
      "metadata": {
        "id": "nF1TBVxgVGPv"
      },
      "execution_count": null,
      "outputs": []
    },
    {
      "cell_type": "markdown",
      "source": [
        "random.sample(목록, k=개수):목록 요소 중에 랜덤하게 k개를 선택한다"
      ],
      "metadata": {
        "id": "C2kE_XAdVsce"
      }
    },
    {
      "cell_type": "code",
      "source": [
        "ls = list(range(1, 46))\n",
        "print(ls)\n",
        "random.sample(ls, k=6)"
      ],
      "metadata": {
        "id": "sxezZ4VrVYb8"
      },
      "execution_count": null,
      "outputs": []
    },
    {
      "cell_type": "code",
      "source": [
        "import sys\n",
        "sys.path"
      ],
      "metadata": {
        "colab": {
          "base_uri": "https://localhost:8080/"
        },
        "id": "Tls6Cu8HWASg",
        "outputId": "0ff10b64-0768-4ed2-ef0f-93fd6d0e020c"
      },
      "execution_count": 21,
      "outputs": [
        {
          "output_type": "execute_result",
          "data": {
            "text/plain": [
              "['',\n",
              " '/content',\n",
              " '/env/python',\n",
              " '/usr/lib/python37.zip',\n",
              " '/usr/lib/python3.7',\n",
              " '/usr/lib/python3.7/lib-dynload',\n",
              " '/usr/local/lib/python3.7/dist-packages',\n",
              " '/usr/lib/python3/dist-packages',\n",
              " '/usr/local/lib/python3.7/dist-packages/IPython/extensions',\n",
              " '/root/.ipython']"
            ]
          },
          "metadata": {},
          "execution_count": 21
        }
      ]
    },
    {
      "cell_type": "code",
      "source": [
        "sys.argv"
      ],
      "metadata": {
        "colab": {
          "base_uri": "https://localhost:8080/"
        },
        "id": "EIjVjSrsWR1u",
        "outputId": "60ef0096-d07c-4e66-e39c-5ced95ac4a0b"
      },
      "execution_count": 22,
      "outputs": [
        {
          "output_type": "execute_result",
          "data": {
            "text/plain": [
              "['/usr/local/lib/python3.7/dist-packages/ipykernel_launcher.py',\n",
              " '-f',\n",
              " '/root/.local/share/jupyter/runtime/kernel-c2137d66-c2ce-4bb3-9335-e9b69ee651dc.json']"
            ]
          },
          "metadata": {},
          "execution_count": 22
        }
      ]
    },
    {
      "cell_type": "code",
      "source": [
        "len(sys.argv)  # sys.argv:원소의 갯수"
      ],
      "metadata": {
        "colab": {
          "base_uri": "https://localhost:8080/"
        },
        "id": "CGlq2VHLWzsZ",
        "outputId": "1ad8992f-2d36-4a56-8bcf-06d55ebdea83"
      },
      "execution_count": 23,
      "outputs": [
        {
          "output_type": "execute_result",
          "data": {
            "text/plain": [
              "3"
            ]
          },
          "metadata": {},
          "execution_count": 23
        }
      ]
    },
    {
      "cell_type": "code",
      "source": [
        "import os\n",
        "os.name"
      ],
      "metadata": {
        "colab": {
          "base_uri": "https://localhost:8080/",
          "height": 35
        },
        "id": "CiP6nM4SXBm3",
        "outputId": "8cbc920b-46bb-4446-abda-54381bf4b9f0"
      },
      "execution_count": 24,
      "outputs": [
        {
          "output_type": "execute_result",
          "data": {
            "application/vnd.google.colaboratory.intrinsic+json": {
              "type": "string"
            },
            "text/plain": [
              "'posix'"
            ]
          },
          "metadata": {},
          "execution_count": 24
        }
      ]
    },
    {
      "cell_type": "code",
      "source": [
        "import datetime\n",
        "n = datetime.datetime.now()\n",
        "n.day"
      ],
      "metadata": {
        "colab": {
          "base_uri": "https://localhost:8080/"
        },
        "id": "mQVuswt_bsFS",
        "outputId": "35950c72-c24f-40a9-eed8-e535d64ea2f9"
      },
      "execution_count": 25,
      "outputs": [
        {
          "output_type": "execute_result",
          "data": {
            "text/plain": [
              "23"
            ]
          },
          "metadata": {},
          "execution_count": 25
        }
      ]
    },
    {
      "cell_type": "code",
      "source": [
        "import time\n",
        "print(\"a\", end=' ')\n",
        "time.sleep(1)\n",
        "print(\"b\", end=' ')\n",
        "time.sleep(2)\n",
        "print(\"c\", end=' ')\n",
        "time.sleep(3)\n",
        "print(\"d\", end=' ')\n",
        "time.sleep(4)\n",
        "print(\"...\")"
      ],
      "metadata": {
        "colab": {
          "base_uri": "https://localhost:8080/"
        },
        "id": "dRgVaTqGccOL",
        "outputId": "5d424172-acf0-4c7d-8b25-7e1228b8099e"
      },
      "execution_count": 26,
      "outputs": [
        {
          "output_type": "stream",
          "name": "stdout",
          "text": [
            "a b c d ...\n"
          ]
        }
      ]
    },
    {
      "cell_type": "code",
      "source": [
        "s = time.time()\n",
        "i = 0\n",
        "for lc in range(10000):\n",
        "    for _ in range(10000):\n",
        "        i += 1\n",
        "    if(lc % 1000 == 0):\n",
        "        print(\".\", end=' ')\n",
        "e = time.time()\n",
        "print(e-s)"
      ],
      "metadata": {
        "colab": {
          "base_uri": "https://localhost:8080/"
        },
        "id": "8qz1tVFic4-Y",
        "outputId": "44a66a75-945e-4269-cdf2-3655bbadd341"
      },
      "execution_count": 27,
      "outputs": [
        {
          "output_type": "stream",
          "name": "stdout",
          "text": [
            ". . . . . . . . . . 10.763848304748535\n"
          ]
        }
      ]
    },
    {
      "cell_type": "code",
      "source": [
        "from urllib import request\n",
        "html = request.urlopen('http://docs.python.org')\n",
        "print(html.read())"
      ],
      "metadata": {
        "colab": {
          "base_uri": "https://localhost:8080/"
        },
        "id": "9giHoeZvdiIG",
        "outputId": "beafc882-0929-4859-f5d9-384f2f55fb14"
      },
      "execution_count": 28,
      "outputs": [
        {
          "output_type": "stream",
          "name": "stdout",
          "text": [
            "b'\\n<!DOCTYPE html>\\n\\n<html>\\n  <head>\\n    <meta charset=\"utf-8\" />\\n    <meta name=\"viewport\" content=\"width=device-width, initial-scale=1.0\" /><title>3.10.2 Documentation</title><meta name=\"viewport\" content=\"width=device-width, initial-scale=1.0\">\\n    \\n    <link rel=\"stylesheet\" href=\"_static/pydoctheme.css?2022.1\" type=\"text/css\" />\\n    <link rel=\"stylesheet\" href=\"_static/pygments.css\" type=\"text/css\" />\\n    \\n    <script id=\"documentation_options\" data-url_root=\"./\" src=\"_static/documentation_options.js\"></script>\\n    <script src=\"_static/jquery.js\"></script>\\n    <script src=\"_static/underscore.js\"></script>\\n    <script src=\"_static/doctools.js\"></script>\\n    <script src=\"_static/language_data.js\"></script>\\n    \\n    <script src=\"_static/sidebar.js\"></script>\\n    \\n    <link rel=\"search\" type=\"application/opensearchdescription+xml\"\\n          title=\"Search within Python 3.10.2 documentation\"\\n          href=\"_static/opensearch.xml\"/>\\n    <link rel=\"author\" title=\"About these documents\" href=\"about.html\" />\\n    <link rel=\"index\" title=\"Index\" href=\"genindex.html\" />\\n    <link rel=\"search\" title=\"Search\" href=\"search.html\" />\\n    <link rel=\"copyright\" title=\"Copyright\" href=\"copyright.html\" />\\n    <link rel=\"canonical\" href=\"https://docs.python.org/3/index.html\" />\\n    \\n      \\n    \\n\\n    \\n    <style>\\n      @media only screen {\\n        table.full-width-table {\\n            width: 100%;\\n        }\\n      }\\n    </style>\\n<link rel=\"shortcut icon\" type=\"image/png\" href=\"_static/py.svg\" />\\n            <script type=\"text/javascript\" src=\"_static/copybutton.js\"></script>\\n            <script type=\"text/javascript\" src=\"_static/menu.js\"></script> \\n\\n  </head>\\n<body>\\n<div class=\"mobile-nav\">\\n    <input type=\"checkbox\" id=\"menuToggler\" class=\"toggler__input\" aria-controls=\"navigation\"\\n           aria-pressed=\"false\" aria-expanded=\"false\" role=\"button\" aria-label=\"Menu\" />\\n    <label for=\"menuToggler\" class=\"toggler__label\">\\n        <span></span>\\n    </label>\\n    <nav class=\"nav-content\" role=\"navigation\">\\n         <a href=\"https://www.python.org/\" class=\"nav-logo\">\\n             <img src=\"_static/py.svg\" alt=\"Logo\"/>\\n         </a>\\n        <div class=\"version_switcher_placeholder\"></div>\\n        <form role=\"search\" class=\"search\" action=\"search.html\" method=\"get\">\\n            <svg xmlns=\"http://www.w3.org/2000/svg\" width=\"20\" height=\"20\" viewBox=\"0 0 24 24\" class=\"search-icon\">\\n                <path fill-rule=\"nonzero\"\\n                        d=\"M15.5 14h-.79l-.28-.27a6.5 6.5 0 001.48-5.34c-.47-2.78-2.79-5-5.59-5.34a6.505 6.505 0 00-7.27 7.27c.34 2.8 2.56 5.12 5.34 5.59a6.5 6.5 0 005.34-1.48l.27.28v.79l4.25 4.25c.41.41 1.08.41 1.49 0 .41-.41.41-1.08 0-1.49L15.5 14zm-6 0C7.01 14 5 11.99 5 9.5S7.01 5 9.5 5 14 7.01 14 9.5 11.99 14 9.5 14z\" fill=\"#444\"></path>\\n            </svg>\\n            <input type=\"text\" name=\"q\" aria-label=\"Quick search\"/>\\n            <input type=\"submit\" value=\"Go\"/>\\n        </form>\\n    </nav>\\n    <div class=\"menu-wrapper\">\\n        <nav class=\"menu\" role=\"navigation\" aria-label=\"main navigation\">\\n            <div class=\"language_switcher_placeholder\"></div><h3>Download</h3>\\n<p><a href=\"download.html\">Download these documents</a></p>\\n<h3>Docs by version</h3>\\n<ul>\\n  <li><a href=\"https://docs.python.org/3.11/\">Python 3.11 (in development)</a></li>\\n<li><a href=\"https://docs.python.org/3.10/\">Python 3.10 (stable)</a></li>\\n<li><a href=\"https://docs.python.org/3.9/\">Python 3.9 (stable)</a></li>\\n<li><a href=\"https://docs.python.org/3.8/\">Python 3.8 (security-fixes)</a></li>\\n<li><a href=\"https://docs.python.org/3.7/\">Python 3.7 (security-fixes)</a></li>\\n<li><a href=\"https://docs.python.org/3.6/\">Python 3.6 (EOL)</a></li>\\n<li><a href=\"https://docs.python.org/3.5/\">Python 3.5 (EOL)</a></li>\\n<li><a href=\"https://docs.python.org/2.7/\">Python 2.7 (EOL)</a></li>\\n  <li><a href=\"https://www.python.org/doc/versions/\">All versions</a></li>\\n</ul>\\n\\n<h3>Other resources</h3>\\n<ul>\\n  \\n  <li><a href=\"https://www.python.org/dev/peps/\">PEP Index</a></li>\\n  <li><a href=\"https://wiki.python.org/moin/BeginnersGuide\">Beginner\\'s Guide</a></li>\\n  <li><a href=\"https://wiki.python.org/moin/PythonBooks\">Book List</a></li>\\n  <li><a href=\"https://www.python.org/doc/av/\">Audio/Visual Talks</a></li>\\n  <li><a href=\"https://devguide.python.org/\">Python Developer\\xe2\\x80\\x99s Guide</a></li>\\n</ul>\\n        </nav>\\n    </div>\\n</div>\\n\\n  \\n    <div class=\"related\" role=\"navigation\" aria-label=\"related navigation\">\\n      <h3>Navigation</h3>\\n      <ul>\\n        <li class=\"right\" style=\"margin-right: 10px\">\\n          <a href=\"genindex.html\" title=\"General Index\"\\n             accesskey=\"I\">index</a></li>\\n        <li class=\"right\" >\\n          <a href=\"py-modindex.html\" title=\"Python Module Index\"\\n             >modules</a> |</li>\\n\\n          <li><img src=\"_static/py.svg\" alt=\"python logo\" style=\"vertical-align: middle; margin-top: -1px\"/></li>\\n          <li><a href=\"https://www.python.org/\">Python</a> &#187;</li>\\n          <li class=\"switchers\">\\n            <div class=\"language_switcher_placeholder\"></div>\\n            <div class=\"version_switcher_placeholder\"></div>\\n          </li>\\n          <li>\\n              \\n          </li>\\n    <li id=\"cpython-language-and-version\">\\n      <a href=\"#\">3.10.2 Documentation</a> &#187;\\n    </li>\\n\\n        <li class=\"nav-item nav-item-this\"><a href=\"\"></a></li>\\n                <li class=\"right\">\\n                    \\n\\n    <div class=\"inline-search\" role=\"search\">\\n        <form class=\"inline-search\" action=\"search.html\" method=\"get\">\\n          <input placeholder=\"Quick search\" aria-label=\"Quick search\" type=\"text\" name=\"q\" />\\n          <input type=\"submit\" value=\"Go\" />\\n          <input type=\"hidden\" name=\"check_keywords\" value=\"yes\" />\\n          <input type=\"hidden\" name=\"area\" value=\"default\" />\\n        </form>\\n    </div>\\n                     |\\n                </li>\\n            \\n      </ul>\\n    </div>    \\n\\n    <div class=\"document\">\\n      <div class=\"documentwrapper\">\\n        <div class=\"bodywrapper\">\\n          <div class=\"body\" role=\"main\">\\n            \\n  <h1>Python 3.10.2 documentation</h1>\\n  <p>\\n  Welcome! This is the official documentation for Python 3.10.2.\\n  </p>\\n  <p><strong>Parts of the documentation:</strong></p>\\n  <table class=\"contentstable\" align=\"center\"><tr>\\n    <td width=\"50%\">\\n      <p class=\"biglink\"><a class=\"biglink\" href=\"whatsnew/3.10.html\">What\\'s new in Python 3.10?</a><br/>\\n        <span class=\"linkdescr\"> or <a href=\"whatsnew/index.html\">all \"What\\'s new\" documents</a> since 2.0</span></p>\\n      <p class=\"biglink\"><a class=\"biglink\" href=\"tutorial/index.html\">Tutorial</a><br/>\\n         <span class=\"linkdescr\">start here</span></p>\\n      <p class=\"biglink\"><a class=\"biglink\" href=\"library/index.html\">Library Reference</a><br/>\\n         <span class=\"linkdescr\">keep this under your pillow</span></p>\\n      <p class=\"biglink\"><a class=\"biglink\" href=\"reference/index.html\">Language Reference</a><br/>\\n         <span class=\"linkdescr\">describes syntax and language elements</span></p>\\n      <p class=\"biglink\"><a class=\"biglink\" href=\"using/index.html\">Python Setup and Usage</a><br/>\\n         <span class=\"linkdescr\">how to use Python on different platforms</span></p>\\n      <p class=\"biglink\"><a class=\"biglink\" href=\"howto/index.html\">Python HOWTOs</a><br/>\\n         <span class=\"linkdescr\">in-depth documents on specific topics</span></p>\\n    </td><td width=\"50%\">\\n      <p class=\"biglink\"><a class=\"biglink\" href=\"installing/index.html\">Installing Python Modules</a><br/>\\n         <span class=\"linkdescr\">installing from the Python Package Index &amp; other sources</span></p>\\n      <p class=\"biglink\"><a class=\"biglink\" href=\"distributing/index.html\">Distributing Python Modules</a><br/>\\n         <span class=\"linkdescr\">publishing modules for installation by others</span></p>\\n      <p class=\"biglink\"><a class=\"biglink\" href=\"extending/index.html\">Extending and Embedding</a><br/>\\n         <span class=\"linkdescr\">tutorial for C/C++ programmers</span></p>\\n      <p class=\"biglink\"><a class=\"biglink\" href=\"c-api/index.html\">Python/C API</a><br/>\\n         <span class=\"linkdescr\">reference for C/C++ programmers</span></p>\\n      <p class=\"biglink\"><a class=\"biglink\" href=\"faq/index.html\">FAQs</a><br/>\\n         <span class=\"linkdescr\">frequently asked questions (with answers!)</span></p>\\n    </td></tr>\\n  </table>\\n\\n  <p><strong>Indices and tables:</strong></p>\\n  <table class=\"contentstable\" align=\"center\"><tr>\\n    <td width=\"50%\">\\n      <p class=\"biglink\"><a class=\"biglink\" href=\"py-modindex.html\">Global Module Index</a><br/>\\n         <span class=\"linkdescr\">quick access to all modules</span></p>\\n      <p class=\"biglink\"><a class=\"biglink\" href=\"genindex.html\">General Index</a><br/>\\n         <span class=\"linkdescr\">all functions, classes, terms</span></p>\\n      <p class=\"biglink\"><a class=\"biglink\" href=\"glossary.html\">Glossary</a><br/>\\n         <span class=\"linkdescr\">the most important terms explained</span></p>\\n    </td><td width=\"50%\">\\n      <p class=\"biglink\"><a class=\"biglink\" href=\"search.html\">Search page</a><br/>\\n         <span class=\"linkdescr\">search this documentation</span></p>\\n      <p class=\"biglink\"><a class=\"biglink\" href=\"contents.html\">Complete Table of Contents</a><br/>\\n         <span class=\"linkdescr\">lists all sections and subsections</span></p>\\n    </td></tr>\\n  </table>\\n\\n  <p><strong>Meta information:</strong></p>\\n  <table class=\"contentstable\" align=\"center\"><tr>\\n    <td width=\"50%\">\\n      <p class=\"biglink\"><a class=\"biglink\" href=\"bugs.html\">Reporting bugs</a></p>\\n      <p class=\"biglink\"><a class=\"biglink\" href=\"https://devguide.python.org/docquality/#helping-with-documentation\">Contributing to Docs</a></p>\\n      <p class=\"biglink\"><a class=\"biglink\" href=\"about.html\">About the documentation</a></p>\\n    </td><td width=\"50%\">\\n      <p class=\"biglink\"><a class=\"biglink\" href=\"license.html\">History and License of Python</a></p>\\n      <p class=\"biglink\"><a class=\"biglink\" href=\"copyright.html\">Copyright</a></p>\\n    </td></tr>\\n  </table>\\n\\n            <div class=\"clearer\"></div>\\n          </div>\\n        </div>\\n      </div>\\n      <div class=\"sphinxsidebar\" role=\"navigation\" aria-label=\"main navigation\">\\n        <div class=\"sphinxsidebarwrapper\"><h3>Download</h3>\\n<p><a href=\"download.html\">Download these documents</a></p>\\n<h3>Docs by version</h3>\\n<ul>\\n  <li><a href=\"https://docs.python.org/3.11/\">Python 3.11 (in development)</a></li>\\n<li><a href=\"https://docs.python.org/3.10/\">Python 3.10 (stable)</a></li>\\n<li><a href=\"https://docs.python.org/3.9/\">Python 3.9 (stable)</a></li>\\n<li><a href=\"https://docs.python.org/3.8/\">Python 3.8 (security-fixes)</a></li>\\n<li><a href=\"https://docs.python.org/3.7/\">Python 3.7 (security-fixes)</a></li>\\n<li><a href=\"https://docs.python.org/3.6/\">Python 3.6 (EOL)</a></li>\\n<li><a href=\"https://docs.python.org/3.5/\">Python 3.5 (EOL)</a></li>\\n<li><a href=\"https://docs.python.org/2.7/\">Python 2.7 (EOL)</a></li>\\n  <li><a href=\"https://www.python.org/doc/versions/\">All versions</a></li>\\n</ul>\\n\\n<h3>Other resources</h3>\\n<ul>\\n  \\n  <li><a href=\"https://www.python.org/dev/peps/\">PEP Index</a></li>\\n  <li><a href=\"https://wiki.python.org/moin/BeginnersGuide\">Beginner\\'s Guide</a></li>\\n  <li><a href=\"https://wiki.python.org/moin/PythonBooks\">Book List</a></li>\\n  <li><a href=\"https://www.python.org/doc/av/\">Audio/Visual Talks</a></li>\\n  <li><a href=\"https://devguide.python.org/\">Python Developer\\xe2\\x80\\x99s Guide</a></li>\\n</ul>\\n        </div>\\n      </div>\\n      <div class=\"clearer\"></div>\\n    </div>  \\n    <div class=\"related\" role=\"navigation\" aria-label=\"related navigation\">\\n      <h3>Navigation</h3>\\n      <ul>\\n        <li class=\"right\" style=\"margin-right: 10px\">\\n          <a href=\"genindex.html\" title=\"General Index\"\\n             >index</a></li>\\n        <li class=\"right\" >\\n          <a href=\"py-modindex.html\" title=\"Python Module Index\"\\n             >modules</a> |</li>\\n\\n          <li><img src=\"_static/py.svg\" alt=\"python logo\" style=\"vertical-align: middle; margin-top: -1px\"/></li>\\n          <li><a href=\"https://www.python.org/\">Python</a> &#187;</li>\\n          <li class=\"switchers\">\\n            <div class=\"language_switcher_placeholder\"></div>\\n            <div class=\"version_switcher_placeholder\"></div>\\n          </li>\\n          <li>\\n              \\n          </li>\\n    <li id=\"cpython-language-and-version\">\\n      <a href=\"#\">3.10.2 Documentation</a> &#187;\\n    </li>\\n\\n        <li class=\"nav-item nav-item-this\"><a href=\"\"></a></li>\\n                <li class=\"right\">\\n                    \\n\\n    <div class=\"inline-search\" role=\"search\">\\n        <form class=\"inline-search\" action=\"search.html\" method=\"get\">\\n          <input placeholder=\"Quick search\" aria-label=\"Quick search\" type=\"text\" name=\"q\" />\\n          <input type=\"submit\" value=\"Go\" />\\n          <input type=\"hidden\" name=\"check_keywords\" value=\"yes\" />\\n          <input type=\"hidden\" name=\"area\" value=\"default\" />\\n        </form>\\n    </div>\\n                     |\\n                </li>\\n            \\n      </ul>\\n    </div>  \\n    <div class=\"footer\">\\n    &copy; <a href=\"copyright.html\">Copyright</a> 2001-2022, Python Software Foundation.\\n    <br />\\n    This page is licensed under the Python Software Foundation License Version 2.\\n    <br />\\n    Examples, recipes, and other code in the documentation are additionally licensed under the Zero Clause BSD License.\\n    <br />\\n    See <a href=\"/license.html\">History and License</a> for more information.<br />\\n    <br />\\n\\n    The Python Software Foundation is a non-profit corporation.\\n<a href=\"https://www.python.org/psf/donations/\">Please donate.</a>\\n<br />\\n    <br />\\n\\n    Last updated on Feb 22, 2022.\\n    <a href=\"/bugs.html\">Found a bug</a>?\\n    <br />\\n\\n    Created using <a href=\"https://www.sphinx-doc.org/\">Sphinx</a> 3.2.1.\\n    </div>\\n\\n    <script type=\"text/javascript\" src=\"_static/switchers.js\"></script>\\n  </body>\\n</html>'\n"
          ]
        }
      ]
    }
  ]
}