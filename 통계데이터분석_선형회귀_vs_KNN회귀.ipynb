{
  "nbformat": 4,
  "nbformat_minor": 0,
  "metadata": {
    "colab": {
      "name": "통계데이터분석-선형회귀 vs KNN회귀.ipynb",
      "provenance": [],
      "collapsed_sections": [],
      "authorship_tag": "ABX9TyPYwUE32pKM4PDYb62fwLcs",
      "include_colab_link": true
    },
    "kernelspec": {
      "name": "python3",
      "display_name": "Python 3"
    },
    "language_info": {
      "name": "python"
    }
  },
  "cells": [
    {
      "cell_type": "markdown",
      "metadata": {
        "id": "view-in-github",
        "colab_type": "text"
      },
      "source": [
        "<a href=\"https://colab.research.google.com/github/yejin0455/sesac-python/blob/main/%ED%86%B5%EA%B3%84%EB%8D%B0%EC%9D%B4%ED%84%B0%EB%B6%84%EC%84%9D_%EC%84%A0%ED%98%95%ED%9A%8C%EA%B7%80_vs_KNN%ED%9A%8C%EA%B7%80.ipynb\" target=\"_parent\"><img src=\"https://colab.research.google.com/assets/colab-badge.svg\" alt=\"Open In Colab\"/></a>"
      ]
    },
    {
      "cell_type": "markdown",
      "source": [
        "선형회귀 vs KNN회귀"
      ],
      "metadata": {
        "id": "DVKCK6L7Js0o"
      }
    },
    {
      "cell_type": "code",
      "execution_count": 18,
      "metadata": {
        "id": "MdIG6O-mIIse"
      },
      "outputs": [],
      "source": [
        "import numpy as np\n",
        "import matplotlib.pyplot as plt\n",
        "import pandas as pd"
      ]
    },
    {
      "cell_type": "code",
      "source": [
        "n = 1000\n",
        "heights = np.random.normal(174, 8, n)  #평균, 표준편차, 만들 데이터 개수"
      ],
      "metadata": {
        "id": "-V4LZipJKQcl"
      },
      "execution_count": 19,
      "outputs": []
    },
    {
      "cell_type": "code",
      "source": [
        "heights2 = [height//5 for height in heights]\n",
        "se = pd.Series(heights2)\n",
        "svc = se.value_counts()"
      ],
      "metadata": {
        "id": "OSnXMzrKK1zE"
      },
      "execution_count": 20,
      "outputs": []
    },
    {
      "cell_type": "code",
      "source": [
        "plt.bar(svc.index, svc.values)\n",
        "plt.show()"
      ],
      "metadata": {
        "colab": {
          "base_uri": "https://localhost:8080/",
          "height": 265
        },
        "id": "ymcJj5JiKmO9",
        "outputId": "e8c48ae1-dfef-4cc7-ee79-ec83a5b1cb8e"
      },
      "execution_count": 21,
      "outputs": [
        {
          "output_type": "display_data",
          "data": {
            "image/png": "[encoded data removed]",
            "text/plain": [
              "<Figure size 432x288 with 1 Axes>"
            ]
          },
          "metadata": {
            "needs_background": "light"
          }
        }
      ]
    },
    {
      "cell_type": "code",
      "source": [
        "bmi = np.random.normal(21, 1, n)\n",
        "weights = bmi * (heights**2) / 10000  #키의 단위를 m로 바꿔줌"
      ],
      "metadata": {
        "id": "rOZk3rFFMK43"
      },
      "execution_count": 22,
      "outputs": []
    },
    {
      "cell_type": "code",
      "source": [
        "plt.figure(figsize=(10, 5))\n",
        "plt.plot(heights, weights, '.')\n",
        "plt.xlabel(\"height\")\n",
        "plt.ylabel(\"weight\")\n",
        "plt.xlim(0, 220)\n",
        "plt.ylim(0, 110)\n",
        "plt.grid(True)\n",
        "plt.show()"
      ],
      "metadata": {
        "colab": {
          "base_uri": "https://localhost:8080/",
          "height": 334
        },
        "id": "dzhtUTYzMvri",
        "outputId": "d974d5e9-f012-467f-a0a9-763c2d1283a3"
      },
      "execution_count": 24,
      "outputs": [
        {
          "output_type": "display_data",
          "data": {
            "image/png": "[encoded data removed]",
            "text/plain": [
              "<Figure size 720x360 with 1 Axes>"
            ]
          },
          "metadata": {
            "needs_background": "light"
          }
        }
      ]
    },
    {
      "cell_type": "code",
      "source": [
        "#xs = [[weight] for weight in weights]\n",
        "xs = weights.reshape(-1, 1)  #독립변수는 여러 개의 특성으로 구성할 수 있어서 ML모델에서는 2차원 배열 형태로 학습 데이터를 입력받음\n",
        "xs.shape"
      ],
      "metadata": {
        "colab": {
          "base_uri": "https://localhost:8080/"
        },
        "id": "fuppBCA8Oa3X",
        "outputId": "b1656302-9887-472b-d378-ad1ddf6be2ac"
      },
      "execution_count": 25,
      "outputs": [
        {
          "output_type": "execute_result",
          "data": {
            "text/plain": [
              "(1000, 1)"
            ]
          },
          "metadata": {},
          "execution_count": 25
        }
      ]
    },
    {
      "cell_type": "code",
      "source": [
        "xs2 = xs.reshape(5, 20, -1)\n",
        "xs2.shape"
      ],
      "metadata": {
        "colab": {
          "base_uri": "https://localhost:8080/"
        },
        "id": "-MGaJhVGe9L9",
        "outputId": "c7897f0e-22e1-4034-e4fc-4eac44f2e31c"
      },
      "execution_count": 45,
      "outputs": [
        {
          "output_type": "execute_result",
          "data": {
            "text/plain": [
              "(5, 20, 10)"
            ]
          },
          "metadata": {},
          "execution_count": 45
        }
      ]
    },
    {
      "cell_type": "code",
      "source": [
        "xs3 = xs.reshape(3, 20, -1)  #1000개를 3*20*n으로\n",
        "xs3.shape"
      ],
      "metadata": {
        "id": "0GLkEnMVfYan"
      },
      "execution_count": null,
      "outputs": []
    },
    {
      "cell_type": "code",
      "source": [
        "ys = heights  #종속변수는 하나의 값이며 ML모델에서 1차원 배열 형태로 학습 데이터를 입력받음\n",
        "ys.shape"
      ],
      "metadata": {
        "colab": {
          "base_uri": "https://localhost:8080/"
        },
        "id": "c8p56zSyOzu-",
        "outputId": "eae8ed9f-7b73-4080-c332-d865b3b2ef40"
      },
      "execution_count": 26,
      "outputs": [
        {
          "output_type": "execute_result",
          "data": {
            "text/plain": [
              "(1000,)"
            ]
          },
          "metadata": {},
          "execution_count": 26
        }
      ]
    },
    {
      "cell_type": "code",
      "source": [
        "from sklearn.linear_model import LinearRegression\n",
        "lr_model = LinearRegression()  #모델 개체 생성\n",
        "lr_model.fit(xs, ys)  #학습\n",
        "lr_model.coef_, lr_model.intercept_  #가중치, 편향"
      ],
      "metadata": {
        "colab": {
          "base_uri": "https://localhost:8080/"
        },
        "id": "M68-QBk1PY5n",
        "outputId": "31ef35a9-8795-4b24-f920-1118c26222d0"
      },
      "execution_count": 28,
      "outputs": [
        {
          "output_type": "execute_result",
          "data": {
            "text/plain": [
              "(array([1.06724835]), 105.99609519623083)"
            ]
          },
          "metadata": {},
          "execution_count": 28
        }
      ]
    },
    {
      "cell_type": "code",
      "source": [
        "txs = np.array([[50], [60], [67], [70], [94]])"
      ],
      "metadata": {
        "id": "dO9bT1RPQaCT"
      },
      "execution_count": 31,
      "outputs": []
    },
    {
      "cell_type": "code",
      "source": [
        "pred_val1 = lr_model.predict(txs)  #예측\n",
        "pred_val1"
      ],
      "metadata": {
        "colab": {
          "base_uri": "https://localhost:8080/"
        },
        "id": "Iy_COAaHQg4t",
        "outputId": "53c1fd48-9a11-44f2-e48b-b3950ee3772e"
      },
      "execution_count": 32,
      "outputs": [
        {
          "output_type": "execute_result",
          "data": {
            "text/plain": [
              "array([159.35851285, 170.03099638, 177.50173485, 180.70347991,\n",
              "       206.31744039])"
            ]
          },
          "metadata": {},
          "execution_count": 32
        }
      ]
    },
    {
      "cell_type": "code",
      "source": [
        "from sklearn.neighbors import KNeighborsRegressor\n",
        "knr_model = KNeighborsRegressor()  #모델 개체 생성\n",
        "knr_model.fit(xs, ys)  #학습\n",
        "pred_val2 = knr_model.predict(txs)  #예측하시오\n",
        "pred_val2"
      ],
      "metadata": {
        "colab": {
          "base_uri": "https://localhost:8080/"
        },
        "id": "LD5_nipMXD76",
        "outputId": "dab9dce2-5046-4ebe-99ed-6bf0665aac55"
      },
      "execution_count": 36,
      "outputs": [
        {
          "output_type": "execute_result",
          "data": {
            "text/plain": [
              "array([159.15773236, 168.49209124, 177.4551981 , 179.98120144,\n",
              "       195.81831933])"
            ]
          },
          "metadata": {},
          "execution_count": 36
        }
      ]
    },
    {
      "cell_type": "code",
      "source": [
        "from sklearn.model_selection import train_test_split\n",
        "train_xs, test_xs, train_ys, test_ys = train_test_split(xs, ys, train_size=0.8)\n",
        "train_xs.shape, test_xs.shape, train_ys.shape, test_ys.shape"
      ],
      "metadata": {
        "colab": {
          "base_uri": "https://localhost:8080/"
        },
        "id": "GeOS-Yg7QoCu",
        "outputId": "e5993a41-b54d-4f39-d5cc-103ee5f38d73"
      },
      "execution_count": 34,
      "outputs": [
        {
          "output_type": "execute_result",
          "data": {
            "text/plain": [
              "((800, 1), (200, 1), (800,), (200,))"
            ]
          },
          "metadata": {},
          "execution_count": 34
        }
      ]
    },
    {
      "cell_type": "code",
      "source": [
        "lr_model = LinearRegression()  #모델 개체 생성\n",
        "lr_model.fit(xs, ys)  #학습\n",
        "train_score = lr_model.score(train_xs, train_ys)  #평가하시오\n",
        "test_score = lr_model.score(test_xs, test_ys)  #평가하시오\n",
        "train_score, test_score"
      ],
      "metadata": {
        "colab": {
          "base_uri": "https://localhost:8080/"
        },
        "id": "wTV8E2jbSVa-",
        "outputId": "dab7da45-42be-44d5-df5f-7a1d944281b8"
      },
      "execution_count": 35,
      "outputs": [
        {
          "output_type": "execute_result",
          "data": {
            "text/plain": [
              "(0.7912171731927499, 0.7961322000674276)"
            ]
          },
          "metadata": {},
          "execution_count": 35
        }
      ]
    },
    {
      "cell_type": "code",
      "source": [
        "knr_model = KNeighborsRegressor()  #모델 개체 생성\n",
        "knr_model.fit(xs, ys)  #학습\n",
        "train_score = knr_model.score(train_xs, train_ys)  #평가하시오\n",
        "test_score = knr_model.score(test_xs, test_ys)  #평가하시오\n",
        "train_score, test_score"
      ],
      "metadata": {
        "colab": {
          "base_uri": "https://localhost:8080/"
        },
        "id": "TiydLKyeX4yW",
        "outputId": "e27d76dc-1aba-481a-bdc5-a712db77be14"
      },
      "execution_count": 37,
      "outputs": [
        {
          "output_type": "execute_result",
          "data": {
            "text/plain": [
              "(0.8392952778791891, 0.8454113895746934)"
            ]
          },
          "metadata": {},
          "execution_count": 37
        }
      ]
    },
    {
      "cell_type": "markdown",
      "source": [
        "# KNN에서 주의할 점"
      ],
      "metadata": {
        "id": "tCxT8IIRYs0a"
      }
    },
    {
      "cell_type": "code",
      "source": [
        "pv1 = lr_model.predict([[35], [82], [85], [90], [100], [108], [120], [130]])\n",
        "pv2 = knr_model.predict([[35], [82], [85], [90], [100], [108], [120], [130]])\n",
        "pv1, pv2"
      ],
      "metadata": {
        "colab": {
          "base_uri": "https://localhost:8080/"
        },
        "id": "OX4HUUJxYvzj",
        "outputId": "bf77fe77-a224-40f6-fd33-3f6817116625"
      },
      "execution_count": 41,
      "outputs": [
        {
          "output_type": "execute_result",
          "data": {
            "text/plain": [
              "(array([143.34978755, 193.51046015, 196.71220521, 202.04844697,\n",
              "        212.7209305 , 221.25891733, 234.06589757, 244.7383811 ]),\n",
              " array([155.88899518, 190.88933406, 194.79036723, 195.81831933,\n",
              "        195.81831933, 195.81831933, 195.81831933, 195.81831933]))"
            ]
          },
          "metadata": {},
          "execution_count": 41
        }
      ]
    },
    {
      "cell_type": "code",
      "source": [
        "weights.max()"
      ],
      "metadata": {
        "colab": {
          "base_uri": "https://localhost:8080/"
        },
        "id": "jhZ8nop_ZlCr",
        "outputId": "ceb9d25f-5976-46ee-c189-64088c4d993e"
      },
      "execution_count": 42,
      "outputs": [
        {
          "output_type": "execute_result",
          "data": {
            "text/plain": [
              "89.65578249359949"
            ]
          },
          "metadata": {},
          "execution_count": 42
        }
      ]
    },
    {
      "cell_type": "code",
      "source": [
        "plt.figure(figsize=(10, 5))\n",
        "plt.plot(heights, weights, '.')\n",
        "plt.plot([143.34, 193.51, 196.71, 202.04, 212.72, 221.25, 234.06, 244.73], [35, 82, 85, 90, 100, 108, 120, 130], 'bo', label='lr')\n",
        "plt.plot([155.88, 190.88, 194.79, 195.81, 195.81, 195.81, 195.81, 195.81], [35, 82, 85, 90, 100, 108, 120, 130], 'r^', label='knr')\n",
        "plt.xlabel(\"height\")\n",
        "plt.ylabel(\"weight\")\n",
        "plt.xlim(0, 270)\n",
        "plt.ylim(0, 135)\n",
        "plt.grid(True)\n",
        "plt.legend()\n",
        "plt.show()"
      ],
      "metadata": {
        "colab": {
          "base_uri": "https://localhost:8080/",
          "height": 334
        },
        "id": "OEm3sWh9aVkq",
        "outputId": "5c430577-6896-4016-c276-d6e411e6064b"
      },
      "execution_count": 44,
      "outputs": [
        {
          "output_type": "display_data",
          "data": {
            "image/png": "[encoded data removed]",
            "text/plain": [
              "<Figure size 720x360 with 1 Axes>"
            ]
          },
          "metadata": {
            "needs_background": "light"
          }
        }
      ]
    }
  ]
}