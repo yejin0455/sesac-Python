{
  "nbformat": 4,
  "nbformat_minor": 0,
  "metadata": {
    "colab": {
      "name": "파이썬-반복문(리스트).ipynb",
      "provenance": [],
      "collapsed_sections": [],
      "authorship_tag": "ABX9TyMR1x1Y3duWdQru/FvnOrHW",
      "include_colab_link": true
    },
    "kernelspec": {
      "name": "python3",
      "display_name": "Python 3"
    },
    "language_info": {
      "name": "python"
    }
  },
  "cells": [
    {
      "cell_type": "markdown",
      "metadata": {
        "id": "view-in-github",
        "colab_type": "text"
      },
      "source": [
        "<a href=\"https://colab.research.google.com/github/yejin0455/sesac-python/blob/main/%ED%8C%8C%EC%9D%B4%EC%8D%AC_%EB%B0%98%EB%B3%B5%EB%AC%B8(%EB%A6%AC%EC%8A%A4%ED%8A%B8).ipynb\" target=\"_parent\"><img src=\"https://colab.research.google.com/assets/colab-badge.svg\" alt=\"Open In Colab\"/></a>"
      ]
    },
    {
      "cell_type": "markdown",
      "source": [
        "# for문"
      ],
      "metadata": {
        "id": "pjLaSYXQ33d8"
      }
    },
    {
      "cell_type": "code",
      "execution_count": null,
      "metadata": {
        "colab": {
          "base_uri": "https://localhost:8080/"
        },
        "id": "kZNt6S8g3zM8",
        "outputId": "dcf872f5-4dbc-4715-b08b-e4253307edff"
      },
      "outputs": [
        {
          "output_type": "stream",
          "name": "stdout",
          "text": [
            "0 1 2 3 4 5 6 7 8 9 "
          ]
        }
      ],
      "source": [
        "for i in range(10):\n",
        "    print(i, end=' ')"
      ]
    },
    {
      "cell_type": "code",
      "source": [
        "ls = [3, 4, 8, 9]\n",
        "for i in ls:\n",
        "    print(i, end=' ')"
      ],
      "metadata": {
        "colab": {
          "base_uri": "https://localhost:8080/"
        },
        "id": "6LVH59Ip47N4",
        "outputId": "b8067847-5d0b-4294-932b-b56adc8e242c"
      },
      "execution_count": null,
      "outputs": [
        {
          "output_type": "stream",
          "name": "stdout",
          "text": [
            "3 4 8 9 "
          ]
        }
      ]
    },
    {
      "cell_type": "markdown",
      "source": [
        "# 간단한 연습 문제"
      ],
      "metadata": {
        "id": "n6UUqIgT6vwD"
      }
    },
    {
      "cell_type": "code",
      "source": [
        "member_names=[]\n",
        "for i in range(10):\n",
        "    name = input(f\"{i+1}번째 이름:\")\n",
        "    member_names.append(name)\n",
        "print(member_names)"
      ],
      "metadata": {
        "colab": {
          "base_uri": "https://localhost:8080/"
        },
        "id": "wBZqVQAY6zAc",
        "outputId": "f1de87d6-b4de-4b9a-a43f-ae4fda783d95"
      },
      "execution_count": null,
      "outputs": [
        {
          "output_type": "stream",
          "name": "stdout",
          "text": [
            "1번째 이름:ddd\n",
            "2번째 이름:aaa\n",
            "3번째 이름:ccc\n",
            "4번째 이름:bbb\n",
            "5번째 이름:rrr\n",
            "6번째 이름:yy\n",
            "7번째 이름:ggg\n",
            "8번째 이름:jhjj\n",
            "9번째 이름:uu\n",
            "10번째 이름:th\n",
            "['ddd', 'aaa', 'ccc', 'bbb', 'rrr', 'yy', 'ggg', 'jhjj', 'uu', 'th']\n"
          ]
        }
      ]
    },
    {
      "cell_type": "markdown",
      "source": [
        "국어, 영어, 수학 점수를 입력받아 평균을 구하여 출력하시오. 단, 점수는 리스트에 보관"
      ],
      "metadata": {
        "id": "RXQ0BM7B7qUa"
      }
    },
    {
      "cell_type": "code",
      "source": [
        "subjects = (\"국어\", \"영어\", \"수학\")\n",
        "scores = []  #점수를 기억할 컬렉션 생성\n",
        "for i in range(len(subjects)):  #반복(3과목)\n",
        "    score = int(input(f\"{subjects[i]} 점수입력:\"))  #점수 입력\n",
        "    scores.append(score)  #컬렉션에 보관\n",
        "print((scores[0] + scores[1] + scores[2]) / 3)  #평균 출력"
      ],
      "metadata": {
        "colab": {
          "base_uri": "https://localhost:8080/"
        },
        "id": "3X5Z0Bvb7wn2",
        "outputId": "6062c5a6-ef6b-4fbc-cf9a-2207b542525f"
      },
      "execution_count": null,
      "outputs": [
        {
          "output_type": "stream",
          "name": "stdout",
          "text": [
            "국어 점수입력:50\n",
            "영어 점수입력:580\n",
            "수학 점수입력:44\n",
            "224.66666666666666\n"
          ]
        }
      ]
    }
  ]
}