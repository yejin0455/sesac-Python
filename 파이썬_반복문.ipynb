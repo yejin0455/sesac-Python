{
  "nbformat": 4,
  "nbformat_minor": 0,
  "metadata": {
    "colab": {
      "name": "파이썬-반복문.ipynb",
      "provenance": [],
      "collapsed_sections": [],
      "authorship_tag": "ABX9TyOKU87RsiTe5Yl0qrRDDxex",
      "include_colab_link": true
    },
    "kernelspec": {
      "name": "python3",
      "display_name": "Python 3"
    },
    "language_info": {
      "name": "python"
    }
  },
  "cells": [
    {
      "cell_type": "markdown",
      "metadata": {
        "id": "view-in-github",
        "colab_type": "text"
      },
      "source": [
        "<a href=\"https://colab.research.google.com/github/yejin0455/sesac-python/blob/main/%ED%8C%8C%EC%9D%B4%EC%8D%AC_%EB%B0%98%EB%B3%B5%EB%AC%B8.ipynb\" target=\"_parent\"><img src=\"https://colab.research.google.com/assets/colab-badge.svg\" alt=\"Open In Colab\"/></a>"
      ]
    },
    {
      "cell_type": "markdown",
      "source": [
        "# 튜플\n",
        "\n",
        "여러 개의 원소로 구성한 자료구조(컬렉션)\n",
        "\n",
        "원소의 값을 변경할 수 없다."
      ],
      "metadata": {
        "id": "IYAYadADmV0p"
      }
    },
    {
      "cell_type": "code",
      "source": [
        "tup1 = (1, )\n",
        "tup2 = (1, 'a')\n",
        "tup3 = (1, 'abc', (2, 3, 'ab'))\n",
        "print(tup1)\n",
        "print(tup2)\n",
        "print(tup3)"
      ],
      "metadata": {
        "colab": {
          "base_uri": "https://localhost:8080/"
        },
        "id": "cWm7PASSmc8U",
        "outputId": "64708f16-e3bc-4fea-ace4-1caa735784d7"
      },
      "execution_count": 1,
      "outputs": [
        {
          "output_type": "stream",
          "name": "stdout",
          "text": [
            "(1,)\n",
            "(1, 'a')\n",
            "(1, 'abc', (2, 3, 'ab'))\n"
          ]
        }
      ]
    },
    {
      "cell_type": "code",
      "source": [
        "tup1 = (1, 2, 3)\n",
        "print(tup1[0])\n",
        "print(tup1[1])\n",
        "print(tup1[2])"
      ],
      "metadata": {
        "colab": {
          "base_uri": "https://localhost:8080/"
        },
        "id": "Jd0hAvrWnBjc",
        "outputId": "55f3a701-ba17-4e2d-f90b-8729de708989"
      },
      "execution_count": 2,
      "outputs": [
        {
          "output_type": "stream",
          "name": "stdout",
          "text": [
            "1\n",
            "2\n",
            "3\n"
          ]
        }
      ]
    },
    {
      "cell_type": "code",
      "source": [
        "#tup1[0] = 7  #튜플은 원소의 값을 변경할 수 없다"
      ],
      "metadata": {
        "id": "x1q2le0bnMEN"
      },
      "execution_count": 7,
      "outputs": []
    },
    {
      "cell_type": "markdown",
      "source": [
        "# 리스트\n",
        "\n",
        "여러 개의 원소로 구성한 자료구조(컬렉션)\n",
        "\n",
        "튜플과 다르게 원소의 값을 변경할 수 있다."
      ],
      "metadata": {
        "id": "PzKz2GlWnVwV"
      }
    },
    {
      "cell_type": "code",
      "source": [
        "ls1 = [1, 2, 3, 4]\n",
        "print(ls1)"
      ],
      "metadata": {
        "colab": {
          "base_uri": "https://localhost:8080/"
        },
        "id": "Q3yD6EiRneBc",
        "outputId": "8fe4a7cb-406a-4623-954a-afb941f4ca71"
      },
      "execution_count": 4,
      "outputs": [
        {
          "output_type": "stream",
          "name": "stdout",
          "text": [
            "[1, 2, 3, 4]\n"
          ]
        }
      ]
    },
    {
      "cell_type": "code",
      "source": [
        "ls2 = [1, 2, 3, 'a', [1,2,3], (1,2,'a')]\n",
        "print(ls2)"
      ],
      "metadata": {
        "colab": {
          "base_uri": "https://localhost:8080/"
        },
        "id": "gCDLRI69nmvR",
        "outputId": "b103c677-c61a-4fbc-c92b-651458f72373"
      },
      "execution_count": 5,
      "outputs": [
        {
          "output_type": "stream",
          "name": "stdout",
          "text": [
            "[1, 2, 3, 'a', [1, 2, 3], (1, 2, 'a')]\n"
          ]
        }
      ]
    },
    {
      "cell_type": "code",
      "source": [
        "ls1 = [1, 2, 3, 4, 5, 'a', 'b']\n",
        "print(ls1[0])\n",
        "print(ls1[1])\n",
        "print(ls1[2])\n",
        "print(ls1[3])\n",
        "print(ls1[4])\n",
        "print(ls1[5])\n",
        "print(ls1[6])\n",
        "#print(ls1[7])  #out of range"
      ],
      "metadata": {
        "colab": {
          "base_uri": "https://localhost:8080/"
        },
        "id": "ohM3R304odK2",
        "outputId": "9e047881-2dce-4603-e282-f481c769fe4c"
      },
      "execution_count": 6,
      "outputs": [
        {
          "output_type": "stream",
          "name": "stdout",
          "text": [
            "1\n",
            "2\n",
            "3\n",
            "4\n",
            "5\n",
            "a\n",
            "b\n"
          ]
        }
      ]
    },
    {
      "cell_type": "code",
      "source": [
        "s = \"abcdefg\"\n",
        "print(s[1:3])"
      ],
      "metadata": {
        "colab": {
          "base_uri": "https://localhost:8080/"
        },
        "id": "EftuEU6mou-f",
        "outputId": "4e655e1e-3a4a-4458-eccd-5eee58d4db29"
      },
      "execution_count": 8,
      "outputs": [
        {
          "output_type": "stream",
          "name": "stdout",
          "text": [
            "bc\n"
          ]
        }
      ]
    },
    {
      "cell_type": "code",
      "source": [
        "ls1 = [1, 2, 3, 'a', 'b']\n",
        "print(ls1[1:3])\n",
        "print(ls1[:3])  #인덱스 0~2\n",
        "print(ls1[1:])  #인덱스 1~4"
      ],
      "metadata": {
        "colab": {
          "base_uri": "https://localhost:8080/"
        },
        "id": "jB3axkEEo4UD",
        "outputId": "fb8f90bf-4689-46c9-8b96-dfaf4db9e225"
      },
      "execution_count": 10,
      "outputs": [
        {
          "output_type": "stream",
          "name": "stdout",
          "text": [
            "[2, 3]\n",
            "[1, 2, 3]\n",
            "[2, 3, 'a', 'b']\n"
          ]
        }
      ]
    },
    {
      "cell_type": "code",
      "source": [
        "tup1 = (1, 2, 3)\n",
        "ls1 = [1, 2, 3]\n",
        "#tup1[0] = 3   #원소의 값을 변경할 수 없다\n",
        "ls1[0] = 3  #리스트는 원소의 값을 변경할 수 있다\n",
        "print(ls1[0])"
      ],
      "metadata": {
        "colab": {
          "base_uri": "https://localhost:8080/"
        },
        "id": "djKLwHJ7pUDb",
        "outputId": "c9cc0ca3-dc89-4231-f6f5-5afa9d4db8c4"
      },
      "execution_count": 11,
      "outputs": [
        {
          "output_type": "stream",
          "name": "stdout",
          "text": [
            "3\n"
          ]
        }
      ]
    },
    {
      "cell_type": "code",
      "source": [
        "ls1 = [1, 2, 3, 4, 5, 6]\n",
        "print(ls1[-1])  #-를 붙이면 뒤에서부터 원소를 찾아옴\n",
        "print(ls1[-2])\n",
        "print(ls1[-3])\n",
        "print(ls1[-4])\n",
        "print(ls1[-5])\n",
        "print(ls1[-6])"
      ],
      "metadata": {
        "colab": {
          "base_uri": "https://localhost:8080/"
        },
        "id": "iKx7r14UpwLb",
        "outputId": "6b13c8da-b4a5-4dc5-ac2a-82d791d9c1e1"
      },
      "execution_count": 12,
      "outputs": [
        {
          "output_type": "stream",
          "name": "stdout",
          "text": [
            "6\n",
            "5\n",
            "4\n",
            "3\n",
            "2\n",
            "1\n"
          ]
        }
      ]
    },
    {
      "cell_type": "code",
      "source": [
        "ls1 = [[90, 80, 45], [88, 95, 64], [99, 64, 89]]\n",
        "print(ls1[0])\n",
        "print(ls1[0][2])"
      ],
      "metadata": {
        "colab": {
          "base_uri": "https://localhost:8080/"
        },
        "id": "XjTjvX_tqBLS",
        "outputId": "7170b09d-f40f-47fe-ffa4-71cce81ad75f"
      },
      "execution_count": 14,
      "outputs": [
        {
          "output_type": "stream",
          "name": "stdout",
          "text": [
            "[90, 80, 45]\n",
            "45\n"
          ]
        }
      ]
    },
    {
      "cell_type": "code",
      "source": [
        "ls1 = [1, 2, 3]\n",
        "ls2 = ['a', 'b', 'c']\n",
        "print(ls1 + ls2)\n",
        "print(ls1)\n",
        "print(ls2)\n",
        "ls3 = ls1 + ls2\n",
        "print(ls3)"
      ],
      "metadata": {
        "colab": {
          "base_uri": "https://localhost:8080/"
        },
        "id": "xQlQphYQrbAx",
        "outputId": "f415d19b-0de8-46fc-8ec1-285ed3d0ba8e"
      },
      "execution_count": 15,
      "outputs": [
        {
          "output_type": "stream",
          "name": "stdout",
          "text": [
            "[1, 2, 3, 'a', 'b', 'c']\n",
            "[1, 2, 3]\n",
            "['a', 'b', 'c']\n",
            "[1, 2, 3, 'a', 'b', 'c']\n"
          ]
        }
      ]
    },
    {
      "cell_type": "code",
      "source": [
        "ls1 = [1, 2, 3]\n",
        "ls2 = ['a', 'b', 'c']\n",
        "print(ls1 * 3)\n",
        "s1 = \"홍길동\"\n",
        "print(s1 * 3)"
      ],
      "metadata": {
        "colab": {
          "base_uri": "https://localhost:8080/"
        },
        "id": "YPlY__r_r9qy",
        "outputId": "5cd37d19-8370-4d36-a749-8a5a18cb8e21"
      },
      "execution_count": 16,
      "outputs": [
        {
          "output_type": "stream",
          "name": "stdout",
          "text": [
            "[1, 2, 3, 1, 2, 3, 1, 2, 3]\n",
            "홍길동홍길동홍길동\n"
          ]
        }
      ]
    },
    {
      "cell_type": "code",
      "source": [
        "print(len('abcdefghijklmnopqrstuvwxyz'))\n",
        "print(len([1,2,3,4,5,6,7,8,9,10,'a','b']))"
      ],
      "metadata": {
        "colab": {
          "base_uri": "https://localhost:8080/"
        },
        "id": "KzocwtHPsOa8",
        "outputId": "57332804-712c-4304-ef82-e7dd5dae2b53"
      },
      "execution_count": 18,
      "outputs": [
        {
          "output_type": "stream",
          "name": "stdout",
          "text": [
            "26\n",
            "12\n"
          ]
        }
      ]
    },
    {
      "cell_type": "code",
      "source": [
        "ls1 = list()  #빈 리스트 생성하기\n",
        "print(ls1)\n",
        "print(type(ls1))"
      ],
      "metadata": {
        "colab": {
          "base_uri": "https://localhost:8080/"
        },
        "id": "nALlnOq8tXC3",
        "outputId": "aa014f81-d487-4b04-cc6c-3671050889d1"
      },
      "execution_count": 19,
      "outputs": [
        {
          "output_type": "stream",
          "name": "stdout",
          "text": [
            "[]\n",
            "<class 'list'>\n"
          ]
        }
      ]
    },
    {
      "cell_type": "code",
      "source": [
        "ls1.append(3)  #현재 리스트의 맨 뒤에 추가됨 (순차)\n",
        "ls1.append(7)\n",
        "ls1.append(2)\n",
        "ls1.append(8)\n",
        "print(ls1)"
      ],
      "metadata": {
        "colab": {
          "base_uri": "https://localhost:8080/"
        },
        "id": "fzpt2jv3tk5G",
        "outputId": "8e7b0f0b-8b8d-48bf-fc8e-63228d44ab97"
      },
      "execution_count": 20,
      "outputs": [
        {
          "output_type": "stream",
          "name": "stdout",
          "text": [
            "[3, 7, 2, 8]\n"
          ]
        }
      ]
    },
    {
      "cell_type": "code",
      "source": [
        "ls = [1, 2, 4, 5, 6, 7]\n",
        "num = 3\n",
        "ls.insert(2, num)  #원하는 자리에 추가 (인덱스번호, 데이터)\n",
        "print(ls)"
      ],
      "metadata": {
        "colab": {
          "base_uri": "https://localhost:8080/"
        },
        "id": "xVFYPgrmt001",
        "outputId": "46113a24-e9f0-491e-88c3-7bde6ede555a"
      },
      "execution_count": 21,
      "outputs": [
        {
          "output_type": "stream",
          "name": "stdout",
          "text": [
            "[1, 2, 3, 4, 5, 6, 7]\n"
          ]
        }
      ]
    },
    {
      "cell_type": "markdown",
      "source": [
        "# 리스트 병합"
      ],
      "metadata": {
        "id": "248zHsdFukE3"
      }
    },
    {
      "cell_type": "code",
      "source": [
        "ls1 = [1, 2, 3]\n",
        "ls2 = ['a', 'b', 'c']\n",
        "print(ls1.extend(ls2))  #반환값은 없음\n",
        "print(ls1)  #ls1의 결과가 바뀐 것을 알 수 있음\n",
        "print(ls2)\n"
      ],
      "metadata": {
        "colab": {
          "base_uri": "https://localhost:8080/"
        },
        "id": "qpCkHLVFum1C",
        "outputId": "cf521b8d-0733-4cd4-8ac6-e90e63da0006"
      },
      "execution_count": 22,
      "outputs": [
        {
          "output_type": "stream",
          "name": "stdout",
          "text": [
            "None\n",
            "[1, 2, 3, 'a', 'b', 'c']\n",
            "['a', 'b', 'c']\n"
          ]
        }
      ]
    }
  ]
}