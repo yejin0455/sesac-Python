{
  "nbformat": 4,
  "nbformat_minor": 0,
  "metadata": {
    "colab": {
      "name": "통계데이터분석-주요 모듈 학습.ipynb",
      "provenance": [],
      "collapsed_sections": [],
      "authorship_tag": "ABX9TyMxCxNh8D1v/jIakdNvezFl",
      "include_colab_link": true
    },
    "kernelspec": {
      "name": "python3",
      "display_name": "Python 3"
    },
    "language_info": {
      "name": "python"
    }
  },
  "cells": [
    {
      "cell_type": "markdown",
      "metadata": {
        "id": "view-in-github",
        "colab_type": "text"
      },
      "source": [
        "<a href=\"https://colab.research.google.com/github/yejin0455/sesac-python/blob/main/%ED%86%B5%EA%B3%84%EB%8D%B0%EC%9D%B4%ED%84%B0%EB%B6%84%EC%84%9D_%EC%A3%BC%EC%9A%94_%EB%AA%A8%EB%93%88_%ED%95%99%EC%8A%B5.ipynb\" target=\"_parent\"><img src=\"https://colab.research.google.com/assets/colab-badge.svg\" alt=\"Open In Colab\"/></a>"
      ]
    },
    {
      "cell_type": "markdown",
      "source": [
        "# Numpy 기본"
      ],
      "metadata": {
        "id": "q4a4NUXRnreH"
      }
    },
    {
      "cell_type": "code",
      "source": [
        "ls = [1, 2, 3, 4, 5]\n",
        "\n",
        "ls_twice = []\n",
        "for e in ls:\n",
        "    ls_twice.append(e*2)\n",
        "ls_twice"
      ],
      "metadata": {
        "colab": {
          "base_uri": "https://localhost:8080/"
        },
        "id": "jQ_YWyZNnuS5",
        "outputId": "e21de9e3-288e-435b-9817-cedd88cebdf9"
      },
      "execution_count": 1,
      "outputs": [
        {
          "output_type": "execute_result",
          "data": {
            "text/plain": [
              "[2, 4, 6, 8, 10]"
            ]
          },
          "metadata": {},
          "execution_count": 1
        }
      ]
    },
    {
      "cell_type": "code",
      "source": [
        "import numpy as np\n",
        "arr = np.array(ls)\n",
        "arr_twice = arr * 2\n",
        "arr_twice"
      ],
      "metadata": {
        "colab": {
          "base_uri": "https://localhost:8080/"
        },
        "id": "jM2VbpC1n6Ye",
        "outputId": "a0ceb069-6974-418b-bfe6-e6b75d3d8e05"
      },
      "execution_count": 2,
      "outputs": [
        {
          "output_type": "execute_result",
          "data": {
            "text/plain": [
              "array([ 2,  4,  6,  8, 10])"
            ]
          },
          "metadata": {},
          "execution_count": 2
        }
      ]
    },
    {
      "cell_type": "markdown",
      "source": [
        "강한 wrapping"
      ],
      "metadata": {
        "id": "6KfpE_TIoiIK"
      }
    },
    {
      "cell_type": "code",
      "source": [
        "arr = np.arange(10000)\n",
        "arr"
      ],
      "metadata": {
        "colab": {
          "base_uri": "https://localhost:8080/"
        },
        "id": "ZSF6hKLKoXiR",
        "outputId": "ab32c90e-4317-42b5-ed2e-8f92fcbb12a9"
      },
      "execution_count": 3,
      "outputs": [
        {
          "output_type": "execute_result",
          "data": {
            "text/plain": [
              "array([   0,    1,    2, ..., 9997, 9998, 9999])"
            ]
          },
          "metadata": {},
          "execution_count": 3
        }
      ]
    },
    {
      "cell_type": "code",
      "source": [
        "arr = np.array(range(10000))\n",
        "arr"
      ],
      "metadata": {
        "colab": {
          "base_uri": "https://localhost:8080/"
        },
        "id": "GVdyuFyJocTF",
        "outputId": "e454fb4c-e16b-4a91-be60-eccb76f5e1a4"
      },
      "execution_count": 4,
      "outputs": [
        {
          "output_type": "execute_result",
          "data": {
            "text/plain": [
              "array([   0,    1,    2, ..., 9997, 9998, 9999])"
            ]
          },
          "metadata": {},
          "execution_count": 4
        }
      ]
    },
    {
      "cell_type": "markdown",
      "source": [
        "wrapping 이란?"
      ],
      "metadata": {
        "id": "PWnuTyMMooEi"
      }
    },
    {
      "cell_type": "code",
      "source": [
        "def madd(a, b):\n",
        "    return a + b"
      ],
      "metadata": {
        "id": "BULS3D4ForSg"
      },
      "execution_count": 5,
      "outputs": []
    },
    {
      "cell_type": "code",
      "source": [
        "def msum(ls):\n",
        "    s = 0\n",
        "    for e in ls:\n",
        "        s = madd(s, e)\n",
        "    return s"
      ],
      "metadata": {
        "id": "HiE_EFwWovjR"
      },
      "execution_count": 6,
      "outputs": []
    },
    {
      "cell_type": "code",
      "source": [
        "def count(ls):\n",
        "    cnt = 0\n",
        "    for _ in ls:\n",
        "        cnt += 1\n",
        "    return cnt"
      ],
      "metadata": {
        "id": "g2mwvKP7o3Vo"
      },
      "execution_count": 7,
      "outputs": []
    },
    {
      "cell_type": "code",
      "source": [
        "ls = [1, 2, 3, 8, 4]\n",
        "s = msum(ls)\n",
        "l = count(ls)\n",
        "print(f'평균:{s/l:.2f}')"
      ],
      "metadata": {
        "colab": {
          "base_uri": "https://localhost:8080/"
        },
        "id": "84fn6tZIpB3c",
        "outputId": "9e4692a3-660f-4b24-cafa-0465ac10ee32"
      },
      "execution_count": 8,
      "outputs": [
        {
          "output_type": "stream",
          "name": "stdout",
          "text": [
            "평균:3.60\n"
          ]
        }
      ]
    },
    {
      "cell_type": "code",
      "source": [
        "def average(ls):\n",
        "    return msum(ls) / count(ls)"
      ],
      "metadata": {
        "id": "IyImV44Do9lo"
      },
      "execution_count": 9,
      "outputs": []
    },
    {
      "cell_type": "code",
      "source": [
        "print(f'평균:{average(ls):.2f}')"
      ],
      "metadata": {
        "colab": {
          "base_uri": "https://localhost:8080/"
        },
        "id": "rTsiLewrpRgg",
        "outputId": "d14c6894-0978-4894-c782-bf58501421fb"
      },
      "execution_count": 10,
      "outputs": [
        {
          "output_type": "stream",
          "name": "stdout",
          "text": [
            "평균:3.60\n"
          ]
        }
      ]
    },
    {
      "cell_type": "markdown",
      "source": [
        "# tensor"
      ],
      "metadata": {
        "id": "QhJ607JVqH6N"
      }
    },
    {
      "cell_type": "code",
      "source": [
        "data = np.random.rand(5, 2, 3)\n",
        "data"
      ],
      "metadata": {
        "colab": {
          "base_uri": "https://localhost:8080/"
        },
        "id": "LAvAphz_qLvD",
        "outputId": "d048f60f-e145-462e-b295-0e4574072b9f"
      },
      "execution_count": 11,
      "outputs": [
        {
          "output_type": "execute_result",
          "data": {
            "text/plain": [
              "array([[[0.81891167, 0.94956035, 0.11545752],\n",
              "        [0.51528123, 0.5790768 , 0.89654594]],\n",
              "\n",
              "       [[0.44987701, 0.9651807 , 0.56467298],\n",
              "        [0.57164791, 0.29557038, 0.53668339]],\n",
              "\n",
              "       [[0.28740372, 0.34151131, 0.21062314],\n",
              "        [0.81310661, 0.58157363, 0.40554988]],\n",
              "\n",
              "       [[0.09002451, 0.5992352 , 0.53906512],\n",
              "        [0.66224716, 0.08382112, 0.38656492]],\n",
              "\n",
              "       [[0.16327007, 0.56084315, 0.59310274],\n",
              "        [0.39222917, 0.03664007, 0.89823658]]])"
            ]
          },
          "metadata": {},
          "execution_count": 11
        }
      ]
    },
    {
      "cell_type": "code",
      "source": [
        "data.shape"
      ],
      "metadata": {
        "colab": {
          "base_uri": "https://localhost:8080/"
        },
        "id": "8o54DI75qZDn",
        "outputId": "67720f6b-bb42-48b8-bf0c-d42075d2c0bd"
      },
      "execution_count": 12,
      "outputs": [
        {
          "output_type": "execute_result",
          "data": {
            "text/plain": [
              "(5, 2, 3)"
            ]
          },
          "metadata": {},
          "execution_count": 12
        }
      ]
    },
    {
      "cell_type": "code",
      "source": [
        "data2 = data.reshape(6, -1)\n",
        "data2\n",
        "\n",
        "#data2 = data.reshape(7, -1)  #요구하는 구조로 정확하게 구성하지 못함\n",
        "#data2"
      ],
      "metadata": {
        "colab": {
          "base_uri": "https://localhost:8080/"
        },
        "id": "Ns8OjwW3qaPo",
        "outputId": "3abb4330-cc0f-45f9-e578-cf21290d0076"
      },
      "execution_count": 13,
      "outputs": [
        {
          "output_type": "execute_result",
          "data": {
            "text/plain": [
              "array([[0.81891167, 0.94956035, 0.11545752, 0.51528123, 0.5790768 ],\n",
              "       [0.89654594, 0.44987701, 0.9651807 , 0.56467298, 0.57164791],\n",
              "       [0.29557038, 0.53668339, 0.28740372, 0.34151131, 0.21062314],\n",
              "       [0.81310661, 0.58157363, 0.40554988, 0.09002451, 0.5992352 ],\n",
              "       [0.53906512, 0.66224716, 0.08382112, 0.38656492, 0.16327007],\n",
              "       [0.56084315, 0.59310274, 0.39222917, 0.03664007, 0.89823658]])"
            ]
          },
          "metadata": {},
          "execution_count": 13
        }
      ]
    },
    {
      "cell_type": "code",
      "source": [
        "data2.shape"
      ],
      "metadata": {
        "colab": {
          "base_uri": "https://localhost:8080/"
        },
        "id": "FS-0wYHiqfOw",
        "outputId": "ecfac879-8bdb-4249-aeed-0aeda562de69"
      },
      "execution_count": 14,
      "outputs": [
        {
          "output_type": "execute_result",
          "data": {
            "text/plain": [
              "(6, 5)"
            ]
          },
          "metadata": {},
          "execution_count": 14
        }
      ]
    },
    {
      "cell_type": "code",
      "source": [
        "#파이썬의 리스트는 tensor 자료가 아닐 수 있다\n",
        "zagged_arr = [[1, 2, 3], [1, 2], [1, 2, 3, 4, 5]]\n",
        "zagged_arr"
      ],
      "metadata": {
        "colab": {
          "base_uri": "https://localhost:8080/"
        },
        "id": "3iw0JptPqh-w",
        "outputId": "d93a99e0-4cea-4294-91d1-8a0c92b29f5e"
      },
      "execution_count": 15,
      "outputs": [
        {
          "output_type": "execute_result",
          "data": {
            "text/plain": [
              "[[1, 2, 3], [1, 2], [1, 2, 3, 4, 5]]"
            ]
          },
          "metadata": {},
          "execution_count": 15
        }
      ]
    },
    {
      "cell_type": "code",
      "source": [
        "data2.ndim"
      ],
      "metadata": {
        "colab": {
          "base_uri": "https://localhost:8080/"
        },
        "id": "CUTLJ61nsWfC",
        "outputId": "af0e1cb6-da61-4ed8-9757-336a0d622392"
      },
      "execution_count": 19,
      "outputs": [
        {
          "output_type": "execute_result",
          "data": {
            "text/plain": [
              "2"
            ]
          },
          "metadata": {},
          "execution_count": 19
        }
      ]
    },
    {
      "cell_type": "markdown",
      "source": [
        "# 행렬 계산"
      ],
      "metadata": {
        "id": "Hp8TMcNiribT"
      }
    },
    {
      "cell_type": "code",
      "source": [
        "arr1 = np.array([[1, 2], [3, 4]])\n",
        "arr2 = np.array([[4, 6], [3, 7]])\n",
        "\n",
        "arr3 = arr1 + arr2\n",
        "arr3"
      ],
      "metadata": {
        "colab": {
          "base_uri": "https://localhost:8080/"
        },
        "id": "WqHby61rrQ5I",
        "outputId": "65db1d6a-b02b-45cc-e1cf-21f1c1deb2ae"
      },
      "execution_count": 16,
      "outputs": [
        {
          "output_type": "execute_result",
          "data": {
            "text/plain": [
              "array([[ 5,  8],\n",
              "       [ 6, 11]])"
            ]
          },
          "metadata": {},
          "execution_count": 16
        }
      ]
    },
    {
      "cell_type": "code",
      "source": [
        "ls1 = [[1, 2], [3, 4]]\n",
        "ls2 = [[4, 6], [3, 7]]\n",
        "\n",
        "ls3 = ls1 + ls2\n",
        "ls3"
      ],
      "metadata": {
        "colab": {
          "base_uri": "https://localhost:8080/"
        },
        "id": "DmSlTW6VrzoQ",
        "outputId": "b9a7b33a-608b-46c0-ac99-7520da9a8f62"
      },
      "execution_count": 18,
      "outputs": [
        {
          "output_type": "execute_result",
          "data": {
            "text/plain": [
              "[[1, 2], [3, 4], [4, 6], [3, 7]]"
            ]
          },
          "metadata": {},
          "execution_count": 18
        }
      ]
    },
    {
      "cell_type": "markdown",
      "source": [
        "# 원소 형식"
      ],
      "metadata": {
        "id": "CK3BSBYWsxSP"
      }
    },
    {
      "cell_type": "code",
      "source": [
        "arr1 = np.array([1, 2, 3, 4, 5])\n",
        "arr1.dtype"
      ],
      "metadata": {
        "colab": {
          "base_uri": "https://localhost:8080/"
        },
        "id": "XsPXD6Vxsy_B",
        "outputId": "75de4748-aa34-4710-fdd8-b5ad2e391979"
      },
      "execution_count": 25,
      "outputs": [
        {
          "output_type": "execute_result",
          "data": {
            "text/plain": [
              "dtype('int64')"
            ]
          },
          "metadata": {},
          "execution_count": 25
        }
      ]
    },
    {
      "cell_type": "code",
      "source": [
        "type(arr1[0])"
      ],
      "metadata": {
        "colab": {
          "base_uri": "https://localhost:8080/"
        },
        "id": "EkAX4Un2tUoZ",
        "outputId": "913ba539-9c3e-4b36-8411-96c8f31541d6"
      },
      "execution_count": 26,
      "outputs": [
        {
          "output_type": "execute_result",
          "data": {
            "text/plain": [
              "numpy.int64"
            ]
          },
          "metadata": {},
          "execution_count": 26
        }
      ]
    },
    {
      "cell_type": "code",
      "source": [
        "arr2 = np.array([1, 2, 3, 4, 5.])\n",
        "arr2.dtype"
      ],
      "metadata": {
        "colab": {
          "base_uri": "https://localhost:8080/"
        },
        "id": "yMdgx-o-s4Y4",
        "outputId": "2acad241-047e-495c-e8af-4bfab088bd39"
      },
      "execution_count": 27,
      "outputs": [
        {
          "output_type": "execute_result",
          "data": {
            "text/plain": [
              "dtype('float64')"
            ]
          },
          "metadata": {},
          "execution_count": 27
        }
      ]
    },
    {
      "cell_type": "code",
      "source": [
        "type(arr2[0])  #numpy에 들어있는 원소의 형식은 전부 같다"
      ],
      "metadata": {
        "colab": {
          "base_uri": "https://localhost:8080/"
        },
        "id": "j4iHGKDutRER",
        "outputId": "0617a8d4-4ba2-4cb7-e50e-d4265515fd39"
      },
      "execution_count": 28,
      "outputs": [
        {
          "output_type": "execute_result",
          "data": {
            "text/plain": [
              "numpy.float64"
            ]
          },
          "metadata": {},
          "execution_count": 28
        }
      ]
    },
    {
      "cell_type": "code",
      "source": [
        "arr3 = np.array([1, 2, 'a', 4, 5])\n",
        "arr3.dtype"
      ],
      "metadata": {
        "colab": {
          "base_uri": "https://localhost:8080/"
        },
        "id": "WFtSn_eps84s",
        "outputId": "f5207f6a-eb95-4e83-b8a4-96b6ee96f43d"
      },
      "execution_count": 29,
      "outputs": [
        {
          "output_type": "execute_result",
          "data": {
            "text/plain": [
              "dtype('<U21')"
            ]
          },
          "metadata": {},
          "execution_count": 29
        }
      ]
    },
    {
      "cell_type": "code",
      "source": [
        "type(arr3[0])"
      ],
      "metadata": {
        "colab": {
          "base_uri": "https://localhost:8080/"
        },
        "id": "rKaHvRb1tqs4",
        "outputId": "7d522ad6-2bfb-4163-b5d9-3dce1b318615"
      },
      "execution_count": 30,
      "outputs": [
        {
          "output_type": "execute_result",
          "data": {
            "text/plain": [
              "numpy.str_"
            ]
          },
          "metadata": {},
          "execution_count": 30
        }
      ]
    },
    {
      "cell_type": "code",
      "source": [
        "arr3[0]"
      ],
      "metadata": {
        "colab": {
          "base_uri": "https://localhost:8080/",
          "height": 35
        },
        "id": "l6TcBaPfuEXz",
        "outputId": "62ba8f7c-8351-4b9b-956f-b7d46575e9d4"
      },
      "execution_count": 31,
      "outputs": [
        {
          "output_type": "execute_result",
          "data": {
            "application/vnd.google.colaboratory.intrinsic+json": {
              "type": "string"
            },
            "text/plain": [
              "'1'"
            ]
          },
          "metadata": {},
          "execution_count": 31
        }
      ]
    },
    {
      "cell_type": "code",
      "source": [
        "ls = [1, 2, 3, 4, 5.]  #리스트는 원소가 서로 다른 타입이어도 저장된다\n",
        "type(ls[0]), type(ls[4])"
      ],
      "metadata": {
        "colab": {
          "base_uri": "https://localhost:8080/"
        },
        "id": "dwo6kPKDuF7w",
        "outputId": "27262a7d-50ed-4ccd-c072-7dce959b8e14"
      },
      "execution_count": 32,
      "outputs": [
        {
          "output_type": "execute_result",
          "data": {
            "text/plain": [
              "(int, float)"
            ]
          },
          "metadata": {},
          "execution_count": 32
        }
      ]
    },
    {
      "cell_type": "markdown",
      "source": [
        "# 형식 변환"
      ],
      "metadata": {
        "id": "hMmEBsKTuf9f"
      }
    },
    {
      "cell_type": "code",
      "source": [
        "arr4 = np.array(['1', '2', '3', '4'])\n",
        "for e in arr4:\n",
        "    print(e, end=',')\n",
        "print()"
      ],
      "metadata": {
        "colab": {
          "base_uri": "https://localhost:8080/"
        },
        "id": "mN0ryu8uuinY",
        "outputId": "9e15fe01-647b-4d20-bb60-7ba7ee4128c5"
      },
      "execution_count": 33,
      "outputs": [
        {
          "output_type": "stream",
          "name": "stdout",
          "text": [
            "1,2,3,4,\n"
          ]
        }
      ]
    },
    {
      "cell_type": "code",
      "source": [
        "s = arr4[0]\n",
        "for e in range(1, len(arr4)):\n",
        "    s += arr4[e]\n",
        "print(s)"
      ],
      "metadata": {
        "colab": {
          "base_uri": "https://localhost:8080/"
        },
        "id": "TpScir94uuHR",
        "outputId": "a30ec92f-c6fd-4922-8078-97bcb3f0e04c"
      },
      "execution_count": 34,
      "outputs": [
        {
          "output_type": "stream",
          "name": "stdout",
          "text": [
            "1234\n"
          ]
        }
      ]
    },
    {
      "cell_type": "code",
      "source": [
        "arr5 = arr4.astype(int)\n",
        "print(arr5.sum())"
      ],
      "metadata": {
        "colab": {
          "base_uri": "https://localhost:8080/"
        },
        "id": "7bLccOikvrhy",
        "outputId": "911c2255-cb64-4aab-fa45-baa00e3efd4c"
      },
      "execution_count": 35,
      "outputs": [
        {
          "output_type": "stream",
          "name": "stdout",
          "text": [
            "10\n"
          ]
        }
      ]
    },
    {
      "cell_type": "markdown",
      "source": [
        "# 산술 연산, 필터링"
      ],
      "metadata": {
        "id": "yLQltpg5zQKJ"
      }
    },
    {
      "cell_type": "code",
      "source": [
        "arr = np.array([[1, 2], [3, 4]])\n",
        "sq_arr = arr * arr\n",
        "sq_arr"
      ],
      "metadata": {
        "colab": {
          "base_uri": "https://localhost:8080/"
        },
        "id": "UErgKD2-zStZ",
        "outputId": "80020196-841f-4139-a912-0df31324e2b0"
      },
      "execution_count": 36,
      "outputs": [
        {
          "output_type": "execute_result",
          "data": {
            "text/plain": [
              "array([[ 1,  4],\n",
              "       [ 9, 16]])"
            ]
          },
          "metadata": {},
          "execution_count": 36
        }
      ]
    },
    {
      "cell_type": "code",
      "source": [
        "d5_arr = arr/5\n",
        "d5_arr"
      ],
      "metadata": {
        "colab": {
          "base_uri": "https://localhost:8080/"
        },
        "id": "sWcguydOzlwF",
        "outputId": "e1583cdc-7938-4f0a-c754-bc2f30cc6b29"
      },
      "execution_count": 37,
      "outputs": [
        {
          "output_type": "execute_result",
          "data": {
            "text/plain": [
              "array([[0.2, 0.4],\n",
              "       [0.6, 0.8]])"
            ]
          },
          "metadata": {},
          "execution_count": 37
        }
      ]
    },
    {
      "cell_type": "code",
      "source": [
        "arr = np.array([-1, 2, 3, 4, -4, 9])\n",
        "filter = arr >= 0\n",
        "print(filter)\n",
        "darr = arr[filter]\n",
        "print(darr)"
      ],
      "metadata": {
        "colab": {
          "base_uri": "https://localhost:8080/"
        },
        "id": "WeFWIb59zo9S",
        "outputId": "236edd81-f788-407f-d4b4-9c89e77ca0b8"
      },
      "execution_count": 38,
      "outputs": [
        {
          "output_type": "stream",
          "name": "stdout",
          "text": [
            "[False  True  True  True False  True]\n",
            "[2 3 4 9]\n"
          ]
        }
      ]
    },
    {
      "cell_type": "code",
      "source": [
        "arr = np.array([-1, 2, 3, 4, -4, 9])\n",
        "filter = arr%2 == 0\n",
        "print(filter)\n",
        "darr = arr[filter]\n",
        "print(darr)"
      ],
      "metadata": {
        "colab": {
          "base_uri": "https://localhost:8080/"
        },
        "id": "WAt_FKdC0Qqv",
        "outputId": "79545df7-7cbd-4d6e-e748-f43721178562"
      },
      "execution_count": 39,
      "outputs": [
        {
          "output_type": "stream",
          "name": "stdout",
          "text": [
            "[False  True False  True  True False]\n",
            "[ 2  4 -4]\n"
          ]
        }
      ]
    },
    {
      "cell_type": "code",
      "source": [
        "arr = np.array([[1, 2, 3], [4, 5, 6]])\n",
        "arr.shape"
      ],
      "metadata": {
        "colab": {
          "base_uri": "https://localhost:8080/"
        },
        "id": "5_4Vmdh10qFV",
        "outputId": "826c4205-7751-41dc-ec8a-b6e3687cf16d"
      },
      "execution_count": 40,
      "outputs": [
        {
          "output_type": "execute_result",
          "data": {
            "text/plain": [
              "(2, 3)"
            ]
          },
          "metadata": {},
          "execution_count": 40
        }
      ]
    },
    {
      "cell_type": "code",
      "source": [
        "for i in range(2):\n",
        "    for j in range(3):\n",
        "        print(arr[i, j], end=',')\n",
        "    print()"
      ],
      "metadata": {
        "colab": {
          "base_uri": "https://localhost:8080/"
        },
        "id": "wy4O5dcz0unQ",
        "outputId": "40bb357c-b0ef-4d38-9caf-7191e7f493f1"
      },
      "execution_count": 41,
      "outputs": [
        {
          "output_type": "stream",
          "name": "stdout",
          "text": [
            "1,2,3,\n",
            "4,5,6,\n"
          ]
        }
      ]
    },
    {
      "cell_type": "code",
      "source": [
        "print(arr[0, 1])\n",
        "print(arr[0][1])"
      ],
      "metadata": {
        "colab": {
          "base_uri": "https://localhost:8080/"
        },
        "id": "cYKJbbJ203E3",
        "outputId": "f6c78afb-214a-435f-9e0f-6b7584a72e0e"
      },
      "execution_count": 42,
      "outputs": [
        {
          "output_type": "stream",
          "name": "stdout",
          "text": [
            "2\n",
            "2\n"
          ]
        }
      ]
    },
    {
      "cell_type": "code",
      "source": [
        "arr = np.arange(100)\n",
        "arr"
      ],
      "metadata": {
        "colab": {
          "base_uri": "https://localhost:8080/"
        },
        "id": "aly4vl6L1nb1",
        "outputId": "496ed7a7-9063-48f2-f424-0997bf6fd425"
      },
      "execution_count": 43,
      "outputs": [
        {
          "output_type": "execute_result",
          "data": {
            "text/plain": [
              "array([ 0,  1,  2,  3,  4,  5,  6,  7,  8,  9, 10, 11, 12, 13, 14, 15, 16,\n",
              "       17, 18, 19, 20, 21, 22, 23, 24, 25, 26, 27, 28, 29, 30, 31, 32, 33,\n",
              "       34, 35, 36, 37, 38, 39, 40, 41, 42, 43, 44, 45, 46, 47, 48, 49, 50,\n",
              "       51, 52, 53, 54, 55, 56, 57, 58, 59, 60, 61, 62, 63, 64, 65, 66, 67,\n",
              "       68, 69, 70, 71, 72, 73, 74, 75, 76, 77, 78, 79, 80, 81, 82, 83, 84,\n",
              "       85, 86, 87, 88, 89, 90, 91, 92, 93, 94, 95, 96, 97, 98, 99])"
            ]
          },
          "metadata": {},
          "execution_count": 43
        }
      ]
    },
    {
      "cell_type": "code",
      "source": [
        "arr[3:10]  #arr[3]~arr[10-1]"
      ],
      "metadata": {
        "colab": {
          "base_uri": "https://localhost:8080/"
        },
        "id": "OxKuB1Pe1qQY",
        "outputId": "e9f23e6c-1a89-489e-9879-a37e4ad461ab"
      },
      "execution_count": 44,
      "outputs": [
        {
          "output_type": "execute_result",
          "data": {
            "text/plain": [
              "array([3, 4, 5, 6, 7, 8, 9])"
            ]
          },
          "metadata": {},
          "execution_count": 44
        }
      ]
    },
    {
      "cell_type": "code",
      "source": [
        "arr[:5]"
      ],
      "metadata": {
        "colab": {
          "base_uri": "https://localhost:8080/"
        },
        "id": "MLZP3_Ao1u4Y",
        "outputId": "30c708f5-3024-4612-aeff-e90c45514bff"
      },
      "execution_count": 45,
      "outputs": [
        {
          "output_type": "execute_result",
          "data": {
            "text/plain": [
              "array([0, 1, 2, 3, 4])"
            ]
          },
          "metadata": {},
          "execution_count": 45
        }
      ]
    },
    {
      "cell_type": "code",
      "source": [
        "arr[95:]"
      ],
      "metadata": {
        "colab": {
          "base_uri": "https://localhost:8080/"
        },
        "id": "Pfq4bfns1wgw",
        "outputId": "47f0bdb2-aa7a-4678-d876-c84b5d099ac6"
      },
      "execution_count": 46,
      "outputs": [
        {
          "output_type": "execute_result",
          "data": {
            "text/plain": [
              "array([95, 96, 97, 98, 99])"
            ]
          },
          "metadata": {},
          "execution_count": 46
        }
      ]
    },
    {
      "cell_type": "code",
      "source": [
        "arr[-1]"
      ],
      "metadata": {
        "colab": {
          "base_uri": "https://localhost:8080/"
        },
        "id": "zzsK0S-X1yqY",
        "outputId": "9195a3e4-5e47-40b5-f079-0cd23cd37152"
      },
      "execution_count": 47,
      "outputs": [
        {
          "output_type": "execute_result",
          "data": {
            "text/plain": [
              "99"
            ]
          },
          "metadata": {},
          "execution_count": 47
        }
      ]
    },
    {
      "cell_type": "code",
      "source": [
        "arr[90:-3]  #뒤에서 3개를 제외하고"
      ],
      "metadata": {
        "colab": {
          "base_uri": "https://localhost:8080/"
        },
        "id": "7xdD0yvK1zfX",
        "outputId": "7c0b5da5-3d1c-474f-829a-24b9be9d4d89"
      },
      "execution_count": 48,
      "outputs": [
        {
          "output_type": "execute_result",
          "data": {
            "text/plain": [
              "array([90, 91, 92, 93, 94, 95, 96])"
            ]
          },
          "metadata": {},
          "execution_count": 48
        }
      ]
    },
    {
      "cell_type": "code",
      "source": [
        "pre80 = arr[:len(arr)*4//5]\n",
        "pre80"
      ],
      "metadata": {
        "colab": {
          "base_uri": "https://localhost:8080/"
        },
        "id": "yZaalguD10xw",
        "outputId": "767b9621-389c-44d0-b2fc-5dbc5cde9822"
      },
      "execution_count": 49,
      "outputs": [
        {
          "output_type": "execute_result",
          "data": {
            "text/plain": [
              "array([ 0,  1,  2,  3,  4,  5,  6,  7,  8,  9, 10, 11, 12, 13, 14, 15, 16,\n",
              "       17, 18, 19, 20, 21, 22, 23, 24, 25, 26, 27, 28, 29, 30, 31, 32, 33,\n",
              "       34, 35, 36, 37, 38, 39, 40, 41, 42, 43, 44, 45, 46, 47, 48, 49, 50,\n",
              "       51, 52, 53, 54, 55, 56, 57, 58, 59, 60, 61, 62, 63, 64, 65, 66, 67,\n",
              "       68, 69, 70, 71, 72, 73, 74, 75, 76, 77, 78, 79])"
            ]
          },
          "metadata": {},
          "execution_count": 49
        }
      ]
    },
    {
      "cell_type": "code",
      "source": [
        "post20 = arr[len(arr)*4//5:]\n",
        "post20"
      ],
      "metadata": {
        "colab": {
          "base_uri": "https://localhost:8080/"
        },
        "id": "GCzwQ24W2S4w",
        "outputId": "a323905a-f070-4628-c440-2add3c1a9e82"
      },
      "execution_count": 50,
      "outputs": [
        {
          "output_type": "execute_result",
          "data": {
            "text/plain": [
              "array([80, 81, 82, 83, 84, 85, 86, 87, 88, 89, 90, 91, 92, 93, 94, 95, 96,\n",
              "       97, 98, 99])"
            ]
          },
          "metadata": {},
          "execution_count": 50
        }
      ]
    },
    {
      "cell_type": "markdown",
      "source": [
        "# 필터링 강화"
      ],
      "metadata": {
        "id": "PPbS32SP20hQ"
      }
    },
    {
      "cell_type": "code",
      "source": [
        "names = np.array(['Bob', 'Joe', 'Will', 'Bob', 'Will', 'Joe', 'Joe'])\n",
        "scores = np.array([90, 80, 74, 85, 78, 88, 85])\n",
        "filter = names == 'Bob'\n",
        "scores[filter]"
      ],
      "metadata": {
        "colab": {
          "base_uri": "https://localhost:8080/"
        },
        "id": "8-M6Y88k22ir",
        "outputId": "96ed0aa8-2e9c-4e9c-9b84-1c71aff59d96"
      },
      "execution_count": 53,
      "outputs": [
        {
          "output_type": "execute_result",
          "data": {
            "text/plain": [
              "array([90, 85])"
            ]
          },
          "metadata": {},
          "execution_count": 53
        }
      ]
    },
    {
      "cell_type": "code",
      "source": [
        "texts = np.array([\"Hello, How are you?\", \"Where r u from?\", \"RD GG\", \"ready Go Go\"])\n",
        "filter = [True if \"r\" in text else False for text in texts]\n",
        "filter\n",
        "texts[filter]"
      ],
      "metadata": {
        "colab": {
          "base_uri": "https://localhost:8080/"
        },
        "id": "tOmtwt6g4GrJ",
        "outputId": "2d5e7ad6-3d0f-46c6-e061-5430aee90cd6"
      },
      "execution_count": 54,
      "outputs": [
        {
          "output_type": "execute_result",
          "data": {
            "text/plain": [
              "array(['Hello, How are you?', 'Where r u from?', 'ready Go Go'],\n",
              "      dtype='<U19')"
            ]
          },
          "metadata": {},
          "execution_count": 54
        }
      ]
    },
    {
      "cell_type": "markdown",
      "source": [
        "컴프리핸션"
      ],
      "metadata": {
        "id": "kNTLWkrA5UQJ"
      }
    },
    {
      "cell_type": "code",
      "source": [
        "data = [i*i for i in range(10)]\n",
        "print(data)"
      ],
      "metadata": {
        "colab": {
          "base_uri": "https://localhost:8080/"
        },
        "id": "IEbKJ6Y45XRS",
        "outputId": "0b130854-8dfb-4c60-b55d-82329cd57e5d"
      },
      "execution_count": 55,
      "outputs": [
        {
          "output_type": "stream",
          "name": "stdout",
          "text": [
            "[0, 1, 4, 9, 16, 25, 36, 49, 64, 81]\n"
          ]
        }
      ]
    },
    {
      "cell_type": "code",
      "source": [
        "data2 = [i*i for i in range(10) if i%2==0]\n",
        "print(data2)"
      ],
      "metadata": {
        "colab": {
          "base_uri": "https://localhost:8080/"
        },
        "id": "Mezm_qeB5cZn",
        "outputId": "5e84ce71-e37b-4e32-d336-9b5e4a430ae2"
      },
      "execution_count": 56,
      "outputs": [
        {
          "output_type": "stream",
          "name": "stdout",
          "text": [
            "[0, 4, 16, 36, 64]\n"
          ]
        }
      ]
    },
    {
      "cell_type": "code",
      "source": [
        "data3 = [i*i if i%2==0 else -(i*i) for i in range(10)]\n",
        "print(data3)"
      ],
      "metadata": {
        "colab": {
          "base_uri": "https://localhost:8080/"
        },
        "id": "lRtHVgvv5kAA",
        "outputId": "f4ff3991-ea72-401d-c79f-00c4107a9538"
      },
      "execution_count": 57,
      "outputs": [
        {
          "output_type": "stream",
          "name": "stdout",
          "text": [
            "[0, -1, 4, -9, 16, -25, 36, -49, 64, -81]\n"
          ]
        }
      ]
    }
  ]
}