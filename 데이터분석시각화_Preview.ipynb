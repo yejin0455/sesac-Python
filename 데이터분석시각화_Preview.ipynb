{
  "nbformat": 4,
  "nbformat_minor": 0,
  "metadata": {
    "colab": {
      "name": "데이터분석시각화-Preview.ipynb",
      "provenance": [],
      "collapsed_sections": [],
      "authorship_tag": "ABX9TyNWWngfyuw49P4Z+aeX4yTR",
      "include_colab_link": true
    },
    "kernelspec": {
      "name": "python3",
      "display_name": "Python 3"
    },
    "language_info": {
      "name": "python"
    }
  },
  "cells": [
    {
      "cell_type": "markdown",
      "metadata": {
        "id": "view-in-github",
        "colab_type": "text"
      },
      "source": [
        "<a href=\"https://colab.research.google.com/github/yejin0455/sesac-python/blob/main/%EB%8D%B0%EC%9D%B4%ED%84%B0%EB%B6%84%EC%84%9D%EC%8B%9C%EA%B0%81%ED%99%94_Preview.ipynb\" target=\"_parent\"><img src=\"https://colab.research.google.com/assets/colab-badge.svg\" alt=\"Open In Colab\"/></a>"
      ]
    },
    {
      "cell_type": "markdown",
      "source": [
        "# numpy 소개"
      ],
      "metadata": {
        "id": "jSLVyRUYV45E"
      }
    },
    {
      "cell_type": "code",
      "source": [
        "l1 = [1, 2, 'a', False]"
      ],
      "metadata": {
        "id": "BI7Pb05TWyrY"
      },
      "execution_count": 8,
      "outputs": []
    },
    {
      "cell_type": "code",
      "source": [
        "import numpy as np"
      ],
      "metadata": {
        "id": "gSCJclXPW3Ne"
      },
      "execution_count": 5,
      "outputs": []
    },
    {
      "cell_type": "code",
      "source": [
        "na = np.array([1, 2, 3, 4, 5])\n",
        "np.sum(na), np.min(na), np.max(na), np.var(na), np.std(na)"
      ],
      "metadata": {
        "colab": {
          "base_uri": "https://localhost:8080/"
        },
        "id": "EcxKyP8qXTBO",
        "outputId": "afd48223-a676-4d85-c1e3-5dc5bd79124c"
      },
      "execution_count": 10,
      "outputs": [
        {
          "output_type": "execute_result",
          "data": {
            "text/plain": [
              "(15, 1, 5, 2.0, 1.4142135623730951)"
            ]
          },
          "metadata": {},
          "execution_count": 10
        }
      ]
    },
    {
      "cell_type": "code",
      "source": [
        "l2 = [[1, 2, 3], [2, 3], [4, 5, 6, 7]]"
      ],
      "metadata": {
        "id": "wxwZG4I4Xr42"
      },
      "execution_count": 14,
      "outputs": []
    },
    {
      "cell_type": "code",
      "source": [
        "nb = np.array([1, 2, 3, 4, 5, 6, 7, 8 ,9, 10, 11, 12,])  #1차원\n",
        "print(\"구조:\", nb.shape)\n",
        "print(nb)\n",
        "nb = np.array([[1, 2, 3, 4, 5, 6, 7, 8 ,9, 10, 11, 12,]])  #2차원\n",
        "print(\"구조:\", nb.shape)\n",
        "print(nb)\n",
        "nb = nb.reshape(3, 4)\n",
        "print(\"구조:\", nb.shape)\n",
        "print(nb)\n",
        "nb = np.array([[1], [2], [3], [4], [5], [6], [7], [8], [9]])\n",
        "print(\"구조:\", nb.shape)\n",
        "print(nb)"
      ],
      "metadata": {
        "colab": {
          "base_uri": "https://localhost:8080/"
        },
        "id": "UZGKrHTSX8zD",
        "outputId": "7eb87324-7bf6-40a4-f697-737030d1f962"
      },
      "execution_count": 26,
      "outputs": [
        {
          "output_type": "stream",
          "name": "stdout",
          "text": [
            "구조: (12,)\n",
            "[ 1  2  3  4  5  6  7  8  9 10 11 12]\n",
            "구조: (1, 12)\n",
            "[[ 1  2  3  4  5  6  7  8  9 10 11 12]]\n",
            "구조: (3, 4)\n",
            "[[ 1  2  3  4]\n",
            " [ 5  6  7  8]\n",
            " [ 9 10 11 12]]\n",
            "구조: (9, 1)\n",
            "[[1]\n",
            " [2]\n",
            " [3]\n",
            " [4]\n",
            " [5]\n",
            " [6]\n",
            " [7]\n",
            " [8]\n",
            " [9]]\n"
          ]
        }
      ]
    },
    {
      "cell_type": "code",
      "source": [
        "l1 = [[1, 2], [3, 4]]\n",
        "l2 = [[3, 4], [2, 7]]\n",
        "l3 = l1 + l2\n",
        "print(l3)"
      ],
      "metadata": {
        "colab": {
          "base_uri": "https://localhost:8080/"
        },
        "id": "LyoBEAs0Yn-G",
        "outputId": "519e5277-0903-4bc2-9448-075500cce0b6"
      },
      "execution_count": 16,
      "outputs": [
        {
          "output_type": "stream",
          "name": "stdout",
          "text": [
            "[[1, 2], [3, 4], [3, 4], [2, 7]]\n"
          ]
        }
      ]
    },
    {
      "cell_type": "code",
      "source": [
        "na1 = np.array(l1)\n",
        "na2 = np.array(l2)\n",
        "\n",
        "na3 = na1+na2\n",
        "print(na3)"
      ],
      "metadata": {
        "colab": {
          "base_uri": "https://localhost:8080/"
        },
        "id": "F-vBbmwsZw0F",
        "outputId": "bc45fbba-d120-4aac-bed3-b8de17c293c4"
      },
      "execution_count": 22,
      "outputs": [
        {
          "output_type": "stream",
          "name": "stdout",
          "text": [
            "[[ 4  6]\n",
            " [ 5 11]]\n"
          ]
        }
      ]
    },
    {
      "cell_type": "markdown",
      "source": [
        "# Pandas"
      ],
      "metadata": {
        "id": "m01k_hVrakWh"
      }
    },
    {
      "cell_type": "markdown",
      "source": [
        "# matplotlib"
      ],
      "metadata": {
        "id": "cAiSMjK3anbB"
      }
    },
    {
      "cell_type": "code",
      "source": [
        "import matplotlib.pyplot as plt"
      ],
      "metadata": {
        "id": "lZreDGNfaq4g"
      },
      "execution_count": 17,
      "outputs": []
    },
    {
      "cell_type": "code",
      "source": [
        "plt.plot([1, 2, 3, 4, 5, 6, 7, 8, 9])  #최소 y값은 전달해야 됨\n",
        "plt.show()  #시각화"
      ],
      "metadata": {
        "colab": {
          "base_uri": "https://localhost:8080/",
          "height": 264
        },
        "id": "p3TZUbtjbNaO",
        "outputId": "8eecd2ed-9922-4a42-d4b8-9d2d756f912f"
      },
      "execution_count": 18,
      "outputs": [
        {
          "output_type": "display_data",
          "data": {
            "image/png": "[encoded data removed]",
            "text/plain": [
              "<Figure size 432x288 with 1 Axes>"
            ]
          },
          "metadata": {
            "needs_background": "light"
          }
        }
      ]
    },
    {
      "cell_type": "code",
      "source": [
        "plt.plot([1, 2, 3, 4, 5, 6, 7, 8, 9], \"ro\")  #선 색깔, 모양 지정\n",
        "plt.show()  #시각화"
      ],
      "metadata": {
        "colab": {
          "base_uri": "https://localhost:8080/",
          "height": 264
        },
        "id": "eM8hICpHbaGd",
        "outputId": "45ec0120-bc0f-40d4-9c6d-6b92777b67f2"
      },
      "execution_count": 19,
      "outputs": [
        {
          "output_type": "display_data",
          "data": {
            "image/png": "[encoded data removed]",
            "text/plain": [
              "<Figure size 432x288 with 1 Axes>"
            ]
          },
          "metadata": {
            "needs_background": "light"
          }
        }
      ]
    },
    {
      "cell_type": "code",
      "source": [
        "plt.plot([1, 2, 3, 4, 5, 6, 7, 8, 9], \"y^\")\n",
        "plt.show()  #시각화"
      ],
      "metadata": {
        "colab": {
          "base_uri": "https://localhost:8080/",
          "height": 264
        },
        "id": "Jzoa5UWebkCn",
        "outputId": "655da32e-727b-4a98-8f92-b501fa6b4cae"
      },
      "execution_count": 20,
      "outputs": [
        {
          "output_type": "display_data",
          "data": {
            "image/png": "[encoded data removed]",
            "text/plain": [
              "<Figure size 432x288 with 1 Axes>"
            ]
          },
          "metadata": {
            "needs_background": "light"
          }
        }
      ]
    },
    {
      "cell_type": "code",
      "source": [
        "plt.plot([2, 3, 4, 5, 6, 7, 8, 9, 15], [1, 2, 3, 4, 5, 6, 7, 8, 9], \"mo\")  #최소 y값은 전달해야 됨\n",
        "plt.show()  #시각화"
      ],
      "metadata": {
        "colab": {
          "base_uri": "https://localhost:8080/",
          "height": 264
        },
        "id": "qOh7Z1-7b2li",
        "outputId": "ea7ac953-e978-4e0a-a6d9-6fc35347b42f"
      },
      "execution_count": 23,
      "outputs": [
        {
          "output_type": "display_data",
          "data": {
            "image/png": "[encoded data removed]",
            "text/plain": [
              "<Figure size 432x288 with 1 Axes>"
            ]
          },
          "metadata": {
            "needs_background": "light"
          }
        }
      ]
    },
    {
      "cell_type": "code",
      "source": [
        "plt.pie([123, 45, 20], autopct=\"%.2f\")\n",
        "plt.show()"
      ],
      "metadata": {
        "colab": {
          "base_uri": "https://localhost:8080/",
          "height": 247
        },
        "id": "7AwBHoCCoLGZ",
        "outputId": "b3e59eb5-aae0-41c8-8465-4621a7a3ce0c"
      },
      "execution_count": 28,
      "outputs": [
        {
          "output_type": "display_data",
          "data": {
            "image/png": "[encoded data removed]",
            "text/plain": [
              "<Figure size 432x288 with 1 Axes>"
            ]
          },
          "metadata": {}
        }
      ]
    }
  ]
}