{
  "nbformat": 4,
  "nbformat_minor": 0,
  "metadata": {
    "colab": {
      "name": "통계데이터분석-KNN분류.ipynb",
      "provenance": [],
      "collapsed_sections": [],
      "authorship_tag": "ABX9TyMOdSxm6qtVrBljPjuL6jgM",
      "include_colab_link": true
    },
    "kernelspec": {
      "name": "python3",
      "display_name": "Python 3"
    },
    "language_info": {
      "name": "python"
    }
  },
  "cells": [
    {
      "cell_type": "markdown",
      "metadata": {
        "id": "view-in-github",
        "colab_type": "text"
      },
      "source": [
        "<a href=\"https://colab.research.google.com/github/yejin0455/sesac-python/blob/main/%ED%86%B5%EA%B3%84%EB%8D%B0%EC%9D%B4%ED%84%B0%EB%B6%84%EC%84%9D_KNN%EB%B6%84%EB%A5%98.ipynb\" target=\"_parent\"><img src=\"https://colab.research.google.com/assets/colab-badge.svg\" alt=\"Open In Colab\"/></a>"
      ]
    },
    {
      "cell_type": "markdown",
      "source": [
        "KNN 분류에 사용할 데이터 - 붓꽃 데이터"
      ],
      "metadata": {
        "id": "NwHCGY8Vm6Yn"
      }
    },
    {
      "cell_type": "code",
      "execution_count": null,
      "metadata": {
        "id": "hMXwPtKAm2xT"
      },
      "outputs": [],
      "source": [
        "from sklearn.datasets import load_iris\n",
        "iris_data = load_iris()\n",
        "iris_data"
      ]
    },
    {
      "cell_type": "code",
      "source": [
        "data = iris_data['data']\n",
        "data.shape  #150개 X (sepal-length, petal-width, petal-length, petal-width)"
      ],
      "metadata": {
        "colab": {
          "base_uri": "https://localhost:8080/"
        },
        "id": "p5ZL1mN2nNWk",
        "outputId": "36c7abfc-a02b-4c1a-8b52-92b52e24458a"
      },
      "execution_count": 2,
      "outputs": [
        {
          "output_type": "execute_result",
          "data": {
            "text/plain": [
              "(150, 4)"
            ]
          },
          "metadata": {},
          "execution_count": 2
        }
      ]
    },
    {
      "cell_type": "code",
      "source": [
        "target = iris_data['target']\n",
        "target.shape  #150개 ([:50]=>0, [50:100]=>1, [100:]=>2)"
      ],
      "metadata": {
        "colab": {
          "base_uri": "https://localhost:8080/"
        },
        "id": "PWHxHYkbnalH",
        "outputId": "6346ff97-0f19-46d6-f6ae-4a3a85e24bbc"
      },
      "execution_count": 3,
      "outputs": [
        {
          "output_type": "execute_result",
          "data": {
            "text/plain": [
              "(150,)"
            ]
          },
          "metadata": {},
          "execution_count": 3
        }
      ]
    },
    {
      "cell_type": "code",
      "source": [
        "tname = iris_data['target_names']\n",
        "tname  #0:setosa, 1:versicolor, 2:virginica"
      ],
      "metadata": {
        "colab": {
          "base_uri": "https://localhost:8080/"
        },
        "id": "KL5pYukGnq4Y",
        "outputId": "798d5474-989a-4cc2-8554-4625389ea213"
      },
      "execution_count": 6,
      "outputs": [
        {
          "output_type": "execute_result",
          "data": {
            "text/plain": [
              "array(['setosa', 'versicolor', 'virginica'], dtype='<U10')"
            ]
          },
          "metadata": {},
          "execution_count": 6
        }
      ]
    },
    {
      "cell_type": "code",
      "source": [
        "for i, t in enumerate(target):\n",
        "    print(f\"{i}:{tname[t]}\")"
      ],
      "metadata": {
        "id": "1t-qG46vnx5L"
      },
      "execution_count": null,
      "outputs": []
    },
    {
      "cell_type": "code",
      "source": [
        "def distance(x1, x2):\n",
        "    return sum((x1-x2)**2)**(1/2)"
      ],
      "metadata": {
        "id": "H6Dw9lykn4Q7"
      },
      "execution_count": 11,
      "outputs": []
    },
    {
      "cell_type": "code",
      "source": [
        "import numpy as np\n",
        "na1 = np.array([1, 2])\n",
        "na2 = np.array([5, 5])\n",
        "print(distance(na1, na2))"
      ],
      "metadata": {
        "colab": {
          "base_uri": "https://localhost:8080/"
        },
        "id": "v7YCwq-opA5c",
        "outputId": "4ebac00a-458d-4f81-cd6c-bc8dd727e0e3"
      },
      "execution_count": 12,
      "outputs": [
        {
          "output_type": "stream",
          "name": "stdout",
          "text": [
            "5.0\n"
          ]
        }
      ]
    },
    {
      "cell_type": "code",
      "source": [
        "def find_k_nearest_neighbor_c(xs, ys, tx, k=5):\n",
        "    sarr = []\n",
        "    for i, x in enumerate(xs):\n",
        "        dis = distance(x, tx)\n",
        "        sarr.append((dis, i))  #거리순으로 정렬한 이후에도 몇 번째 요소인지 기억하기 위해 (dis, i)를 보관\n",
        "    sarr.sort(key = lambda x:x[0])\n",
        "    nd = {}  #어떠한 클래스에 속하는지 분포를 파악해서 보관하기 위한 용도\n",
        "    for x in sarr[:k]:  #k개의 가까운 이웃을 반복\n",
        "        neighbor = ys[x[1]]  #x[0]:거리, x[1]:인덱스 이므로 원하는 값은 ys[x[1]]\n",
        "        if neighbor in nd:\n",
        "            nd[neighbor] += 1\n",
        "        else:\n",
        "            nd[neighbor] = 0\n",
        "    return max(nd, key=nd.get)  #가장 많이 나온 클래스를 반환"
      ],
      "metadata": {
        "id": "xjruV2BppNCU"
      },
      "execution_count": 13,
      "outputs": []
    },
    {
      "cell_type": "code",
      "source": [
        "def find_k_nearest_neighbors_c(xs, ys, t_xs, k=5):\n",
        "    return np.array([find_k_nearest_neighbor_c(xs, ys, tx, k) for tx in t_xs])"
      ],
      "metadata": {
        "id": "N_XYDm2RrRWz"
      },
      "execution_count": 14,
      "outputs": []
    },
    {
      "cell_type": "code",
      "source": [
        "data.shape, target.shape"
      ],
      "metadata": {
        "colab": {
          "base_uri": "https://localhost:8080/"
        },
        "id": "mHzG2bDNrr4m",
        "outputId": "c19babbc-6282-431a-c0a4-6e4392eb8e74"
      },
      "execution_count": 15,
      "outputs": [
        {
          "output_type": "execute_result",
          "data": {
            "text/plain": [
              "((150, 4), (150,))"
            ]
          },
          "metadata": {},
          "execution_count": 15
        }
      ]
    },
    {
      "cell_type": "code",
      "source": [
        "from sklearn.model_selection import train_test_split\n",
        "train_xs, test_xs, train_ys, test_ys = train_test_split(data, target)  #학습데이터와 테스트데이터로 분리\n",
        "train_xs.shape, test_xs.shape, train_ys.shape, test_ys.shape"
      ],
      "metadata": {
        "colab": {
          "base_uri": "https://localhost:8080/"
        },
        "id": "5LCyiYcXrv8c",
        "outputId": "0139fad8-1186-4bda-c443-75f7a05d3adc"
      },
      "execution_count": 16,
      "outputs": [
        {
          "output_type": "execute_result",
          "data": {
            "text/plain": [
              "((112, 4), (38, 4), (112,), (38,))"
            ]
          },
          "metadata": {},
          "execution_count": 16
        }
      ]
    },
    {
      "cell_type": "code",
      "source": [
        "pred_val = find_k_nearest_neighbors_c(train_xs, train_ys, test_xs)  #학습 후 예측하시오"
      ],
      "metadata": {
        "id": "jsslQrvmsDQF"
      },
      "execution_count": 17,
      "outputs": []
    },
    {
      "cell_type": "code",
      "source": [
        "print(f\"예측 결과:{pred_val}\")\n",
        "print(f\"실제 결과:{test_ys}\")"
      ],
      "metadata": {
        "colab": {
          "base_uri": "https://localhost:8080/"
        },
        "id": "wcUdZTcBsV_t",
        "outputId": "0c3f2544-6db1-4f4c-b65c-338c679d81be"
      },
      "execution_count": 18,
      "outputs": [
        {
          "output_type": "stream",
          "name": "stdout",
          "text": [
            "예측 결과:[1 1 0 0 0 2 1 0 1 1 1 2 1 2 0 2 0 1 0 0 2 2 2 0 1 0 0 1 0 1 1 0 0 1 2 2 2\n",
            " 0]\n",
            "실제 결과:[1 1 0 0 0 2 1 0 1 2 1 2 1 2 0 2 0 1 0 0 2 2 2 0 1 0 0 1 0 1 2 0 0 1 2 2 2\n",
            " 0]\n"
          ]
        }
      ]
    },
    {
      "cell_type": "code",
      "source": [
        "import matplotlib.pyplot as plt"
      ],
      "metadata": {
        "id": "nS3t0WB1seLU"
      },
      "execution_count": 19,
      "outputs": []
    },
    {
      "cell_type": "code",
      "source": [
        "plt.plot(pred_val, 'ro', label='predict')\n",
        "plt.plot(test_ys, 'b.', label='actual')\n",
        "plt.xlabel(\"test index\")\n",
        "plt.ylabel(\"classes\")\n",
        "plt.legend()\n",
        "plt.show()"
      ],
      "metadata": {
        "colab": {
          "base_uri": "https://localhost:8080/",
          "height": 279
        },
        "id": "5iJEYSkPyU6V",
        "outputId": "e6769ca7-f6d7-4069-e114-ecda15de7d8d"
      },
      "execution_count": 21,
      "outputs": [
        {
          "output_type": "display_data",
          "data": {
            "image/png": "[encoded data removed]",
            "text/plain": [
              "<Figure size 432x288 with 1 Axes>"
            ]
          },
          "metadata": {
            "needs_background": "light"
          }
        }
      ]
    },
    {
      "cell_type": "code",
      "source": [
        "def evaluate(actual_ys, predict_ys):\n",
        "    correct_cnt = 0\n",
        "    for i, y in enumerate(actual_ys):\n",
        "        if predict_ys[i] == y:\n",
        "            correct_cnt += 1\n",
        "    return correct_cnt/len(actual_ys)"
      ],
      "metadata": {
        "id": "eupDnSzIzF4t"
      },
      "execution_count": 24,
      "outputs": []
    },
    {
      "cell_type": "code",
      "source": [
        "print(evaluate(test_ys, pred_val))"
      ],
      "metadata": {
        "colab": {
          "base_uri": "https://localhost:8080/"
        },
        "id": "LlhvXqfjzePd",
        "outputId": "7330f0cf-c956-41e7-d049-0c7e736f2a32"
      },
      "execution_count": 25,
      "outputs": [
        {
          "output_type": "stream",
          "name": "stdout",
          "text": [
            "0.9473684210526315\n"
          ]
        }
      ]
    },
    {
      "cell_type": "markdown",
      "source": [
        "ML 개체 사용(사이킷 런의 KNN 분류 모델)"
      ],
      "metadata": {
        "id": "SSfqpB-20BlP"
      }
    },
    {
      "cell_type": "code",
      "source": [
        "from sklearn.neighbors import KNeighborsClassifier\n",
        "knc_model = KNeighborsClassifier()  #모델 개체 생성\n",
        "knc_model.fit(train_xs, train_ys)  #학습\n",
        "pred_val2 = knc_model.predict(test_xs)  #예측하시오"
      ],
      "metadata": {
        "id": "FBCTPCL50EkO"
      },
      "execution_count": 26,
      "outputs": []
    },
    {
      "cell_type": "code",
      "source": [
        "print(f\"예측 결과1:{pred_val}\")\n",
        "print(f\"예측 결과2:{pred_val2}\")\n",
        "print(f\"실제 결과:{test_ys}\")"
      ],
      "metadata": {
        "colab": {
          "base_uri": "https://localhost:8080/"
        },
        "id": "Lw2Pic1X0fmP",
        "outputId": "de2b75ed-d643-4cc7-ff02-098e3e92ef83"
      },
      "execution_count": 27,
      "outputs": [
        {
          "output_type": "stream",
          "name": "stdout",
          "text": [
            "예측 결과1:[1 1 0 0 0 2 1 0 1 1 1 2 1 2 0 2 0 1 0 0 2 2 2 0 1 0 0 1 0 1 1 0 0 1 2 2 2\n",
            " 0]\n",
            "예측 결과2:[1 1 0 0 0 2 1 0 1 1 1 2 1 2 0 2 0 1 0 0 2 2 2 0 1 0 0 1 0 1 1 0 0 1 2 2 2\n",
            " 0]\n",
            "실제 결과:[1 1 0 0 0 2 1 0 1 2 1 2 1 2 0 2 0 1 0 0 2 2 2 0 1 0 0 1 0 1 2 0 0 1 2 2 2\n",
            " 0]\n"
          ]
        }
      ]
    },
    {
      "cell_type": "code",
      "source": [
        "plt.plot(pred_val, 'ro', label='predict')\n",
        "plt.plot(pred_val2, 'g*', label='predict2')\n",
        "plt.plot(test_ys, 'b.', label='actual')\n",
        "plt.xlabel(\"test index\")\n",
        "plt.ylabel(\"classes\")\n",
        "plt.legend()\n",
        "plt.show()"
      ],
      "metadata": {
        "colab": {
          "base_uri": "https://localhost:8080/",
          "height": 279
        },
        "id": "7hWYNyZ01NnN",
        "outputId": "6e164837-7231-4dc1-ec3f-4569fdf674e9"
      },
      "execution_count": 28,
      "outputs": [
        {
          "output_type": "display_data",
          "data": {
            "image/png": "[encoded data removed]",
            "text/plain": [
              "<Figure size 432x288 with 1 Axes>"
            ]
          },
          "metadata": {
            "needs_background": "light"
          }
        }
      ]
    }
  ]
}